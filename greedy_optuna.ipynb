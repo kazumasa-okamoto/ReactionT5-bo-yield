{
 "cells": [
  {
   "cell_type": "markdown",
   "id": "ff073d26",
   "metadata": {},
   "source": [
    "## データセットの準備"
   ]
  },
  {
   "cell_type": "code",
   "execution_count": 1,
   "id": "29605a73",
   "metadata": {},
   "outputs": [],
   "source": [
    "import pandas as pd\n",
    "from rdkit import Chem\n",
    "from rdkit.Chem import AllChem"
   ]
  },
  {
   "cell_type": "code",
   "execution_count": 2,
   "id": "33dbc2a1",
   "metadata": {},
   "outputs": [],
   "source": [
    "def space_clean(row):\n",
    "    row = row.replace(\". \", \"\").replace(\" .\", \"\").replace(\"  \", \" \")\n",
    "    return row\n",
    "\n",
    "\n",
    "def canonicalize(smiles):\n",
    "    try:\n",
    "        new_smiles = Chem.MolToSmiles(Chem.MolFromSmiles(smiles), canonical=True)\n",
    "    except:\n",
    "        new_smiles = None\n",
    "    return new_smiles"
   ]
  },
  {
   "cell_type": "code",
   "execution_count": 3,
   "id": "17a2a559",
   "metadata": {},
   "outputs": [],
   "source": [
    "df = pd.read_csv(\"./data/inchi_23l_reaction_t5_ready.csv\")"
   ]
  },
  {
   "cell_type": "code",
   "execution_count": 4,
   "id": "85294c23",
   "metadata": {},
   "outputs": [],
   "source": [
    "# 必須カラムの存在チェックと補完\n",
    "required_cols = [\"REACTANT\", \"CATALYST\", \"REAGENT\", \"SOLVENT\", \"PRODUCT\"]\n",
    "for col in required_cols:\n",
    "    if col not in df.columns:\n",
    "        df[col] = \"\"\n",
    "\n",
    "# 必要に応じてYIELDを標準化（0-1に正規化）\n",
    "if \"YIELD\" in df.columns and df[\"YIELD\"].max() >= 100:\n",
    "    df[\"YIELD\"] = df[\"YIELD\"].clip(0, 100) / 100\n",
    "else:\n",
    "    df[\"YIELD\"] = None"
   ]
  },
  {
   "cell_type": "code",
   "execution_count": 5,
   "id": "b1791ddf",
   "metadata": {},
   "outputs": [],
   "source": [
    "for col in [\"REAGENT\", \"REACTANT\", \"PRODUCT\"]:\n",
    "    df[col] = df[col].apply(space_clean)\n",
    "    df[col] = df[col].apply(lambda x: canonicalize(x) if x != \" \" else \" \")\n",
    "    df = df[~df[col].isna()].reset_index(drop=True)\n",
    "    df[col] = df[col].apply(lambda x: \".\".join(sorted(x.split(\".\"))))"
   ]
  },
  {
   "cell_type": "code",
   "execution_count": 6,
   "id": "f9d93a60",
   "metadata": {},
   "outputs": [],
   "source": [
    "df[\"REAGENT\"] = df[\"CATALYST\"].fillna(\" \") + \".\" + df[\"REAGENT\"].fillna(\" \")"
   ]
  },
  {
   "cell_type": "code",
   "execution_count": 7,
   "id": "776e7609",
   "metadata": {},
   "outputs": [],
   "source": [
    "df = df.loc[df[[\"YIELD\"]].drop_duplicates().index].reset_index(drop=True)"
   ]
  },
  {
   "cell_type": "markdown",
   "id": "3cdd3894",
   "metadata": {},
   "source": [
    "## モデルの読み込み"
   ]
  },
  {
   "cell_type": "code",
   "execution_count": 8,
   "id": "c47e4281",
   "metadata": {},
   "outputs": [
    {
     "name": "stderr",
     "output_type": "stream",
     "text": [
      "/root/ReactionT5-bo-yield/.venv/lib/python3.11/site-packages/tqdm/auto.py:21: TqdmWarning: IProgress not found. Please update jupyter and ipywidgets. See https://ipywidgets.readthedocs.io/en/stable/user_install.html\n",
      "  from .autonotebook import tqdm as notebook_tqdm\n"
     ]
    }
   ],
   "source": [
    "import numpy as np\n",
    "import torch\n",
    "import torch.nn as nn\n",
    "from transformers import AutoTokenizer, AutoModelForSeq2SeqLM, T5ForConditionalGeneration, AutoConfig, PreTrainedModel\n",
    "\n",
    "import logging\n",
    "logging.getLogger(\"transformers\").setLevel(logging.ERROR)"
   ]
  },
  {
   "cell_type": "code",
   "execution_count": 9,
   "id": "f09b311e",
   "metadata": {},
   "outputs": [],
   "source": [
    "class ReactionT5Yield(PreTrainedModel):\n",
    "    config_class  = AutoConfig\n",
    "    def __init__(self, config):\n",
    "        super().__init__(config)\n",
    "        self.config = config\n",
    "        self.model = T5ForConditionalGeneration.from_pretrained(self.config._name_or_path)\n",
    "        self.model.resize_token_embeddings(self.config.vocab_size)\n",
    "        self.fc1 = nn.Linear(self.config.hidden_size, self.config.hidden_size//2)\n",
    "        self.fc2 = nn.Linear(self.config.hidden_size, self.config.hidden_size//2)\n",
    "        self.fc3 = nn.Linear(self.config.hidden_size//2*2, self.config.hidden_size)\n",
    "        self.fc4 = nn.Linear(self.config.hidden_size, self.config.hidden_size)\n",
    "        self.fc5 = nn.Linear(self.config.hidden_size, 1)\n",
    "\n",
    "        self._init_weights(self.fc1)\n",
    "        self._init_weights(self.fc2)\n",
    "        self._init_weights(self.fc3)\n",
    "        self._init_weights(self.fc4)\n",
    "        self._init_weights(self.fc5)\n",
    "\n",
    "    def _init_weights(self, module):\n",
    "        if isinstance(module, nn.Linear):\n",
    "            module.weight.data.normal_(mean=0.0, std=0.01)\n",
    "            if module.bias is not None:\n",
    "                module.bias.data.zero_()\n",
    "        elif isinstance(module, nn.Embedding):\n",
    "            module.weight.data.normal_(mean=0.0, std=0.01)\n",
    "            if module.padding_idx is not None:\n",
    "                module.weight.data[module.padding_idx].zero_()\n",
    "        elif isinstance(module, nn.LayerNorm):\n",
    "            module.bias.data.zero_()\n",
    "            module.weight.data.fill_(1.0)\n",
    "\n",
    "    def forward(self, inputs):\n",
    "        device = inputs['input_ids'].device\n",
    "\n",
    "        with torch.no_grad():\n",
    "            encoder_outputs = self.model.encoder(\n",
    "                input_ids=inputs['input_ids'],\n",
    "                attention_mask=inputs.get('attention_mask', None),\n",
    "            )\n",
    "            encoder_hidden_states = encoder_outputs[0]  # (B, L, H)\n",
    "\n",
    "            dec_input_ids = torch.full(\n",
    "                (inputs['input_ids'].size(0), 1),\n",
    "                self.config.decoder_start_token_id,\n",
    "                dtype=torch.long,\n",
    "                device=device,\n",
    "            )\n",
    "\n",
    "            outputs = self.model.decoder(\n",
    "                input_ids=dec_input_ids,\n",
    "                encoder_hidden_states=encoder_hidden_states,\n",
    "            )\n",
    "            last_hidden_states = outputs[0]  # (B, 1, H)\n",
    "\n",
    "        output1 = self.fc1(last_hidden_states.view(-1, self.config.hidden_size))\n",
    "        output2 = self.fc2(encoder_hidden_states[:, 0, :].view(-1, self.config.hidden_size))\n",
    "        output = self.fc3(torch.hstack((output1, output2)))\n",
    "        output = self.fc4(output)\n",
    "        output = self.fc5(output)\n",
    "        return output * 100\n",
    "\n"
   ]
  },
  {
   "cell_type": "code",
   "execution_count": 10,
   "id": "18fcbfc4",
   "metadata": {},
   "outputs": [],
   "source": [
    "# 収率予測（スカラー出力）\n",
    "yield_tokenizer = AutoTokenizer.from_pretrained(\"sagawa/ReactionT5v2-yield\")\n",
    "yield_model = ReactionT5Yield.from_pretrained(\"sagawa/ReactionT5v2-yield\")"
   ]
  },
  {
   "cell_type": "code",
   "execution_count": 11,
   "id": "fb7b6281",
   "metadata": {},
   "outputs": [],
   "source": [
    "def predict_yield(input_str: str) -> float:\n",
    "    inputs = yield_tokenizer([input_str], return_tensors=\"pt\", truncation=True)\n",
    "    with torch.no_grad():\n",
    "        output = yield_model(inputs)\n",
    "    return output.item()"
   ]
  },
  {
   "cell_type": "markdown",
   "id": "4d7134d4",
   "metadata": {},
   "source": [
    "## Optunaによる探索"
   ]
  },
  {
   "cell_type": "code",
   "execution_count": 12,
   "id": "f302359f",
   "metadata": {},
   "outputs": [],
   "source": [
    "import optuna"
   ]
  },
  {
   "cell_type": "code",
   "execution_count": 13,
   "id": "6677d422",
   "metadata": {},
   "outputs": [],
   "source": [
    "reactant_list = sorted(df[\"REACTANT\"].unique())\n",
    "reagent_list = sorted(df[\"REAGENT\"].unique())\n",
    "product_list = sorted(df[\"PRODUCT\"].unique())"
   ]
  },
  {
   "cell_type": "code",
   "execution_count": 14,
   "id": "d883e494",
   "metadata": {},
   "outputs": [
    {
     "data": {
      "text/plain": [
       "(33, 23, 24)"
      ]
     },
     "execution_count": 14,
     "metadata": {},
     "output_type": "execute_result"
    }
   ],
   "source": [
    "len(reactant_list), len(reagent_list), len(product_list)"
   ]
  },
  {
   "cell_type": "code",
   "execution_count": 15,
   "id": "1bd684cc",
   "metadata": {},
   "outputs": [],
   "source": [
    "product_dict = {\n",
    "    (row[\"REACTANT\"], row[\"REAGENT\"]): row[\"PRODUCT\"]\n",
    "    for _, row in df.iterrows()\n",
    "}"
   ]
  },
  {
   "cell_type": "code",
   "execution_count": 16,
   "id": "94503414",
   "metadata": {},
   "outputs": [],
   "source": [
    "true_yield_dict = {\n",
    "    (row[\"REACTANT\"], row[\"REAGENT\"], row[\"PRODUCT\"]): row[\"YIELD\"]\n",
    "    for _, row in df.iterrows()\n",
    "}"
   ]
  },
  {
   "cell_type": "code",
   "execution_count": 17,
   "id": "d3d289ec",
   "metadata": {},
   "outputs": [],
   "source": [
    "def objective(trial):\n",
    "\n",
    "    yield_model.to(\"cpu\")\n",
    "    try:\n",
    "        torch.cuda.empty_cache()\n",
    "    except Exception:\n",
    "        pass\n",
    "    \n",
    "    reactant = trial.suggest_categorical(\"reactant\", reactant_list)\n",
    "    reagent = trial.suggest_categorical(\"reagent\", reagent_list)\n",
    "    product = product_dict.get((reactant, reagent))\n",
    "\n",
    "    input_str = f\"REACTANT:{reactant}REAGENT:{reagent}PRODUCT:{product}\"\n",
    "\n",
    "    try:\n",
    "        pred_yield = predict_yield(input_str)\n",
    "\n",
    "        # ground truth を取得\n",
    "        key = (reactant, reagent, product)\n",
    "        if key not in true_yield_dict:\n",
    "            print(f\"❗ No ground truth for: {reactant} + {reagent} → {product}\")\n",
    "            true_yield = 0.0\n",
    "        else:\n",
    "            true_yield = true_yield_dict.get(key)\n",
    "\n",
    "        # 誤差の計算\n",
    "        if true_yield is not None:\n",
    "            true_yield_pct = true_yield * 100\n",
    "            error = pred_yield - true_yield_pct \n",
    "            print(f\"🔎 {reactant} + {reagent} → {product}\")\n",
    "            print(f\"   📈 Predicted: {pred_yield:.2f}%\")\n",
    "            print(f\"   🧪 Ground truth: {true_yield_pct:.2f}%\" if true_yield is not None else \"   🧪 Ground truth: None\")\n",
    "            print(f\"   ❗ Error: {error:+.2f}%\")\n",
    "        else:\n",
    "            print(f\"❔ No ground truth for: {reactant} + {reagent}\")\n",
    "            error = None\n",
    "\n",
    "        if pred_yield < 0 or pred_yield > 100:\n",
    "            return 0.0\n",
    "\n",
    "        return pred_yield  # 目的関数は「予測収率の最大化」\n",
    "    except Exception as e:\n",
    "        print(f\"❌ Error during trial: {e}\")\n",
    "        return 0.0"
   ]
  },
  {
   "cell_type": "code",
   "execution_count": 18,
   "id": "c778149a",
   "metadata": {},
   "outputs": [
    {
     "name": "stderr",
     "output_type": "stream",
     "text": [
      "[I 2025-08-25 01:54:37,292] A new study created in memory with name: no-name-3244c719-d2c8-4c2f-ba77-16e198b75330\n",
      "[I 2025-08-25 01:54:37,404] Trial 0 finished with value: 68.97691345214844 and parameters: {'reactant': 'COc1ccc(Br)cc1', 'reagent': 'COc1ccccc1P(c1ccccc1OC)c1ccccc1OC.OB(O)B(O)O'}. Best is trial 0 with value: 68.97691345214844.\n",
      "[I 2025-08-25 01:54:37,529] Trial 1 finished with value: 74.9109115600586 and parameters: {'reactant': 'CN(C)S(=O)(=O)Oc1ccc(-c2ccccc2)cc1', 'reagent': 'COc1ccccc1P(c1ccccc1OC)c1ccccc1OC.OB(O)B(O)O'}. Best is trial 1 with value: 74.9109115600586.\n"
     ]
    },
    {
     "name": "stdout",
     "output_type": "stream",
     "text": [
      "🔎 COc1ccc(Br)cc1 + COc1ccccc1P(c1ccccc1OC)c1ccccc1OC.OB(O)B(O)O → COc1ccc(B(O)O)cc1\n",
      "   📈 Predicted: 68.98%\n",
      "   🧪 Ground truth: 73.00%\n",
      "   ❗ Error: -4.03%\n",
      "🔎 CN(C)S(=O)(=O)Oc1ccc(-c2ccccc2)cc1 + COc1ccccc1P(c1ccccc1OC)c1ccccc1OC.OB(O)B(O)O → OB(O)c1ccc(-c2ccccc2)cc1\n",
      "   📈 Predicted: 74.91%\n",
      "   🧪 Ground truth: 23.32%\n",
      "   ❗ Error: +51.59%\n"
     ]
    },
    {
     "name": "stderr",
     "output_type": "stream",
     "text": [
      "[I 2025-08-25 01:54:37,628] Trial 2 finished with value: 64.84394073486328 and parameters: {'reactant': 'Brc1cnc2ccccc2c1', 'reagent': 'CC(C)(C)P(c1ccccc1)C(C)(C)C.OB(O)B(O)O'}. Best is trial 1 with value: 74.9109115600586.\n",
      "[I 2025-08-25 01:54:37,755] Trial 3 finished with value: 62.317466735839844 and parameters: {'reactant': 'FC(F)(F)c1ccc(Br)cc1', 'reagent': 'CCCCC1([PH+](C2CCCCC2)C2CCCCC2)c2ccccc2-c2ccccc21.F[B-](F)(F)F.OB(O)B(O)O'}. Best is trial 1 with value: 74.9109115600586.\n"
     ]
    },
    {
     "name": "stdout",
     "output_type": "stream",
     "text": [
      "🔎 Brc1cnc2ccccc2c1 + CC(C)(C)P(c1ccccc1)C(C)(C)C.OB(O)B(O)O → OB(O)c1cnc2ccccc2c1\n",
      "   📈 Predicted: 64.84%\n",
      "   🧪 Ground truth: 21.57%\n",
      "   ❗ Error: +43.27%\n",
      "🔎 FC(F)(F)c1ccc(Br)cc1 + CCCCC1([PH+](C2CCCCC2)C2CCCCC2)c2ccccc2-c2ccccc21.F[B-](F)(F)F.OB(O)B(O)O → OB(O)c1ccc(C(F)(F)F)cc1\n",
      "   📈 Predicted: 62.32%\n",
      "   🧪 Ground truth: 46.94%\n",
      "   ❗ Error: +15.38%\n"
     ]
    },
    {
     "name": "stderr",
     "output_type": "stream",
     "text": [
      "[I 2025-08-25 01:54:37,889] Trial 4 finished with value: 73.9183120727539 and parameters: {'reactant': 'Clc1ccc2[nH]ccc2c1', 'reagent': 'c1ccc(-c2nn(-c3ccccc3)c(-c3ccccc3)c2-n2nccc2P(C2CCCCC2)C2CCCCC2)cc1.OB(O)B(O)O'}. Best is trial 1 with value: 74.9109115600586.\n",
      "[I 2025-08-25 01:54:38,022] Trial 5 finished with value: 74.28042602539062 and parameters: {'reactant': 'COC(=O)c1ccc(Br)cc1', 'reagent': 'c1ccc(-n2cccc2P(C2CCCCC2)C2CCCCC2)cc1.OB(O)B(O)O'}. Best is trial 1 with value: 74.9109115600586.\n"
     ]
    },
    {
     "name": "stdout",
     "output_type": "stream",
     "text": [
      "🔎 Clc1ccc2[nH]ccc2c1 + c1ccc(-c2nn(-c3ccccc3)c(-c3ccccc3)c2-n2nccc2P(C2CCCCC2)C2CCCCC2)cc1.OB(O)B(O)O → OB(O)c1ccc2[nH]ccc2c1\n",
      "   📈 Predicted: 73.92%\n",
      "   🧪 Ground truth: 87.49%\n",
      "   ❗ Error: -13.57%\n",
      "🔎 COC(=O)c1ccc(Br)cc1 + c1ccc(-n2cccc2P(C2CCCCC2)C2CCCCC2)cc1.OB(O)B(O)O → COC(=O)c1ccc(B(O)O)cc1\n",
      "   📈 Predicted: 74.28%\n",
      "   🧪 Ground truth: 74.99%\n",
      "   ❗ Error: -0.71%\n"
     ]
    },
    {
     "name": "stderr",
     "output_type": "stream",
     "text": [
      "[I 2025-08-25 01:54:38,124] Trial 6 finished with value: 65.1978759765625 and parameters: {'reactant': 'CN(C)S(=O)(=O)Oc1ccc2[nH]ccc2c1', 'reagent': 'C[PH+](C)C.F[B-](F)(F)F.OB(O)B(O)O'}. Best is trial 1 with value: 74.9109115600586.\n",
      "[I 2025-08-25 01:54:38,213] Trial 7 finished with value: 70.44136810302734 and parameters: {'reactant': 'Cc1cccc(C)c1Cl', 'reagent': 'COc1cccc(OC)c1-c1ccccc1P(c1ccccc1)c1ccccc1.OB(O)B(O)O'}. Best is trial 1 with value: 74.9109115600586.\n",
      "[I 2025-08-25 01:54:38,307] Trial 8 finished with value: 76.236328125 and parameters: {'reactant': 'COc1ccc(Cl)cc1F', 'reagent': 'c1ccc(-n2cccc2P(C2CCCCC2)C2CCCCC2)cc1.OB(O)B(O)O'}. Best is trial 8 with value: 76.236328125.\n"
     ]
    },
    {
     "name": "stdout",
     "output_type": "stream",
     "text": [
      "🔎 CN(C)S(=O)(=O)Oc1ccc2[nH]ccc2c1 + C[PH+](C)C.F[B-](F)(F)F.OB(O)B(O)O → OB(O)c1ccc2[nH]ccc2c1\n",
      "   📈 Predicted: 65.20%\n",
      "   🧪 Ground truth: 0.82%\n",
      "   ❗ Error: +64.38%\n",
      "🔎 Cc1cccc(C)c1Cl + COc1cccc(OC)c1-c1ccccc1P(c1ccccc1)c1ccccc1.OB(O)B(O)O → Cc1cccc(C)c1B(O)O\n",
      "   📈 Predicted: 70.44%\n",
      "   🧪 Ground truth: 10.76%\n",
      "   ❗ Error: +59.68%\n",
      "🔎 COc1ccc(Cl)cc1F + c1ccc(-n2cccc2P(C2CCCCC2)C2CCCCC2)cc1.OB(O)B(O)O → COc1ccc(B(O)O)cc1F\n",
      "   📈 Predicted: 76.24%\n",
      "   🧪 Ground truth: 36.20%\n",
      "   ❗ Error: +40.04%\n"
     ]
    },
    {
     "name": "stderr",
     "output_type": "stream",
     "text": [
      "[I 2025-08-25 01:54:38,407] Trial 9 finished with value: 72.73324584960938 and parameters: {'reactant': 'Clc1ccc2[nH]ccc2c1', 'reagent': 'c1ccc(-c2ccccc2P(C2CCCCC2)C2CCCCC2)cc1.OB(O)B(O)O'}. Best is trial 8 with value: 76.236328125.\n",
      "[I 2025-08-25 01:54:38,507] Trial 10 finished with value: 77.52999877929688 and parameters: {'reactant': 'COc1ccc(Cl)cc1F', 'reagent': 'Fc1ccc(P(c2ccc(F)cc2)c2ccc(F)cc2)cc1.OB(O)B(O)O'}. Best is trial 10 with value: 77.52999877929688.\n",
      "[I 2025-08-25 01:54:38,599] Trial 11 finished with value: 77.52999877929688 and parameters: {'reactant': 'COc1ccc(Cl)cc1F', 'reagent': 'Fc1ccc(P(c2ccc(F)cc2)c2ccc(F)cc2)cc1.OB(O)B(O)O'}. Best is trial 10 with value: 77.52999877929688.\n"
     ]
    },
    {
     "name": "stdout",
     "output_type": "stream",
     "text": [
      "🔎 Clc1ccc2[nH]ccc2c1 + c1ccc(-c2ccccc2P(C2CCCCC2)C2CCCCC2)cc1.OB(O)B(O)O → OB(O)c1ccc2[nH]ccc2c1\n",
      "   📈 Predicted: 72.73%\n",
      "   🧪 Ground truth: 86.93%\n",
      "   ❗ Error: -14.20%\n",
      "🔎 COc1ccc(Cl)cc1F + Fc1ccc(P(c2ccc(F)cc2)c2ccc(F)cc2)cc1.OB(O)B(O)O → COc1ccc(B(O)O)cc1F\n",
      "   📈 Predicted: 77.53%\n",
      "   🧪 Ground truth: 38.34%\n",
      "   ❗ Error: +39.19%\n",
      "🔎 COc1ccc(Cl)cc1F + Fc1ccc(P(c2ccc(F)cc2)c2ccc(F)cc2)cc1.OB(O)B(O)O → COc1ccc(B(O)O)cc1F\n",
      "   📈 Predicted: 77.53%\n",
      "   🧪 Ground truth: 38.34%\n",
      "   ❗ Error: +39.19%\n"
     ]
    },
    {
     "name": "stderr",
     "output_type": "stream",
     "text": [
      "[I 2025-08-25 01:54:38,706] Trial 12 finished with value: 77.52999877929688 and parameters: {'reactant': 'COc1ccc(Cl)cc1F', 'reagent': 'Fc1ccc(P(c2ccc(F)cc2)c2ccc(F)cc2)cc1.OB(O)B(O)O'}. Best is trial 10 with value: 77.52999877929688.\n",
      "[I 2025-08-25 01:54:38,808] Trial 13 finished with value: 77.52999877929688 and parameters: {'reactant': 'COc1ccc(Cl)cc1F', 'reagent': 'Fc1ccc(P(c2ccc(F)cc2)c2ccc(F)cc2)cc1.OB(O)B(O)O'}. Best is trial 10 with value: 77.52999877929688.\n",
      "[I 2025-08-25 01:54:38,902] Trial 14 finished with value: 72.80110168457031 and parameters: {'reactant': 'Cc1cc(F)ccc1Cl', 'reagent': 'Fc1ccc(P(c2ccc(F)cc2)c2ccc(F)cc2)cc1.OB(O)B(O)O'}. Best is trial 10 with value: 77.52999877929688.\n"
     ]
    },
    {
     "name": "stdout",
     "output_type": "stream",
     "text": [
      "🔎 COc1ccc(Cl)cc1F + Fc1ccc(P(c2ccc(F)cc2)c2ccc(F)cc2)cc1.OB(O)B(O)O → COc1ccc(B(O)O)cc1F\n",
      "   📈 Predicted: 77.53%\n",
      "   🧪 Ground truth: 38.34%\n",
      "   ❗ Error: +39.19%\n",
      "🔎 COc1ccc(Cl)cc1F + Fc1ccc(P(c2ccc(F)cc2)c2ccc(F)cc2)cc1.OB(O)B(O)O → COc1ccc(B(O)O)cc1F\n",
      "   📈 Predicted: 77.53%\n",
      "   🧪 Ground truth: 38.34%\n",
      "   ❗ Error: +39.19%\n",
      "🔎 Cc1cc(F)ccc1Cl + Fc1ccc(P(c2ccc(F)cc2)c2ccc(F)cc2)cc1.OB(O)B(O)O → Cc1cc(F)ccc1B(O)O\n",
      "   📈 Predicted: 72.80%\n",
      "   🧪 Ground truth: 39.20%\n",
      "   ❗ Error: +33.60%\n"
     ]
    },
    {
     "name": "stderr",
     "output_type": "stream",
     "text": [
      "[I 2025-08-25 01:54:38,992] Trial 15 finished with value: 66.87107849121094 and parameters: {'reactant': 'Clc1cnc2ccccc2c1', 'reagent': 'CN(C)c1ccccc1-c1ccccc1P(c1ccccc1)c1ccccc1.OB(O)B(O)O'}. Best is trial 10 with value: 77.52999877929688.\n",
      "[I 2025-08-25 01:54:39,098] Trial 16 finished with value: 72.0725326538086 and parameters: {'reactant': 'N#Cc1ccc(Br)cc1F', 'reagent': 'COc1cc(C(C)(C)C)cc(C(C)(C)C)c1-c1ccccc1P(C1CCCCC1)C1CCCCC1.OB(O)B(O)O'}. Best is trial 10 with value: 77.52999877929688.\n"
     ]
    },
    {
     "name": "stdout",
     "output_type": "stream",
     "text": [
      "🔎 Clc1cnc2ccccc2c1 + CN(C)c1ccccc1-c1ccccc1P(c1ccccc1)c1ccccc1.OB(O)B(O)O → OB(O)c1cnc2ccccc2c1\n",
      "   📈 Predicted: 66.87%\n",
      "   🧪 Ground truth: 29.66%\n",
      "   ❗ Error: +37.21%\n",
      "🔎 N#Cc1ccc(Br)cc1F + COc1cc(C(C)(C)C)cc(C(C)(C)C)c1-c1ccccc1P(C1CCCCC1)C1CCCCC1.OB(O)B(O)O → N#Cc1ccc(B(O)O)cc1F\n",
      "   📈 Predicted: 72.07%\n",
      "   🧪 Ground truth: 43.84%\n",
      "   ❗ Error: +28.23%\n"
     ]
    },
    {
     "name": "stderr",
     "output_type": "stream",
     "text": [
      "[I 2025-08-25 01:54:39,221] Trial 17 finished with value: 75.75007629394531 and parameters: {'reactant': 'Cc1nc2cc(OS(=O)(=O)N(C)C)ccc2s1', 'reagent': 'Cc1ccccc1-c1ccccc1P(C1CCCCC1)C1CCCCC1.OB(O)B(O)O'}. Best is trial 10 with value: 77.52999877929688.\n",
      "[I 2025-08-25 01:54:39,330] Trial 18 finished with value: 72.75936126708984 and parameters: {'reactant': 'COc1ncc(Br)c(OC)n1', 'reagent': 'COc1ccc(P(c2ccc(OC)cc2)c2ccc(OC)cc2)cc1.OB(O)B(O)O'}. Best is trial 10 with value: 77.52999877929688.\n"
     ]
    },
    {
     "name": "stdout",
     "output_type": "stream",
     "text": [
      "🔎 Cc1nc2cc(OS(=O)(=O)N(C)C)ccc2s1 + Cc1ccccc1-c1ccccc1P(C1CCCCC1)C1CCCCC1.OB(O)B(O)O → Cc1nc2cc(B(O)O)ccc2s1\n",
      "   📈 Predicted: 75.75%\n",
      "   🧪 Ground truth: 0.26%\n",
      "   ❗ Error: +75.50%\n",
      "🔎 COc1ncc(Br)c(OC)n1 + COc1ccc(P(c2ccc(OC)cc2)c2ccc(OC)cc2)cc1.OB(O)B(O)O → COc1ncc(B(O)O)c(OC)n1\n",
      "   📈 Predicted: 72.76%\n",
      "   🧪 Ground truth: 4.12%\n",
      "   ❗ Error: +68.64%\n"
     ]
    },
    {
     "name": "stderr",
     "output_type": "stream",
     "text": [
      "[I 2025-08-25 01:54:39,436] Trial 19 finished with value: 69.8395004272461 and parameters: {'reactant': 'N#Cc1ccc(Cl)cc1F', 'reagent': 'c1ccc(-c2cc3ccccc3n2P(C2CCCCC2)C2CCCCC2)cc1.OB(O)B(O)O'}. Best is trial 10 with value: 77.52999877929688.\n",
      "[I 2025-08-25 01:54:39,578] Trial 20 finished with value: 61.750579833984375 and parameters: {'reactant': 'CN(C)S(=O)(=O)Oc1ccc2ncccc2c1', 'reagent': 'C1CCC([PH+](C2CCCCC2)C2CCCCC2)CC1.F[B-](F)(F)F.OB(O)B(O)O'}. Best is trial 10 with value: 77.52999877929688.\n"
     ]
    },
    {
     "name": "stdout",
     "output_type": "stream",
     "text": [
      "🔎 N#Cc1ccc(Cl)cc1F + c1ccc(-c2cc3ccccc3n2P(C2CCCCC2)C2CCCCC2)cc1.OB(O)B(O)O → N#Cc1ccc(B(O)O)cc1F\n",
      "   📈 Predicted: 69.84%\n",
      "   🧪 Ground truth: 58.53%\n",
      "   ❗ Error: +11.31%\n",
      "🔎 CN(C)S(=O)(=O)Oc1ccc2ncccc2c1 + C1CCC([PH+](C2CCCCC2)C2CCCCC2)CC1.F[B-](F)(F)F.OB(O)B(O)O → OB(O)c1ccc2ncccc2c1\n",
      "   📈 Predicted: 61.75%\n",
      "   🧪 Ground truth: 57.43%\n",
      "   ❗ Error: +4.32%\n"
     ]
    },
    {
     "name": "stderr",
     "output_type": "stream",
     "text": [
      "[I 2025-08-25 01:54:39,677] Trial 21 finished with value: 77.52999877929688 and parameters: {'reactant': 'COc1ccc(Cl)cc1F', 'reagent': 'Fc1ccc(P(c2ccc(F)cc2)c2ccc(F)cc2)cc1.OB(O)B(O)O'}. Best is trial 10 with value: 77.52999877929688.\n",
      "[I 2025-08-25 01:54:39,771] Trial 22 finished with value: 74.63687133789062 and parameters: {'reactant': 'Clc1ccc2c(c1)OCO2', 'reagent': 'Fc1ccc(P(c2ccc(F)cc2)c2ccc(F)cc2)cc1.OB(O)B(O)O'}. Best is trial 10 with value: 77.52999877929688.\n",
      "[I 2025-08-25 01:54:39,855] Trial 23 finished with value: 70.48942565917969 and parameters: {'reactant': 'Brc1ccccc1-c1ccccc1', 'reagent': 'c1ccc(P(c2ccccc2)C2CCCCC2)cc1.OB(O)B(O)O'}. Best is trial 10 with value: 77.52999877929688.\n"
     ]
    },
    {
     "name": "stdout",
     "output_type": "stream",
     "text": [
      "🔎 COc1ccc(Cl)cc1F + Fc1ccc(P(c2ccc(F)cc2)c2ccc(F)cc2)cc1.OB(O)B(O)O → COc1ccc(B(O)O)cc1F\n",
      "   📈 Predicted: 77.53%\n",
      "   🧪 Ground truth: 38.34%\n",
      "   ❗ Error: +39.19%\n",
      "🔎 Clc1ccc2c(c1)OCO2 + Fc1ccc(P(c2ccc(F)cc2)c2ccc(F)cc2)cc1.OB(O)B(O)O → OB(O)c1ccc2c(c1)OCO2\n",
      "   📈 Predicted: 74.64%\n",
      "   🧪 Ground truth: 48.63%\n",
      "   ❗ Error: +26.01%\n",
      "🔎 Brc1ccccc1-c1ccccc1 + c1ccc(P(c2ccccc2)C2CCCCC2)cc1.OB(O)B(O)O → OB(O)c1ccccc1-c1ccccc1\n",
      "   📈 Predicted: 70.49%\n",
      "   🧪 Ground truth: 42.60%\n",
      "   ❗ Error: +27.88%\n"
     ]
    },
    {
     "name": "stderr",
     "output_type": "stream",
     "text": [
      "[I 2025-08-25 01:54:39,959] Trial 24 finished with value: 67.166748046875 and parameters: {'reactant': 'COC(=O)c1ccc(Cl)cc1', 'reagent': 'CN(C)c1ccc(P(c2ccccc2)c2ccccc2)cc1.OB(O)B(O)O'}. Best is trial 10 with value: 77.52999877929688.\n",
      "[I 2025-08-25 01:54:40,052] Trial 25 finished with value: 73.75474548339844 and parameters: {'reactant': 'Brc1ccc2c(c1)OCO2', 'reagent': 'c1ccc(P(c2ccccc2)c2ccccc2)cc1.OB(O)B(O)O'}. Best is trial 10 with value: 77.52999877929688.\n",
      "[I 2025-08-25 01:54:40,144] Trial 26 finished with value: 68.37472534179688 and parameters: {'reactant': 'Brc1ccc(-c2ccccc2)cc1', 'reagent': 'COc1ccccc1C1=C(P(C2CCCCC2)C2CCCCC2)C2c3ccccc3C1c1ccccc12.OB(O)B(O)O'}. Best is trial 10 with value: 77.52999877929688.\n"
     ]
    },
    {
     "name": "stdout",
     "output_type": "stream",
     "text": [
      "🔎 COC(=O)c1ccc(Cl)cc1 + CN(C)c1ccc(P(c2ccccc2)c2ccccc2)cc1.OB(O)B(O)O → COC(=O)c1ccc(B(O)O)cc1\n",
      "   📈 Predicted: 67.17%\n",
      "   🧪 Ground truth: 55.58%\n",
      "   ❗ Error: +11.59%\n",
      "🔎 Brc1ccc2c(c1)OCO2 + c1ccc(P(c2ccccc2)c2ccccc2)cc1.OB(O)B(O)O → OB(O)c1ccc2c(c1)OCO2\n",
      "   📈 Predicted: 73.75%\n",
      "   🧪 Ground truth: 73.24%\n",
      "   ❗ Error: +0.51%\n",
      "🔎 Brc1ccc(-c2ccccc2)cc1 + COc1ccccc1C1=C(P(C2CCCCC2)C2CCCCC2)C2c3ccccc3C1c1ccccc12.OB(O)B(O)O → OB(O)c1ccc(-c2ccccc2)cc1\n",
      "   📈 Predicted: 68.37%\n",
      "   🧪 Ground truth: 93.78%\n",
      "   ❗ Error: -25.40%\n"
     ]
    },
    {
     "name": "stderr",
     "output_type": "stream",
     "text": [
      "[I 2025-08-25 01:54:40,240] Trial 27 finished with value: 62.23592758178711 and parameters: {'reactant': 'COc1ccc(Cl)cc1F', 'reagent': 'CC(=C(c1ccccc1)c1ccccc1)P(C1CCCCC1)C1CCCCC1.OB(O)B(O)O'}. Best is trial 10 with value: 77.52999877929688.\n",
      "[I 2025-08-25 01:54:40,336] Trial 28 finished with value: 43.11826705932617 and parameters: {'reactant': 'Cc1ncccc1Br', 'reagent': 'c1ccc(P(C2CCCCC2)C2CCCCC2)c(-n2c3ccccc3c3ccccc32)c1.OB(O)B(O)O'}. Best is trial 10 with value: 77.52999877929688.\n",
      "[I 2025-08-25 01:54:40,430] Trial 29 finished with value: 72.3396987915039 and parameters: {'reactant': 'COc1cc(Cl)ccc1F', 'reagent': 'Cc1cc(C)cc(P(c2cc(C)cc(C)c2)c2cc(C)cc(C)c2)c1.OB(O)B(O)O'}. Best is trial 10 with value: 77.52999877929688.\n"
     ]
    },
    {
     "name": "stdout",
     "output_type": "stream",
     "text": [
      "🔎 COc1ccc(Cl)cc1F + CC(=C(c1ccccc1)c1ccccc1)P(C1CCCCC1)C1CCCCC1.OB(O)B(O)O → COc1ccc(B(O)O)cc1F\n",
      "   📈 Predicted: 62.24%\n",
      "   🧪 Ground truth: 16.79%\n",
      "   ❗ Error: +45.45%\n",
      "🔎 Cc1ncccc1Br + c1ccc(P(C2CCCCC2)C2CCCCC2)c(-n2c3ccccc3c3ccccc32)c1.OB(O)B(O)O → Cc1ncccc1B(O)O\n",
      "   📈 Predicted: 43.12%\n",
      "   🧪 Ground truth: 40.17%\n",
      "   ❗ Error: +2.95%\n",
      "🔎 COc1cc(Cl)ccc1F + Cc1cc(C)cc(P(c2cc(C)cc(C)c2)c2cc(C)cc(C)c2)c1.OB(O)B(O)O → COc1cc(B(O)O)ccc1F\n",
      "   📈 Predicted: 72.34%\n",
      "   🧪 Ground truth: 8.89%\n",
      "   ❗ Error: +63.45%\n"
     ]
    },
    {
     "name": "stderr",
     "output_type": "stream",
     "text": [
      "[I 2025-08-25 01:54:40,521] Trial 30 finished with value: 68.9170150756836 and parameters: {'reactant': 'Cc1c(N)cccc1Cl', 'reagent': 'CC(C)c1cc(C(C)C)c(-c2ccccc2P(c2ccccc2)c2ccccc2)c(C(C)C)c1.OB(O)B(O)O'}. Best is trial 10 with value: 77.52999877929688.\n",
      "[I 2025-08-25 01:54:40,614] Trial 31 finished with value: 77.52999877929688 and parameters: {'reactant': 'COc1ccc(Cl)cc1F', 'reagent': 'Fc1ccc(P(c2ccc(F)cc2)c2ccc(F)cc2)cc1.OB(O)B(O)O'}. Best is trial 10 with value: 77.52999877929688.\n",
      "[I 2025-08-25 01:54:40,702] Trial 32 finished with value: 74.92711639404297 and parameters: {'reactant': 'COc1ccc(Br)cc1F', 'reagent': 'Fc1ccc(P(c2ccc(F)cc2)c2ccc(F)cc2)cc1.OB(O)B(O)O'}. Best is trial 10 with value: 77.52999877929688.\n"
     ]
    },
    {
     "name": "stdout",
     "output_type": "stream",
     "text": [
      "❗ No ground truth for: Cc1c(N)cccc1Cl + CC(C)c1cc(C(C)C)c(-c2ccccc2P(c2ccccc2)c2ccccc2)c(C(C)C)c1.OB(O)B(O)O → None\n",
      "🔎 Cc1c(N)cccc1Cl + CC(C)c1cc(C(C)C)c(-c2ccccc2P(c2ccccc2)c2ccccc2)c(C(C)C)c1.OB(O)B(O)O → None\n",
      "   📈 Predicted: 68.92%\n",
      "   🧪 Ground truth: 0.00%\n",
      "   ❗ Error: +68.92%\n",
      "🔎 COc1ccc(Cl)cc1F + Fc1ccc(P(c2ccc(F)cc2)c2ccc(F)cc2)cc1.OB(O)B(O)O → COc1ccc(B(O)O)cc1F\n",
      "   📈 Predicted: 77.53%\n",
      "   🧪 Ground truth: 38.34%\n",
      "   ❗ Error: +39.19%\n",
      "🔎 COc1ccc(Br)cc1F + Fc1ccc(P(c2ccc(F)cc2)c2ccc(F)cc2)cc1.OB(O)B(O)O → COc1ccc(B(O)O)cc1F\n",
      "   📈 Predicted: 74.93%\n",
      "   🧪 Ground truth: 70.40%\n",
      "   ❗ Error: +4.53%\n"
     ]
    },
    {
     "name": "stderr",
     "output_type": "stream",
     "text": [
      "[I 2025-08-25 01:54:40,803] Trial 33 finished with value: 72.10823059082031 and parameters: {'reactant': 'CN(C)C(=O)c1ccc(Cl)cc1', 'reagent': 'Fc1ccc(P(c2ccc(F)cc2)c2ccc(F)cc2)cc1.OB(O)B(O)O'}. Best is trial 10 with value: 77.52999877929688.\n",
      "[I 2025-08-25 01:54:40,886] Trial 34 finished with value: 65.31706237792969 and parameters: {'reactant': 'Brc1ccc2occc2c1', 'reagent': 'COc1ccccc1P(c1ccccc1OC)c1ccccc1OC.OB(O)B(O)O'}. Best is trial 10 with value: 77.52999877929688.\n",
      "[I 2025-08-25 01:54:40,974] Trial 35 finished with value: 59.07455062866211 and parameters: {'reactant': 'Brc1ccsc1', 'reagent': 'CC(C)(C)P(c1ccccc1)C(C)(C)C.OB(O)B(O)O'}. Best is trial 10 with value: 77.52999877929688.\n"
     ]
    },
    {
     "name": "stdout",
     "output_type": "stream",
     "text": [
      "🔎 CN(C)C(=O)c1ccc(Cl)cc1 + Fc1ccc(P(c2ccc(F)cc2)c2ccc(F)cc2)cc1.OB(O)B(O)O → CN(C)C(=O)c1ccc(B(O)O)cc1\n",
      "   📈 Predicted: 72.11%\n",
      "   🧪 Ground truth: 77.24%\n",
      "   ❗ Error: -5.13%\n",
      "🔎 Brc1ccc2occc2c1 + COc1ccccc1P(c1ccccc1OC)c1ccccc1OC.OB(O)B(O)O → OB(O)c1ccc2occc2c1\n",
      "   📈 Predicted: 65.32%\n",
      "   🧪 Ground truth: 40.06%\n",
      "   ❗ Error: +25.26%\n",
      "🔎 Brc1ccsc1 + CC(C)(C)P(c1ccccc1)C(C)(C)C.OB(O)B(O)O → OB(O)c1ccsc1\n",
      "   📈 Predicted: 59.07%\n",
      "   🧪 Ground truth: 8.25%\n",
      "   ❗ Error: +50.83%\n"
     ]
    },
    {
     "name": "stderr",
     "output_type": "stream",
     "text": [
      "[I 2025-08-25 01:54:41,093] Trial 36 finished with value: 74.4588394165039 and parameters: {'reactant': 'CCOC(=O)c1cc(Br)cn1CC', 'reagent': 'Fc1ccc(P(c2ccc(F)cc2)c2ccc(F)cc2)cc1.OB(O)B(O)O'}. Best is trial 10 with value: 77.52999877929688.\n",
      "[I 2025-08-25 01:54:41,227] Trial 37 finished with value: 66.80103302001953 and parameters: {'reactant': 'CCOC(=O)C(C)(C)Oc1ccc(Cl)cc1', 'reagent': 'c1ccc(-c2nn(-c3ccccc3)c(-c3ccccc3)c2-n2nccc2P(C2CCCCC2)C2CCCCC2)cc1.OB(O)B(O)O'}. Best is trial 10 with value: 77.52999877929688.\n"
     ]
    },
    {
     "name": "stdout",
     "output_type": "stream",
     "text": [
      "🔎 CCOC(=O)c1cc(Br)cn1CC + Fc1ccc(P(c2ccc(F)cc2)c2ccc(F)cc2)cc1.OB(O)B(O)O → CCOC(=O)c1cc(B(O)O)cn1CC\n",
      "   📈 Predicted: 74.46%\n",
      "   🧪 Ground truth: 37.70%\n",
      "   ❗ Error: +36.76%\n",
      "🔎 CCOC(=O)C(C)(C)Oc1ccc(Cl)cc1 + c1ccc(-c2nn(-c3ccccc3)c(-c3ccccc3)c2-n2nccc2P(C2CCCCC2)C2CCCCC2)cc1.OB(O)B(O)O → CCOC(=O)C(C)(C)Oc1ccc(B(O)O)cc1\n",
      "   📈 Predicted: 66.80%\n",
      "   🧪 Ground truth: 56.83%\n",
      "   ❗ Error: +9.97%\n"
     ]
    },
    {
     "name": "stderr",
     "output_type": "stream",
     "text": [
      "[I 2025-08-25 01:54:41,372] Trial 38 finished with value: 67.26655578613281 and parameters: {'reactant': 'Clc1ccc(-c2ccccc2)cc1', 'reagent': 'CCCCC1([PH+](C2CCCCC2)C2CCCCC2)c2ccccc2-c2ccccc21.F[B-](F)(F)F.OB(O)B(O)O'}. Best is trial 10 with value: 77.52999877929688.\n",
      "[I 2025-08-25 01:54:41,487] Trial 39 finished with value: 73.21011352539062 and parameters: {'reactant': 'FC(F)(F)c1ccc(Cl)cc1', 'reagent': 'Fc1ccc(P(c2ccc(F)cc2)c2ccc(F)cc2)cc1.OB(O)B(O)O'}. Best is trial 10 with value: 77.52999877929688.\n",
      "[I 2025-08-25 01:54:41,572] Trial 40 finished with value: 73.81485748291016 and parameters: {'reactant': 'COc1ccc(Cl)cc1F', 'reagent': 'COc1cccc(OC)c1-c1ccccc1P(c1ccccc1)c1ccccc1.OB(O)B(O)O'}. Best is trial 10 with value: 77.52999877929688.\n"
     ]
    },
    {
     "name": "stdout",
     "output_type": "stream",
     "text": [
      "🔎 Clc1ccc(-c2ccccc2)cc1 + CCCCC1([PH+](C2CCCCC2)C2CCCCC2)c2ccccc2-c2ccccc21.F[B-](F)(F)F.OB(O)B(O)O → OB(O)c1ccc(-c2ccccc2)cc1\n",
      "   📈 Predicted: 67.27%\n",
      "   🧪 Ground truth: 56.94%\n",
      "   ❗ Error: +10.33%\n",
      "🔎 FC(F)(F)c1ccc(Cl)cc1 + Fc1ccc(P(c2ccc(F)cc2)c2ccc(F)cc2)cc1.OB(O)B(O)O → OB(O)c1ccc(C(F)(F)F)cc1\n",
      "   📈 Predicted: 73.21%\n",
      "   🧪 Ground truth: 71.85%\n",
      "   ❗ Error: +1.36%\n",
      "🔎 COc1ccc(Cl)cc1F + COc1cccc(OC)c1-c1ccccc1P(c1ccccc1)c1ccccc1.OB(O)B(O)O → COc1ccc(B(O)O)cc1F\n",
      "   📈 Predicted: 73.81%\n",
      "   🧪 Ground truth: 24.65%\n",
      "   ❗ Error: +49.16%\n"
     ]
    },
    {
     "name": "stderr",
     "output_type": "stream",
     "text": [
      "[I 2025-08-25 01:54:41,666] Trial 41 finished with value: 77.52999877929688 and parameters: {'reactant': 'COc1ccc(Cl)cc1F', 'reagent': 'Fc1ccc(P(c2ccc(F)cc2)c2ccc(F)cc2)cc1.OB(O)B(O)O'}. Best is trial 10 with value: 77.52999877929688.\n",
      "[I 2025-08-25 01:54:41,759] Trial 42 finished with value: 59.90135192871094 and parameters: {'reactant': 'CCOC(=O)c1ccc(Cl)c(F)c1', 'reagent': 'C[PH+](C)C.F[B-](F)(F)F.OB(O)B(O)O'}. Best is trial 10 with value: 77.52999877929688.\n",
      "[I 2025-08-25 01:54:41,848] Trial 43 finished with value: 77.52999877929688 and parameters: {'reactant': 'COc1ccc(Cl)cc1F', 'reagent': 'Fc1ccc(P(c2ccc(F)cc2)c2ccc(F)cc2)cc1.OB(O)B(O)O'}. Best is trial 10 with value: 77.52999877929688.\n"
     ]
    },
    {
     "name": "stdout",
     "output_type": "stream",
     "text": [
      "🔎 COc1ccc(Cl)cc1F + Fc1ccc(P(c2ccc(F)cc2)c2ccc(F)cc2)cc1.OB(O)B(O)O → COc1ccc(B(O)O)cc1F\n",
      "   📈 Predicted: 77.53%\n",
      "   🧪 Ground truth: 38.34%\n",
      "   ❗ Error: +39.19%\n",
      "🔎 CCOC(=O)c1ccc(Cl)c(F)c1 + C[PH+](C)C.F[B-](F)(F)F.OB(O)B(O)O → CCOC(=O)c1ccc(B(O)O)c(F)c1\n",
      "   📈 Predicted: 59.90%\n",
      "   🧪 Ground truth: 13.49%\n",
      "   ❗ Error: +46.41%\n",
      "🔎 COc1ccc(Cl)cc1F + Fc1ccc(P(c2ccc(F)cc2)c2ccc(F)cc2)cc1.OB(O)B(O)O → COc1ccc(B(O)O)cc1F\n",
      "   📈 Predicted: 77.53%\n",
      "   🧪 Ground truth: 38.34%\n",
      "   ❗ Error: +39.19%\n"
     ]
    },
    {
     "name": "stderr",
     "output_type": "stream",
     "text": [
      "[I 2025-08-25 01:54:41,951] Trial 44 finished with value: 76.7062759399414 and parameters: {'reactant': 'CN(C)S(=O)(=O)Oc1ccc(-c2ccccc2)cc1', 'reagent': 'c1ccc(-c2ccccc2P(C2CCCCC2)C2CCCCC2)cc1.OB(O)B(O)O'}. Best is trial 10 with value: 77.52999877929688.\n",
      "[I 2025-08-25 01:54:42,048] Trial 45 finished with value: 66.14972686767578 and parameters: {'reactant': 'COc1ccc(Br)cc1', 'reagent': 'Fc1ccc(P(c2ccc(F)cc2)c2ccc(F)cc2)cc1.OB(O)B(O)O'}. Best is trial 10 with value: 77.52999877929688.\n",
      "[I 2025-08-25 01:54:42,144] Trial 46 finished with value: 64.92825317382812 and parameters: {'reactant': 'Brc1cnc2ccccc2c1', 'reagent': 'COc1cc(C(C)(C)C)cc(C(C)(C)C)c1-c1ccccc1P(C1CCCCC1)C1CCCCC1.OB(O)B(O)O'}. Best is trial 10 with value: 77.52999877929688.\n"
     ]
    },
    {
     "name": "stdout",
     "output_type": "stream",
     "text": [
      "🔎 CN(C)S(=O)(=O)Oc1ccc(-c2ccccc2)cc1 + c1ccc(-c2ccccc2P(C2CCCCC2)C2CCCCC2)cc1.OB(O)B(O)O → OB(O)c1ccc(-c2ccccc2)cc1\n",
      "   📈 Predicted: 76.71%\n",
      "   🧪 Ground truth: 68.03%\n",
      "   ❗ Error: +8.68%\n",
      "🔎 COc1ccc(Br)cc1 + Fc1ccc(P(c2ccc(F)cc2)c2ccc(F)cc2)cc1.OB(O)B(O)O → COc1ccc(B(O)O)cc1\n",
      "   📈 Predicted: 66.15%\n",
      "   🧪 Ground truth: 79.77%\n",
      "   ❗ Error: -13.62%\n",
      "🔎 Brc1cnc2ccccc2c1 + COc1cc(C(C)(C)C)cc(C(C)(C)C)c1-c1ccccc1P(C1CCCCC1)C1CCCCC1.OB(O)B(O)O → OB(O)c1cnc2ccccc2c1\n",
      "   📈 Predicted: 64.93%\n",
      "   🧪 Ground truth: 21.32%\n",
      "   ❗ Error: +43.61%\n"
     ]
    },
    {
     "name": "stderr",
     "output_type": "stream",
     "text": [
      "[I 2025-08-25 01:54:42,235] Trial 47 finished with value: 69.40945434570312 and parameters: {'reactant': 'COc1ccc(Cl)cc1F', 'reagent': 'CN(C)c1ccccc1-c1ccccc1P(c1ccccc1)c1ccccc1.OB(O)B(O)O'}. Best is trial 10 with value: 77.52999877929688.\n",
      "[I 2025-08-25 01:54:42,326] Trial 48 finished with value: 69.52266693115234 and parameters: {'reactant': 'FC(F)(F)c1ccc(Br)cc1', 'reagent': 'Cc1ccccc1-c1ccccc1P(C1CCCCC1)C1CCCCC1.OB(O)B(O)O'}. Best is trial 10 with value: 77.52999877929688.\n",
      "[I 2025-08-25 01:54:42,414] Trial 49 finished with value: 75.35006713867188 and parameters: {'reactant': 'COC(=O)c1ccc(Br)cc1', 'reagent': 'COc1ccc(P(c2ccc(OC)cc2)c2ccc(OC)cc2)cc1.OB(O)B(O)O'}. Best is trial 10 with value: 77.52999877929688.\n"
     ]
    },
    {
     "name": "stdout",
     "output_type": "stream",
     "text": [
      "🔎 COc1ccc(Cl)cc1F + CN(C)c1ccccc1-c1ccccc1P(c1ccccc1)c1ccccc1.OB(O)B(O)O → COc1ccc(B(O)O)cc1F\n",
      "   📈 Predicted: 69.41%\n",
      "   🧪 Ground truth: 19.45%\n",
      "   ❗ Error: +49.96%\n",
      "🔎 FC(F)(F)c1ccc(Br)cc1 + Cc1ccccc1-c1ccccc1P(C1CCCCC1)C1CCCCC1.OB(O)B(O)O → OB(O)c1ccc(C(F)(F)F)cc1\n",
      "   📈 Predicted: 69.52%\n",
      "   🧪 Ground truth: 49.35%\n",
      "   ❗ Error: +20.17%\n",
      "🔎 COC(=O)c1ccc(Br)cc1 + COc1ccc(P(c2ccc(OC)cc2)c2ccc(OC)cc2)cc1.OB(O)B(O)O → COC(=O)c1ccc(B(O)O)cc1\n",
      "   📈 Predicted: 75.35%\n",
      "   🧪 Ground truth: 77.59%\n",
      "   ❗ Error: -2.24%\n"
     ]
    },
    {
     "name": "stderr",
     "output_type": "stream",
     "text": [
      "[I 2025-08-25 01:54:42,517] Trial 50 finished with value: 73.19617462158203 and parameters: {'reactant': 'CN(C)S(=O)(=O)Oc1ccc2[nH]ccc2c1', 'reagent': 'c1ccc(-n2cccc2P(C2CCCCC2)C2CCCCC2)cc1.OB(O)B(O)O'}. Best is trial 10 with value: 77.52999877929688.\n",
      "[I 2025-08-25 01:54:42,610] Trial 51 finished with value: 77.52999877929688 and parameters: {'reactant': 'COc1ccc(Cl)cc1F', 'reagent': 'Fc1ccc(P(c2ccc(F)cc2)c2ccc(F)cc2)cc1.OB(O)B(O)O'}. Best is trial 10 with value: 77.52999877929688.\n",
      "[I 2025-08-25 01:54:42,698] Trial 52 finished with value: 77.52999877929688 and parameters: {'reactant': 'COc1ccc(Cl)cc1F', 'reagent': 'Fc1ccc(P(c2ccc(F)cc2)c2ccc(F)cc2)cc1.OB(O)B(O)O'}. Best is trial 10 with value: 77.52999877929688.\n"
     ]
    },
    {
     "name": "stdout",
     "output_type": "stream",
     "text": [
      "🔎 CN(C)S(=O)(=O)Oc1ccc2[nH]ccc2c1 + c1ccc(-n2cccc2P(C2CCCCC2)C2CCCCC2)cc1.OB(O)B(O)O → OB(O)c1ccc2[nH]ccc2c1\n",
      "   📈 Predicted: 73.20%\n",
      "   🧪 Ground truth: 74.99%\n",
      "   ❗ Error: -1.79%\n",
      "🔎 COc1ccc(Cl)cc1F + Fc1ccc(P(c2ccc(F)cc2)c2ccc(F)cc2)cc1.OB(O)B(O)O → COc1ccc(B(O)O)cc1F\n",
      "   📈 Predicted: 77.53%\n",
      "   🧪 Ground truth: 38.34%\n",
      "   ❗ Error: +39.19%\n",
      "🔎 COc1ccc(Cl)cc1F + Fc1ccc(P(c2ccc(F)cc2)c2ccc(F)cc2)cc1.OB(O)B(O)O → COc1ccc(B(O)O)cc1F\n",
      "   📈 Predicted: 77.53%\n",
      "   🧪 Ground truth: 38.34%\n",
      "   ❗ Error: +39.19%\n"
     ]
    },
    {
     "name": "stderr",
     "output_type": "stream",
     "text": [
      "[I 2025-08-25 01:54:42,791] Trial 53 finished with value: 66.52839660644531 and parameters: {'reactant': 'Cc1cccc(C)c1Cl', 'reagent': 'c1ccc(-c2cc3ccccc3n2P(C2CCCCC2)C2CCCCC2)cc1.OB(O)B(O)O'}. Best is trial 10 with value: 77.52999877929688.\n",
      "[I 2025-08-25 01:54:42,885] Trial 54 finished with value: 73.99285125732422 and parameters: {'reactant': 'COc1ccc(Cl)cc1F', 'reagent': 'c1ccc(P(c2ccccc2)C2CCCCC2)cc1.OB(O)B(O)O'}. Best is trial 10 with value: 77.52999877929688.\n",
      "[I 2025-08-25 01:54:42,969] Trial 55 finished with value: 72.80110168457031 and parameters: {'reactant': 'Cc1cc(F)ccc1Cl', 'reagent': 'Fc1ccc(P(c2ccc(F)cc2)c2ccc(F)cc2)cc1.OB(O)B(O)O'}. Best is trial 10 with value: 77.52999877929688.\n"
     ]
    },
    {
     "name": "stdout",
     "output_type": "stream",
     "text": [
      "❗ No ground truth for: Cc1cccc(C)c1Cl + c1ccc(-c2cc3ccccc3n2P(C2CCCCC2)C2CCCCC2)cc1.OB(O)B(O)O → None\n",
      "🔎 Cc1cccc(C)c1Cl + c1ccc(-c2cc3ccccc3n2P(C2CCCCC2)C2CCCCC2)cc1.OB(O)B(O)O → None\n",
      "   📈 Predicted: 66.53%\n",
      "   🧪 Ground truth: 0.00%\n",
      "   ❗ Error: +66.53%\n",
      "🔎 COc1ccc(Cl)cc1F + c1ccc(P(c2ccccc2)C2CCCCC2)cc1.OB(O)B(O)O → COc1ccc(B(O)O)cc1F\n",
      "   📈 Predicted: 73.99%\n",
      "   🧪 Ground truth: 54.24%\n",
      "   ❗ Error: +19.75%\n",
      "🔎 Cc1cc(F)ccc1Cl + Fc1ccc(P(c2ccc(F)cc2)c2ccc(F)cc2)cc1.OB(O)B(O)O → Cc1cc(F)ccc1B(O)O\n",
      "   📈 Predicted: 72.80%\n",
      "   🧪 Ground truth: 39.20%\n",
      "   ❗ Error: +33.60%\n"
     ]
    },
    {
     "name": "stderr",
     "output_type": "stream",
     "text": [
      "[I 2025-08-25 01:54:43,061] Trial 56 finished with value: 69.21525573730469 and parameters: {'reactant': 'Clc1cnc2ccccc2c1', 'reagent': 'CN(C)c1ccc(P(c2ccccc2)c2ccccc2)cc1.OB(O)B(O)O'}. Best is trial 10 with value: 77.52999877929688.\n",
      "[I 2025-08-25 01:54:43,170] Trial 57 finished with value: 74.07767486572266 and parameters: {'reactant': 'Cc1nc2cc(OS(=O)(=O)N(C)C)ccc2s1', 'reagent': 'C1CCC([PH+](C2CCCCC2)C2CCCCC2)CC1.F[B-](F)(F)F.OB(O)B(O)O'}. Best is trial 10 with value: 77.52999877929688.\n",
      "[I 2025-08-25 01:54:43,256] Trial 58 finished with value: 76.0024642944336 and parameters: {'reactant': 'N#Cc1ccc(Br)cc1F', 'reagent': 'c1ccc(P(c2ccccc2)c2ccccc2)cc1.OB(O)B(O)O'}. Best is trial 10 with value: 77.52999877929688.\n"
     ]
    },
    {
     "name": "stdout",
     "output_type": "stream",
     "text": [
      "🔎 Clc1cnc2ccccc2c1 + CN(C)c1ccc(P(c2ccccc2)c2ccccc2)cc1.OB(O)B(O)O → OB(O)c1cnc2ccccc2c1\n",
      "   📈 Predicted: 69.22%\n",
      "   🧪 Ground truth: 72.37%\n",
      "   ❗ Error: -3.15%\n",
      "🔎 Cc1nc2cc(OS(=O)(=O)N(C)C)ccc2s1 + C1CCC([PH+](C2CCCCC2)C2CCCCC2)CC1.F[B-](F)(F)F.OB(O)B(O)O → Cc1nc2cc(B(O)O)ccc2s1\n",
      "   📈 Predicted: 74.08%\n",
      "   🧪 Ground truth: 6.24%\n",
      "   ❗ Error: +67.84%\n",
      "🔎 N#Cc1ccc(Br)cc1F + c1ccc(P(c2ccccc2)c2ccccc2)cc1.OB(O)B(O)O → N#Cc1ccc(B(O)O)cc1F\n",
      "   📈 Predicted: 76.00%\n",
      "   🧪 Ground truth: 68.83%\n",
      "   ❗ Error: +7.17%\n"
     ]
    },
    {
     "name": "stderr",
     "output_type": "stream",
     "text": [
      "[I 2025-08-25 01:54:43,347] Trial 59 finished with value: 65.52114868164062 and parameters: {'reactant': 'COc1ncc(Br)c(OC)n1', 'reagent': 'CC(=C(c1ccccc1)c1ccccc1)P(C1CCCCC1)C1CCCCC1.OB(O)B(O)O'}. Best is trial 10 with value: 77.52999877929688.\n",
      "[I 2025-08-25 01:54:43,450] Trial 60 finished with value: 65.77742004394531 and parameters: {'reactant': 'COc1ccc(Cl)cc1F', 'reagent': 'COc1ccccc1C1=C(P(C2CCCCC2)C2CCCCC2)C2c3ccccc3C1c1ccccc12.OB(O)B(O)O'}. Best is trial 10 with value: 77.52999877929688.\n"
     ]
    },
    {
     "name": "stdout",
     "output_type": "stream",
     "text": [
      "🔎 COc1ncc(Br)c(OC)n1 + CC(=C(c1ccccc1)c1ccccc1)P(C1CCCCC1)C1CCCCC1.OB(O)B(O)O → COc1ncc(B(O)O)c(OC)n1\n",
      "   📈 Predicted: 65.52%\n",
      "   🧪 Ground truth: 2.98%\n",
      "   ❗ Error: +62.54%\n",
      "🔎 COc1ccc(Cl)cc1F + COc1ccccc1C1=C(P(C2CCCCC2)C2CCCCC2)C2c3ccccc3C1c1ccccc12.OB(O)B(O)O → COc1ccc(B(O)O)cc1F\n",
      "   📈 Predicted: 65.78%\n",
      "   🧪 Ground truth: 45.55%\n",
      "   ❗ Error: +20.23%\n"
     ]
    },
    {
     "name": "stderr",
     "output_type": "stream",
     "text": [
      "[I 2025-08-25 01:54:43,552] Trial 61 finished with value: 77.52999877929688 and parameters: {'reactant': 'COc1ccc(Cl)cc1F', 'reagent': 'Fc1ccc(P(c2ccc(F)cc2)c2ccc(F)cc2)cc1.OB(O)B(O)O'}. Best is trial 10 with value: 77.52999877929688.\n",
      "[I 2025-08-25 01:54:43,671] Trial 62 finished with value: 73.03794860839844 and parameters: {'reactant': 'Clc1ccc2[nH]ccc2c1', 'reagent': 'Fc1ccc(P(c2ccc(F)cc2)c2ccc(F)cc2)cc1.OB(O)B(O)O'}. Best is trial 10 with value: 77.52999877929688.\n"
     ]
    },
    {
     "name": "stdout",
     "output_type": "stream",
     "text": [
      "🔎 COc1ccc(Cl)cc1F + Fc1ccc(P(c2ccc(F)cc2)c2ccc(F)cc2)cc1.OB(O)B(O)O → COc1ccc(B(O)O)cc1F\n",
      "   📈 Predicted: 77.53%\n",
      "   🧪 Ground truth: 38.34%\n",
      "   ❗ Error: +39.19%\n",
      "🔎 Clc1ccc2[nH]ccc2c1 + Fc1ccc(P(c2ccc(F)cc2)c2ccc(F)cc2)cc1.OB(O)B(O)O → OB(O)c1ccc2[nH]ccc2c1\n",
      "   📈 Predicted: 73.04%\n",
      "   🧪 Ground truth: 53.95%\n",
      "   ❗ Error: +19.09%\n"
     ]
    },
    {
     "name": "stderr",
     "output_type": "stream",
     "text": [
      "[I 2025-08-25 01:54:43,824] Trial 63 finished with value: 58.76919174194336 and parameters: {'reactant': 'COc1ccc(Cl)cc1F', 'reagent': 'c1ccc(P(C2CCCCC2)C2CCCCC2)c(-n2c3ccccc3c3ccccc32)c1.OB(O)B(O)O'}. Best is trial 10 with value: 77.52999877929688.\n",
      "[I 2025-08-25 01:54:43,993] Trial 64 finished with value: 65.55087280273438 and parameters: {'reactant': 'CN(C)S(=O)(=O)Oc1ccc2ncccc2c1', 'reagent': 'Fc1ccc(P(c2ccc(F)cc2)c2ccc(F)cc2)cc1.OB(O)B(O)O'}. Best is trial 10 with value: 77.52999877929688.\n"
     ]
    },
    {
     "name": "stdout",
     "output_type": "stream",
     "text": [
      "🔎 COc1ccc(Cl)cc1F + c1ccc(P(C2CCCCC2)C2CCCCC2)c(-n2c3ccccc3c3ccccc32)c1.OB(O)B(O)O → COc1ccc(B(O)O)cc1F\n",
      "   📈 Predicted: 58.77%\n",
      "   🧪 Ground truth: 56.04%\n",
      "   ❗ Error: +2.73%\n",
      "🔎 CN(C)S(=O)(=O)Oc1ccc2ncccc2c1 + Fc1ccc(P(c2ccc(F)cc2)c2ccc(F)cc2)cc1.OB(O)B(O)O → OB(O)c1ccc2ncccc2c1\n",
      "   📈 Predicted: 65.55%\n",
      "   🧪 Ground truth: 64.90%\n",
      "   ❗ Error: +0.65%\n"
     ]
    },
    {
     "name": "stderr",
     "output_type": "stream",
     "text": [
      "[I 2025-08-25 01:54:44,102] Trial 65 finished with value: 71.83592224121094 and parameters: {'reactant': 'N#Cc1ccc(Cl)cc1F', 'reagent': 'Fc1ccc(P(c2ccc(F)cc2)c2ccc(F)cc2)cc1.OB(O)B(O)O'}. Best is trial 10 with value: 77.52999877929688.\n",
      "[I 2025-08-25 01:54:44,205] Trial 66 finished with value: 76.22024536132812 and parameters: {'reactant': 'Clc1ccc2c(c1)OCO2', 'reagent': 'Cc1cc(C)cc(P(c2cc(C)cc(C)c2)c2cc(C)cc(C)c2)c1.OB(O)B(O)O'}. Best is trial 10 with value: 77.52999877929688.\n",
      "[I 2025-08-25 01:54:44,292] Trial 67 finished with value: 73.4432373046875 and parameters: {'reactant': 'COC(=O)c1ccc(Cl)cc1', 'reagent': 'COc1ccccc1P(c1ccccc1OC)c1ccccc1OC.OB(O)B(O)O'}. Best is trial 10 with value: 77.52999877929688.\n"
     ]
    },
    {
     "name": "stdout",
     "output_type": "stream",
     "text": [
      "🔎 N#Cc1ccc(Cl)cc1F + Fc1ccc(P(c2ccc(F)cc2)c2ccc(F)cc2)cc1.OB(O)B(O)O → N#Cc1ccc(B(O)O)cc1F\n",
      "   📈 Predicted: 71.84%\n",
      "   🧪 Ground truth: 88.61%\n",
      "   ❗ Error: -16.77%\n",
      "🔎 Clc1ccc2c(c1)OCO2 + Cc1cc(C)cc(P(c2cc(C)cc(C)c2)c2cc(C)cc(C)c2)c1.OB(O)B(O)O → OB(O)c1ccc2c(c1)OCO2\n",
      "   📈 Predicted: 76.22%\n",
      "   🧪 Ground truth: 24.75%\n",
      "   ❗ Error: +51.47%\n",
      "🔎 COC(=O)c1ccc(Cl)cc1 + COc1ccccc1P(c1ccccc1OC)c1ccccc1OC.OB(O)B(O)O → COC(=O)c1ccc(B(O)O)cc1\n",
      "   📈 Predicted: 73.44%\n",
      "   🧪 Ground truth: 19.65%\n",
      "   ❗ Error: +53.79%\n"
     ]
    },
    {
     "name": "stderr",
     "output_type": "stream",
     "text": [
      "[I 2025-08-25 01:54:44,396] Trial 68 finished with value: 57.14613342285156 and parameters: {'reactant': 'Brc1ccccc1-c1ccccc1', 'reagent': 'CC(C)c1cc(C(C)C)c(-c2ccccc2P(c2ccccc2)c2ccccc2)c(C(C)C)c1.OB(O)B(O)O'}. Best is trial 10 with value: 77.52999877929688.\n",
      "[I 2025-08-25 01:54:44,490] Trial 69 finished with value: 71.2382583618164 and parameters: {'reactant': 'Brc1ccc2c(c1)OCO2', 'reagent': 'Fc1ccc(P(c2ccc(F)cc2)c2ccc(F)cc2)cc1.OB(O)B(O)O'}. Best is trial 10 with value: 77.52999877929688.\n",
      "[I 2025-08-25 01:54:44,581] Trial 70 finished with value: 67.13623809814453 and parameters: {'reactant': 'COc1ccc(Cl)cc1F', 'reagent': 'CC(C)(C)P(c1ccccc1)C(C)(C)C.OB(O)B(O)O'}. Best is trial 10 with value: 77.52999877929688.\n"
     ]
    },
    {
     "name": "stdout",
     "output_type": "stream",
     "text": [
      "🔎 Brc1ccccc1-c1ccccc1 + CC(C)c1cc(C(C)C)c(-c2ccccc2P(c2ccccc2)c2ccccc2)c(C(C)C)c1.OB(O)B(O)O → OB(O)c1ccccc1-c1ccccc1\n",
      "   📈 Predicted: 57.15%\n",
      "   🧪 Ground truth: 13.31%\n",
      "   ❗ Error: +43.84%\n",
      "🔎 Brc1ccc2c(c1)OCO2 + Fc1ccc(P(c2ccc(F)cc2)c2ccc(F)cc2)cc1.OB(O)B(O)O → OB(O)c1ccc2c(c1)OCO2\n",
      "   📈 Predicted: 71.24%\n",
      "   🧪 Ground truth: 78.82%\n",
      "   ❗ Error: -7.58%\n",
      "🔎 COc1ccc(Cl)cc1F + CC(C)(C)P(c1ccccc1)C(C)(C)C.OB(O)B(O)O → COc1ccc(B(O)O)cc1F\n",
      "   📈 Predicted: 67.14%\n",
      "   🧪 Ground truth: 5.80%\n",
      "   ❗ Error: +61.34%\n"
     ]
    },
    {
     "name": "stderr",
     "output_type": "stream",
     "text": [
      "[I 2025-08-25 01:54:44,678] Trial 71 finished with value: 77.52999877929688 and parameters: {'reactant': 'COc1ccc(Cl)cc1F', 'reagent': 'Fc1ccc(P(c2ccc(F)cc2)c2ccc(F)cc2)cc1.OB(O)B(O)O'}. Best is trial 10 with value: 77.52999877929688.\n",
      "[I 2025-08-25 01:54:44,778] Trial 72 finished with value: 71.75167846679688 and parameters: {'reactant': 'Brc1ccc(-c2ccccc2)cc1', 'reagent': 'Fc1ccc(P(c2ccc(F)cc2)c2ccc(F)cc2)cc1.OB(O)B(O)O'}. Best is trial 10 with value: 77.52999877929688.\n"
     ]
    },
    {
     "name": "stdout",
     "output_type": "stream",
     "text": [
      "🔎 COc1ccc(Cl)cc1F + Fc1ccc(P(c2ccc(F)cc2)c2ccc(F)cc2)cc1.OB(O)B(O)O → COc1ccc(B(O)O)cc1F\n",
      "   📈 Predicted: 77.53%\n",
      "   🧪 Ground truth: 38.34%\n",
      "   ❗ Error: +39.19%\n",
      "🔎 Brc1ccc(-c2ccccc2)cc1 + Fc1ccc(P(c2ccc(F)cc2)c2ccc(F)cc2)cc1.OB(O)B(O)O → OB(O)c1ccc(-c2ccccc2)cc1\n",
      "   📈 Predicted: 71.75%\n",
      "   🧪 Ground truth: 88.63%\n",
      "   ❗ Error: -16.87%\n"
     ]
    },
    {
     "name": "stderr",
     "output_type": "stream",
     "text": [
      "[I 2025-08-25 01:54:44,885] Trial 73 finished with value: 68.24649810791016 and parameters: {'reactant': 'COc1ccc(Cl)cc1F', 'reagent': 'CCCCC1([PH+](C2CCCCC2)C2CCCCC2)c2ccccc2-c2ccccc21.F[B-](F)(F)F.OB(O)B(O)O'}. Best is trial 10 with value: 77.52999877929688.\n",
      "[I 2025-08-25 01:54:44,978] Trial 74 finished with value: 74.92711639404297 and parameters: {'reactant': 'COc1ccc(Br)cc1F', 'reagent': 'Fc1ccc(P(c2ccc(F)cc2)c2ccc(F)cc2)cc1.OB(O)B(O)O'}. Best is trial 10 with value: 77.52999877929688.\n",
      "[I 2025-08-25 01:54:45,069] Trial 75 finished with value: 67.06941986083984 and parameters: {'reactant': 'Cc1ncccc1Br', 'reagent': 'c1ccc(-c2nn(-c3ccccc3)c(-c3ccccc3)c2-n2nccc2P(C2CCCCC2)C2CCCCC2)cc1.OB(O)B(O)O'}. Best is trial 10 with value: 77.52999877929688.\n"
     ]
    },
    {
     "name": "stdout",
     "output_type": "stream",
     "text": [
      "🔎 COc1ccc(Cl)cc1F + CCCCC1([PH+](C2CCCCC2)C2CCCCC2)c2ccccc2-c2ccccc21.F[B-](F)(F)F.OB(O)B(O)O → COc1ccc(B(O)O)cc1F\n",
      "   📈 Predicted: 68.25%\n",
      "   🧪 Ground truth: 22.81%\n",
      "   ❗ Error: +45.44%\n",
      "🔎 COc1ccc(Br)cc1F + Fc1ccc(P(c2ccc(F)cc2)c2ccc(F)cc2)cc1.OB(O)B(O)O → COc1ccc(B(O)O)cc1F\n",
      "   📈 Predicted: 74.93%\n",
      "   🧪 Ground truth: 70.40%\n",
      "   ❗ Error: +4.53%\n",
      "🔎 Cc1ncccc1Br + c1ccc(-c2nn(-c3ccccc3)c(-c3ccccc3)c2-n2nccc2P(C2CCCCC2)C2CCCCC2)cc1.OB(O)B(O)O → Cc1ncccc1B(O)O\n",
      "   📈 Predicted: 67.07%\n",
      "   🧪 Ground truth: 71.98%\n",
      "   ❗ Error: -4.91%\n"
     ]
    },
    {
     "name": "stderr",
     "output_type": "stream",
     "text": [
      "[I 2025-08-25 01:54:45,170] Trial 76 finished with value: 77.95579528808594 and parameters: {'reactant': 'COc1cc(Cl)ccc1F', 'reagent': 'Fc1ccc(P(c2ccc(F)cc2)c2ccc(F)cc2)cc1.OB(O)B(O)O'}. Best is trial 76 with value: 77.95579528808594.\n",
      "[I 2025-08-25 01:54:45,260] Trial 77 finished with value: 64.61250305175781 and parameters: {'reactant': 'Cc1c(N)cccc1Cl', 'reagent': 'C[PH+](C)C.F[B-](F)(F)F.OB(O)B(O)O'}. Best is trial 76 with value: 77.95579528808594.\n",
      "[I 2025-08-25 01:54:45,354] Trial 78 finished with value: 72.84528350830078 and parameters: {'reactant': 'COc1cc(Cl)ccc1F', 'reagent': 'COc1cccc(OC)c1-c1ccccc1P(c1ccccc1)c1ccccc1.OB(O)B(O)O'}. Best is trial 76 with value: 77.95579528808594.\n"
     ]
    },
    {
     "name": "stdout",
     "output_type": "stream",
     "text": [
      "🔎 COc1cc(Cl)ccc1F + Fc1ccc(P(c2ccc(F)cc2)c2ccc(F)cc2)cc1.OB(O)B(O)O → COc1cc(B(O)O)ccc1F\n",
      "   📈 Predicted: 77.96%\n",
      "   🧪 Ground truth: 56.21%\n",
      "   ❗ Error: +21.75%\n",
      "❗ No ground truth for: Cc1c(N)cccc1Cl + C[PH+](C)C.F[B-](F)(F)F.OB(O)B(O)O → None\n",
      "🔎 Cc1c(N)cccc1Cl + C[PH+](C)C.F[B-](F)(F)F.OB(O)B(O)O → None\n",
      "   📈 Predicted: 64.61%\n",
      "   🧪 Ground truth: 0.00%\n",
      "   ❗ Error: +64.61%\n",
      "🔎 COc1cc(Cl)ccc1F + COc1cccc(OC)c1-c1ccccc1P(c1ccccc1)c1ccccc1.OB(O)B(O)O → COc1cc(B(O)O)ccc1F\n",
      "   📈 Predicted: 72.85%\n",
      "   🧪 Ground truth: 31.31%\n",
      "   ❗ Error: +41.54%\n"
     ]
    },
    {
     "name": "stderr",
     "output_type": "stream",
     "text": [
      "[I 2025-08-25 01:54:45,452] Trial 79 finished with value: 76.7313232421875 and parameters: {'reactant': 'CCOC(=O)c1cc(Br)cn1CC', 'reagent': 'c1ccc(-c2ccccc2P(C2CCCCC2)C2CCCCC2)cc1.OB(O)B(O)O'}. Best is trial 76 with value: 77.95579528808594.\n",
      "[I 2025-08-25 01:54:45,545] Trial 80 finished with value: 77.95579528808594 and parameters: {'reactant': 'COc1cc(Cl)ccc1F', 'reagent': 'Fc1ccc(P(c2ccc(F)cc2)c2ccc(F)cc2)cc1.OB(O)B(O)O'}. Best is trial 76 with value: 77.95579528808594.\n",
      "[I 2025-08-25 01:54:45,636] Trial 81 finished with value: 77.95579528808594 and parameters: {'reactant': 'COc1cc(Cl)ccc1F', 'reagent': 'Fc1ccc(P(c2ccc(F)cc2)c2ccc(F)cc2)cc1.OB(O)B(O)O'}. Best is trial 76 with value: 77.95579528808594.\n"
     ]
    },
    {
     "name": "stdout",
     "output_type": "stream",
     "text": [
      "🔎 CCOC(=O)c1cc(Br)cn1CC + c1ccc(-c2ccccc2P(C2CCCCC2)C2CCCCC2)cc1.OB(O)B(O)O → CCOC(=O)c1cc(B(O)O)cn1CC\n",
      "   📈 Predicted: 76.73%\n",
      "   🧪 Ground truth: 58.91%\n",
      "   ❗ Error: +17.82%\n",
      "🔎 COc1cc(Cl)ccc1F + Fc1ccc(P(c2ccc(F)cc2)c2ccc(F)cc2)cc1.OB(O)B(O)O → COc1cc(B(O)O)ccc1F\n",
      "   📈 Predicted: 77.96%\n",
      "   🧪 Ground truth: 56.21%\n",
      "   ❗ Error: +21.75%\n",
      "🔎 COc1cc(Cl)ccc1F + Fc1ccc(P(c2ccc(F)cc2)c2ccc(F)cc2)cc1.OB(O)B(O)O → COc1cc(B(O)O)ccc1F\n",
      "   📈 Predicted: 77.96%\n",
      "   🧪 Ground truth: 56.21%\n",
      "   ❗ Error: +21.75%\n"
     ]
    },
    {
     "name": "stderr",
     "output_type": "stream",
     "text": [
      "[I 2025-08-25 01:54:45,731] Trial 82 finished with value: 77.95579528808594 and parameters: {'reactant': 'COc1cc(Cl)ccc1F', 'reagent': 'Fc1ccc(P(c2ccc(F)cc2)c2ccc(F)cc2)cc1.OB(O)B(O)O'}. Best is trial 76 with value: 77.95579528808594.\n",
      "[I 2025-08-25 01:54:45,830] Trial 83 finished with value: 71.75689697265625 and parameters: {'reactant': 'COc1cc(Cl)ccc1F', 'reagent': 'CN(C)c1ccccc1-c1ccccc1P(c1ccccc1)c1ccccc1.OB(O)B(O)O'}. Best is trial 76 with value: 77.95579528808594.\n"
     ]
    },
    {
     "name": "stdout",
     "output_type": "stream",
     "text": [
      "🔎 COc1cc(Cl)ccc1F + Fc1ccc(P(c2ccc(F)cc2)c2ccc(F)cc2)cc1.OB(O)B(O)O → COc1cc(B(O)O)ccc1F\n",
      "   📈 Predicted: 77.96%\n",
      "   🧪 Ground truth: 56.21%\n",
      "   ❗ Error: +21.75%\n",
      "🔎 COc1cc(Cl)ccc1F + CN(C)c1ccccc1-c1ccccc1P(c1ccccc1)c1ccccc1.OB(O)B(O)O → COc1cc(B(O)O)ccc1F\n",
      "   📈 Predicted: 71.76%\n",
      "   🧪 Ground truth: 30.78%\n",
      "   ❗ Error: +40.98%\n"
     ]
    },
    {
     "name": "stderr",
     "output_type": "stream",
     "text": [
      "[I 2025-08-25 01:54:45,934] Trial 84 finished with value: 71.17869567871094 and parameters: {'reactant': 'COc1cc(Cl)ccc1F', 'reagent': 'COc1cc(C(C)(C)C)cc(C(C)(C)C)c1-c1ccccc1P(C1CCCCC1)C1CCCCC1.OB(O)B(O)O'}. Best is trial 76 with value: 77.95579528808594.\n",
      "[I 2025-08-25 01:54:46,029] Trial 85 finished with value: 77.95579528808594 and parameters: {'reactant': 'COc1cc(Cl)ccc1F', 'reagent': 'Fc1ccc(P(c2ccc(F)cc2)c2ccc(F)cc2)cc1.OB(O)B(O)O'}. Best is trial 76 with value: 77.95579528808594.\n",
      "[I 2025-08-25 01:54:46,116] Trial 86 finished with value: 63.46672058105469 and parameters: {'reactant': 'COc1cc(Cl)ccc1F', 'reagent': 'Cc1ccccc1-c1ccccc1P(C1CCCCC1)C1CCCCC1.OB(O)B(O)O'}. Best is trial 76 with value: 77.95579528808594.\n"
     ]
    },
    {
     "name": "stdout",
     "output_type": "stream",
     "text": [
      "🔎 COc1cc(Cl)ccc1F + COc1cc(C(C)(C)C)cc(C(C)(C)C)c1-c1ccccc1P(C1CCCCC1)C1CCCCC1.OB(O)B(O)O → COc1cc(B(O)O)ccc1F\n",
      "   📈 Predicted: 71.18%\n",
      "   🧪 Ground truth: 64.97%\n",
      "   ❗ Error: +6.21%\n",
      "🔎 COc1cc(Cl)ccc1F + Fc1ccc(P(c2ccc(F)cc2)c2ccc(F)cc2)cc1.OB(O)B(O)O → COc1cc(B(O)O)ccc1F\n",
      "   📈 Predicted: 77.96%\n",
      "   🧪 Ground truth: 56.21%\n",
      "   ❗ Error: +21.75%\n",
      "🔎 COc1cc(Cl)ccc1F + Cc1ccccc1-c1ccccc1P(C1CCCCC1)C1CCCCC1.OB(O)B(O)O → COc1cc(B(O)O)ccc1F\n",
      "   📈 Predicted: 63.47%\n",
      "   🧪 Ground truth: 62.87%\n",
      "   ❗ Error: +0.60%\n"
     ]
    },
    {
     "name": "stderr",
     "output_type": "stream",
     "text": [
      "[I 2025-08-25 01:54:46,212] Trial 87 finished with value: 64.6070785522461 and parameters: {'reactant': 'Brc1ccc2occc2c1', 'reagent': 'Fc1ccc(P(c2ccc(F)cc2)c2ccc(F)cc2)cc1.OB(O)B(O)O'}. Best is trial 76 with value: 77.95579528808594.\n",
      "[I 2025-08-25 01:54:46,315] Trial 88 finished with value: 74.96503448486328 and parameters: {'reactant': 'COc1cc(Cl)ccc1F', 'reagent': 'COc1ccc(P(c2ccc(OC)cc2)c2ccc(OC)cc2)cc1.OB(O)B(O)O'}. Best is trial 76 with value: 77.95579528808594.\n",
      "[I 2025-08-25 01:54:46,403] Trial 89 finished with value: 77.95579528808594 and parameters: {'reactant': 'COc1cc(Cl)ccc1F', 'reagent': 'Fc1ccc(P(c2ccc(F)cc2)c2ccc(F)cc2)cc1.OB(O)B(O)O'}. Best is trial 76 with value: 77.95579528808594.\n"
     ]
    },
    {
     "name": "stdout",
     "output_type": "stream",
     "text": [
      "🔎 Brc1ccc2occc2c1 + Fc1ccc(P(c2ccc(F)cc2)c2ccc(F)cc2)cc1.OB(O)B(O)O → OB(O)c1ccc2occc2c1\n",
      "   📈 Predicted: 64.61%\n",
      "   🧪 Ground truth: 44.77%\n",
      "   ❗ Error: +19.84%\n",
      "🔎 COc1cc(Cl)ccc1F + COc1ccc(P(c2ccc(OC)cc2)c2ccc(OC)cc2)cc1.OB(O)B(O)O → COc1cc(B(O)O)ccc1F\n",
      "   📈 Predicted: 74.97%\n",
      "   🧪 Ground truth: 55.52%\n",
      "   ❗ Error: +19.45%\n",
      "🔎 COc1cc(Cl)ccc1F + Fc1ccc(P(c2ccc(F)cc2)c2ccc(F)cc2)cc1.OB(O)B(O)O → COc1cc(B(O)O)ccc1F\n",
      "   📈 Predicted: 77.96%\n",
      "   🧪 Ground truth: 56.21%\n",
      "   ❗ Error: +21.75%\n"
     ]
    },
    {
     "name": "stderr",
     "output_type": "stream",
     "text": [
      "[I 2025-08-25 01:54:46,498] Trial 90 finished with value: 75.7843246459961 and parameters: {'reactant': 'COc1cc(Cl)ccc1F', 'reagent': 'c1ccc(-n2cccc2P(C2CCCCC2)C2CCCCC2)cc1.OB(O)B(O)O'}. Best is trial 76 with value: 77.95579528808594.\n",
      "[I 2025-08-25 01:54:46,590] Trial 91 finished with value: 77.95579528808594 and parameters: {'reactant': 'COc1cc(Cl)ccc1F', 'reagent': 'Fc1ccc(P(c2ccc(F)cc2)c2ccc(F)cc2)cc1.OB(O)B(O)O'}. Best is trial 76 with value: 77.95579528808594.\n",
      "[I 2025-08-25 01:54:46,676] Trial 92 finished with value: 77.95579528808594 and parameters: {'reactant': 'COc1cc(Cl)ccc1F', 'reagent': 'Fc1ccc(P(c2ccc(F)cc2)c2ccc(F)cc2)cc1.OB(O)B(O)O'}. Best is trial 76 with value: 77.95579528808594.\n"
     ]
    },
    {
     "name": "stdout",
     "output_type": "stream",
     "text": [
      "🔎 COc1cc(Cl)ccc1F + c1ccc(-n2cccc2P(C2CCCCC2)C2CCCCC2)cc1.OB(O)B(O)O → COc1cc(B(O)O)ccc1F\n",
      "   📈 Predicted: 75.78%\n",
      "   🧪 Ground truth: 52.53%\n",
      "   ❗ Error: +23.25%\n",
      "🔎 COc1cc(Cl)ccc1F + Fc1ccc(P(c2ccc(F)cc2)c2ccc(F)cc2)cc1.OB(O)B(O)O → COc1cc(B(O)O)ccc1F\n",
      "   📈 Predicted: 77.96%\n",
      "   🧪 Ground truth: 56.21%\n",
      "   ❗ Error: +21.75%\n",
      "🔎 COc1cc(Cl)ccc1F + Fc1ccc(P(c2ccc(F)cc2)c2ccc(F)cc2)cc1.OB(O)B(O)O → COc1cc(B(O)O)ccc1F\n",
      "   📈 Predicted: 77.96%\n",
      "   🧪 Ground truth: 56.21%\n",
      "   ❗ Error: +21.75%\n"
     ]
    },
    {
     "name": "stderr",
     "output_type": "stream",
     "text": [
      "[I 2025-08-25 01:54:46,772] Trial 93 finished with value: 77.95579528808594 and parameters: {'reactant': 'COc1cc(Cl)ccc1F', 'reagent': 'Fc1ccc(P(c2ccc(F)cc2)c2ccc(F)cc2)cc1.OB(O)B(O)O'}. Best is trial 76 with value: 77.95579528808594.\n",
      "[I 2025-08-25 01:54:46,863] Trial 94 finished with value: 77.95579528808594 and parameters: {'reactant': 'COc1cc(Cl)ccc1F', 'reagent': 'Fc1ccc(P(c2ccc(F)cc2)c2ccc(F)cc2)cc1.OB(O)B(O)O'}. Best is trial 76 with value: 77.95579528808594.\n",
      "[I 2025-08-25 01:54:46,959] Trial 95 finished with value: 77.95579528808594 and parameters: {'reactant': 'COc1cc(Cl)ccc1F', 'reagent': 'Fc1ccc(P(c2ccc(F)cc2)c2ccc(F)cc2)cc1.OB(O)B(O)O'}. Best is trial 76 with value: 77.95579528808594.\n"
     ]
    },
    {
     "name": "stdout",
     "output_type": "stream",
     "text": [
      "🔎 COc1cc(Cl)ccc1F + Fc1ccc(P(c2ccc(F)cc2)c2ccc(F)cc2)cc1.OB(O)B(O)O → COc1cc(B(O)O)ccc1F\n",
      "   📈 Predicted: 77.96%\n",
      "   🧪 Ground truth: 56.21%\n",
      "   ❗ Error: +21.75%\n",
      "🔎 COc1cc(Cl)ccc1F + Fc1ccc(P(c2ccc(F)cc2)c2ccc(F)cc2)cc1.OB(O)B(O)O → COc1cc(B(O)O)ccc1F\n",
      "   📈 Predicted: 77.96%\n",
      "   🧪 Ground truth: 56.21%\n",
      "   ❗ Error: +21.75%\n",
      "🔎 COc1cc(Cl)ccc1F + Fc1ccc(P(c2ccc(F)cc2)c2ccc(F)cc2)cc1.OB(O)B(O)O → COc1cc(B(O)O)ccc1F\n",
      "   📈 Predicted: 77.96%\n",
      "   🧪 Ground truth: 56.21%\n",
      "   ❗ Error: +21.75%\n"
     ]
    },
    {
     "name": "stderr",
     "output_type": "stream",
     "text": [
      "[I 2025-08-25 01:54:47,055] Trial 96 finished with value: 77.95579528808594 and parameters: {'reactant': 'COc1cc(Cl)ccc1F', 'reagent': 'Fc1ccc(P(c2ccc(F)cc2)c2ccc(F)cc2)cc1.OB(O)B(O)O'}. Best is trial 76 with value: 77.95579528808594.\n",
      "[I 2025-08-25 01:54:47,150] Trial 97 finished with value: 66.0856704711914 and parameters: {'reactant': 'COc1cc(Cl)ccc1F', 'reagent': 'C1CCC([PH+](C2CCCCC2)C2CCCCC2)CC1.F[B-](F)(F)F.OB(O)B(O)O'}. Best is trial 76 with value: 77.95579528808594.\n",
      "[I 2025-08-25 01:54:47,239] Trial 98 finished with value: 77.95579528808594 and parameters: {'reactant': 'COc1cc(Cl)ccc1F', 'reagent': 'Fc1ccc(P(c2ccc(F)cc2)c2ccc(F)cc2)cc1.OB(O)B(O)O'}. Best is trial 76 with value: 77.95579528808594.\n"
     ]
    },
    {
     "name": "stdout",
     "output_type": "stream",
     "text": [
      "🔎 COc1cc(Cl)ccc1F + Fc1ccc(P(c2ccc(F)cc2)c2ccc(F)cc2)cc1.OB(O)B(O)O → COc1cc(B(O)O)ccc1F\n",
      "   📈 Predicted: 77.96%\n",
      "   🧪 Ground truth: 56.21%\n",
      "   ❗ Error: +21.75%\n",
      "🔎 COc1cc(Cl)ccc1F + C1CCC([PH+](C2CCCCC2)C2CCCCC2)CC1.F[B-](F)(F)F.OB(O)B(O)O → COc1cc(B(O)O)ccc1F\n",
      "   📈 Predicted: 66.09%\n",
      "   🧪 Ground truth: 6.55%\n",
      "   ❗ Error: +59.54%\n",
      "🔎 COc1cc(Cl)ccc1F + Fc1ccc(P(c2ccc(F)cc2)c2ccc(F)cc2)cc1.OB(O)B(O)O → COc1cc(B(O)O)ccc1F\n",
      "   📈 Predicted: 77.96%\n",
      "   🧪 Ground truth: 56.21%\n",
      "   ❗ Error: +21.75%\n"
     ]
    },
    {
     "name": "stderr",
     "output_type": "stream",
     "text": [
      "[I 2025-08-25 01:54:47,336] Trial 99 finished with value: 74.65818786621094 and parameters: {'reactant': 'COc1cc(Cl)ccc1F', 'reagent': 'c1ccc(-c2cc3ccccc3n2P(C2CCCCC2)C2CCCCC2)cc1.OB(O)B(O)O'}. Best is trial 76 with value: 77.95579528808594.\n"
     ]
    },
    {
     "name": "stdout",
     "output_type": "stream",
     "text": [
      "🔎 COc1cc(Cl)ccc1F + c1ccc(-c2cc3ccccc3n2P(C2CCCCC2)C2CCCCC2)cc1.OB(O)B(O)O → COc1cc(B(O)O)ccc1F\n",
      "   📈 Predicted: 74.66%\n",
      "   🧪 Ground truth: 35.26%\n",
      "   ❗ Error: +39.40%\n"
     ]
    }
   ],
   "source": [
    "study = optuna.create_study(direction=\"maximize\")\n",
    "study.optimize(objective, n_trials=100)"
   ]
  },
  {
   "cell_type": "markdown",
   "id": "81945985",
   "metadata": {},
   "source": [
    "## Optunaによる探索・ファインチューニングのループ"
   ]
  },
  {
   "cell_type": "code",
   "execution_count": 19,
   "id": "491d5cc6",
   "metadata": {},
   "outputs": [],
   "source": [
    "import os\n",
    "import csv\n",
    "import math\n",
    "import time\n",
    "import random\n",
    "from dataclasses import dataclass\n",
    "\n",
    "import torch.nn.functional as F\n",
    "from transformers import Trainer,TrainingArguments,DataCollatorWithPadding\n",
    "from optuna.samplers import TPESampler"
   ]
  },
  {
   "cell_type": "code",
   "execution_count": 20,
   "id": "6361cf44",
   "metadata": {},
   "outputs": [],
   "source": [
    "class CollatorForYield:\n",
    "    def __init__(self, tokenizer):\n",
    "        self.pad = DataCollatorWithPadding(tokenizer)\n",
    "    def __call__(self, features):\n",
    "        has_labels = \"labels\" in features[0]\n",
    "        if has_labels:\n",
    "            labels = torch.tensor([float(f[\"labels\"]) for f in features], dtype=torch.float)\n",
    "        token_feats = [{k: v for k, v in f.items() if k in (\"input_ids\", \"attention_mask\")} for f in features]\n",
    "        batch = self.pad(token_feats)\n",
    "        if has_labels:\n",
    "            batch[\"labels\"] = labels\n",
    "        return batch"
   ]
  },
  {
   "cell_type": "code",
   "execution_count": 21,
   "id": "c6d58894",
   "metadata": {},
   "outputs": [],
   "source": [
    "class YieldTrainer(Trainer):\n",
    "    def compute_loss(self, model, inputs, return_outputs=False, **kwargs):\n",
    "        labels = inputs.pop(\"labels\", None)\n",
    "        preds = model(inputs).squeeze(-1)\n",
    "        if labels is None:\n",
    "            loss = preds.new_zeros(())\n",
    "        else:\n",
    "            loss = F.mse_loss(preds, labels)\n",
    "        return (loss, preds) if return_outputs else loss"
   ]
  },
  {
   "cell_type": "code",
   "execution_count": 22,
   "id": "660c107b",
   "metadata": {},
   "outputs": [],
   "source": [
    "class YieldDataset(torch.utils.data.Dataset):\n",
    "    def __init__(self, texts, y, tokenizer, max_length=512):\n",
    "        self.enc = tokenizer(texts, truncation=True, padding=False, max_length=max_length)\n",
    "        self.y = y\n",
    "    def __len__(self): return len(self.y)\n",
    "    def __getitem__(self, i):\n",
    "        return {\n",
    "            \"input_ids\": torch.tensor(self.enc[\"input_ids\"][i], dtype=torch.long),\n",
    "            \"attention_mask\": torch.tensor(self.enc[\"attention_mask\"][i], dtype=torch.long),\n",
    "            \"labels\": torch.tensor(self.y[i], dtype=torch.float),  # [%]\n",
    "        }\n"
   ]
  },
  {
   "cell_type": "code",
   "execution_count": 23,
   "id": "08817036",
   "metadata": {},
   "outputs": [],
   "source": [
    "@dataclass\n",
    "class LoopConfig:\n",
    "    n_rounds: int = 5\n",
    "    trials_per_round: int = 100\n",
    "    study_seed: int = 42\n",
    "    learning_rate: float = 5e-4\n",
    "    epochs_per_round: int = 5\n",
    "    weight_decay: float = 0.01\n",
    "    max_length: int = 512\n",
    "    batch_size_train: int = 16\n",
    "    batch_size_eval: int = 32\n",
    "    val_ratio: float = 0.2\n",
    "    output_dir: str = \"runs/iter_yield\"\n",
    "    log_csv_name: str = \"log.csv\""
   ]
  },
  {
   "cell_type": "code",
   "execution_count": 24,
   "id": "1531491a",
   "metadata": {},
   "outputs": [],
   "source": [
    "def iterative_optuna_finetune(\n",
    "    *,\n",
    "    predict_yield_fn,\n",
    "    true_yield_dict,\n",
    "    tokenizer,\n",
    "    model,\n",
    "    cfg: LoopConfig = LoopConfig(),\n",
    "):\n",
    "    os.makedirs(cfg.output_dir, exist_ok=True)\n",
    "    log_csv_path = os.path.join(cfg.output_dir, cfg.log_csv_name)\n",
    "\n",
    "    # CSVヘッダ（存在しなければ作成）\n",
    "    if not os.path.exists(log_csv_path):\n",
    "        with open(log_csv_path, \"w\", newline=\"\", encoding=\"utf-8\") as f:\n",
    "            writer = csv.writer(f)\n",
    "            writer.writerow([\n",
    "                \"ts\", \"round\", \"trial_index\", \"reactant\", \"reagent\", \"product\",\n",
    "                \"pred_yield_pct\", \"true_yield_pct\", \"error_pct\",\n",
    "                \"was_used_for_ft\", \"study_best_pred\", \"study_best_true\"\n",
    "            ])\n",
    "\n",
    "    # 進捗\n",
    "    cumulative_true_texts = []\n",
    "    cumulative_true_labels = []\n",
    "\n",
    "    train_device = torch.device(\"cuda\" if torch.cuda.is_available() else \"cpu\")\n",
    "\n",
    "    for r in range(1, cfg.n_rounds + 1):\n",
    "        print(f\"\\n==== Round {r}/{cfg.n_rounds} ====\")\n",
    "\n",
    "        model.to(\"cpu\")\n",
    "        try:\n",
    "            torch.cuda.empty_cache()\n",
    "        except Exception:\n",
    "            pass\n",
    "\n",
    "        round_records = []\n",
    "\n",
    "        # ---- Optuna Study ----\n",
    "        storage_path = os.path.join(cfg.output_dir, f\"round_{r}.db\")\n",
    "        study = optuna.create_study(\n",
    "            direction=\"maximize\",\n",
    "            sampler=TPESampler(seed=cfg.study_seed + r),\n",
    "            storage=f\"sqlite:///{storage_path}\",\n",
    "            study_name=f\"yield_round_{r}\",\n",
    "            load_if_exists=True,\n",
    "        )\n",
    "\n",
    "        def objective(trial: optuna.Trial) -> float:\n",
    "            # カテゴリ探索\n",
    "            reactant = trial.suggest_categorical(\"reactant\", reactant_list)\n",
    "            reagent = trial.suggest_categorical(\"reagent\", reagent_list)\n",
    "            product = product_dict.get((reactant, reagent))\n",
    "\n",
    "            input_str = f\"REACTANT:{reactant}REAGENT:{reagent}PRODUCT:{product}\"\n",
    "\n",
    "            # 予測\n",
    "            try:\n",
    "                pred_y = float(predict_yield_fn(input_str))  # [%]\n",
    "            except Exception as e:\n",
    "                print(f\"❌ prediction error: {e}\")\n",
    "                pred_y = 0.0\n",
    "\n",
    "            # クリッピング（安全策）\n",
    "            if not math.isfinite(pred_y):\n",
    "                pred_y = 0.0\n",
    "            pred_y = max(0.0, min(100.0, pred_y))\n",
    "\n",
    "            # 真値の取得\n",
    "            key = (reactant, reagent, product)\n",
    "            if key not in true_yield_dict:\n",
    "                true = 0.0\n",
    "            else:\n",
    "                true = true_yield_dict.get(key)\n",
    "            \n",
    "            if true is None:\n",
    "                true_pct = 0.0\n",
    "                error_pct = pred_y - true_pct\n",
    "                trial.set_user_attr(\"imputed_true_zero\", True)\n",
    "            else:\n",
    "                true_pct = float(true) * 100.0\n",
    "                error_pct = pred_y - true_pct\n",
    "                trial.set_user_attr(\"imputed_true_zero\", False)\n",
    "\n",
    "            # エラー\n",
    "            error_pct = None if true_pct is None else (pred_y - true_pct)\n",
    "\n",
    "            # Optuna user attrs にも残す\n",
    "            trial.set_user_attr(\"reactant\", reactant)\n",
    "            trial.set_user_attr(\"reagent\", reagent)\n",
    "            trial.set_user_attr(\"product\", product)\n",
    "            trial.set_user_attr(\"pred_yield_pct\", pred_y)\n",
    "            trial.set_user_attr(\"true_yield_pct\", true_pct)\n",
    "            trial.set_user_attr(\"error_pct\", error_pct)\n",
    "\n",
    "            # 一旦メモリにも保存（後でCSV出力）\n",
    "            round_records.append({\n",
    "                \"reactant\": reactant,\n",
    "                \"reagent\": reagent,\n",
    "                \"product\": product,\n",
    "                \"pred_yield_pct\": pred_y,\n",
    "                \"true_yield_pct\": true_pct,\n",
    "                \"error_pct\": error_pct,\n",
    "            })\n",
    "\n",
    "            # 目的関数は「予測収率の最大化」\n",
    "            return pred_y\n",
    "\n",
    "        study.optimize(objective, n_trials=cfg.trials_per_round, n_jobs=1)\n",
    "\n",
    "        model.to(train_device)\n",
    "        \n",
    "        # ---- ラウンドの結果をCSVへ出力 ----\n",
    "        best_pred = float(study.best_value) if study.best_value is not None else None\n",
    "        # best の真値\n",
    "        best_trial = study.best_trial if study.best_trial else None\n",
    "        best_true = None\n",
    "        if best_trial:\n",
    "            bt_true = best_trial.user_attrs.get(\"true_yield_pct\", None)\n",
    "            best_true = None if bt_true is None else float(bt_true)\n",
    "\n",
    "        with open(log_csv_path, \"a\", newline=\"\", encoding=\"utf-8\") as f:\n",
    "            writer = csv.writer(f)\n",
    "            for idx, rec in enumerate(round_records, start=1):\n",
    "                writer.writerow([\n",
    "                    int(time.time()),\n",
    "                    r,\n",
    "                    idx,\n",
    "                    rec[\"reactant\"],\n",
    "                    rec[\"reagent\"],\n",
    "                    rec[\"product\"],\n",
    "                    f'{rec[\"pred_yield_pct\"]:.6f}',\n",
    "                    \"\" if rec[\"true_yield_pct\"] is None else f'{rec[\"true_yield_pct\"]:.6f}',\n",
    "                    \"\" if rec[\"error_pct\"] is None else f'{rec[\"error_pct\"]:+.6f}',\n",
    "                    \"\",  # was_used_for_ft はFT後に上書き\n",
    "                    \"\" if best_pred is None else f\"{best_pred:.6f}\",\n",
    "                    \"\" if best_true is None else f\"{best_true:.6f}\",\n",
    "                ])\n",
    "\n",
    "        # ---- ラウンドの真値付きデータで FT 用データセット作成 ----\n",
    "        texts_round = []\n",
    "        labels_round = []  # [%]\n",
    "        for rec in round_records:\n",
    "            if rec[\"true_yield_pct\"] is not None:\n",
    "                inp = f\"REACTANT:{rec['reactant']}REAGENT:{rec['reagent']}PRODUCT:{rec['product']}\"\n",
    "                texts_round.append(inp)\n",
    "                labels_round.append(float(rec[\"true_yield_pct\"]))\n",
    "\n",
    "        if len(texts_round) == 0:\n",
    "            print(f\"[Round {r}] 真値付きデータが0件のため、微調整はスキップします。\")\n",
    "            continue\n",
    "\n",
    "        # 累積データに追加\n",
    "        cumulative_true_texts.extend(texts_round)\n",
    "        cumulative_true_labels.extend(labels_round)\n",
    "\n",
    "        # ---- 学習/評価分割（十分な件数のときのみ評価）----\n",
    "        idxs = list(range(len(cumulative_true_texts)))\n",
    "        random.Random(cfg.study_seed + r).shuffle(idxs)\n",
    "\n",
    "        n_total = len(idxs)\n",
    "        n_val = int(n_total * cfg.val_ratio)\n",
    "        if n_val >= 5:  # 最低5件確保できたときだけ eval\n",
    "            val_idx = idxs[:n_val]\n",
    "            train_idx = idxs[n_val:]\n",
    "        else:\n",
    "            val_idx = []\n",
    "            train_idx = idxs\n",
    "\n",
    "        def subset(lst, sel): return [lst[i] for i in sel]\n",
    "\n",
    "        train_ds = YieldDataset(\n",
    "            subset(cumulative_true_texts, train_idx),\n",
    "            subset(cumulative_true_labels, train_idx),\n",
    "            tokenizer,\n",
    "            max_length=cfg.max_length,\n",
    "        )\n",
    "        eval_ds = None\n",
    "        if len(val_idx) > 0:\n",
    "            eval_ds = YieldDataset(\n",
    "                subset(cumulative_true_texts, val_idx),\n",
    "                subset(cumulative_true_labels, val_idx),\n",
    "                tokenizer,\n",
    "                max_length=cfg.max_length,\n",
    "            )\n",
    "\n",
    "        # ---- Trainer 準備・学習 ----\n",
    "        out_dir_round = os.path.join(cfg.output_dir, f\"round_{r}\")\n",
    "        args = TrainingArguments(\n",
    "            output_dir=out_dir_round,\n",
    "            learning_rate=cfg.learning_rate,\n",
    "            num_train_epochs=cfg.epochs_per_round,\n",
    "            per_device_train_batch_size=min(cfg.batch_size_train, max(1, len(train_ds))),\n",
    "            per_device_eval_batch_size=cfg.batch_size_eval,\n",
    "            weight_decay=cfg.weight_decay,\n",
    "            logging_steps=50,\n",
    "            save_strategy=\"no\",\n",
    "            report_to=\"none\",\n",
    "            fp16=torch.cuda.is_available(),\n",
    "            remove_unused_columns=False\n",
    "        )\n",
    "\n",
    "        def compute_metrics(eval_pred):\n",
    "            import numpy as np\n",
    "            preds = np.array(eval_pred.predictions).reshape(-1)\n",
    "            labels = np.array(eval_pred.label_ids).reshape(-1)\n",
    "            mae = float(np.mean(np.abs(preds - labels)))\n",
    "            rmse = float(np.sqrt(np.mean((preds - labels) ** 2)))\n",
    "            return {\"mae_pct\": mae, \"rmse_pct\": rmse}\n",
    "\n",
    "        trainer = YieldTrainer(\n",
    "            model=model,\n",
    "            args=args,\n",
    "            train_dataset=train_ds,\n",
    "            eval_dataset=eval_ds,\n",
    "            data_collator=CollatorForYield(tokenizer),\n",
    "            compute_metrics=compute_metrics if eval_ds else None,\n",
    "        )\n",
    "\n",
    "        print(f\"[Round {r}] Fine-tuning on {len(train_ds)} samples\"\n",
    "              + (f\", eval {len(eval_ds)} samples\" if eval_ds else \"\"))\n",
    "\n",
    "        trainer.train()\n",
    "        trainer.save_model(out_dir_round)  # fc層を含む全体を保存\n",
    "\n",
    "        # ---- このラウンドで FT に使った試行を CSV にマーク ----\n",
    "        # （簡易的に：直近ラウンドの真値付き行の was_used_for_ft を 1 に上書き）\n",
    "        # 既存CSVを読み書きする\n",
    "        with open(log_csv_path, \"r\", encoding=\"utf-8\") as f:\n",
    "            rows = list(csv.reader(f))\n",
    "        header = rows[0]\n",
    "        # カラム位置\n",
    "        was_used_idx = header.index(\"was_used_for_ft\")\n",
    "        round_idx = header.index(\"round\")\n",
    "        trial_idx = header.index(\"trial_index\")\n",
    "        react_idx = header.index(\"reactant\")\n",
    "        reag_idx = header.index(\"reagent\")\n",
    "        prod_idx = header.index(\"product\")\n",
    "\n",
    "        ft_pairs = {(rec[\"reactant\"], rec[\"reagent\"], rec[\"product\"]) for rec in round_records if rec[\"true_yield_pct\"] is not None}\n",
    "        for i in range(1, len(rows)):\n",
    "            row = rows[i]\n",
    "            if int(row[round_idx]) == r and (row[react_idx], row[reag_idx], row[prod_idx]) in ft_pairs:\n",
    "                row[was_used_idx] = \"1\"\n",
    "        with open(log_csv_path, \"w\", newline=\"\", encoding=\"utf-8\") as f:\n",
    "            csv.writer(f).writerows(rows)\n",
    "\n",
    "    print(\"\\nDone. Logs:\")\n",
    "    print(f\"- Trials CSV: {log_csv_path}\")\n",
    "    print(f\"- Optuna DBs: {cfg.output_dir}/round_*.db\")\n",
    "    print(f\"- Checkpoints per round: {cfg.output_dir}/round_*/\")"
   ]
  },
  {
   "cell_type": "code",
   "execution_count": 25,
   "id": "f20480bb",
   "metadata": {},
   "outputs": [],
   "source": [
    "cfg = LoopConfig(\n",
    "    n_rounds=5,\n",
    "    trials_per_round=100,\n",
    "    study_seed=42,\n",
    "    learning_rate=5e-4,\n",
    "    epochs_per_round=5,\n",
    "    weight_decay=0.01,\n",
    "    max_length=512,\n",
    "    batch_size_train=16,\n",
    "    batch_size_eval=32,\n",
    "    val_ratio=0.2,\n",
    "    output_dir=\"runs/5rounds_100_trials_yield\",\n",
    ")"
   ]
  },
  {
   "cell_type": "code",
   "execution_count": 26,
   "id": "eaebe031",
   "metadata": {},
   "outputs": [
    {
     "name": "stdout",
     "output_type": "stream",
     "text": [
      "\n",
      "==== Round 1/5 ====\n"
     ]
    },
    {
     "name": "stderr",
     "output_type": "stream",
     "text": [
      "[I 2025-08-25 01:54:47,905] A new study created in RDB with name: yield_round_1\n",
      "[I 2025-08-25 01:54:48,107] Trial 0 finished with value: 72.8799819946289 and parameters: {'reactant': 'Cc1cc(F)ccc1Cl', 'reagent': 'c1ccc(-c2cc3ccccc3n2P(C2CCCCC2)C2CCCCC2)cc1.OB(O)B(O)O'}. Best is trial 0 with value: 72.8799819946289.\n",
      "[I 2025-08-25 01:54:48,301] Trial 1 finished with value: 71.34895324707031 and parameters: {'reactant': 'Clc1ccc2[nH]ccc2c1', 'reagent': 'CC(C)c1cc(C(C)C)c(-c2ccccc2P(c2ccccc2)c2ccccc2)c(C(C)C)c1.OB(O)B(O)O'}. Best is trial 0 with value: 72.8799819946289.\n",
      "[I 2025-08-25 01:54:48,499] Trial 2 finished with value: 62.964420318603516 and parameters: {'reactant': 'COC(=O)c1ccc(Cl)cc1', 'reagent': 'C[PH+](C)C.F[B-](F)(F)F.OB(O)B(O)O'}. Best is trial 0 with value: 72.8799819946289.\n",
      "[I 2025-08-25 01:54:48,675] Trial 3 finished with value: 73.43018341064453 and parameters: {'reactant': 'Brc1cnc2ccccc2c1', 'reagent': 'COc1ccc(P(c2ccc(OC)cc2)c2ccc(OC)cc2)cc1.OB(O)B(O)O'}. Best is trial 3 with value: 73.43018341064453.\n",
      "[I 2025-08-25 01:54:48,845] Trial 4 finished with value: 71.74547576904297 and parameters: {'reactant': 'N#Cc1ccc(Br)cc1F', 'reagent': 'C1CCC([PH+](C2CCCCC2)C2CCCCC2)CC1.F[B-](F)(F)F.OB(O)B(O)O'}. Best is trial 3 with value: 73.43018341064453.\n",
      "[I 2025-08-25 01:54:49,024] Trial 5 finished with value: 66.78572082519531 and parameters: {'reactant': 'Clc1ccc2[nH]ccc2c1', 'reagent': 'CC(=C(c1ccccc1)c1ccccc1)P(C1CCCCC1)C1CCCCC1.OB(O)B(O)O'}. Best is trial 3 with value: 73.43018341064453.\n",
      "[I 2025-08-25 01:54:49,198] Trial 6 finished with value: 54.70193099975586 and parameters: {'reactant': 'Cc1ncccc1Br', 'reagent': 'CN(C)c1ccccc1-c1ccccc1P(c1ccccc1)c1ccccc1.OB(O)B(O)O'}. Best is trial 3 with value: 73.43018341064453.\n",
      "[I 2025-08-25 01:54:49,391] Trial 7 finished with value: 72.12860870361328 and parameters: {'reactant': 'CCOC(=O)c1cc(Br)cn1CC', 'reagent': 'CCCCC1([PH+](C2CCCCC2)C2CCCCC2)c2ccccc2-c2ccccc21.F[B-](F)(F)F.OB(O)B(O)O'}. Best is trial 3 with value: 73.43018341064453.\n",
      "[I 2025-08-25 01:54:49,564] Trial 8 finished with value: 74.4524154663086 and parameters: {'reactant': 'CCOC(=O)c1cc(Br)cn1CC', 'reagent': 'CN(C)c1ccc(P(c2ccccc2)c2ccccc2)cc1.OB(O)B(O)O'}. Best is trial 8 with value: 74.4524154663086.\n",
      "[I 2025-08-25 01:54:49,766] Trial 9 finished with value: 60.86589813232422 and parameters: {'reactant': 'CCOC(=O)C(C)(C)Oc1ccc(Cl)cc1', 'reagent': 'Cc1cc(C)cc(P(c2cc(C)cc(C)c2)c2cc(C)cc(C)c2)c1.OB(O)B(O)O'}. Best is trial 8 with value: 74.4524154663086.\n",
      "[I 2025-08-25 01:54:49,949] Trial 10 finished with value: 71.738525390625 and parameters: {'reactant': 'COC(=O)c1ccc(Br)cc1', 'reagent': 'CN(C)c1ccc(P(c2ccccc2)c2ccccc2)cc1.OB(O)B(O)O'}. Best is trial 8 with value: 74.4524154663086.\n",
      "[I 2025-08-25 01:54:50,193] Trial 11 finished with value: 73.43018341064453 and parameters: {'reactant': 'Brc1cnc2ccccc2c1', 'reagent': 'COc1ccc(P(c2ccc(OC)cc2)c2ccc(OC)cc2)cc1.OB(O)B(O)O'}. Best is trial 8 with value: 74.4524154663086.\n",
      "[I 2025-08-25 01:54:50,372] Trial 12 finished with value: 75.18820190429688 and parameters: {'reactant': 'COc1cc(Cl)ccc1F', 'reagent': 'COc1ccccc1P(c1ccccc1OC)c1ccccc1OC.OB(O)B(O)O'}. Best is trial 12 with value: 75.18820190429688.\n",
      "[I 2025-08-25 01:54:50,574] Trial 13 finished with value: 72.57857513427734 and parameters: {'reactant': 'CN(C)S(=O)(=O)Oc1ccc2[nH]ccc2c1', 'reagent': 'COc1ccccc1P(c1ccccc1OC)c1ccccc1OC.OB(O)B(O)O'}. Best is trial 12 with value: 75.18820190429688.\n",
      "[I 2025-08-25 01:54:50,761] Trial 14 finished with value: 75.5686264038086 and parameters: {'reactant': 'COc1cc(Cl)ccc1F', 'reagent': 'CN(C)c1ccc(P(c2ccccc2)c2ccccc2)cc1.OB(O)B(O)O'}. Best is trial 14 with value: 75.5686264038086.\n",
      "[I 2025-08-25 01:54:50,960] Trial 15 finished with value: 78.02354431152344 and parameters: {'reactant': 'COc1cc(Cl)ccc1F', 'reagent': 'c1ccc(P(c2ccccc2)c2ccccc2)cc1.OB(O)B(O)O'}. Best is trial 15 with value: 78.02354431152344.\n",
      "[I 2025-08-25 01:54:51,132] Trial 16 finished with value: 78.02354431152344 and parameters: {'reactant': 'COc1cc(Cl)ccc1F', 'reagent': 'c1ccc(P(c2ccccc2)c2ccccc2)cc1.OB(O)B(O)O'}. Best is trial 15 with value: 78.02354431152344.\n",
      "[I 2025-08-25 01:54:51,314] Trial 17 finished with value: 72.10460662841797 and parameters: {'reactant': 'COc1ncc(Br)c(OC)n1', 'reagent': 'c1ccc(P(c2ccccc2)c2ccccc2)cc1.OB(O)B(O)O'}. Best is trial 15 with value: 78.02354431152344.\n",
      "[I 2025-08-25 01:54:51,513] Trial 18 finished with value: 68.51785278320312 and parameters: {'reactant': 'CN(C)S(=O)(=O)Oc1ccc2ncccc2c1', 'reagent': 'c1ccc(P(c2ccccc2)c2ccccc2)cc1.OB(O)B(O)O'}. Best is trial 15 with value: 78.02354431152344.\n",
      "[I 2025-08-25 01:54:51,720] Trial 19 finished with value: 73.93968200683594 and parameters: {'reactant': 'N#Cc1ccc(Cl)cc1F', 'reagent': 'c1ccc(P(c2ccccc2)c2ccccc2)cc1.OB(O)B(O)O'}. Best is trial 15 with value: 78.02354431152344.\n",
      "[I 2025-08-25 01:54:51,890] Trial 20 finished with value: 28.2248592376709 and parameters: {'reactant': 'COc1cc(Cl)ccc1F', 'reagent': 'CC(C)(C)P(c1ccccc1)C(C)(C)C.OB(O)B(O)O'}. Best is trial 15 with value: 78.02354431152344.\n",
      "[I 2025-08-25 01:54:52,084] Trial 21 finished with value: 77.95579528808594 and parameters: {'reactant': 'COc1cc(Cl)ccc1F', 'reagent': 'Fc1ccc(P(c2ccc(F)cc2)c2ccc(F)cc2)cc1.OB(O)B(O)O'}. Best is trial 15 with value: 78.02354431152344.\n",
      "[I 2025-08-25 01:54:52,282] Trial 22 finished with value: 71.2382583618164 and parameters: {'reactant': 'Brc1ccc2c(c1)OCO2', 'reagent': 'Fc1ccc(P(c2ccc(F)cc2)c2ccc(F)cc2)cc1.OB(O)B(O)O'}. Best is trial 15 with value: 78.02354431152344.\n",
      "[I 2025-08-25 01:54:52,473] Trial 23 finished with value: 77.95579528808594 and parameters: {'reactant': 'COc1cc(Cl)ccc1F', 'reagent': 'Fc1ccc(P(c2ccc(F)cc2)c2ccc(F)cc2)cc1.OB(O)B(O)O'}. Best is trial 15 with value: 78.02354431152344.\n",
      "[I 2025-08-25 01:54:52,681] Trial 24 finished with value: 68.32526397705078 and parameters: {'reactant': 'Brc1ccc(-c2ccccc2)cc1', 'reagent': 'Cc1ccccc1-c1ccccc1P(C1CCCCC1)C1CCCCC1.OB(O)B(O)O'}. Best is trial 15 with value: 78.02354431152344.\n",
      "[I 2025-08-25 01:54:52,862] Trial 25 finished with value: 73.81485748291016 and parameters: {'reactant': 'COc1ccc(Cl)cc1F', 'reagent': 'COc1cccc(OC)c1-c1ccccc1P(c1ccccc1)c1ccccc1.OB(O)B(O)O'}. Best is trial 15 with value: 78.02354431152344.\n",
      "[I 2025-08-25 01:54:53,072] Trial 26 finished with value: 75.62760162353516 and parameters: {'reactant': 'CN(C)C(=O)c1ccc(Cl)cc1', 'reagent': 'c1ccc(-c2ccccc2P(C2CCCCC2)C2CCCCC2)cc1.OB(O)B(O)O'}. Best is trial 15 with value: 78.02354431152344.\n",
      "[I 2025-08-25 01:54:53,276] Trial 27 finished with value: 50.49559020996094 and parameters: {'reactant': 'Brc1ccsc1', 'reagent': 'c1ccc(P(C2CCCCC2)C2CCCCC2)c(-n2c3ccccc3c3ccccc32)c1.OB(O)B(O)O'}. Best is trial 15 with value: 78.02354431152344.\n",
      "[I 2025-08-25 01:54:53,485] Trial 28 finished with value: 65.26994323730469 and parameters: {'reactant': 'CCOC(=O)c1ccc(Cl)c(F)c1', 'reagent': 'COc1cc(C(C)(C)C)cc(C(C)(C)C)c1-c1ccccc1P(C1CCCCC1)C1CCCCC1.OB(O)B(O)O'}. Best is trial 15 with value: 78.02354431152344.\n",
      "[I 2025-08-25 01:54:53,701] Trial 29 finished with value: 76.59559631347656 and parameters: {'reactant': 'CN(C)S(=O)(=O)Oc1ccc(-c2ccccc2)cc1', 'reagent': 'c1ccc(-n2cccc2P(C2CCCCC2)C2CCCCC2)cc1.OB(O)B(O)O'}. Best is trial 15 with value: 78.02354431152344.\n",
      "[I 2025-08-25 01:54:53,906] Trial 30 finished with value: 70.42753601074219 and parameters: {'reactant': 'Cc1cccc(C)c1Cl', 'reagent': 'c1ccc(-c2nn(-c3ccccc3)c(-c3ccccc3)c2-n2nccc2P(C2CCCCC2)C2CCCCC2)cc1.OB(O)B(O)O'}. Best is trial 15 with value: 78.02354431152344.\n",
      "[I 2025-08-25 01:54:54,095] Trial 31 finished with value: 77.95579528808594 and parameters: {'reactant': 'COc1cc(Cl)ccc1F', 'reagent': 'Fc1ccc(P(c2ccc(F)cc2)c2ccc(F)cc2)cc1.OB(O)B(O)O'}. Best is trial 15 with value: 78.02354431152344.\n",
      "[I 2025-08-25 01:54:54,344] Trial 32 finished with value: 76.20528411865234 and parameters: {'reactant': 'Cc1nc2cc(OS(=O)(=O)N(C)C)ccc2s1', 'reagent': 'Fc1ccc(P(c2ccc(F)cc2)c2ccc(F)cc2)cc1.OB(O)B(O)O'}. Best is trial 15 with value: 78.02354431152344.\n",
      "[I 2025-08-25 01:54:54,663] Trial 33 finished with value: 73.84654998779297 and parameters: {'reactant': 'FC(F)(F)c1ccc(Br)cc1', 'reagent': 'Fc1ccc(P(c2ccc(F)cc2)c2ccc(F)cc2)cc1.OB(O)B(O)O'}. Best is trial 15 with value: 78.02354431152344.\n",
      "[I 2025-08-25 01:54:54,904] Trial 34 finished with value: 61.47268295288086 and parameters: {'reactant': 'COc1ccc(Br)cc1', 'reagent': 'COc1ccccc1C1=C(P(C2CCCCC2)C2CCCCC2)C2c3ccccc3C1c1ccccc12.OB(O)B(O)O'}. Best is trial 15 with value: 78.02354431152344.\n",
      "[I 2025-08-25 01:54:55,121] Trial 35 finished with value: 71.35535430908203 and parameters: {'reactant': 'Clc1cnc2ccccc2c1', 'reagent': 'c1ccc(P(c2ccccc2)C2CCCCC2)cc1.OB(O)B(O)O'}. Best is trial 15 with value: 78.02354431152344.\n",
      "[I 2025-08-25 01:54:55,332] Trial 36 finished with value: 62.30780029296875 and parameters: {'reactant': 'Brc1ccc2occc2c1', 'reagent': 'CC(C)c1cc(C(C)C)c(-c2ccccc2P(c2ccccc2)c2ccccc2)c(C(C)C)c1.OB(O)B(O)O'}. Best is trial 15 with value: 78.02354431152344.\n",
      "[I 2025-08-25 01:54:55,525] Trial 37 finished with value: 74.29885864257812 and parameters: {'reactant': 'Clc1ccc(-c2ccccc2)cc1', 'reagent': 'c1ccc(-c2cc3ccccc3n2P(C2CCCCC2)C2CCCCC2)cc1.OB(O)B(O)O'}. Best is trial 15 with value: 78.02354431152344.\n",
      "[I 2025-08-25 01:54:55,702] Trial 38 finished with value: 64.61250305175781 and parameters: {'reactant': 'Cc1c(N)cccc1Cl', 'reagent': 'C[PH+](C)C.F[B-](F)(F)F.OB(O)B(O)O'}. Best is trial 15 with value: 78.02354431152344.\n",
      "[I 2025-08-25 01:54:55,881] Trial 39 finished with value: 75.58820343017578 and parameters: {'reactant': 'FC(F)(F)c1ccc(Cl)cc1', 'reagent': 'c1ccc(P(c2ccccc2)c2ccccc2)cc1.OB(O)B(O)O'}. Best is trial 15 with value: 78.02354431152344.\n",
      "[I 2025-08-25 01:54:56,072] Trial 40 finished with value: 70.09642028808594 and parameters: {'reactant': 'Clc1ccc2c(c1)OCO2', 'reagent': 'C1CCC([PH+](C2CCCCC2)C2CCCCC2)CC1.F[B-](F)(F)F.OB(O)B(O)O'}. Best is trial 15 with value: 78.02354431152344.\n",
      "[I 2025-08-25 01:54:56,244] Trial 41 finished with value: 77.95579528808594 and parameters: {'reactant': 'COc1cc(Cl)ccc1F', 'reagent': 'Fc1ccc(P(c2ccc(F)cc2)c2ccc(F)cc2)cc1.OB(O)B(O)O'}. Best is trial 15 with value: 78.02354431152344.\n",
      "[I 2025-08-25 01:54:56,435] Trial 42 finished with value: 77.95579528808594 and parameters: {'reactant': 'COc1cc(Cl)ccc1F', 'reagent': 'Fc1ccc(P(c2ccc(F)cc2)c2ccc(F)cc2)cc1.OB(O)B(O)O'}. Best is trial 15 with value: 78.02354431152344.\n",
      "[I 2025-08-25 01:54:56,611] Trial 43 finished with value: 62.20207214355469 and parameters: {'reactant': 'COc1cc(Cl)ccc1F', 'reagent': 'CC(=C(c1ccccc1)c1ccccc1)P(C1CCCCC1)C1CCCCC1.OB(O)B(O)O'}. Best is trial 15 with value: 78.02354431152344.\n",
      "[I 2025-08-25 01:54:56,789] Trial 44 finished with value: 67.50886535644531 and parameters: {'reactant': 'Cc1cc(F)ccc1Cl', 'reagent': 'CN(C)c1ccccc1-c1ccccc1P(c1ccccc1)c1ccccc1.OB(O)B(O)O'}. Best is trial 15 with value: 78.02354431152344.\n",
      "[I 2025-08-25 01:54:56,983] Trial 45 finished with value: 65.53190612792969 and parameters: {'reactant': 'COc1cc(Cl)ccc1F', 'reagent': 'CCCCC1([PH+](C2CCCCC2)C2CCCCC2)c2ccccc2-c2ccccc21.F[B-](F)(F)F.OB(O)B(O)O'}. Best is trial 15 with value: 78.02354431152344.\n",
      "[I 2025-08-25 01:54:57,181] Trial 46 finished with value: 71.16973876953125 and parameters: {'reactant': 'COc1ccc(Br)cc1F', 'reagent': 'Cc1cc(C)cc(P(c2cc(C)cc(C)c2)c2cc(C)cc(C)c2)c1.OB(O)B(O)O'}. Best is trial 15 with value: 78.02354431152344.\n",
      "[I 2025-08-25 01:54:57,360] Trial 47 finished with value: 69.69896697998047 and parameters: {'reactant': 'Brc1ccccc1-c1ccccc1', 'reagent': 'Fc1ccc(P(c2ccc(F)cc2)c2ccc(F)cc2)cc1.OB(O)B(O)O'}. Best is trial 15 with value: 78.02354431152344.\n",
      "[I 2025-08-25 01:54:57,538] Trial 48 finished with value: 73.56736755371094 and parameters: {'reactant': 'Clc1ccc2[nH]ccc2c1', 'reagent': 'c1ccc(P(c2ccccc2)c2ccccc2)cc1.OB(O)B(O)O'}. Best is trial 15 with value: 78.02354431152344.\n",
      "[I 2025-08-25 01:54:57,718] Trial 49 finished with value: 71.0927505493164 and parameters: {'reactant': 'COC(=O)c1ccc(Cl)cc1', 'reagent': 'Fc1ccc(P(c2ccc(F)cc2)c2ccc(F)cc2)cc1.OB(O)B(O)O'}. Best is trial 15 with value: 78.02354431152344.\n",
      "[I 2025-08-25 01:54:57,894] Trial 50 finished with value: 71.52840423583984 and parameters: {'reactant': 'N#Cc1ccc(Br)cc1F', 'reagent': 'CC(C)(C)P(c1ccccc1)C(C)(C)C.OB(O)B(O)O'}. Best is trial 15 with value: 78.02354431152344.\n",
      "[I 2025-08-25 01:54:58,071] Trial 51 finished with value: 77.95579528808594 and parameters: {'reactant': 'COc1cc(Cl)ccc1F', 'reagent': 'Fc1ccc(P(c2ccc(F)cc2)c2ccc(F)cc2)cc1.OB(O)B(O)O'}. Best is trial 15 with value: 78.02354431152344.\n",
      "[I 2025-08-25 01:54:58,249] Trial 52 finished with value: 77.95579528808594 and parameters: {'reactant': 'COc1cc(Cl)ccc1F', 'reagent': 'Fc1ccc(P(c2ccc(F)cc2)c2ccc(F)cc2)cc1.OB(O)B(O)O'}. Best is trial 15 with value: 78.02354431152344.\n",
      "[I 2025-08-25 01:54:58,438] Trial 53 finished with value: 74.96503448486328 and parameters: {'reactant': 'COc1cc(Cl)ccc1F', 'reagent': 'COc1ccc(P(c2ccc(OC)cc2)c2ccc(OC)cc2)cc1.OB(O)B(O)O'}. Best is trial 15 with value: 78.02354431152344.\n",
      "[I 2025-08-25 01:54:58,609] Trial 54 finished with value: 78.02354431152344 and parameters: {'reactant': 'COc1cc(Cl)ccc1F', 'reagent': 'c1ccc(P(c2ccccc2)c2ccccc2)cc1.OB(O)B(O)O'}. Best is trial 15 with value: 78.02354431152344.\n",
      "[I 2025-08-25 01:54:58,779] Trial 55 finished with value: 54.20991897583008 and parameters: {'reactant': 'Cc1ncccc1Br', 'reagent': 'c1ccc(P(c2ccccc2)c2ccccc2)cc1.OB(O)B(O)O'}. Best is trial 15 with value: 78.02354431152344.\n",
      "[I 2025-08-25 01:54:58,972] Trial 56 finished with value: 67.30260467529297 and parameters: {'reactant': 'CCOC(=O)C(C)(C)Oc1ccc(Cl)cc1', 'reagent': 'c1ccc(P(c2ccccc2)c2ccccc2)cc1.OB(O)B(O)O'}. Best is trial 15 with value: 78.02354431152344.\n",
      "[I 2025-08-25 01:54:59,149] Trial 57 finished with value: 65.62267303466797 and parameters: {'reactant': 'COC(=O)c1ccc(Br)cc1', 'reagent': 'Cc1ccccc1-c1ccccc1P(C1CCCCC1)C1CCCCC1.OB(O)B(O)O'}. Best is trial 15 with value: 78.02354431152344.\n",
      "[I 2025-08-25 01:54:59,328] Trial 58 finished with value: 70.72578430175781 and parameters: {'reactant': 'CN(C)S(=O)(=O)Oc1ccc2[nH]ccc2c1', 'reagent': 'COc1cccc(OC)c1-c1ccccc1P(c1ccccc1)c1ccccc1.OB(O)B(O)O'}. Best is trial 15 with value: 78.02354431152344.\n",
      "[I 2025-08-25 01:54:59,505] Trial 59 finished with value: 74.45560455322266 and parameters: {'reactant': 'Brc1cnc2ccccc2c1', 'reagent': 'c1ccc(-c2ccccc2P(C2CCCCC2)C2CCCCC2)cc1.OB(O)B(O)O'}. Best is trial 15 with value: 78.02354431152344.\n",
      "[I 2025-08-25 01:54:59,721] Trial 60 finished with value: 54.79521179199219 and parameters: {'reactant': 'CN(C)S(=O)(=O)Oc1ccc2ncccc2c1', 'reagent': 'c1ccc(P(C2CCCCC2)C2CCCCC2)c(-n2c3ccccc3c3ccccc32)c1.OB(O)B(O)O'}. Best is trial 15 with value: 78.02354431152344.\n",
      "[I 2025-08-25 01:54:59,919] Trial 61 finished with value: 71.17869567871094 and parameters: {'reactant': 'COc1cc(Cl)ccc1F', 'reagent': 'COc1cc(C(C)(C)C)cc(C(C)(C)C)c1-c1ccccc1P(C1CCCCC1)C1CCCCC1.OB(O)B(O)O'}. Best is trial 15 with value: 78.02354431152344.\n",
      "[I 2025-08-25 01:55:00,099] Trial 62 finished with value: 75.7843246459961 and parameters: {'reactant': 'COc1cc(Cl)ccc1F', 'reagent': 'c1ccc(-n2cccc2P(C2CCCCC2)C2CCCCC2)cc1.OB(O)B(O)O'}. Best is trial 15 with value: 78.02354431152344.\n",
      "[I 2025-08-25 01:55:00,278] Trial 63 finished with value: 78.02354431152344 and parameters: {'reactant': 'COc1cc(Cl)ccc1F', 'reagent': 'c1ccc(P(c2ccccc2)c2ccccc2)cc1.OB(O)B(O)O'}. Best is trial 15 with value: 78.02354431152344.\n",
      "[I 2025-08-25 01:55:00,452] Trial 64 finished with value: 78.23442077636719 and parameters: {'reactant': 'CCOC(=O)c1cc(Br)cn1CC', 'reagent': 'c1ccc(P(c2ccccc2)c2ccccc2)cc1.OB(O)B(O)O'}. Best is trial 64 with value: 78.23442077636719.\n",
      "[I 2025-08-25 01:55:00,638] Trial 65 finished with value: 73.93968200683594 and parameters: {'reactant': 'N#Cc1ccc(Cl)cc1F', 'reagent': 'c1ccc(P(c2ccccc2)c2ccccc2)cc1.OB(O)B(O)O'}. Best is trial 64 with value: 78.23442077636719.\n",
      "[I 2025-08-25 01:55:00,828] Trial 66 finished with value: 78.23442077636719 and parameters: {'reactant': 'CCOC(=O)c1cc(Br)cn1CC', 'reagent': 'c1ccc(P(c2ccccc2)c2ccccc2)cc1.OB(O)B(O)O'}. Best is trial 64 with value: 78.23442077636719.\n",
      "[I 2025-08-25 01:55:01,011] Trial 67 finished with value: 78.23442077636719 and parameters: {'reactant': 'CCOC(=O)c1cc(Br)cn1CC', 'reagent': 'c1ccc(P(c2ccccc2)c2ccccc2)cc1.OB(O)B(O)O'}. Best is trial 64 with value: 78.23442077636719.\n",
      "[I 2025-08-25 01:55:01,194] Trial 68 finished with value: 78.23442077636719 and parameters: {'reactant': 'CCOC(=O)c1cc(Br)cn1CC', 'reagent': 'c1ccc(P(c2ccccc2)c2ccccc2)cc1.OB(O)B(O)O'}. Best is trial 64 with value: 78.23442077636719.\n",
      "[I 2025-08-25 01:55:01,381] Trial 69 finished with value: 78.23442077636719 and parameters: {'reactant': 'CCOC(=O)c1cc(Br)cn1CC', 'reagent': 'c1ccc(P(c2ccccc2)c2ccccc2)cc1.OB(O)B(O)O'}. Best is trial 64 with value: 78.23442077636719.\n",
      "[I 2025-08-25 01:55:01,563] Trial 70 finished with value: 78.23442077636719 and parameters: {'reactant': 'CCOC(=O)c1cc(Br)cn1CC', 'reagent': 'c1ccc(P(c2ccccc2)c2ccccc2)cc1.OB(O)B(O)O'}. Best is trial 64 with value: 78.23442077636719.\n",
      "[I 2025-08-25 01:55:01,763] Trial 71 finished with value: 78.23442077636719 and parameters: {'reactant': 'CCOC(=O)c1cc(Br)cn1CC', 'reagent': 'c1ccc(P(c2ccccc2)c2ccccc2)cc1.OB(O)B(O)O'}. Best is trial 64 with value: 78.23442077636719.\n",
      "[I 2025-08-25 01:55:01,958] Trial 72 finished with value: 78.23442077636719 and parameters: {'reactant': 'CCOC(=O)c1cc(Br)cn1CC', 'reagent': 'c1ccc(P(c2ccccc2)c2ccccc2)cc1.OB(O)B(O)O'}. Best is trial 64 with value: 78.23442077636719.\n",
      "[I 2025-08-25 01:55:02,148] Trial 73 finished with value: 78.23442077636719 and parameters: {'reactant': 'CCOC(=O)c1cc(Br)cn1CC', 'reagent': 'c1ccc(P(c2ccccc2)c2ccccc2)cc1.OB(O)B(O)O'}. Best is trial 64 with value: 78.23442077636719.\n",
      "[I 2025-08-25 01:55:02,338] Trial 74 finished with value: 78.23442077636719 and parameters: {'reactant': 'CCOC(=O)c1cc(Br)cn1CC', 'reagent': 'c1ccc(P(c2ccccc2)c2ccccc2)cc1.OB(O)B(O)O'}. Best is trial 64 with value: 78.23442077636719.\n",
      "[I 2025-08-25 01:55:02,521] Trial 75 finished with value: 78.23442077636719 and parameters: {'reactant': 'CCOC(=O)c1cc(Br)cn1CC', 'reagent': 'c1ccc(P(c2ccccc2)c2ccccc2)cc1.OB(O)B(O)O'}. Best is trial 64 with value: 78.23442077636719.\n",
      "[I 2025-08-25 01:55:02,759] Trial 76 finished with value: 74.36420440673828 and parameters: {'reactant': 'CCOC(=O)c1cc(Br)cn1CC', 'reagent': 'c1ccc(-c2nn(-c3ccccc3)c(-c3ccccc3)c2-n2nccc2P(C2CCCCC2)C2CCCCC2)cc1.OB(O)B(O)O'}. Best is trial 64 with value: 78.23442077636719.\n",
      "[I 2025-08-25 01:55:02,941] Trial 77 finished with value: 76.29740142822266 and parameters: {'reactant': 'CCOC(=O)c1cc(Br)cn1CC', 'reagent': 'COc1ccccc1P(c1ccccc1OC)c1ccccc1OC.OB(O)B(O)O'}. Best is trial 64 with value: 78.23442077636719.\n",
      "[I 2025-08-25 01:55:03,122] Trial 78 finished with value: 78.23442077636719 and parameters: {'reactant': 'CCOC(=O)c1cc(Br)cn1CC', 'reagent': 'c1ccc(P(c2ccccc2)c2ccccc2)cc1.OB(O)B(O)O'}. Best is trial 64 with value: 78.23442077636719.\n",
      "[I 2025-08-25 01:55:03,318] Trial 79 finished with value: 70.16889953613281 and parameters: {'reactant': 'CCOC(=O)c1cc(Br)cn1CC', 'reagent': 'COc1ccccc1C1=C(P(C2CCCCC2)C2CCCCC2)C2c3ccccc3C1c1ccccc12.OB(O)B(O)O'}. Best is trial 64 with value: 78.23442077636719.\n",
      "[I 2025-08-25 01:55:03,499] Trial 80 finished with value: 74.67701721191406 and parameters: {'reactant': 'CCOC(=O)c1cc(Br)cn1CC', 'reagent': 'c1ccc(-c2cc3ccccc3n2P(C2CCCCC2)C2CCCCC2)cc1.OB(O)B(O)O'}. Best is trial 64 with value: 78.23442077636719.\n",
      "[I 2025-08-25 01:55:03,685] Trial 81 finished with value: 78.23442077636719 and parameters: {'reactant': 'CCOC(=O)c1cc(Br)cn1CC', 'reagent': 'c1ccc(P(c2ccccc2)c2ccccc2)cc1.OB(O)B(O)O'}. Best is trial 64 with value: 78.23442077636719.\n",
      "[I 2025-08-25 01:55:03,872] Trial 82 finished with value: 78.23442077636719 and parameters: {'reactant': 'CCOC(=O)c1cc(Br)cn1CC', 'reagent': 'c1ccc(P(c2ccccc2)c2ccccc2)cc1.OB(O)B(O)O'}. Best is trial 64 with value: 78.23442077636719.\n",
      "[I 2025-08-25 01:55:04,048] Trial 83 finished with value: 74.4524154663086 and parameters: {'reactant': 'CCOC(=O)c1cc(Br)cn1CC', 'reagent': 'CN(C)c1ccc(P(c2ccccc2)c2ccccc2)cc1.OB(O)B(O)O'}. Best is trial 64 with value: 78.23442077636719.\n",
      "[I 2025-08-25 01:55:04,229] Trial 84 finished with value: 77.40520477294922 and parameters: {'reactant': 'CCOC(=O)c1cc(Br)cn1CC', 'reagent': 'c1ccc(P(c2ccccc2)C2CCCCC2)cc1.OB(O)B(O)O'}. Best is trial 64 with value: 78.23442077636719.\n",
      "[I 2025-08-25 01:55:04,408] Trial 85 finished with value: 78.23442077636719 and parameters: {'reactant': 'CCOC(=O)c1cc(Br)cn1CC', 'reagent': 'c1ccc(P(c2ccccc2)c2ccccc2)cc1.OB(O)B(O)O'}. Best is trial 64 with value: 78.23442077636719.\n",
      "[I 2025-08-25 01:55:04,601] Trial 86 finished with value: 57.34910202026367 and parameters: {'reactant': 'Brc1ccc(-c2ccccc2)cc1', 'reagent': 'C[PH+](C)C.F[B-](F)(F)F.OB(O)B(O)O'}. Best is trial 64 with value: 78.23442077636719.\n",
      "[I 2025-08-25 01:55:04,807] Trial 87 finished with value: 73.75474548339844 and parameters: {'reactant': 'Brc1ccc2c(c1)OCO2', 'reagent': 'c1ccc(P(c2ccccc2)c2ccccc2)cc1.OB(O)B(O)O'}. Best is trial 64 with value: 78.23442077636719.\n",
      "[I 2025-08-25 01:55:04,988] Trial 88 finished with value: 65.52114868164062 and parameters: {'reactant': 'COc1ncc(Br)c(OC)n1', 'reagent': 'CC(=C(c1ccccc1)c1ccccc1)P(C1CCCCC1)C1CCCCC1.OB(O)B(O)O'}. Best is trial 64 with value: 78.23442077636719.\n",
      "[I 2025-08-25 01:55:05,163] Trial 89 finished with value: 70.19223022460938 and parameters: {'reactant': 'COc1ccc(Cl)cc1F', 'reagent': 'C1CCC([PH+](C2CCCCC2)C2CCCCC2)CC1.F[B-](F)(F)F.OB(O)B(O)O'}. Best is trial 64 with value: 78.23442077636719.\n",
      "[I 2025-08-25 01:55:05,352] Trial 90 finished with value: 67.02964782714844 and parameters: {'reactant': 'CN(C)C(=O)c1ccc(Cl)cc1', 'reagent': 'CN(C)c1ccccc1-c1ccccc1P(c1ccccc1)c1ccccc1.OB(O)B(O)O'}. Best is trial 64 with value: 78.23442077636719.\n",
      "[I 2025-08-25 01:55:05,533] Trial 91 finished with value: 78.23442077636719 and parameters: {'reactant': 'CCOC(=O)c1cc(Br)cn1CC', 'reagent': 'c1ccc(P(c2ccccc2)c2ccccc2)cc1.OB(O)B(O)O'}. Best is trial 64 with value: 78.23442077636719.\n",
      "[I 2025-08-25 01:55:05,699] Trial 92 finished with value: 70.55313873291016 and parameters: {'reactant': 'Brc1ccsc1', 'reagent': 'c1ccc(P(c2ccccc2)c2ccccc2)cc1.OB(O)B(O)O'}. Best is trial 64 with value: 78.23442077636719.\n",
      "[I 2025-08-25 01:55:05,900] Trial 93 finished with value: 72.73734283447266 and parameters: {'reactant': 'CN(C)S(=O)(=O)Oc1ccc(-c2ccccc2)cc1', 'reagent': 'CC(C)c1cc(C(C)C)c(-c2ccccc2P(c2ccccc2)c2ccccc2)c(C(C)C)c1.OB(O)B(O)O'}. Best is trial 64 with value: 78.23442077636719.\n",
      "[I 2025-08-25 01:55:06,081] Trial 94 finished with value: 74.25685119628906 and parameters: {'reactant': 'CCOC(=O)c1ccc(Cl)c(F)c1', 'reagent': 'c1ccc(P(c2ccccc2)c2ccccc2)cc1.OB(O)B(O)O'}. Best is trial 64 with value: 78.23442077636719.\n",
      "[I 2025-08-25 01:55:06,268] Trial 95 finished with value: 57.82293701171875 and parameters: {'reactant': 'Cc1cccc(C)c1Cl', 'reagent': 'CCCCC1([PH+](C2CCCCC2)C2CCCCC2)c2ccccc2-c2ccccc21.F[B-](F)(F)F.OB(O)B(O)O'}. Best is trial 64 with value: 78.23442077636719.\n",
      "[I 2025-08-25 01:55:06,444] Trial 96 finished with value: 78.23442077636719 and parameters: {'reactant': 'CCOC(=O)c1cc(Br)cn1CC', 'reagent': 'c1ccc(P(c2ccccc2)c2ccccc2)cc1.OB(O)B(O)O'}. Best is trial 64 with value: 78.23442077636719.\n",
      "[I 2025-08-25 01:55:06,648] Trial 97 finished with value: 74.46062469482422 and parameters: {'reactant': 'Cc1nc2cc(OS(=O)(=O)N(C)C)ccc2s1', 'reagent': 'Cc1cc(C)cc(P(c2cc(C)cc(C)c2)c2cc(C)cc(C)c2)c1.OB(O)B(O)O'}. Best is trial 64 with value: 78.23442077636719.\n",
      "[I 2025-08-25 01:55:06,839] Trial 98 finished with value: 76.81636810302734 and parameters: {'reactant': 'FC(F)(F)c1ccc(Br)cc1', 'reagent': 'c1ccc(P(c2ccccc2)c2ccccc2)cc1.OB(O)B(O)O'}. Best is trial 64 with value: 78.23442077636719.\n",
      "[I 2025-08-25 01:55:07,019] Trial 99 finished with value: 78.23442077636719 and parameters: {'reactant': 'CCOC(=O)c1cc(Br)cn1CC', 'reagent': 'c1ccc(P(c2ccccc2)c2ccccc2)cc1.OB(O)B(O)O'}. Best is trial 64 with value: 78.23442077636719.\n"
     ]
    },
    {
     "name": "stdout",
     "output_type": "stream",
     "text": [
      "[Round 1] Fine-tuning on 80 samples, eval 20 samples\n",
      "{'train_runtime': 1.9084, 'train_samples_per_second': 209.602, 'train_steps_per_second': 13.1, 'train_loss': 1425.6159375, 'epoch': 5.0}\n",
      "\n",
      "==== Round 2/5 ====\n"
     ]
    },
    {
     "name": "stderr",
     "output_type": "stream",
     "text": [
      "[I 2025-08-25 01:55:11,044] A new study created in RDB with name: yield_round_2\n",
      "[I 2025-08-25 01:55:11,321] Trial 0 finished with value: 66.92098236083984 and parameters: {'reactant': 'CN(C)S(=O)(=O)Oc1ccc(-c2ccccc2)cc1', 'reagent': 'CC(C)(C)P(c1ccccc1)C(C)(C)C.OB(O)B(O)O'}. Best is trial 0 with value: 66.92098236083984.\n",
      "[I 2025-08-25 01:55:11,579] Trial 1 finished with value: 59.31112289428711 and parameters: {'reactant': 'Cc1cccc(C)c1Cl', 'reagent': 'CCCCC1([PH+](C2CCCCC2)C2CCCCC2)c2ccccc2-c2ccccc21.F[B-](F)(F)F.OB(O)B(O)O'}. Best is trial 0 with value: 66.92098236083984.\n",
      "[I 2025-08-25 01:55:11,819] Trial 2 finished with value: 61.11520004272461 and parameters: {'reactant': 'COc1ccc(Cl)cc1F', 'reagent': 'CC(=C(c1ccccc1)c1ccccc1)P(C1CCCCC1)C1CCCCC1.OB(O)B(O)O'}. Best is trial 0 with value: 66.92098236083984.\n",
      "[I 2025-08-25 01:55:12,094] Trial 3 finished with value: 62.44108200073242 and parameters: {'reactant': 'CCOC(=O)c1ccc(Cl)c(F)c1', 'reagent': 'c1ccc(P(c2ccccc2)C2CCCCC2)cc1.OB(O)B(O)O'}. Best is trial 0 with value: 66.92098236083984.\n",
      "[I 2025-08-25 01:55:12,344] Trial 4 finished with value: 67.271484375 and parameters: {'reactant': 'CCOC(=O)c1cc(Br)cn1CC', 'reagent': 'c1ccc(-c2cc3ccccc3n2P(C2CCCCC2)C2CCCCC2)cc1.OB(O)B(O)O'}. Best is trial 4 with value: 67.271484375.\n",
      "[I 2025-08-25 01:55:12,628] Trial 5 finished with value: 71.37005615234375 and parameters: {'reactant': 'Cc1nc2cc(OS(=O)(=O)N(C)C)ccc2s1', 'reagent': 'COc1ccccc1C1=C(P(C2CCCCC2)C2CCCCC2)C2c3ccccc3C1c1ccccc12.OB(O)B(O)O'}. Best is trial 5 with value: 71.37005615234375.\n",
      "[I 2025-08-25 01:55:12,862] Trial 6 finished with value: 66.97567749023438 and parameters: {'reactant': 'Clc1cnc2ccccc2c1', 'reagent': 'c1ccc(P(c2ccccc2)C2CCCCC2)cc1.OB(O)B(O)O'}. Best is trial 5 with value: 71.37005615234375.\n",
      "[I 2025-08-25 01:55:13,086] Trial 7 finished with value: 68.30508422851562 and parameters: {'reactant': 'COc1ccc(Cl)cc1F', 'reagent': 'Cc1ccccc1-c1ccccc1P(C1CCCCC1)C1CCCCC1.OB(O)B(O)O'}. Best is trial 5 with value: 71.37005615234375.\n",
      "[I 2025-08-25 01:55:13,371] Trial 8 finished with value: 64.95426940917969 and parameters: {'reactant': 'CN(C)S(=O)(=O)Oc1ccc2[nH]ccc2c1', 'reagent': 'Cc1cc(C)cc(P(c2cc(C)cc(C)c2)c2cc(C)cc(C)c2)c1.OB(O)B(O)O'}. Best is trial 5 with value: 71.37005615234375.\n",
      "[I 2025-08-25 01:55:13,621] Trial 9 finished with value: 62.48533248901367 and parameters: {'reactant': 'Clc1ccc2c(c1)OCO2', 'reagent': 'c1ccc(P(C2CCCCC2)C2CCCCC2)c(-n2c3ccccc3c3ccccc32)c1.OB(O)B(O)O'}. Best is trial 5 with value: 71.37005615234375.\n",
      "[I 2025-08-25 01:55:13,921] Trial 10 finished with value: 70.98546600341797 and parameters: {'reactant': 'Cc1nc2cc(OS(=O)(=O)N(C)C)ccc2s1', 'reagent': 'COc1ccccc1C1=C(P(C2CCCCC2)C2CCCCC2)C2c3ccccc3C1c1ccccc12.OB(O)B(O)O'}. Best is trial 5 with value: 71.37005615234375.\n",
      "[I 2025-08-25 01:55:14,215] Trial 11 finished with value: 68.44420623779297 and parameters: {'reactant': 'Cc1nc2cc(OS(=O)(=O)N(C)C)ccc2s1', 'reagent': 'COc1ccccc1C1=C(P(C2CCCCC2)C2CCCCC2)C2c3ccccc3C1c1ccccc12.OB(O)B(O)O'}. Best is trial 5 with value: 71.37005615234375.\n",
      "[I 2025-08-25 01:55:14,481] Trial 12 finished with value: 73.4721908569336 and parameters: {'reactant': 'Cc1nc2cc(OS(=O)(=O)N(C)C)ccc2s1', 'reagent': 'COc1ccccc1C1=C(P(C2CCCCC2)C2CCCCC2)C2c3ccccc3C1c1ccccc12.OB(O)B(O)O'}. Best is trial 12 with value: 73.4721908569336.\n",
      "[I 2025-08-25 01:55:14,760] Trial 13 finished with value: 61.90470886230469 and parameters: {'reactant': 'CN(C)S(=O)(=O)Oc1ccc2ncccc2c1', 'reagent': 'CN(C)c1ccc(P(c2ccccc2)c2ccccc2)cc1.OB(O)B(O)O'}. Best is trial 12 with value: 73.4721908569336.\n",
      "[I 2025-08-25 01:55:15,040] Trial 14 finished with value: 68.22775268554688 and parameters: {'reactant': 'Cc1nc2cc(OS(=O)(=O)N(C)C)ccc2s1', 'reagent': 'COc1ccccc1C1=C(P(C2CCCCC2)C2CCCCC2)C2c3ccccc3C1c1ccccc12.OB(O)B(O)O'}. Best is trial 12 with value: 73.4721908569336.\n",
      "[I 2025-08-25 01:55:15,271] Trial 15 finished with value: 65.90322875976562 and parameters: {'reactant': 'Cc1c(N)cccc1Cl', 'reagent': 'Fc1ccc(P(c2ccc(F)cc2)c2ccc(F)cc2)cc1.OB(O)B(O)O'}. Best is trial 12 with value: 73.4721908569336.\n",
      "[I 2025-08-25 01:55:15,499] Trial 16 finished with value: 63.9518928527832 and parameters: {'reactant': 'COc1ccc(Br)cc1F', 'reagent': 'CN(C)c1ccccc1-c1ccccc1P(c1ccccc1)c1ccccc1.OB(O)B(O)O'}. Best is trial 12 with value: 73.4721908569336.\n",
      "[I 2025-08-25 01:55:15,732] Trial 17 finished with value: 68.64313507080078 and parameters: {'reactant': 'COC(=O)c1ccc(Br)cc1', 'reagent': 'COc1cccc(OC)c1-c1ccccc1P(c1ccccc1)c1ccccc1.OB(O)B(O)O'}. Best is trial 12 with value: 73.4721908569336.\n",
      "[I 2025-08-25 01:55:16,004] Trial 18 finished with value: 67.27554321289062 and parameters: {'reactant': 'CN(C)C(=O)c1ccc(Cl)cc1', 'reagent': 'CC(C)c1cc(C(C)C)c(-c2ccccc2P(c2ccccc2)c2ccccc2)c(C(C)C)c1.OB(O)B(O)O'}. Best is trial 12 with value: 73.4721908569336.\n",
      "[I 2025-08-25 01:55:16,241] Trial 19 finished with value: 63.898231506347656 and parameters: {'reactant': 'FC(F)(F)c1ccc(Br)cc1', 'reagent': 'C[PH+](C)C.F[B-](F)(F)F.OB(O)B(O)O'}. Best is trial 12 with value: 73.4721908569336.\n",
      "[I 2025-08-25 01:55:16,480] Trial 20 finished with value: 69.04476928710938 and parameters: {'reactant': 'Brc1cnc2ccccc2c1', 'reagent': 'c1ccc(-n2cccc2P(C2CCCCC2)C2CCCCC2)cc1.OB(O)B(O)O'}. Best is trial 12 with value: 73.4721908569336.\n",
      "[I 2025-08-25 01:55:16,754] Trial 21 finished with value: 70.2061767578125 and parameters: {'reactant': 'Cc1nc2cc(OS(=O)(=O)N(C)C)ccc2s1', 'reagent': 'COc1ccccc1C1=C(P(C2CCCCC2)C2CCCCC2)C2c3ccccc3C1c1ccccc12.OB(O)B(O)O'}. Best is trial 12 with value: 73.4721908569336.\n",
      "[I 2025-08-25 01:55:16,998] Trial 22 finished with value: 55.840450286865234 and parameters: {'reactant': 'COc1cc(Cl)ccc1F', 'reagent': 'COc1ccccc1C1=C(P(C2CCCCC2)C2CCCCC2)C2c3ccccc3C1c1ccccc12.OB(O)B(O)O'}. Best is trial 12 with value: 73.4721908569336.\n",
      "[I 2025-08-25 01:55:17,229] Trial 23 finished with value: 60.5583610534668 and parameters: {'reactant': 'Cc1ncccc1Br', 'reagent': 'COc1ccc(P(c2ccc(OC)cc2)c2ccc(OC)cc2)cc1.OB(O)B(O)O'}. Best is trial 12 with value: 73.4721908569336.\n",
      "[I 2025-08-25 01:55:17,469] Trial 24 finished with value: 64.27959442138672 and parameters: {'reactant': 'Cc1cc(F)ccc1Cl', 'reagent': 'COc1cc(C(C)(C)C)cc(C(C)(C)C)c1-c1ccccc1P(C1CCCCC1)C1CCCCC1.OB(O)B(O)O'}. Best is trial 12 with value: 73.4721908569336.\n",
      "[I 2025-08-25 01:55:17,703] Trial 25 finished with value: 65.83463287353516 and parameters: {'reactant': 'N#Cc1ccc(Br)cc1F', 'reagent': 'COc1ccccc1P(c1ccccc1OC)c1ccccc1OC.OB(O)B(O)O'}. Best is trial 12 with value: 73.4721908569336.\n",
      "[I 2025-08-25 01:55:17,964] Trial 26 finished with value: 66.84473419189453 and parameters: {'reactant': 'N#Cc1ccc(Cl)cc1F', 'reagent': 'c1ccc(-c2nn(-c3ccccc3)c(-c3ccccc3)c2-n2nccc2P(C2CCCCC2)C2CCCCC2)cc1.OB(O)B(O)O'}. Best is trial 12 with value: 73.4721908569336.\n",
      "[I 2025-08-25 01:55:18,211] Trial 27 finished with value: 73.23255157470703 and parameters: {'reactant': 'Cc1nc2cc(OS(=O)(=O)N(C)C)ccc2s1', 'reagent': 'c1ccc(P(c2ccccc2)c2ccccc2)cc1.OB(O)B(O)O'}. Best is trial 12 with value: 73.4721908569336.\n",
      "[I 2025-08-25 01:55:18,443] Trial 28 finished with value: 69.36621856689453 and parameters: {'reactant': 'COc1ncc(Br)c(OC)n1', 'reagent': 'c1ccc(P(c2ccccc2)c2ccccc2)cc1.OB(O)B(O)O'}. Best is trial 12 with value: 73.4721908569336.\n",
      "[I 2025-08-25 01:55:18,695] Trial 29 finished with value: 59.89277267456055 and parameters: {'reactant': 'Brc1ccc(-c2ccccc2)cc1', 'reagent': 'C1CCC([PH+](C2CCCCC2)C2CCCCC2)CC1.F[B-](F)(F)F.OB(O)B(O)O'}. Best is trial 12 with value: 73.4721908569336.\n",
      "[I 2025-08-25 01:55:18,943] Trial 30 finished with value: 68.39488220214844 and parameters: {'reactant': 'Brc1ccc2c(c1)OCO2', 'reagent': 'c1ccc(-c2ccccc2P(C2CCCCC2)C2CCCCC2)cc1.OB(O)B(O)O'}. Best is trial 12 with value: 73.4721908569336.\n",
      "[I 2025-08-25 01:55:19,191] Trial 31 finished with value: 71.07781219482422 and parameters: {'reactant': 'Cc1nc2cc(OS(=O)(=O)N(C)C)ccc2s1', 'reagent': 'c1ccc(P(c2ccccc2)c2ccccc2)cc1.OB(O)B(O)O'}. Best is trial 12 with value: 73.4721908569336.\n",
      "[I 2025-08-25 01:55:19,413] Trial 32 finished with value: 68.49066925048828 and parameters: {'reactant': 'Brc1ccc2occc2c1', 'reagent': 'c1ccc(P(c2ccccc2)c2ccccc2)cc1.OB(O)B(O)O'}. Best is trial 12 with value: 73.4721908569336.\n",
      "[I 2025-08-25 01:55:19,627] Trial 33 finished with value: 69.17678833007812 and parameters: {'reactant': 'Brc1ccccc1-c1ccccc1', 'reagent': 'c1ccc(P(c2ccccc2)c2ccccc2)cc1.OB(O)B(O)O'}. Best is trial 12 with value: 73.4721908569336.\n",
      "[I 2025-08-25 01:55:19,828] Trial 34 finished with value: 50.75090408325195 and parameters: {'reactant': 'FC(F)(F)c1ccc(Cl)cc1', 'reagent': 'CC(C)(C)P(c1ccccc1)C(C)(C)C.OB(O)B(O)O'}. Best is trial 12 with value: 73.4721908569336.\n",
      "[I 2025-08-25 01:55:20,051] Trial 35 finished with value: 64.54096984863281 and parameters: {'reactant': 'CCOC(=O)C(C)(C)Oc1ccc(Cl)cc1', 'reagent': 'c1ccc(P(c2ccccc2)c2ccccc2)cc1.OB(O)B(O)O'}. Best is trial 12 with value: 73.4721908569336.\n",
      "[I 2025-08-25 01:55:20,272] Trial 36 finished with value: 59.97642135620117 and parameters: {'reactant': 'Clc1ccc2[nH]ccc2c1', 'reagent': 'CCCCC1([PH+](C2CCCCC2)C2CCCCC2)c2ccccc2-c2ccccc21.F[B-](F)(F)F.OB(O)B(O)O'}. Best is trial 12 with value: 73.4721908569336.\n",
      "[I 2025-08-25 01:55:20,477] Trial 37 finished with value: 54.77232360839844 and parameters: {'reactant': 'COc1ccc(Br)cc1', 'reagent': 'CC(=C(c1ccccc1)c1ccccc1)P(C1CCCCC1)C1CCCCC1.OB(O)B(O)O'}. Best is trial 12 with value: 73.4721908569336.\n",
      "[I 2025-08-25 01:55:20,699] Trial 38 finished with value: 69.83483123779297 and parameters: {'reactant': 'Clc1ccc(-c2ccccc2)cc1', 'reagent': 'c1ccc(-c2cc3ccccc3n2P(C2CCCCC2)C2CCCCC2)cc1.OB(O)B(O)O'}. Best is trial 12 with value: 73.4721908569336.\n",
      "[I 2025-08-25 01:55:20,912] Trial 39 finished with value: 58.971614837646484 and parameters: {'reactant': 'COC(=O)c1ccc(Cl)cc1', 'reagent': 'Cc1ccccc1-c1ccccc1P(C1CCCCC1)C1CCCCC1.OB(O)B(O)O'}. Best is trial 12 with value: 73.4721908569336.\n",
      "[I 2025-08-25 01:55:21,170] Trial 40 finished with value: 71.18962097167969 and parameters: {'reactant': 'Cc1nc2cc(OS(=O)(=O)N(C)C)ccc2s1', 'reagent': 'Cc1cc(C)cc(P(c2cc(C)cc(C)c2)c2cc(C)cc(C)c2)c1.OB(O)B(O)O'}. Best is trial 12 with value: 73.4721908569336.\n",
      "[I 2025-08-25 01:55:21,424] Trial 41 finished with value: 68.36814880371094 and parameters: {'reactant': 'Cc1nc2cc(OS(=O)(=O)N(C)C)ccc2s1', 'reagent': 'Cc1cc(C)cc(P(c2cc(C)cc(C)c2)c2cc(C)cc(C)c2)c1.OB(O)B(O)O'}. Best is trial 12 with value: 73.4721908569336.\n",
      "[I 2025-08-25 01:55:21,691] Trial 42 finished with value: 69.85385131835938 and parameters: {'reactant': 'CN(C)S(=O)(=O)Oc1ccc(-c2ccccc2)cc1', 'reagent': 'Cc1cc(C)cc(P(c2cc(C)cc(C)c2)c2cc(C)cc(C)c2)c1.OB(O)B(O)O'}. Best is trial 12 with value: 73.4721908569336.\n",
      "[I 2025-08-25 01:55:21,907] Trial 43 finished with value: 48.18227005004883 and parameters: {'reactant': 'Brc1ccsc1', 'reagent': 'c1ccc(P(C2CCCCC2)C2CCCCC2)c(-n2c3ccccc3c3ccccc32)c1.OB(O)B(O)O'}. Best is trial 12 with value: 73.4721908569336.\n",
      "[I 2025-08-25 01:55:22,139] Trial 44 finished with value: 70.25833129882812 and parameters: {'reactant': 'Cc1nc2cc(OS(=O)(=O)N(C)C)ccc2s1', 'reagent': 'c1ccc(P(c2ccccc2)c2ccccc2)cc1.OB(O)B(O)O'}. Best is trial 12 with value: 73.4721908569336.\n",
      "[I 2025-08-25 01:55:22,398] Trial 45 finished with value: 70.14775085449219 and parameters: {'reactant': 'Cc1nc2cc(OS(=O)(=O)N(C)C)ccc2s1', 'reagent': 'c1ccc(P(c2ccccc2)C2CCCCC2)cc1.OB(O)B(O)O'}. Best is trial 12 with value: 73.4721908569336.\n",
      "[I 2025-08-25 01:55:22,616] Trial 46 finished with value: 67.41043853759766 and parameters: {'reactant': 'CCOC(=O)c1ccc(Cl)c(F)c1', 'reagent': 'CN(C)c1ccc(P(c2ccccc2)c2ccccc2)cc1.OB(O)B(O)O'}. Best is trial 12 with value: 73.4721908569336.\n",
      "[I 2025-08-25 01:55:22,892] Trial 47 finished with value: 73.2110595703125 and parameters: {'reactant': 'Cc1nc2cc(OS(=O)(=O)N(C)C)ccc2s1', 'reagent': 'COc1ccccc1C1=C(P(C2CCCCC2)C2CCCCC2)C2c3ccccc3C1c1ccccc12.OB(O)B(O)O'}. Best is trial 12 with value: 73.4721908569336.\n",
      "[I 2025-08-25 01:55:23,129] Trial 48 finished with value: 67.41944885253906 and parameters: {'reactant': 'CCOC(=O)c1cc(Br)cn1CC', 'reagent': 'COc1ccccc1C1=C(P(C2CCCCC2)C2CCCCC2)C2c3ccccc3C1c1ccccc12.OB(O)B(O)O'}. Best is trial 12 with value: 73.4721908569336.\n",
      "[I 2025-08-25 01:55:23,340] Trial 49 finished with value: 54.261131286621094 and parameters: {'reactant': 'Cc1cccc(C)c1Cl', 'reagent': 'COc1ccccc1C1=C(P(C2CCCCC2)C2CCCCC2)C2c3ccccc3C1c1ccccc12.OB(O)B(O)O'}. Best is trial 12 with value: 73.4721908569336.\n",
      "[I 2025-08-25 01:55:23,562] Trial 50 finished with value: 67.20211791992188 and parameters: {'reactant': 'Clc1cnc2ccccc2c1', 'reagent': 'CN(C)c1ccccc1-c1ccccc1P(c1ccccc1)c1ccccc1.OB(O)B(O)O'}. Best is trial 12 with value: 73.4721908569336.\n",
      "[I 2025-08-25 01:55:23,813] Trial 51 finished with value: 69.48505401611328 and parameters: {'reactant': 'Cc1nc2cc(OS(=O)(=O)N(C)C)ccc2s1', 'reagent': 'Fc1ccc(P(c2ccc(F)cc2)c2ccc(F)cc2)cc1.OB(O)B(O)O'}. Best is trial 12 with value: 73.4721908569336.\n",
      "[I 2025-08-25 01:55:24,059] Trial 52 finished with value: 71.81536102294922 and parameters: {'reactant': 'Cc1nc2cc(OS(=O)(=O)N(C)C)ccc2s1', 'reagent': 'COc1ccccc1C1=C(P(C2CCCCC2)C2CCCCC2)C2c3ccccc3C1c1ccccc12.OB(O)B(O)O'}. Best is trial 12 with value: 73.4721908569336.\n",
      "[I 2025-08-25 01:55:24,288] Trial 53 finished with value: 67.66761779785156 and parameters: {'reactant': 'Clc1ccc2c(c1)OCO2', 'reagent': 'COc1ccccc1C1=C(P(C2CCCCC2)C2CCCCC2)C2c3ccccc3C1c1ccccc12.OB(O)B(O)O'}. Best is trial 12 with value: 73.4721908569336.\n",
      "[I 2025-08-25 01:55:24,524] Trial 54 finished with value: 63.88511657714844 and parameters: {'reactant': 'CN(C)S(=O)(=O)Oc1ccc2[nH]ccc2c1', 'reagent': 'COc1ccccc1C1=C(P(C2CCCCC2)C2CCCCC2)C2c3ccccc3C1c1ccccc12.OB(O)B(O)O'}. Best is trial 12 with value: 73.4721908569336.\n",
      "[I 2025-08-25 01:55:24,790] Trial 55 finished with value: 72.40167999267578 and parameters: {'reactant': 'Cc1nc2cc(OS(=O)(=O)N(C)C)ccc2s1', 'reagent': 'COc1cccc(OC)c1-c1ccccc1P(c1ccccc1)c1ccccc1.OB(O)B(O)O'}. Best is trial 12 with value: 73.4721908569336.\n",
      "[I 2025-08-25 01:55:25,000] Trial 56 finished with value: 68.15587615966797 and parameters: {'reactant': 'COc1ccc(Cl)cc1F', 'reagent': 'COc1cccc(OC)c1-c1ccccc1P(c1ccccc1)c1ccccc1.OB(O)B(O)O'}. Best is trial 12 with value: 73.4721908569336.\n",
      "[I 2025-08-25 01:55:25,222] Trial 57 finished with value: 59.913658142089844 and parameters: {'reactant': 'CN(C)S(=O)(=O)Oc1ccc2ncccc2c1', 'reagent': 'COc1cccc(OC)c1-c1ccccc1P(c1ccccc1)c1ccccc1.OB(O)B(O)O'}. Best is trial 12 with value: 73.4721908569336.\n",
      "[I 2025-08-25 01:55:25,472] Trial 58 finished with value: 67.38593292236328 and parameters: {'reactant': 'Cc1nc2cc(OS(=O)(=O)N(C)C)ccc2s1', 'reagent': 'CC(C)c1cc(C(C)C)c(-c2ccccc2P(c2ccccc2)c2ccccc2)c(C(C)C)c1.OB(O)B(O)O'}. Best is trial 12 with value: 73.4721908569336.\n",
      "[I 2025-08-25 01:55:25,669] Trial 59 finished with value: 60.411231994628906 and parameters: {'reactant': 'COc1ccc(Br)cc1F', 'reagent': 'C[PH+](C)C.F[B-](F)(F)F.OB(O)B(O)O'}. Best is trial 12 with value: 73.4721908569336.\n",
      "[I 2025-08-25 01:55:25,878] Trial 60 finished with value: 67.18731689453125 and parameters: {'reactant': 'COC(=O)c1ccc(Br)cc1', 'reagent': 'c1ccc(-n2cccc2P(C2CCCCC2)C2CCCCC2)cc1.OB(O)B(O)O'}. Best is trial 12 with value: 73.4721908569336.\n",
      "[I 2025-08-25 01:55:26,275] Trial 61 finished with value: 71.4126968383789 and parameters: {'reactant': 'Cc1nc2cc(OS(=O)(=O)N(C)C)ccc2s1', 'reagent': 'COc1ccccc1C1=C(P(C2CCCCC2)C2CCCCC2)C2c3ccccc3C1c1ccccc12.OB(O)B(O)O'}. Best is trial 12 with value: 73.4721908569336.\n",
      "[I 2025-08-25 01:55:26,527] Trial 62 finished with value: 73.21627044677734 and parameters: {'reactant': 'Cc1nc2cc(OS(=O)(=O)N(C)C)ccc2s1', 'reagent': 'COc1ccccc1C1=C(P(C2CCCCC2)C2CCCCC2)C2c3ccccc3C1c1ccccc12.OB(O)B(O)O'}. Best is trial 12 with value: 73.4721908569336.\n",
      "[I 2025-08-25 01:55:26,774] Trial 63 finished with value: 70.46684265136719 and parameters: {'reactant': 'Cc1nc2cc(OS(=O)(=O)N(C)C)ccc2s1', 'reagent': 'COc1ccccc1C1=C(P(C2CCCCC2)C2CCCCC2)C2c3ccccc3C1c1ccccc12.OB(O)B(O)O'}. Best is trial 12 with value: 73.4721908569336.\n",
      "[I 2025-08-25 01:55:26,993] Trial 64 finished with value: 60.8757438659668 and parameters: {'reactant': 'Cc1c(N)cccc1Cl', 'reagent': 'COc1ccccc1C1=C(P(C2CCCCC2)C2CCCCC2)C2c3ccccc3C1c1ccccc12.OB(O)B(O)O'}. Best is trial 12 with value: 73.4721908569336.\n",
      "[I 2025-08-25 01:55:27,219] Trial 65 finished with value: 68.45063781738281 and parameters: {'reactant': 'CN(C)C(=O)c1ccc(Cl)cc1', 'reagent': 'COc1ccc(P(c2ccc(OC)cc2)c2ccc(OC)cc2)cc1.OB(O)B(O)O'}. Best is trial 12 with value: 73.4721908569336.\n",
      "[I 2025-08-25 01:55:27,427] Trial 66 finished with value: 68.31031799316406 and parameters: {'reactant': 'FC(F)(F)c1ccc(Br)cc1', 'reagent': 'COc1ccccc1P(c1ccccc1OC)c1ccccc1OC.OB(O)B(O)O'}. Best is trial 12 with value: 73.4721908569336.\n",
      "[I 2025-08-25 01:55:27,672] Trial 67 finished with value: 72.71260070800781 and parameters: {'reactant': 'Cc1nc2cc(OS(=O)(=O)N(C)C)ccc2s1', 'reagent': 'COc1cc(C(C)(C)C)cc(C(C)(C)C)c1-c1ccccc1P(C1CCCCC1)C1CCCCC1.OB(O)B(O)O'}. Best is trial 12 with value: 73.4721908569336.\n",
      "[I 2025-08-25 01:55:27,899] Trial 68 finished with value: 60.876800537109375 and parameters: {'reactant': 'Brc1cnc2ccccc2c1', 'reagent': 'COc1cc(C(C)(C)C)cc(C(C)(C)C)c1-c1ccccc1P(C1CCCCC1)C1CCCCC1.OB(O)B(O)O'}. Best is trial 12 with value: 73.4721908569336.\n",
      "[I 2025-08-25 01:55:28,136] Trial 69 finished with value: 66.67259216308594 and parameters: {'reactant': 'Cc1nc2cc(OS(=O)(=O)N(C)C)ccc2s1', 'reagent': 'COc1cc(C(C)(C)C)cc(C(C)(C)C)c1-c1ccccc1P(C1CCCCC1)C1CCCCC1.OB(O)B(O)O'}. Best is trial 12 with value: 73.4721908569336.\n",
      "[I 2025-08-25 01:55:28,347] Trial 70 finished with value: 65.86296081542969 and parameters: {'reactant': 'COc1cc(Cl)ccc1F', 'reagent': 'c1ccc(-c2ccccc2P(C2CCCCC2)C2CCCCC2)cc1.OB(O)B(O)O'}. Best is trial 12 with value: 73.4721908569336.\n",
      "[I 2025-08-25 01:55:28,595] Trial 71 finished with value: 68.63129425048828 and parameters: {'reactant': 'Cc1nc2cc(OS(=O)(=O)N(C)C)ccc2s1', 'reagent': 'C1CCC([PH+](C2CCCCC2)C2CCCCC2)CC1.F[B-](F)(F)F.OB(O)B(O)O'}. Best is trial 12 with value: 73.4721908569336.\n",
      "[I 2025-08-25 01:55:28,822] Trial 72 finished with value: 60.248558044433594 and parameters: {'reactant': 'Cc1ncccc1Br', 'reagent': 'c1ccc(-c2nn(-c3ccccc3)c(-c3ccccc3)c2-n2nccc2P(C2CCCCC2)C2CCCCC2)cc1.OB(O)B(O)O'}. Best is trial 12 with value: 73.4721908569336.\n",
      "[I 2025-08-25 01:55:29,042] Trial 73 finished with value: 69.30066680908203 and parameters: {'reactant': 'N#Cc1ccc(Br)cc1F', 'reagent': 'COc1ccccc1C1=C(P(C2CCCCC2)C2CCCCC2)C2c3ccccc3C1c1ccccc12.OB(O)B(O)O'}. Best is trial 12 with value: 73.4721908569336.\n",
      "[I 2025-08-25 01:55:29,248] Trial 74 finished with value: 73.14525604248047 and parameters: {'reactant': 'Cc1nc2cc(OS(=O)(=O)N(C)C)ccc2s1', 'reagent': 'CC(C)(C)P(c1ccccc1)C(C)(C)C.OB(O)B(O)O'}. Best is trial 12 with value: 73.4721908569336.\n",
      "[I 2025-08-25 01:55:29,456] Trial 75 finished with value: 62.186710357666016 and parameters: {'reactant': 'Cc1cc(F)ccc1Cl', 'reagent': 'CC(C)(C)P(c1ccccc1)C(C)(C)C.OB(O)B(O)O'}. Best is trial 12 with value: 73.4721908569336.\n",
      "[I 2025-08-25 01:55:29,675] Trial 76 finished with value: 64.78515625 and parameters: {'reactant': 'COc1ncc(Br)c(OC)n1', 'reagent': 'CC(C)(C)P(c1ccccc1)C(C)(C)C.OB(O)B(O)O'}. Best is trial 12 with value: 73.4721908569336.\n",
      "[I 2025-08-25 01:55:29,921] Trial 77 finished with value: 68.13567352294922 and parameters: {'reactant': 'Cc1nc2cc(OS(=O)(=O)N(C)C)ccc2s1', 'reagent': 'CCCCC1([PH+](C2CCCCC2)C2CCCCC2)c2ccccc2-c2ccccc21.F[B-](F)(F)F.OB(O)B(O)O'}. Best is trial 12 with value: 73.4721908569336.\n",
      "[I 2025-08-25 01:55:30,139] Trial 78 finished with value: 70.75542449951172 and parameters: {'reactant': 'Brc1ccc(-c2ccccc2)cc1', 'reagent': 'COc1cccc(OC)c1-c1ccccc1P(c1ccccc1)c1ccccc1.OB(O)B(O)O'}. Best is trial 12 with value: 73.4721908569336.\n",
      "[I 2025-08-25 01:55:30,351] Trial 79 finished with value: 55.07514953613281 and parameters: {'reactant': 'N#Cc1ccc(Cl)cc1F', 'reagent': 'CC(=C(c1ccccc1)c1ccccc1)P(C1CCCCC1)C1CCCCC1.OB(O)B(O)O'}. Best is trial 12 with value: 73.4721908569336.\n",
      "[I 2025-08-25 01:55:30,566] Trial 80 finished with value: 67.1364517211914 and parameters: {'reactant': 'Brc1ccc2c(c1)OCO2', 'reagent': 'c1ccc(-c2cc3ccccc3n2P(C2CCCCC2)C2CCCCC2)cc1.OB(O)B(O)O'}. Best is trial 12 with value: 73.4721908569336.\n",
      "[I 2025-08-25 01:55:30,810] Trial 81 finished with value: 72.32681274414062 and parameters: {'reactant': 'Cc1nc2cc(OS(=O)(=O)N(C)C)ccc2s1', 'reagent': 'COc1ccccc1C1=C(P(C2CCCCC2)C2CCCCC2)C2c3ccccc3C1c1ccccc12.OB(O)B(O)O'}. Best is trial 12 with value: 73.4721908569336.\n",
      "[I 2025-08-25 01:55:31,046] Trial 82 finished with value: 71.35870361328125 and parameters: {'reactant': 'Cc1nc2cc(OS(=O)(=O)N(C)C)ccc2s1', 'reagent': 'COc1cc(C(C)(C)C)cc(C(C)(C)C)c1-c1ccccc1P(C1CCCCC1)C1CCCCC1.OB(O)B(O)O'}. Best is trial 12 with value: 73.4721908569336.\n",
      "[I 2025-08-25 01:55:31,276] Trial 83 finished with value: 61.441410064697266 and parameters: {'reactant': 'CCOC(=O)C(C)(C)Oc1ccc(Cl)cc1', 'reagent': 'CC(C)(C)P(c1ccccc1)C(C)(C)C.OB(O)B(O)O'}. Best is trial 12 with value: 73.4721908569336.\n",
      "[I 2025-08-25 01:55:31,470] Trial 84 finished with value: 56.30251693725586 and parameters: {'reactant': 'Brc1ccc2occc2c1', 'reagent': 'Cc1ccccc1-c1ccccc1P(C1CCCCC1)C1CCCCC1.OB(O)B(O)O'}. Best is trial 12 with value: 73.4721908569336.\n",
      "[I 2025-08-25 01:55:31,678] Trial 85 finished with value: 55.70588684082031 and parameters: {'reactant': 'Brc1ccccc1-c1ccccc1', 'reagent': 'c1ccc(P(C2CCCCC2)C2CCCCC2)c(-n2c3ccccc3c3ccccc32)c1.OB(O)B(O)O'}. Best is trial 12 with value: 73.4721908569336.\n",
      "[I 2025-08-25 01:55:31,898] Trial 86 finished with value: 57.457454681396484 and parameters: {'reactant': 'COc1ccc(Br)cc1', 'reagent': 'COc1ccccc1C1=C(P(C2CCCCC2)C2CCCCC2)C2c3ccccc3C1c1ccccc12.OB(O)B(O)O'}. Best is trial 12 with value: 73.4721908569336.\n",
      "[I 2025-08-25 01:55:32,140] Trial 87 finished with value: 73.63999938964844 and parameters: {'reactant': 'Cc1nc2cc(OS(=O)(=O)N(C)C)ccc2s1', 'reagent': 'CN(C)c1ccc(P(c2ccccc2)c2ccccc2)cc1.OB(O)B(O)O'}. Best is trial 87 with value: 73.63999938964844.\n",
      "[I 2025-08-25 01:55:32,371] Trial 88 finished with value: 62.60960006713867 and parameters: {'reactant': 'Clc1ccc2[nH]ccc2c1', 'reagent': 'CN(C)c1ccc(P(c2ccccc2)c2ccccc2)cc1.OB(O)B(O)O'}. Best is trial 87 with value: 73.63999938964844.\n",
      "[I 2025-08-25 01:55:32,586] Trial 89 finished with value: 69.46924591064453 and parameters: {'reactant': 'FC(F)(F)c1ccc(Cl)cc1', 'reagent': 'CN(C)c1ccc(P(c2ccccc2)c2ccccc2)cc1.OB(O)B(O)O'}. Best is trial 87 with value: 73.63999938964844.\n",
      "[I 2025-08-25 01:55:32,807] Trial 90 finished with value: 70.11227416992188 and parameters: {'reactant': 'CN(C)S(=O)(=O)Oc1ccc(-c2ccccc2)cc1', 'reagent': 'CN(C)c1ccc(P(c2ccccc2)c2ccccc2)cc1.OB(O)B(O)O'}. Best is trial 87 with value: 73.63999938964844.\n",
      "[I 2025-08-25 01:55:33,056] Trial 91 finished with value: 69.19328308105469 and parameters: {'reactant': 'Cc1nc2cc(OS(=O)(=O)N(C)C)ccc2s1', 'reagent': 'COc1ccccc1C1=C(P(C2CCCCC2)C2CCCCC2)C2c3ccccc3C1c1ccccc12.OB(O)B(O)O'}. Best is trial 87 with value: 73.63999938964844.\n",
      "[I 2025-08-25 01:55:33,278] Trial 92 finished with value: 69.98175811767578 and parameters: {'reactant': 'Cc1nc2cc(OS(=O)(=O)N(C)C)ccc2s1', 'reagent': 'c1ccc(P(c2ccccc2)C2CCCCC2)cc1.OB(O)B(O)O'}. Best is trial 87 with value: 73.63999938964844.\n",
      "[I 2025-08-25 01:55:33,487] Trial 93 finished with value: 65.35939025878906 and parameters: {'reactant': 'Clc1ccc(-c2ccccc2)cc1', 'reagent': 'CN(C)c1ccccc1-c1ccccc1P(c1ccccc1)c1ccccc1.OB(O)B(O)O'}. Best is trial 87 with value: 73.63999938964844.\n",
      "[I 2025-08-25 01:55:33,737] Trial 94 finished with value: 71.95991516113281 and parameters: {'reactant': 'Cc1nc2cc(OS(=O)(=O)N(C)C)ccc2s1', 'reagent': 'Fc1ccc(P(c2ccc(F)cc2)c2ccc(F)cc2)cc1.OB(O)B(O)O'}. Best is trial 87 with value: 73.63999938964844.\n",
      "[I 2025-08-25 01:55:33,987] Trial 95 finished with value: 68.84490203857422 and parameters: {'reactant': 'Cc1nc2cc(OS(=O)(=O)N(C)C)ccc2s1', 'reagent': 'Fc1ccc(P(c2ccc(F)cc2)c2ccc(F)cc2)cc1.OB(O)B(O)O'}. Best is trial 87 with value: 73.63999938964844.\n",
      "[I 2025-08-25 01:55:34,207] Trial 96 finished with value: 64.0259017944336 and parameters: {'reactant': 'CCOC(=O)c1ccc(Cl)c(F)c1', 'reagent': 'Fc1ccc(P(c2ccc(F)cc2)c2ccc(F)cc2)cc1.OB(O)B(O)O'}. Best is trial 87 with value: 73.63999938964844.\n",
      "[I 2025-08-25 01:55:34,414] Trial 97 finished with value: 69.54137420654297 and parameters: {'reactant': 'COC(=O)c1ccc(Cl)cc1', 'reagent': 'c1ccc(P(c2ccccc2)c2ccccc2)cc1.OB(O)B(O)O'}. Best is trial 87 with value: 73.63999938964844.\n",
      "[I 2025-08-25 01:55:34,644] Trial 98 finished with value: 72.63225555419922 and parameters: {'reactant': 'Cc1nc2cc(OS(=O)(=O)N(C)C)ccc2s1', 'reagent': 'COc1cccc(OC)c1-c1ccccc1P(c1ccccc1)c1ccccc1.OB(O)B(O)O'}. Best is trial 87 with value: 73.63999938964844.\n",
      "[I 2025-08-25 01:55:34,890] Trial 99 finished with value: 71.04911041259766 and parameters: {'reactant': 'Cc1nc2cc(OS(=O)(=O)N(C)C)ccc2s1', 'reagent': 'COc1cccc(OC)c1-c1ccccc1P(c1ccccc1)c1ccccc1.OB(O)B(O)O'}. Best is trial 87 with value: 73.63999938964844.\n"
     ]
    },
    {
     "name": "stdout",
     "output_type": "stream",
     "text": [
      "[Round 2] Fine-tuning on 160 samples, eval 40 samples\n",
      "{'loss': 928.3008, 'grad_norm': 2800.089599609375, 'learning_rate': 1e-05, 'epoch': 5.0}\n",
      "{'train_runtime': 3.3504, 'train_samples_per_second': 238.778, 'train_steps_per_second': 14.924, 'train_loss': 928.30078125, 'epoch': 5.0}\n",
      "\n",
      "==== Round 3/5 ====\n"
     ]
    },
    {
     "name": "stderr",
     "output_type": "stream",
     "text": [
      "[I 2025-08-25 01:55:39,832] A new study created in RDB with name: yield_round_3\n",
      "[I 2025-08-25 01:55:40,073] Trial 0 finished with value: 39.10562515258789 and parameters: {'reactant': 'CN(C)S(=O)(=O)Oc1ccc2ncccc2c1', 'reagent': 'c1ccc(-n2cccc2P(C2CCCCC2)C2CCCCC2)cc1.OB(O)B(O)O'}. Best is trial 0 with value: 39.10562515258789.\n",
      "[I 2025-08-25 01:55:40,277] Trial 1 finished with value: 42.85639572143555 and parameters: {'reactant': 'COc1cc(Cl)ccc1F', 'reagent': 'c1ccc(-c2ccccc2P(C2CCCCC2)C2CCCCC2)cc1.OB(O)B(O)O'}. Best is trial 1 with value: 42.85639572143555.\n",
      "[I 2025-08-25 01:55:40,486] Trial 2 finished with value: 54.215187072753906 and parameters: {'reactant': 'COc1ccc(Cl)cc1F', 'reagent': 'c1ccc(P(C2CCCCC2)C2CCCCC2)c(-n2c3ccccc3c3ccccc32)c1.OB(O)B(O)O'}. Best is trial 2 with value: 54.215187072753906.\n",
      "[I 2025-08-25 01:55:40,706] Trial 3 finished with value: 44.11345291137695 and parameters: {'reactant': 'FC(F)(F)c1ccc(Br)cc1', 'reagent': 'CC(C)(C)P(c1ccccc1)C(C)(C)C.OB(O)B(O)O'}. Best is trial 2 with value: 54.215187072753906.\n",
      "[I 2025-08-25 01:55:40,925] Trial 4 finished with value: 41.15202713012695 and parameters: {'reactant': 'Brc1ccc2c(c1)OCO2', 'reagent': 'COc1ccc(P(c2ccc(OC)cc2)c2ccc(OC)cc2)cc1.OB(O)B(O)O'}. Best is trial 2 with value: 54.215187072753906.\n",
      "[I 2025-08-25 01:55:41,193] Trial 5 finished with value: 37.87594985961914 and parameters: {'reactant': 'CN(C)S(=O)(=O)Oc1ccc(-c2ccccc2)cc1', 'reagent': 'Cc1cc(C)cc(P(c2cc(C)cc(C)c2)c2cc(C)cc(C)c2)c1.OB(O)B(O)O'}. Best is trial 2 with value: 54.215187072753906.\n",
      "[I 2025-08-25 01:55:41,413] Trial 6 finished with value: 31.881649017333984 and parameters: {'reactant': 'Clc1cnc2ccccc2c1', 'reagent': 'COc1ccccc1C1=C(P(C2CCCCC2)C2CCCCC2)C2c3ccccc3C1c1ccccc12.OB(O)B(O)O'}. Best is trial 2 with value: 54.215187072753906.\n",
      "[I 2025-08-25 01:55:41,637] Trial 7 finished with value: 39.95695114135742 and parameters: {'reactant': 'CCOC(=O)C(C)(C)Oc1ccc(Cl)cc1', 'reagent': 'c1ccc(P(c2ccccc2)C2CCCCC2)cc1.OB(O)B(O)O'}. Best is trial 2 with value: 54.215187072753906.\n",
      "[I 2025-08-25 01:55:41,847] Trial 8 finished with value: 32.96266555786133 and parameters: {'reactant': 'Clc1ccc(-c2ccccc2)cc1', 'reagent': 'c1ccc(-c2ccccc2P(C2CCCCC2)C2CCCCC2)cc1.OB(O)B(O)O'}. Best is trial 2 with value: 54.215187072753906.\n",
      "[I 2025-08-25 01:55:42,050] Trial 9 finished with value: 38.3820915222168 and parameters: {'reactant': 'COc1ccc(Cl)cc1F', 'reagent': 'C[PH+](C)C.F[B-](F)(F)F.OB(O)B(O)O'}. Best is trial 2 with value: 54.215187072753906.\n",
      "[I 2025-08-25 01:55:42,286] Trial 10 finished with value: 61.957942962646484 and parameters: {'reactant': 'CCOC(=O)c1ccc(Cl)c(F)c1', 'reagent': 'c1ccc(P(C2CCCCC2)C2CCCCC2)c(-n2c3ccccc3c3ccccc32)c1.OB(O)B(O)O'}. Best is trial 10 with value: 61.957942962646484.\n",
      "[I 2025-08-25 01:55:42,516] Trial 11 finished with value: 52.85093688964844 and parameters: {'reactant': 'Brc1ccc2occc2c1', 'reagent': 'c1ccc(P(C2CCCCC2)C2CCCCC2)c(-n2c3ccccc3c3ccccc32)c1.OB(O)B(O)O'}. Best is trial 10 with value: 61.957942962646484.\n",
      "[I 2025-08-25 01:55:42,770] Trial 12 finished with value: 51.966102600097656 and parameters: {'reactant': 'CCOC(=O)c1ccc(Cl)c(F)c1', 'reagent': 'c1ccc(P(C2CCCCC2)C2CCCCC2)c(-n2c3ccccc3c3ccccc32)c1.OB(O)B(O)O'}. Best is trial 10 with value: 61.957942962646484.\n",
      "[I 2025-08-25 01:55:42,996] Trial 13 finished with value: 32.388553619384766 and parameters: {'reactant': 'CN(C)C(=O)c1ccc(Cl)cc1', 'reagent': 'Fc1ccc(P(c2ccc(F)cc2)c2ccc(F)cc2)cc1.OB(O)B(O)O'}. Best is trial 10 with value: 61.957942962646484.\n",
      "[I 2025-08-25 01:55:43,218] Trial 14 finished with value: 43.71206283569336 and parameters: {'reactant': 'Brc1ccccc1-c1ccccc1', 'reagent': 'c1ccc(P(C2CCCCC2)C2CCCCC2)c(-n2c3ccccc3c3ccccc32)c1.OB(O)B(O)O'}. Best is trial 10 with value: 61.957942962646484.\n",
      "[I 2025-08-25 01:55:43,437] Trial 15 finished with value: 34.786678314208984 and parameters: {'reactant': 'Cc1cccc(C)c1Cl', 'reagent': 'CC(C)c1cc(C(C)C)c(-c2ccccc2P(c2ccccc2)c2ccccc2)c(C(C)C)c1.OB(O)B(O)O'}. Best is trial 10 with value: 61.957942962646484.\n",
      "[I 2025-08-25 01:55:43,637] Trial 16 finished with value: 37.501163482666016 and parameters: {'reactant': 'Brc1ccsc1', 'reagent': 'CN(C)c1ccc(P(c2ccccc2)c2ccccc2)cc1.OB(O)B(O)O'}. Best is trial 10 with value: 61.957942962646484.\n",
      "[I 2025-08-25 01:55:43,908] Trial 17 finished with value: 40.41727828979492 and parameters: {'reactant': 'CN(C)S(=O)(=O)Oc1ccc2[nH]ccc2c1', 'reagent': 'CCCCC1([PH+](C2CCCCC2)C2CCCCC2)c2ccccc2-c2ccccc21.F[B-](F)(F)F.OB(O)B(O)O'}. Best is trial 10 with value: 61.957942962646484.\n",
      "[I 2025-08-25 01:55:44,115] Trial 18 finished with value: 45.47305679321289 and parameters: {'reactant': 'Cc1ncccc1Br', 'reagent': 'COc1cccc(OC)c1-c1ccccc1P(c1ccccc1)c1ccccc1.OB(O)B(O)O'}. Best is trial 10 with value: 61.957942962646484.\n",
      "[I 2025-08-25 01:55:44,326] Trial 19 finished with value: 41.052833557128906 and parameters: {'reactant': 'Brc1cnc2ccccc2c1', 'reagent': 'COc1ccccc1P(c1ccccc1OC)c1ccccc1OC.OB(O)B(O)O'}. Best is trial 10 with value: 61.957942962646484.\n",
      "[I 2025-08-25 01:55:44,584] Trial 20 finished with value: 32.67002868652344 and parameters: {'reactant': 'COc1ncc(Br)c(OC)n1', 'reagent': 'c1ccc(-c2nn(-c3ccccc3)c(-c3ccccc3)c2-n2nccc2P(C2CCCCC2)C2CCCCC2)cc1.OB(O)B(O)O'}. Best is trial 10 with value: 61.957942962646484.\n",
      "[I 2025-08-25 01:55:44,829] Trial 21 finished with value: 43.88877487182617 and parameters: {'reactant': 'CCOC(=O)c1cc(Br)cn1CC', 'reagent': 'c1ccc(P(C2CCCCC2)C2CCCCC2)c(-n2c3ccccc3c3ccccc32)c1.OB(O)B(O)O'}. Best is trial 10 with value: 61.957942962646484.\n",
      "[I 2025-08-25 01:55:45,042] Trial 22 finished with value: 48.79155349731445 and parameters: {'reactant': 'Brc1ccc2occc2c1', 'reagent': 'c1ccc(P(C2CCCCC2)C2CCCCC2)c(-n2c3ccccc3c3ccccc32)c1.OB(O)B(O)O'}. Best is trial 10 with value: 61.957942962646484.\n",
      "[I 2025-08-25 01:55:45,260] Trial 23 finished with value: 45.430694580078125 and parameters: {'reactant': 'Clc1ccc2[nH]ccc2c1', 'reagent': 'CC(=C(c1ccccc1)c1ccccc1)P(C1CCCCC1)C1CCCCC1.OB(O)B(O)O'}. Best is trial 10 with value: 61.957942962646484.\n",
      "[I 2025-08-25 01:55:45,487] Trial 24 finished with value: 43.52816390991211 and parameters: {'reactant': 'COC(=O)c1ccc(Br)cc1', 'reagent': 'C1CCC([PH+](C2CCCCC2)C2CCCCC2)CC1.F[B-](F)(F)F.OB(O)B(O)O'}. Best is trial 10 with value: 61.957942962646484.\n",
      "[I 2025-08-25 01:55:45,691] Trial 25 finished with value: 38.408843994140625 and parameters: {'reactant': 'Cc1cc(F)ccc1Cl', 'reagent': 'c1ccc(-c2cc3ccccc3n2P(C2CCCCC2)C2CCCCC2)cc1.OB(O)B(O)O'}. Best is trial 10 with value: 61.957942962646484.\n",
      "[I 2025-08-25 01:55:45,920] Trial 26 finished with value: 40.749637603759766 and parameters: {'reactant': 'N#Cc1ccc(Cl)cc1F', 'reagent': 'COc1cc(C(C)(C)C)cc(C(C)(C)C)c1-c1ccccc1P(C1CCCCC1)C1CCCCC1.OB(O)B(O)O'}. Best is trial 10 with value: 61.957942962646484.\n",
      "[I 2025-08-25 01:55:46,128] Trial 27 finished with value: 39.60852813720703 and parameters: {'reactant': 'COc1ccc(Br)cc1', 'reagent': 'Cc1ccccc1-c1ccccc1P(C1CCCCC1)C1CCCCC1.OB(O)B(O)O'}. Best is trial 10 with value: 61.957942962646484.\n",
      "[I 2025-08-25 01:55:46,362] Trial 28 finished with value: 32.202415466308594 and parameters: {'reactant': 'Cc1nc2cc(OS(=O)(=O)N(C)C)ccc2s1', 'reagent': 'c1ccc(P(C2CCCCC2)C2CCCCC2)c(-n2c3ccccc3c3ccccc32)c1.OB(O)B(O)O'}. Best is trial 10 with value: 61.957942962646484.\n",
      "[I 2025-08-25 01:55:46,560] Trial 29 finished with value: 44.383609771728516 and parameters: {'reactant': 'Cc1c(N)cccc1Cl', 'reagent': 'c1ccc(P(c2ccccc2)c2ccccc2)cc1.OB(O)B(O)O'}. Best is trial 10 with value: 61.957942962646484.\n",
      "[I 2025-08-25 01:55:46,788] Trial 30 finished with value: 52.45081329345703 and parameters: {'reactant': 'COC(=O)c1ccc(Cl)cc1', 'reagent': 'c1ccc(P(C2CCCCC2)C2CCCCC2)c(-n2c3ccccc3c3ccccc32)c1.OB(O)B(O)O'}. Best is trial 10 with value: 61.957942962646484.\n",
      "[I 2025-08-25 01:55:47,006] Trial 31 finished with value: 43.166542053222656 and parameters: {'reactant': 'COC(=O)c1ccc(Cl)cc1', 'reagent': 'CN(C)c1ccccc1-c1ccccc1P(c1ccccc1)c1ccccc1.OB(O)B(O)O'}. Best is trial 10 with value: 61.957942962646484.\n",
      "[I 2025-08-25 01:55:47,216] Trial 32 finished with value: 33.48263168334961 and parameters: {'reactant': 'N#Cc1ccc(Br)cc1F', 'reagent': 'c1ccc(-n2cccc2P(C2CCCCC2)C2CCCCC2)cc1.OB(O)B(O)O'}. Best is trial 10 with value: 61.957942962646484.\n",
      "[I 2025-08-25 01:55:47,439] Trial 33 finished with value: 44.51064682006836 and parameters: {'reactant': 'FC(F)(F)c1ccc(Cl)cc1', 'reagent': 'c1ccc(P(C2CCCCC2)C2CCCCC2)c(-n2c3ccccc3c3ccccc32)c1.OB(O)B(O)O'}. Best is trial 10 with value: 61.957942962646484.\n",
      "[I 2025-08-25 01:55:47,668] Trial 34 finished with value: 49.42790985107422 and parameters: {'reactant': 'CN(C)S(=O)(=O)Oc1ccc2ncccc2c1', 'reagent': 'c1ccc(P(C2CCCCC2)C2CCCCC2)c(-n2c3ccccc3c3ccccc32)c1.OB(O)B(O)O'}. Best is trial 10 with value: 61.957942962646484.\n",
      "[I 2025-08-25 01:55:47,888] Trial 35 finished with value: 48.37248229980469 and parameters: {'reactant': 'Brc1ccc(-c2ccccc2)cc1', 'reagent': 'c1ccc(P(C2CCCCC2)C2CCCCC2)c(-n2c3ccccc3c3ccccc32)c1.OB(O)B(O)O'}. Best is trial 10 with value: 61.957942962646484.\n",
      "[I 2025-08-25 01:55:48,102] Trial 36 finished with value: 36.280723571777344 and parameters: {'reactant': 'Clc1ccc2c(c1)OCO2', 'reagent': 'CC(C)(C)P(c1ccccc1)C(C)(C)C.OB(O)B(O)O'}. Best is trial 10 with value: 61.957942962646484.\n",
      "[I 2025-08-25 01:55:48,341] Trial 37 finished with value: 32.039939880371094 and parameters: {'reactant': 'CCOC(=O)c1ccc(Cl)c(F)c1', 'reagent': 'COc1ccc(P(c2ccc(OC)cc2)c2ccc(OC)cc2)cc1.OB(O)B(O)O'}. Best is trial 10 with value: 61.957942962646484.\n",
      "[I 2025-08-25 01:55:48,560] Trial 38 finished with value: 40.111690521240234 and parameters: {'reactant': 'COc1ccc(Br)cc1F', 'reagent': 'Cc1cc(C)cc(P(c2cc(C)cc(C)c2)c2cc(C)cc(C)c2)c1.OB(O)B(O)O'}. Best is trial 10 with value: 61.957942962646484.\n",
      "[I 2025-08-25 01:55:48,780] Trial 39 finished with value: 35.99075698852539 and parameters: {'reactant': 'COc1ccc(Cl)cc1F', 'reagent': 'COc1ccccc1C1=C(P(C2CCCCC2)C2CCCCC2)C2c3ccccc3C1c1ccccc12.OB(O)B(O)O'}. Best is trial 10 with value: 61.957942962646484.\n",
      "[I 2025-08-25 01:55:48,984] Trial 40 finished with value: 38.413490295410156 and parameters: {'reactant': 'COC(=O)c1ccc(Cl)cc1', 'reagent': 'c1ccc(P(c2ccccc2)C2CCCCC2)cc1.OB(O)B(O)O'}. Best is trial 10 with value: 61.957942962646484.\n",
      "[I 2025-08-25 01:55:49,207] Trial 41 finished with value: 54.19219207763672 and parameters: {'reactant': 'CCOC(=O)c1ccc(Cl)c(F)c1', 'reagent': 'c1ccc(P(C2CCCCC2)C2CCCCC2)c(-n2c3ccccc3c3ccccc32)c1.OB(O)B(O)O'}. Best is trial 10 with value: 61.957942962646484.\n",
      "[I 2025-08-25 01:55:49,434] Trial 42 finished with value: 50.34503936767578 and parameters: {'reactant': 'CCOC(=O)c1ccc(Cl)c(F)c1', 'reagent': 'c1ccc(P(C2CCCCC2)C2CCCCC2)c(-n2c3ccccc3c3ccccc32)c1.OB(O)B(O)O'}. Best is trial 10 with value: 61.957942962646484.\n",
      "[I 2025-08-25 01:55:49,646] Trial 43 finished with value: 47.72443771362305 and parameters: {'reactant': 'Brc1ccc2occc2c1', 'reagent': 'C[PH+](C)C.F[B-](F)(F)F.OB(O)B(O)O'}. Best is trial 10 with value: 61.957942962646484.\n",
      "[I 2025-08-25 01:55:49,859] Trial 44 finished with value: 33.111080169677734 and parameters: {'reactant': 'COc1cc(Cl)ccc1F', 'reagent': 'c1ccc(-c2ccccc2P(C2CCCCC2)C2CCCCC2)cc1.OB(O)B(O)O'}. Best is trial 10 with value: 61.957942962646484.\n",
      "[I 2025-08-25 01:55:50,076] Trial 45 finished with value: 39.20362854003906 and parameters: {'reactant': 'FC(F)(F)c1ccc(Br)cc1', 'reagent': 'Fc1ccc(P(c2ccc(F)cc2)c2ccc(F)cc2)cc1.OB(O)B(O)O'}. Best is trial 10 with value: 61.957942962646484.\n",
      "[I 2025-08-25 01:55:50,296] Trial 46 finished with value: 43.62272262573242 and parameters: {'reactant': 'Brc1ccc2c(c1)OCO2', 'reagent': 'c1ccc(P(C2CCCCC2)C2CCCCC2)c(-n2c3ccccc3c3ccccc32)c1.OB(O)B(O)O'}. Best is trial 10 with value: 61.957942962646484.\n",
      "[I 2025-08-25 01:55:50,549] Trial 47 finished with value: 40.966670989990234 and parameters: {'reactant': 'CCOC(=O)c1ccc(Cl)c(F)c1', 'reagent': 'CC(C)c1cc(C(C)C)c(-c2ccccc2P(c2ccccc2)c2ccccc2)c(C(C)C)c1.OB(O)B(O)O'}. Best is trial 10 with value: 61.957942962646484.\n",
      "[I 2025-08-25 01:55:50,797] Trial 48 finished with value: 39.548946380615234 and parameters: {'reactant': 'CN(C)S(=O)(=O)Oc1ccc(-c2ccccc2)cc1', 'reagent': 'CCCCC1([PH+](C2CCCCC2)C2CCCCC2)c2ccccc2-c2ccccc21.F[B-](F)(F)F.OB(O)B(O)O'}. Best is trial 10 with value: 61.957942962646484.\n",
      "[I 2025-08-25 01:55:51,002] Trial 49 finished with value: 38.02198791503906 and parameters: {'reactant': 'COc1ccc(Cl)cc1F', 'reagent': 'CN(C)c1ccc(P(c2ccccc2)c2ccccc2)cc1.OB(O)B(O)O'}. Best is trial 10 with value: 61.957942962646484.\n",
      "[I 2025-08-25 01:55:51,228] Trial 50 finished with value: 40.16047286987305 and parameters: {'reactant': 'Clc1cnc2ccccc2c1', 'reagent': 'c1ccc(P(C2CCCCC2)C2CCCCC2)c(-n2c3ccccc3c3ccccc32)c1.OB(O)B(O)O'}. Best is trial 10 with value: 61.957942962646484.\n",
      "[I 2025-08-25 01:55:51,467] Trial 51 finished with value: 51.35084533691406 and parameters: {'reactant': 'CCOC(=O)c1ccc(Cl)c(F)c1', 'reagent': 'c1ccc(P(C2CCCCC2)C2CCCCC2)c(-n2c3ccccc3c3ccccc32)c1.OB(O)B(O)O'}. Best is trial 10 with value: 61.957942962646484.\n",
      "[I 2025-08-25 01:55:51,714] Trial 52 finished with value: 52.23979187011719 and parameters: {'reactant': 'CCOC(=O)C(C)(C)Oc1ccc(Cl)cc1', 'reagent': 'c1ccc(P(C2CCCCC2)C2CCCCC2)c(-n2c3ccccc3c3ccccc32)c1.OB(O)B(O)O'}. Best is trial 10 with value: 61.957942962646484.\n",
      "[I 2025-08-25 01:55:51,943] Trial 53 finished with value: 46.799983978271484 and parameters: {'reactant': 'CCOC(=O)C(C)(C)Oc1ccc(Cl)cc1', 'reagent': 'COc1cccc(OC)c1-c1ccccc1P(c1ccccc1)c1ccccc1.OB(O)B(O)O'}. Best is trial 10 with value: 61.957942962646484.\n",
      "[I 2025-08-25 01:55:52,207] Trial 54 finished with value: 41.609375 and parameters: {'reactant': 'CCOC(=O)C(C)(C)Oc1ccc(Cl)cc1', 'reagent': 'c1ccc(-c2nn(-c3ccccc3)c(-c3ccccc3)c2-n2nccc2P(C2CCCCC2)C2CCCCC2)cc1.OB(O)B(O)O'}. Best is trial 10 with value: 61.957942962646484.\n",
      "[I 2025-08-25 01:55:52,439] Trial 55 finished with value: 44.7369384765625 and parameters: {'reactant': 'CN(C)C(=O)c1ccc(Cl)cc1', 'reagent': 'c1ccc(P(C2CCCCC2)C2CCCCC2)c(-n2c3ccccc3c3ccccc32)c1.OB(O)B(O)O'}. Best is trial 10 with value: 61.957942962646484.\n",
      "[I 2025-08-25 01:55:52,651] Trial 56 finished with value: 34.63836669921875 and parameters: {'reactant': 'Clc1ccc(-c2ccccc2)cc1', 'reagent': 'COc1ccccc1P(c1ccccc1OC)c1ccccc1OC.OB(O)B(O)O'}. Best is trial 10 with value: 61.957942962646484.\n",
      "[I 2025-08-25 01:55:52,929] Trial 57 finished with value: 34.85352325439453 and parameters: {'reactant': 'Brc1ccccc1-c1ccccc1', 'reagent': 'COc1cc(C(C)(C)C)cc(C(C)(C)C)c1-c1ccccc1P(C1CCCCC1)C1CCCCC1.OB(O)B(O)O'}. Best is trial 10 with value: 61.957942962646484.\n",
      "[I 2025-08-25 01:55:53,141] Trial 58 finished with value: 39.60723114013672 and parameters: {'reactant': 'Brc1ccc2occc2c1', 'reagent': 'c1ccc(-c2cc3ccccc3n2P(C2CCCCC2)C2CCCCC2)cc1.OB(O)B(O)O'}. Best is trial 10 with value: 61.957942962646484.\n",
      "[I 2025-08-25 01:55:53,354] Trial 59 finished with value: 43.78343200683594 and parameters: {'reactant': 'Brc1cnc2ccccc2c1', 'reagent': 'CC(=C(c1ccccc1)c1ccccc1)P(C1CCCCC1)C1CCCCC1.OB(O)B(O)O'}. Best is trial 10 with value: 61.957942962646484.\n",
      "[I 2025-08-25 01:55:53,607] Trial 60 finished with value: 49.36209487915039 and parameters: {'reactant': 'Cc1cccc(C)c1Cl', 'reagent': 'C1CCC([PH+](C2CCCCC2)C2CCCCC2)CC1.F[B-](F)(F)F.OB(O)B(O)O'}. Best is trial 10 with value: 61.957942962646484.\n",
      "[I 2025-08-25 01:55:53,833] Trial 61 finished with value: 53.83275604248047 and parameters: {'reactant': 'Brc1ccsc1', 'reagent': 'c1ccc(P(C2CCCCC2)C2CCCCC2)c(-n2c3ccccc3c3ccccc32)c1.OB(O)B(O)O'}. Best is trial 10 with value: 61.957942962646484.\n",
      "[I 2025-08-25 01:55:54,048] Trial 62 finished with value: 65.04999542236328 and parameters: {'reactant': 'Brc1ccsc1', 'reagent': 'c1ccc(P(C2CCCCC2)C2CCCCC2)c(-n2c3ccccc3c3ccccc32)c1.OB(O)B(O)O'}. Best is trial 62 with value: 65.04999542236328.\n",
      "[I 2025-08-25 01:55:54,240] Trial 63 finished with value: 53.737388610839844 and parameters: {'reactant': 'Brc1ccsc1', 'reagent': 'Cc1ccccc1-c1ccccc1P(C1CCCCC1)C1CCCCC1.OB(O)B(O)O'}. Best is trial 62 with value: 65.04999542236328.\n",
      "[I 2025-08-25 01:55:54,437] Trial 64 finished with value: 47.872581481933594 and parameters: {'reactant': 'Brc1ccsc1', 'reagent': 'Cc1ccccc1-c1ccccc1P(C1CCCCC1)C1CCCCC1.OB(O)B(O)O'}. Best is trial 62 with value: 65.04999542236328.\n",
      "[I 2025-08-25 01:55:54,638] Trial 65 finished with value: 51.227699279785156 and parameters: {'reactant': 'Brc1ccsc1', 'reagent': 'Cc1ccccc1-c1ccccc1P(C1CCCCC1)C1CCCCC1.OB(O)B(O)O'}. Best is trial 62 with value: 65.04999542236328.\n",
      "[I 2025-08-25 01:55:54,838] Trial 66 finished with value: 38.84574890136719 and parameters: {'reactant': 'Brc1ccsc1', 'reagent': 'c1ccc(P(c2ccccc2)c2ccccc2)cc1.OB(O)B(O)O'}. Best is trial 62 with value: 65.04999542236328.\n",
      "[I 2025-08-25 01:55:55,041] Trial 67 finished with value: 49.90378189086914 and parameters: {'reactant': 'Brc1ccsc1', 'reagent': 'c1ccc(-n2cccc2P(C2CCCCC2)C2CCCCC2)cc1.OB(O)B(O)O'}. Best is trial 62 with value: 65.04999542236328.\n",
      "[I 2025-08-25 01:55:55,259] Trial 68 finished with value: 48.99777603149414 and parameters: {'reactant': 'Clc1ccc2[nH]ccc2c1', 'reagent': 'CN(C)c1ccccc1-c1ccccc1P(c1ccccc1)c1ccccc1.OB(O)B(O)O'}. Best is trial 62 with value: 65.04999542236328.\n",
      "[I 2025-08-25 01:55:55,453] Trial 69 finished with value: 54.62682342529297 and parameters: {'reactant': 'Cc1ncccc1Br', 'reagent': 'CC(C)(C)P(c1ccccc1)C(C)(C)C.OB(O)B(O)O'}. Best is trial 62 with value: 65.04999542236328.\n",
      "[I 2025-08-25 01:55:55,681] Trial 70 finished with value: 62.50275421142578 and parameters: {'reactant': 'Cc1ncccc1Br', 'reagent': 'CC(C)(C)P(c1ccccc1)C(C)(C)C.OB(O)B(O)O'}. Best is trial 62 with value: 65.04999542236328.\n",
      "[I 2025-08-25 01:55:55,877] Trial 71 finished with value: 61.285400390625 and parameters: {'reactant': 'Cc1ncccc1Br', 'reagent': 'CC(C)(C)P(c1ccccc1)C(C)(C)C.OB(O)B(O)O'}. Best is trial 62 with value: 65.04999542236328.\n",
      "[I 2025-08-25 01:55:56,070] Trial 72 finished with value: 57.46430587768555 and parameters: {'reactant': 'Cc1ncccc1Br', 'reagent': 'CC(C)(C)P(c1ccccc1)C(C)(C)C.OB(O)B(O)O'}. Best is trial 62 with value: 65.04999542236328.\n",
      "[I 2025-08-25 01:55:56,267] Trial 73 finished with value: 62.330787658691406 and parameters: {'reactant': 'Cc1ncccc1Br', 'reagent': 'CC(C)(C)P(c1ccccc1)C(C)(C)C.OB(O)B(O)O'}. Best is trial 62 with value: 65.04999542236328.\n",
      "[I 2025-08-25 01:55:56,461] Trial 74 finished with value: 59.48624038696289 and parameters: {'reactant': 'Cc1ncccc1Br', 'reagent': 'CC(C)(C)P(c1ccccc1)C(C)(C)C.OB(O)B(O)O'}. Best is trial 62 with value: 65.04999542236328.\n",
      "[I 2025-08-25 01:55:56,678] Trial 75 finished with value: 54.92549133300781 and parameters: {'reactant': 'Cc1ncccc1Br', 'reagent': 'COc1ccc(P(c2ccc(OC)cc2)c2ccc(OC)cc2)cc1.OB(O)B(O)O'}. Best is trial 62 with value: 65.04999542236328.\n",
      "[I 2025-08-25 01:55:56,872] Trial 76 finished with value: 60.737789154052734 and parameters: {'reactant': 'Cc1ncccc1Br', 'reagent': 'CC(C)(C)P(c1ccccc1)C(C)(C)C.OB(O)B(O)O'}. Best is trial 62 with value: 65.04999542236328.\n",
      "[I 2025-08-25 01:55:57,057] Trial 77 finished with value: 53.7802619934082 and parameters: {'reactant': 'Cc1ncccc1Br', 'reagent': 'CC(C)(C)P(c1ccccc1)C(C)(C)C.OB(O)B(O)O'}. Best is trial 62 with value: 65.04999542236328.\n",
      "[I 2025-08-25 01:55:57,248] Trial 78 finished with value: 51.979339599609375 and parameters: {'reactant': 'Cc1ncccc1Br', 'reagent': 'CC(C)(C)P(c1ccccc1)C(C)(C)C.OB(O)B(O)O'}. Best is trial 62 with value: 65.04999542236328.\n",
      "[I 2025-08-25 01:55:57,437] Trial 79 finished with value: 52.2855110168457 and parameters: {'reactant': 'Cc1ncccc1Br', 'reagent': 'CC(C)(C)P(c1ccccc1)C(C)(C)C.OB(O)B(O)O'}. Best is trial 62 with value: 65.04999542236328.\n",
      "[I 2025-08-25 01:55:57,623] Trial 80 finished with value: 54.09004592895508 and parameters: {'reactant': 'Cc1ncccc1Br', 'reagent': 'CC(C)(C)P(c1ccccc1)C(C)(C)C.OB(O)B(O)O'}. Best is trial 62 with value: 65.04999542236328.\n",
      "[I 2025-08-25 01:55:57,818] Trial 81 finished with value: 46.8779182434082 and parameters: {'reactant': 'Cc1ncccc1Br', 'reagent': 'COc1ccc(P(c2ccc(OC)cc2)c2ccc(OC)cc2)cc1.OB(O)B(O)O'}. Best is trial 62 with value: 65.04999542236328.\n",
      "[I 2025-08-25 01:55:58,011] Trial 82 finished with value: 48.45415496826172 and parameters: {'reactant': 'Cc1ncccc1Br', 'reagent': 'CC(C)(C)P(c1ccccc1)C(C)(C)C.OB(O)B(O)O'}. Best is trial 62 with value: 65.04999542236328.\n",
      "[I 2025-08-25 01:55:58,199] Trial 83 finished with value: 51.96149826049805 and parameters: {'reactant': 'Cc1ncccc1Br', 'reagent': 'CC(C)(C)P(c1ccccc1)C(C)(C)C.OB(O)B(O)O'}. Best is trial 62 with value: 65.04999542236328.\n",
      "[I 2025-08-25 01:55:58,397] Trial 84 finished with value: 28.829267501831055 and parameters: {'reactant': 'CN(C)S(=O)(=O)Oc1ccc2[nH]ccc2c1', 'reagent': 'CC(C)(C)P(c1ccccc1)C(C)(C)C.OB(O)B(O)O'}. Best is trial 62 with value: 65.04999542236328.\n",
      "[I 2025-08-25 01:55:58,613] Trial 85 finished with value: 35.85798645019531 and parameters: {'reactant': 'COc1ncc(Br)c(OC)n1', 'reagent': 'CC(C)(C)P(c1ccccc1)C(C)(C)C.OB(O)B(O)O'}. Best is trial 62 with value: 65.04999542236328.\n",
      "[I 2025-08-25 01:55:58,834] Trial 86 finished with value: 35.22117614746094 and parameters: {'reactant': 'COC(=O)c1ccc(Br)cc1', 'reagent': 'COc1ccc(P(c2ccc(OC)cc2)c2ccc(OC)cc2)cc1.OB(O)B(O)O'}. Best is trial 62 with value: 65.04999542236328.\n",
      "[I 2025-08-25 01:55:59,046] Trial 87 finished with value: 55.32368469238281 and parameters: {'reactant': 'Cc1ncccc1Br', 'reagent': 'Cc1cc(C)cc(P(c2cc(C)cc(C)c2)c2cc(C)cc(C)c2)c1.OB(O)B(O)O'}. Best is trial 62 with value: 65.04999542236328.\n",
      "[I 2025-08-25 01:55:59,284] Trial 88 finished with value: 32.61656951904297 and parameters: {'reactant': 'CCOC(=O)c1cc(Br)cn1CC', 'reagent': 'Cc1cc(C)cc(P(c2cc(C)cc(C)c2)c2cc(C)cc(C)c2)c1.OB(O)B(O)O'}. Best is trial 62 with value: 65.04999542236328.\n",
      "[I 2025-08-25 01:55:59,504] Trial 89 finished with value: 40.751373291015625 and parameters: {'reactant': 'Cc1cc(F)ccc1Cl', 'reagent': 'COc1ccccc1C1=C(P(C2CCCCC2)C2CCCCC2)C2c3ccccc3C1c1ccccc12.OB(O)B(O)O'}. Best is trial 62 with value: 65.04999542236328.\n",
      "[I 2025-08-25 01:55:59,736] Trial 90 finished with value: 39.192115783691406 and parameters: {'reactant': 'COc1ccc(Br)cc1', 'reagent': 'CC(C)(C)P(c1ccccc1)C(C)(C)C.OB(O)B(O)O'}. Best is trial 62 with value: 65.04999542236328.\n",
      "[I 2025-08-25 01:55:59,989] Trial 91 finished with value: 49.694705963134766 and parameters: {'reactant': 'Cc1ncccc1Br', 'reagent': 'Cc1cc(C)cc(P(c2cc(C)cc(C)c2)c2cc(C)cc(C)c2)c1.OB(O)B(O)O'}. Best is trial 62 with value: 65.04999542236328.\n",
      "[I 2025-08-25 01:56:00,196] Trial 92 finished with value: 59.0805778503418 and parameters: {'reactant': 'Cc1ncccc1Br', 'reagent': 'CC(C)(C)P(c1ccccc1)C(C)(C)C.OB(O)B(O)O'}. Best is trial 62 with value: 65.04999542236328.\n",
      "[I 2025-08-25 01:56:00,399] Trial 93 finished with value: 41.51150131225586 and parameters: {'reactant': 'N#Cc1ccc(Cl)cc1F', 'reagent': 'CC(C)(C)P(c1ccccc1)C(C)(C)C.OB(O)B(O)O'}. Best is trial 62 with value: 65.04999542236328.\n",
      "[I 2025-08-25 01:56:00,613] Trial 94 finished with value: 28.53201675415039 and parameters: {'reactant': 'Cc1nc2cc(OS(=O)(=O)N(C)C)ccc2s1', 'reagent': 'CC(C)(C)P(c1ccccc1)C(C)(C)C.OB(O)B(O)O'}. Best is trial 62 with value: 65.04999542236328.\n",
      "[I 2025-08-25 01:56:00,804] Trial 95 finished with value: 52.29473114013672 and parameters: {'reactant': 'Cc1ncccc1Br', 'reagent': 'c1ccc(P(c2ccccc2)C2CCCCC2)cc1.OB(O)B(O)O'}. Best is trial 62 with value: 65.04999542236328.\n",
      "[I 2025-08-25 01:56:01,006] Trial 96 finished with value: 36.326881408691406 and parameters: {'reactant': 'Cc1c(N)cccc1Cl', 'reagent': 'C[PH+](C)C.F[B-](F)(F)F.OB(O)B(O)O'}. Best is trial 62 with value: 65.04999542236328.\n",
      "[I 2025-08-25 01:56:01,227] Trial 97 finished with value: 47.18581008911133 and parameters: {'reactant': 'N#Cc1ccc(Br)cc1F', 'reagent': 'c1ccc(-c2ccccc2P(C2CCCCC2)C2CCCCC2)cc1.OB(O)B(O)O'}. Best is trial 62 with value: 65.04999542236328.\n",
      "[I 2025-08-25 01:56:01,456] Trial 98 finished with value: 35.10713577270508 and parameters: {'reactant': 'FC(F)(F)c1ccc(Cl)cc1', 'reagent': 'Fc1ccc(P(c2ccc(F)cc2)c2ccc(F)cc2)cc1.OB(O)B(O)O'}. Best is trial 62 with value: 65.04999542236328.\n",
      "[I 2025-08-25 01:56:01,705] Trial 99 finished with value: 34.625389099121094 and parameters: {'reactant': 'Brc1ccc(-c2ccccc2)cc1', 'reagent': 'CC(C)c1cc(C(C)C)c(-c2ccccc2P(c2ccccc2)c2ccccc2)c(C(C)C)c1.OB(O)B(O)O'}. Best is trial 62 with value: 65.04999542236328.\n"
     ]
    },
    {
     "name": "stdout",
     "output_type": "stream",
     "text": [
      "[Round 3] Fine-tuning on 240 samples, eval 60 samples\n",
      "{'loss': 631.4359, 'grad_norm': 5858.728515625, 'learning_rate': 0.00017333333333333334, 'epoch': 3.3333333333333335}\n",
      "{'train_runtime': 4.9239, 'train_samples_per_second': 243.709, 'train_steps_per_second': 15.232, 'train_loss': 612.7709375, 'epoch': 5.0}\n",
      "\n",
      "==== Round 4/5 ====\n"
     ]
    },
    {
     "name": "stderr",
     "output_type": "stream",
     "text": [
      "[I 2025-08-25 01:56:08,002] A new study created in RDB with name: yield_round_4\n",
      "[I 2025-08-25 01:56:08,236] Trial 0 finished with value: 50.64579391479492 and parameters: {'reactant': 'Clc1ccc(-c2ccccc2)cc1', 'reagent': 'CN(C)c1ccccc1-c1ccccc1P(c1ccccc1)c1ccccc1.OB(O)B(O)O'}. Best is trial 0 with value: 50.64579391479492.\n",
      "[I 2025-08-25 01:56:08,460] Trial 1 finished with value: 35.81648254394531 and parameters: {'reactant': 'CN(C)S(=O)(=O)Oc1ccc(-c2ccccc2)cc1', 'reagent': 'c1ccc(P(c2ccccc2)c2ccccc2)cc1.OB(O)B(O)O'}. Best is trial 0 with value: 50.64579391479492.\n",
      "[I 2025-08-25 01:56:08,698] Trial 2 finished with value: 52.908180236816406 and parameters: {'reactant': 'FC(F)(F)c1ccc(Cl)cc1', 'reagent': 'Cc1cc(C)cc(P(c2cc(C)cc(C)c2)c2cc(C)cc(C)c2)c1.OB(O)B(O)O'}. Best is trial 2 with value: 52.908180236816406.\n",
      "[I 2025-08-25 01:56:08,925] Trial 3 finished with value: 50.26023864746094 and parameters: {'reactant': 'CCOC(=O)C(C)(C)Oc1ccc(Cl)cc1', 'reagent': 'CC(C)(C)P(c1ccccc1)C(C)(C)C.OB(O)B(O)O'}. Best is trial 2 with value: 52.908180236816406.\n",
      "[I 2025-08-25 01:56:09,147] Trial 4 finished with value: 39.54638671875 and parameters: {'reactant': 'COc1ncc(Br)c(OC)n1', 'reagent': 'c1ccc(-n2cccc2P(C2CCCCC2)C2CCCCC2)cc1.OB(O)B(O)O'}. Best is trial 2 with value: 52.908180236816406.\n",
      "[I 2025-08-25 01:56:09,359] Trial 5 finished with value: 46.293212890625 and parameters: {'reactant': 'CN(C)S(=O)(=O)Oc1ccc2ncccc2c1', 'reagent': 'Cc1ccccc1-c1ccccc1P(C1CCCCC1)C1CCCCC1.OB(O)B(O)O'}. Best is trial 2 with value: 52.908180236816406.\n",
      "[I 2025-08-25 01:56:09,565] Trial 6 finished with value: 45.32376480102539 and parameters: {'reactant': 'COc1ccc(Cl)cc1F', 'reagent': 'Cc1ccccc1-c1ccccc1P(C1CCCCC1)C1CCCCC1.OB(O)B(O)O'}. Best is trial 2 with value: 52.908180236816406.\n",
      "[I 2025-08-25 01:56:09,770] Trial 7 finished with value: 37.2877197265625 and parameters: {'reactant': 'FC(F)(F)c1ccc(Br)cc1', 'reagent': 'c1ccc(P(c2ccccc2)C2CCCCC2)cc1.OB(O)B(O)O'}. Best is trial 2 with value: 52.908180236816406.\n",
      "[I 2025-08-25 01:56:09,998] Trial 8 finished with value: 52.65465545654297 and parameters: {'reactant': 'Clc1ccc(-c2ccccc2)cc1', 'reagent': 'COc1cc(C(C)(C)C)cc(C(C)(C)C)c1-c1ccccc1P(C1CCCCC1)C1CCCCC1.OB(O)B(O)O'}. Best is trial 2 with value: 52.908180236816406.\n",
      "[I 2025-08-25 01:56:10,214] Trial 9 finished with value: 39.35466003417969 and parameters: {'reactant': 'Brc1ccsc1', 'reagent': 'CC(C)c1cc(C(C)C)c(-c2ccccc2P(c2ccccc2)c2ccccc2)c(C(C)C)c1.OB(O)B(O)O'}. Best is trial 2 with value: 52.908180236816406.\n",
      "[I 2025-08-25 01:56:10,455] Trial 10 finished with value: 44.70866012573242 and parameters: {'reactant': 'FC(F)(F)c1ccc(Cl)cc1', 'reagent': 'Cc1cc(C)cc(P(c2cc(C)cc(C)c2)c2cc(C)cc(C)c2)c1.OB(O)B(O)O'}. Best is trial 2 with value: 52.908180236816406.\n",
      "[I 2025-08-25 01:56:10,714] Trial 11 finished with value: 32.25390625 and parameters: {'reactant': 'CN(C)S(=O)(=O)Oc1ccc2[nH]ccc2c1', 'reagent': 'COc1cc(C(C)(C)C)cc(C(C)(C)C)c1-c1ccccc1P(C1CCCCC1)C1CCCCC1.OB(O)B(O)O'}. Best is trial 2 with value: 52.908180236816406.\n",
      "[I 2025-08-25 01:56:10,918] Trial 12 finished with value: 40.64155197143555 and parameters: {'reactant': 'Brc1cnc2ccccc2c1', 'reagent': 'COc1ccc(P(c2ccc(OC)cc2)c2ccc(OC)cc2)cc1.OB(O)B(O)O'}. Best is trial 2 with value: 52.908180236816406.\n",
      "[I 2025-08-25 01:56:11,134] Trial 13 finished with value: 18.914695739746094 and parameters: {'reactant': 'Cc1c(N)cccc1Cl', 'reagent': 'COc1cc(C(C)(C)C)cc(C(C)(C)C)c1-c1ccccc1P(C1CCCCC1)C1CCCCC1.OB(O)B(O)O'}. Best is trial 2 with value: 52.908180236816406.\n",
      "[I 2025-08-25 01:56:11,364] Trial 14 finished with value: 48.006072998046875 and parameters: {'reactant': 'COC(=O)c1ccc(Cl)cc1', 'reagent': 'Cc1cc(C)cc(P(c2cc(C)cc(C)c2)c2cc(C)cc(C)c2)c1.OB(O)B(O)O'}. Best is trial 2 with value: 52.908180236816406.\n",
      "[I 2025-08-25 01:56:11,590] Trial 15 finished with value: 46.021080017089844 and parameters: {'reactant': 'Brc1ccc(-c2ccccc2)cc1', 'reagent': 'CC(=C(c1ccccc1)c1ccccc1)P(C1CCCCC1)C1CCCCC1.OB(O)B(O)O'}. Best is trial 2 with value: 52.908180236816406.\n",
      "[I 2025-08-25 01:56:11,800] Trial 16 finished with value: 53.667991638183594 and parameters: {'reactant': 'Cc1cccc(C)c1Cl', 'reagent': 'C[PH+](C)C.F[B-](F)(F)F.OB(O)B(O)O'}. Best is trial 16 with value: 53.667991638183594.\n",
      "[I 2025-08-25 01:56:12,006] Trial 17 finished with value: 42.389617919921875 and parameters: {'reactant': 'Cc1cccc(C)c1Cl', 'reagent': 'C[PH+](C)C.F[B-](F)(F)F.OB(O)B(O)O'}. Best is trial 16 with value: 53.667991638183594.\n",
      "[I 2025-08-25 01:56:12,241] Trial 18 finished with value: 36.174232482910156 and parameters: {'reactant': 'COc1ccc(Br)cc1F', 'reagent': 'CCCCC1([PH+](C2CCCCC2)C2CCCCC2)c2ccccc2-c2ccccc21.F[B-](F)(F)F.OB(O)B(O)O'}. Best is trial 16 with value: 53.667991638183594.\n",
      "[I 2025-08-25 01:56:12,449] Trial 19 finished with value: 47.33887481689453 and parameters: {'reactant': 'Cc1cccc(C)c1Cl', 'reagent': 'c1ccc(-c2ccccc2P(C2CCCCC2)C2CCCCC2)cc1.OB(O)B(O)O'}. Best is trial 16 with value: 53.667991638183594.\n",
      "[I 2025-08-25 01:56:12,678] Trial 20 finished with value: 36.367286682128906 and parameters: {'reactant': 'CCOC(=O)c1cc(Br)cn1CC', 'reagent': 'CN(C)c1ccc(P(c2ccccc2)c2ccccc2)cc1.OB(O)B(O)O'}. Best is trial 16 with value: 53.667991638183594.\n",
      "[I 2025-08-25 01:56:12,910] Trial 21 finished with value: 37.65424728393555 and parameters: {'reactant': 'N#Cc1ccc(Br)cc1F', 'reagent': 'COc1cccc(OC)c1-c1ccccc1P(c1ccccc1)c1ccccc1.OB(O)B(O)O'}. Best is trial 16 with value: 53.667991638183594.\n",
      "[I 2025-08-25 01:56:13,135] Trial 22 finished with value: 34.5954704284668 and parameters: {'reactant': 'Cc1cc(F)ccc1Cl', 'reagent': 'COc1ccccc1P(c1ccccc1OC)c1ccccc1OC.OB(O)B(O)O'}. Best is trial 16 with value: 53.667991638183594.\n",
      "[I 2025-08-25 01:56:13,385] Trial 23 finished with value: 46.81676483154297 and parameters: {'reactant': 'Clc1ccc2[nH]ccc2c1', 'reagent': 'C[PH+](C)C.F[B-](F)(F)F.OB(O)B(O)O'}. Best is trial 16 with value: 53.667991638183594.\n",
      "[I 2025-08-25 01:56:13,630] Trial 24 finished with value: 28.449190139770508 and parameters: {'reactant': 'Clc1cnc2ccccc2c1', 'reagent': 'c1ccc(-c2nn(-c3ccccc3)c(-c3ccccc3)c2-n2nccc2P(C2CCCCC2)C2CCCCC2)cc1.OB(O)B(O)O'}. Best is trial 16 with value: 53.667991638183594.\n",
      "[I 2025-08-25 01:56:13,871] Trial 25 finished with value: 42.20246505737305 and parameters: {'reactant': 'Brc1ccccc1-c1ccccc1', 'reagent': 'Fc1ccc(P(c2ccc(F)cc2)c2ccc(F)cc2)cc1.OB(O)B(O)O'}. Best is trial 16 with value: 53.667991638183594.\n",
      "[I 2025-08-25 01:56:14,099] Trial 26 finished with value: 42.04771041870117 and parameters: {'reactant': 'COC(=O)c1ccc(Br)cc1', 'reagent': 'COc1ccccc1C1=C(P(C2CCCCC2)C2CCCCC2)C2c3ccccc3C1c1ccccc12.OB(O)B(O)O'}. Best is trial 16 with value: 53.667991638183594.\n",
      "[I 2025-08-25 01:56:14,335] Trial 27 finished with value: 47.01017379760742 and parameters: {'reactant': 'Clc1ccc2c(c1)OCO2', 'reagent': 'c1ccc(P(C2CCCCC2)C2CCCCC2)c(-n2c3ccccc3c3ccccc32)c1.OB(O)B(O)O'}. Best is trial 16 with value: 53.667991638183594.\n",
      "[I 2025-08-25 01:56:14,565] Trial 28 finished with value: 35.55308151245117 and parameters: {'reactant': 'Brc1ccc2c(c1)OCO2', 'reagent': 'c1ccc(-c2cc3ccccc3n2P(C2CCCCC2)C2CCCCC2)cc1.OB(O)B(O)O'}. Best is trial 16 with value: 53.667991638183594.\n",
      "[I 2025-08-25 01:56:14,819] Trial 29 finished with value: 44.80461883544922 and parameters: {'reactant': 'Clc1ccc(-c2ccccc2)cc1', 'reagent': 'COc1cc(C(C)(C)C)cc(C(C)(C)C)c1-c1ccccc1P(C1CCCCC1)C1CCCCC1.OB(O)B(O)O'}. Best is trial 16 with value: 53.667991638183594.\n",
      "[I 2025-08-25 01:56:15,035] Trial 30 finished with value: 46.209407806396484 and parameters: {'reactant': 'Brc1ccc2occc2c1', 'reagent': 'C1CCC([PH+](C2CCCCC2)C2CCCCC2)CC1.F[B-](F)(F)F.OB(O)B(O)O'}. Best is trial 16 with value: 53.667991638183594.\n",
      "[I 2025-08-25 01:56:15,249] Trial 31 finished with value: 47.14776611328125 and parameters: {'reactant': 'Clc1ccc(-c2ccccc2)cc1', 'reagent': 'CN(C)c1ccccc1-c1ccccc1P(c1ccccc1)c1ccccc1.OB(O)B(O)O'}. Best is trial 16 with value: 53.667991638183594.\n",
      "[I 2025-08-25 01:56:15,488] Trial 32 finished with value: 29.126211166381836 and parameters: {'reactant': 'CN(C)C(=O)c1ccc(Cl)cc1', 'reagent': 'CN(C)c1ccccc1-c1ccccc1P(c1ccccc1)c1ccccc1.OB(O)B(O)O'}. Best is trial 16 with value: 53.667991638183594.\n",
      "[I 2025-08-25 01:56:15,718] Trial 33 finished with value: 36.916542053222656 and parameters: {'reactant': 'Cc1nc2cc(OS(=O)(=O)N(C)C)ccc2s1', 'reagent': 'c1ccc(P(c2ccccc2)c2ccccc2)cc1.OB(O)B(O)O'}. Best is trial 16 with value: 53.667991638183594.\n",
      "[I 2025-08-25 01:56:15,930] Trial 34 finished with value: 37.26841354370117 and parameters: {'reactant': 'N#Cc1ccc(Cl)cc1F', 'reagent': 'CC(C)(C)P(c1ccccc1)C(C)(C)C.OB(O)B(O)O'}. Best is trial 16 with value: 53.667991638183594.\n",
      "[I 2025-08-25 01:56:16,136] Trial 35 finished with value: 51.941402435302734 and parameters: {'reactant': 'COc1ccc(Br)cc1', 'reagent': 'C[PH+](C)C.F[B-](F)(F)F.OB(O)B(O)O'}. Best is trial 16 with value: 53.667991638183594.\n",
      "[I 2025-08-25 01:56:16,350] Trial 36 finished with value: 55.19484329223633 and parameters: {'reactant': 'Cc1ncccc1Br', 'reagent': 'C[PH+](C)C.F[B-](F)(F)F.OB(O)B(O)O'}. Best is trial 36 with value: 55.19484329223633.\n",
      "[I 2025-08-25 01:56:16,564] Trial 37 finished with value: 53.16969299316406 and parameters: {'reactant': 'Cc1ncccc1Br', 'reagent': 'C[PH+](C)C.F[B-](F)(F)F.OB(O)B(O)O'}. Best is trial 36 with value: 55.19484329223633.\n",
      "[I 2025-08-25 01:56:16,767] Trial 38 finished with value: 51.51597213745117 and parameters: {'reactant': 'COc1cc(Cl)ccc1F', 'reagent': 'C[PH+](C)C.F[B-](F)(F)F.OB(O)B(O)O'}. Best is trial 36 with value: 55.19484329223633.\n",
      "[I 2025-08-25 01:56:16,958] Trial 39 finished with value: 40.02949142456055 and parameters: {'reactant': 'Cc1ncccc1Br', 'reagent': 'c1ccc(-n2cccc2P(C2CCCCC2)C2CCCCC2)cc1.OB(O)B(O)O'}. Best is trial 36 with value: 55.19484329223633.\n",
      "[I 2025-08-25 01:56:17,165] Trial 40 finished with value: 48.54412841796875 and parameters: {'reactant': 'FC(F)(F)c1ccc(Cl)cc1', 'reagent': 'C[PH+](C)C.F[B-](F)(F)F.OB(O)B(O)O'}. Best is trial 36 with value: 55.19484329223633.\n",
      "[I 2025-08-25 01:56:17,380] Trial 41 finished with value: 52.69899368286133 and parameters: {'reactant': 'Cc1ncccc1Br', 'reagent': 'Cc1cc(C)cc(P(c2cc(C)cc(C)c2)c2cc(C)cc(C)c2)c1.OB(O)B(O)O'}. Best is trial 36 with value: 55.19484329223633.\n",
      "[I 2025-08-25 01:56:17,594] Trial 42 finished with value: 54.600948333740234 and parameters: {'reactant': 'Cc1ncccc1Br', 'reagent': 'Cc1cc(C)cc(P(c2cc(C)cc(C)c2)c2cc(C)cc(C)c2)c1.OB(O)B(O)O'}. Best is trial 36 with value: 55.19484329223633.\n",
      "[I 2025-08-25 01:56:17,808] Trial 43 finished with value: 47.07785415649414 and parameters: {'reactant': 'Cc1ncccc1Br', 'reagent': 'Cc1cc(C)cc(P(c2cc(C)cc(C)c2)c2cc(C)cc(C)c2)c1.OB(O)B(O)O'}. Best is trial 36 with value: 55.19484329223633.\n",
      "[I 2025-08-25 01:56:18,025] Trial 44 finished with value: 44.14876937866211 and parameters: {'reactant': 'CN(C)S(=O)(=O)Oc1ccc(-c2ccccc2)cc1', 'reagent': 'c1ccc(P(c2ccccc2)C2CCCCC2)cc1.OB(O)B(O)O'}. Best is trial 36 with value: 55.19484329223633.\n",
      "[I 2025-08-25 01:56:18,236] Trial 45 finished with value: 37.84568405151367 and parameters: {'reactant': 'Cc1ncccc1Br', 'reagent': 'CC(C)c1cc(C(C)C)c(-c2ccccc2P(c2ccccc2)c2ccccc2)c(C(C)C)c1.OB(O)B(O)O'}. Best is trial 36 with value: 55.19484329223633.\n",
      "[I 2025-08-25 01:56:18,495] Trial 46 finished with value: 54.06489944458008 and parameters: {'reactant': 'CCOC(=O)C(C)(C)Oc1ccc(Cl)cc1', 'reagent': 'Cc1cc(C)cc(P(c2cc(C)cc(C)c2)c2cc(C)cc(C)c2)c1.OB(O)B(O)O'}. Best is trial 36 with value: 55.19484329223633.\n",
      "[I 2025-08-25 01:56:18,715] Trial 47 finished with value: 38.92403793334961 and parameters: {'reactant': 'CCOC(=O)C(C)(C)Oc1ccc(Cl)cc1', 'reagent': 'C[PH+](C)C.F[B-](F)(F)F.OB(O)B(O)O'}. Best is trial 36 with value: 55.19484329223633.\n",
      "[I 2025-08-25 01:56:18,956] Trial 48 finished with value: 37.5297737121582 and parameters: {'reactant': 'COc1ncc(Br)c(OC)n1', 'reagent': 'Cc1cc(C)cc(P(c2cc(C)cc(C)c2)c2cc(C)cc(C)c2)c1.OB(O)B(O)O'}. Best is trial 36 with value: 55.19484329223633.\n",
      "[I 2025-08-25 01:56:19,174] Trial 49 finished with value: 55.98202896118164 and parameters: {'reactant': 'CCOC(=O)C(C)(C)Oc1ccc(Cl)cc1', 'reagent': 'Cc1ccccc1-c1ccccc1P(C1CCCCC1)C1CCCCC1.OB(O)B(O)O'}. Best is trial 49 with value: 55.98202896118164.\n",
      "[I 2025-08-25 01:56:19,394] Trial 50 finished with value: 55.3720703125 and parameters: {'reactant': 'CCOC(=O)C(C)(C)Oc1ccc(Cl)cc1', 'reagent': 'Cc1ccccc1-c1ccccc1P(C1CCCCC1)C1CCCCC1.OB(O)B(O)O'}. Best is trial 49 with value: 55.98202896118164.\n",
      "[I 2025-08-25 01:56:19,628] Trial 51 finished with value: 52.0167236328125 and parameters: {'reactant': 'CCOC(=O)C(C)(C)Oc1ccc(Cl)cc1', 'reagent': 'Cc1ccccc1-c1ccccc1P(C1CCCCC1)C1CCCCC1.OB(O)B(O)O'}. Best is trial 49 with value: 55.98202896118164.\n",
      "[I 2025-08-25 01:56:19,855] Trial 52 finished with value: 54.342735290527344 and parameters: {'reactant': 'CCOC(=O)C(C)(C)Oc1ccc(Cl)cc1', 'reagent': 'Cc1ccccc1-c1ccccc1P(C1CCCCC1)C1CCCCC1.OB(O)B(O)O'}. Best is trial 49 with value: 55.98202896118164.\n",
      "[I 2025-08-25 01:56:20,098] Trial 53 finished with value: 43.436466217041016 and parameters: {'reactant': 'CCOC(=O)C(C)(C)Oc1ccc(Cl)cc1', 'reagent': 'Cc1ccccc1-c1ccccc1P(C1CCCCC1)C1CCCCC1.OB(O)B(O)O'}. Best is trial 49 with value: 55.98202896118164.\n",
      "[I 2025-08-25 01:56:20,324] Trial 54 finished with value: 43.6632194519043 and parameters: {'reactant': 'CCOC(=O)C(C)(C)Oc1ccc(Cl)cc1', 'reagent': 'Cc1ccccc1-c1ccccc1P(C1CCCCC1)C1CCCCC1.OB(O)B(O)O'}. Best is trial 49 with value: 55.98202896118164.\n",
      "[I 2025-08-25 01:56:20,543] Trial 55 finished with value: 33.30461502075195 and parameters: {'reactant': 'CCOC(=O)c1ccc(Cl)c(F)c1', 'reagent': 'Cc1ccccc1-c1ccccc1P(C1CCCCC1)C1CCCCC1.OB(O)B(O)O'}. Best is trial 49 with value: 55.98202896118164.\n",
      "[I 2025-08-25 01:56:20,748] Trial 56 finished with value: 48.796852111816406 and parameters: {'reactant': 'Brc1ccsc1', 'reagent': 'COc1ccc(P(c2ccc(OC)cc2)c2ccc(OC)cc2)cc1.OB(O)B(O)O'}. Best is trial 49 with value: 55.98202896118164.\n",
      "[I 2025-08-25 01:56:20,977] Trial 57 finished with value: 45.53468322753906 and parameters: {'reactant': 'CCOC(=O)C(C)(C)Oc1ccc(Cl)cc1', 'reagent': 'Cc1ccccc1-c1ccccc1P(C1CCCCC1)C1CCCCC1.OB(O)B(O)O'}. Best is trial 49 with value: 55.98202896118164.\n",
      "[I 2025-08-25 01:56:21,199] Trial 58 finished with value: 48.04831314086914 and parameters: {'reactant': 'FC(F)(F)c1ccc(Br)cc1', 'reagent': 'c1ccc(-c2ccccc2P(C2CCCCC2)C2CCCCC2)cc1.OB(O)B(O)O'}. Best is trial 49 with value: 55.98202896118164.\n",
      "[I 2025-08-25 01:56:21,424] Trial 59 finished with value: 47.522850036621094 and parameters: {'reactant': 'COc1ccc(Cl)cc1F', 'reagent': 'CCCCC1([PH+](C2CCCCC2)C2CCCCC2)c2ccccc2-c2ccccc21.F[B-](F)(F)F.OB(O)B(O)O'}. Best is trial 49 with value: 55.98202896118164.\n",
      "[I 2025-08-25 01:56:21,655] Trial 60 finished with value: 41.84376907348633 and parameters: {'reactant': 'CN(C)S(=O)(=O)Oc1ccc2[nH]ccc2c1', 'reagent': 'COc1cccc(OC)c1-c1ccccc1P(c1ccccc1)c1ccccc1.OB(O)B(O)O'}. Best is trial 49 with value: 55.98202896118164.\n",
      "[I 2025-08-25 01:56:21,847] Trial 61 finished with value: 49.7298698425293 and parameters: {'reactant': 'Cc1cccc(C)c1Cl', 'reagent': 'CC(=C(c1ccccc1)c1ccccc1)P(C1CCCCC1)C1CCCCC1.OB(O)B(O)O'}. Best is trial 49 with value: 55.98202896118164.\n",
      "[I 2025-08-25 01:56:22,066] Trial 62 finished with value: 51.955711364746094 and parameters: {'reactant': 'CN(C)S(=O)(=O)Oc1ccc2ncccc2c1', 'reagent': 'CN(C)c1ccc(P(c2ccccc2)c2ccccc2)cc1.OB(O)B(O)O'}. Best is trial 49 with value: 55.98202896118164.\n",
      "[I 2025-08-25 01:56:22,323] Trial 63 finished with value: 38.64821243286133 and parameters: {'reactant': 'CCOC(=O)C(C)(C)Oc1ccc(Cl)cc1', 'reagent': 'c1ccc(-c2nn(-c3ccccc3)c(-c3ccccc3)c2-n2nccc2P(C2CCCCC2)C2CCCCC2)cc1.OB(O)B(O)O'}. Best is trial 49 with value: 55.98202896118164.\n",
      "[I 2025-08-25 01:56:22,548] Trial 64 finished with value: 45.28846740722656 and parameters: {'reactant': 'CCOC(=O)C(C)(C)Oc1ccc(Cl)cc1', 'reagent': 'COc1ccccc1P(c1ccccc1OC)c1ccccc1OC.OB(O)B(O)O'}. Best is trial 49 with value: 55.98202896118164.\n",
      "[I 2025-08-25 01:56:22,758] Trial 65 finished with value: 39.665504455566406 and parameters: {'reactant': 'Cc1c(N)cccc1Cl', 'reagent': 'Fc1ccc(P(c2ccc(F)cc2)c2ccc(F)cc2)cc1.OB(O)B(O)O'}. Best is trial 49 with value: 55.98202896118164.\n",
      "[I 2025-08-25 01:56:22,978] Trial 66 finished with value: 30.09781837463379 and parameters: {'reactant': 'N#Cc1ccc(Br)cc1F', 'reagent': 'COc1ccccc1C1=C(P(C2CCCCC2)C2CCCCC2)C2c3ccccc3C1c1ccccc12.OB(O)B(O)O'}. Best is trial 49 with value: 55.98202896118164.\n",
      "[I 2025-08-25 01:56:23,238] Trial 67 finished with value: 54.526405334472656 and parameters: {'reactant': 'Brc1ccc(-c2ccccc2)cc1', 'reagent': 'Cc1cc(C)cc(P(c2cc(C)cc(C)c2)c2cc(C)cc(C)c2)c1.OB(O)B(O)O'}. Best is trial 49 with value: 55.98202896118164.\n",
      "[I 2025-08-25 01:56:23,497] Trial 68 finished with value: 40.758628845214844 and parameters: {'reactant': 'Brc1ccc(-c2ccccc2)cc1', 'reagent': 'Cc1cc(C)cc(P(c2cc(C)cc(C)c2)c2cc(C)cc(C)c2)c1.OB(O)B(O)O'}. Best is trial 49 with value: 55.98202896118164.\n",
      "[I 2025-08-25 01:56:23,725] Trial 69 finished with value: 45.214744567871094 and parameters: {'reactant': 'Brc1cnc2ccccc2c1', 'reagent': 'Cc1cc(C)cc(P(c2cc(C)cc(C)c2)c2cc(C)cc(C)c2)c1.OB(O)B(O)O'}. Best is trial 49 with value: 55.98202896118164.\n",
      "[I 2025-08-25 01:56:23,956] Trial 70 finished with value: 39.48931884765625 and parameters: {'reactant': 'Brc1ccc(-c2ccccc2)cc1', 'reagent': 'c1ccc(-c2cc3ccccc3n2P(C2CCCCC2)C2CCCCC2)cc1.OB(O)B(O)O'}. Best is trial 49 with value: 55.98202896118164.\n",
      "[I 2025-08-25 01:56:24,186] Trial 71 finished with value: 35.884742736816406 and parameters: {'reactant': 'COC(=O)c1ccc(Cl)cc1', 'reagent': 'C1CCC([PH+](C2CCCCC2)C2CCCCC2)CC1.F[B-](F)(F)F.OB(O)B(O)O'}. Best is trial 49 with value: 55.98202896118164.\n",
      "[I 2025-08-25 01:56:24,419] Trial 72 finished with value: 37.245304107666016 and parameters: {'reactant': 'CCOC(=O)c1cc(Br)cn1CC', 'reagent': 'c1ccc(P(C2CCCCC2)C2CCCCC2)c(-n2c3ccccc3c3ccccc32)c1.OB(O)B(O)O'}. Best is trial 49 with value: 55.98202896118164.\n",
      "[I 2025-08-25 01:56:24,624] Trial 73 finished with value: 35.978721618652344 and parameters: {'reactant': 'COc1ccc(Br)cc1F', 'reagent': 'Cc1ccccc1-c1ccccc1P(C1CCCCC1)C1CCCCC1.OB(O)B(O)O'}. Best is trial 49 with value: 55.98202896118164.\n",
      "[I 2025-08-25 01:56:24,824] Trial 74 finished with value: 44.307437896728516 and parameters: {'reactant': 'Clc1ccc2[nH]ccc2c1', 'reagent': 'c1ccc(P(c2ccccc2)c2ccccc2)cc1.OB(O)B(O)O'}. Best is trial 49 with value: 55.98202896118164.\n",
      "[I 2025-08-25 01:56:25,056] Trial 75 finished with value: 43.76829147338867 and parameters: {'reactant': 'Clc1cnc2ccccc2c1', 'reagent': 'Cc1cc(C)cc(P(c2cc(C)cc(C)c2)c2cc(C)cc(C)c2)c1.OB(O)B(O)O'}. Best is trial 49 with value: 55.98202896118164.\n",
      "[I 2025-08-25 01:56:25,269] Trial 76 finished with value: 40.60887908935547 and parameters: {'reactant': 'Cc1cccc(C)c1Cl', 'reagent': 'c1ccc(-n2cccc2P(C2CCCCC2)C2CCCCC2)cc1.OB(O)B(O)O'}. Best is trial 49 with value: 55.98202896118164.\n",
      "[I 2025-08-25 01:56:25,479] Trial 77 finished with value: 39.29114532470703 and parameters: {'reactant': 'COC(=O)c1ccc(Br)cc1', 'reagent': 'CC(C)(C)P(c1ccccc1)C(C)(C)C.OB(O)B(O)O'}. Best is trial 49 with value: 55.98202896118164.\n",
      "[I 2025-08-25 01:56:25,691] Trial 78 finished with value: 34.48935317993164 and parameters: {'reactant': 'Cc1cc(F)ccc1Cl', 'reagent': 'Cc1ccccc1-c1ccccc1P(C1CCCCC1)C1CCCCC1.OB(O)B(O)O'}. Best is trial 49 with value: 55.98202896118164.\n",
      "[I 2025-08-25 01:56:25,896] Trial 79 finished with value: 40.862274169921875 and parameters: {'reactant': 'CN(C)C(=O)c1ccc(Cl)cc1', 'reagent': 'c1ccc(P(c2ccccc2)C2CCCCC2)cc1.OB(O)B(O)O'}. Best is trial 49 with value: 55.98202896118164.\n",
      "[I 2025-08-25 01:56:26,125] Trial 80 finished with value: 43.05809020996094 and parameters: {'reactant': 'Brc1ccccc1-c1ccccc1', 'reagent': 'Cc1cc(C)cc(P(c2cc(C)cc(C)c2)c2cc(C)cc(C)c2)c1.OB(O)B(O)O'}. Best is trial 49 with value: 55.98202896118164.\n",
      "[I 2025-08-25 01:56:26,348] Trial 81 finished with value: 43.79145431518555 and parameters: {'reactant': 'Clc1ccc2c(c1)OCO2', 'reagent': 'Cc1ccccc1-c1ccccc1P(C1CCCCC1)C1CCCCC1.OB(O)B(O)O'}. Best is trial 49 with value: 55.98202896118164.\n",
      "[I 2025-08-25 01:56:26,545] Trial 82 finished with value: 41.069820404052734 and parameters: {'reactant': 'Cc1ncccc1Br', 'reagent': 'C[PH+](C)C.F[B-](F)(F)F.OB(O)B(O)O'}. Best is trial 49 with value: 55.98202896118164.\n",
      "[I 2025-08-25 01:56:26,735] Trial 83 finished with value: 51.290748596191406 and parameters: {'reactant': 'Cc1ncccc1Br', 'reagent': 'C[PH+](C)C.F[B-](F)(F)F.OB(O)B(O)O'}. Best is trial 49 with value: 55.98202896118164.\n",
      "[I 2025-08-25 01:56:26,947] Trial 84 finished with value: 41.550140380859375 and parameters: {'reactant': 'Brc1ccc2c(c1)OCO2', 'reagent': 'C[PH+](C)C.F[B-](F)(F)F.OB(O)B(O)O'}. Best is trial 49 with value: 55.98202896118164.\n",
      "[I 2025-08-25 01:56:27,147] Trial 85 finished with value: 39.69780349731445 and parameters: {'reactant': 'COc1cc(Cl)ccc1F', 'reagent': 'C[PH+](C)C.F[B-](F)(F)F.OB(O)B(O)O'}. Best is trial 49 with value: 55.98202896118164.\n",
      "[I 2025-08-25 01:56:27,361] Trial 86 finished with value: 49.52880859375 and parameters: {'reactant': 'Brc1ccc2occc2c1', 'reagent': 'CC(C)c1cc(C(C)C)c(-c2ccccc2P(c2ccccc2)c2ccccc2)c(C(C)C)c1.OB(O)B(O)O'}. Best is trial 49 with value: 55.98202896118164.\n",
      "[I 2025-08-25 01:56:27,589] Trial 87 finished with value: 39.97658157348633 and parameters: {'reactant': 'CCOC(=O)C(C)(C)Oc1ccc(Cl)cc1', 'reagent': 'CN(C)c1ccccc1-c1ccccc1P(c1ccccc1)c1ccccc1.OB(O)B(O)O'}. Best is trial 49 with value: 55.98202896118164.\n",
      "[I 2025-08-25 01:56:27,809] Trial 88 finished with value: 48.11703109741211 and parameters: {'reactant': 'COc1ccc(Br)cc1', 'reagent': 'COc1ccc(P(c2ccc(OC)cc2)c2ccc(OC)cc2)cc1.OB(O)B(O)O'}. Best is trial 49 with value: 55.98202896118164.\n",
      "[I 2025-08-25 01:56:28,062] Trial 89 finished with value: 23.079692840576172 and parameters: {'reactant': 'Cc1nc2cc(OS(=O)(=O)N(C)C)ccc2s1', 'reagent': 'Cc1cc(C)cc(P(c2cc(C)cc(C)c2)c2cc(C)cc(C)c2)c1.OB(O)B(O)O'}. Best is trial 49 with value: 55.98202896118164.\n",
      "[I 2025-08-25 01:56:28,273] Trial 90 finished with value: 45.68180465698242 and parameters: {'reactant': 'N#Cc1ccc(Cl)cc1F', 'reagent': 'c1ccc(-c2ccccc2P(C2CCCCC2)C2CCCCC2)cc1.OB(O)B(O)O'}. Best is trial 49 with value: 55.98202896118164.\n",
      "[I 2025-08-25 01:56:28,514] Trial 91 finished with value: 54.01039123535156 and parameters: {'reactant': 'FC(F)(F)c1ccc(Cl)cc1', 'reagent': 'Cc1cc(C)cc(P(c2cc(C)cc(C)c2)c2cc(C)cc(C)c2)c1.OB(O)B(O)O'}. Best is trial 49 with value: 55.98202896118164.\n",
      "[I 2025-08-25 01:56:28,723] Trial 92 finished with value: 69.4790267944336 and parameters: {'reactant': 'Cc1ncccc1Br', 'reagent': 'Cc1cc(C)cc(P(c2cc(C)cc(C)c2)c2cc(C)cc(C)c2)c1.OB(O)B(O)O'}. Best is trial 92 with value: 69.4790267944336.\n",
      "[I 2025-08-25 01:56:28,963] Trial 93 finished with value: 50.09115982055664 and parameters: {'reactant': 'FC(F)(F)c1ccc(Cl)cc1', 'reagent': 'Cc1cc(C)cc(P(c2cc(C)cc(C)c2)c2cc(C)cc(C)c2)c1.OB(O)B(O)O'}. Best is trial 92 with value: 69.4790267944336.\n",
      "[I 2025-08-25 01:56:29,173] Trial 94 finished with value: 52.54811477661133 and parameters: {'reactant': 'Cc1ncccc1Br', 'reagent': 'Cc1cc(C)cc(P(c2cc(C)cc(C)c2)c2cc(C)cc(C)c2)c1.OB(O)B(O)O'}. Best is trial 92 with value: 69.4790267944336.\n",
      "[I 2025-08-25 01:56:29,425] Trial 95 finished with value: 42.977142333984375 and parameters: {'reactant': 'FC(F)(F)c1ccc(Cl)cc1', 'reagent': 'COc1cc(C(C)(C)C)cc(C(C)(C)C)c1-c1ccccc1P(C1CCCCC1)C1CCCCC1.OB(O)B(O)O'}. Best is trial 92 with value: 69.4790267944336.\n",
      "[I 2025-08-25 01:56:29,658] Trial 96 finished with value: 37.617279052734375 and parameters: {'reactant': 'CCOC(=O)c1ccc(Cl)c(F)c1', 'reagent': 'Cc1cc(C)cc(P(c2cc(C)cc(C)c2)c2cc(C)cc(C)c2)c1.OB(O)B(O)O'}. Best is trial 92 with value: 69.4790267944336.\n",
      "[I 2025-08-25 01:56:29,868] Trial 97 finished with value: 40.578948974609375 and parameters: {'reactant': 'Brc1ccc(-c2ccccc2)cc1', 'reagent': 'CN(C)c1ccc(P(c2ccccc2)c2ccccc2)cc1.OB(O)B(O)O'}. Best is trial 92 with value: 69.4790267944336.\n",
      "[I 2025-08-25 01:56:30,080] Trial 98 finished with value: 26.54230308532715 and parameters: {'reactant': 'COc1ncc(Br)c(OC)n1', 'reagent': 'CC(=C(c1ccccc1)c1ccccc1)P(C1CCCCC1)C1CCCCC1.OB(O)B(O)O'}. Best is trial 92 with value: 69.4790267944336.\n",
      "[I 2025-08-25 01:56:30,324] Trial 99 finished with value: 31.03420066833496 and parameters: {'reactant': 'CN(C)S(=O)(=O)Oc1ccc(-c2ccccc2)cc1', 'reagent': 'CCCCC1([PH+](C2CCCCC2)C2CCCCC2)c2ccccc2-c2ccccc21.F[B-](F)(F)F.OB(O)B(O)O'}. Best is trial 92 with value: 69.4790267944336.\n"
     ]
    },
    {
     "name": "stdout",
     "output_type": "stream",
     "text": [
      "[Round 4] Fine-tuning on 320 samples, eval 80 samples\n",
      "{'loss': 620.4902, 'grad_norm': 2864.515380859375, 'learning_rate': 0.000255, 'epoch': 2.5}\n",
      "{'loss': 540.1947, 'grad_norm': 5853.548828125, 'learning_rate': 5e-06, 'epoch': 5.0}\n",
      "{'train_runtime': 6.6933, 'train_samples_per_second': 239.044, 'train_steps_per_second': 14.94, 'train_loss': 580.34244140625, 'epoch': 5.0}\n",
      "\n",
      "==== Round 5/5 ====\n"
     ]
    },
    {
     "name": "stderr",
     "output_type": "stream",
     "text": [
      "[I 2025-08-25 01:56:38,369] A new study created in RDB with name: yield_round_5\n",
      "[I 2025-08-25 01:56:38,595] Trial 0 finished with value: 50.716644287109375 and parameters: {'reactant': 'Brc1ccc2c(c1)OCO2', 'reagent': 'Cc1ccccc1-c1ccccc1P(C1CCCCC1)C1CCCCC1.OB(O)B(O)O'}. Best is trial 0 with value: 50.716644287109375.\n",
      "[I 2025-08-25 01:56:38,808] Trial 1 finished with value: 61.5119514465332 and parameters: {'reactant': 'Cc1ncccc1Br', 'reagent': 'c1ccc(P(C2CCCCC2)C2CCCCC2)c(-n2c3ccccc3c3ccccc32)c1.OB(O)B(O)O'}. Best is trial 1 with value: 61.5119514465332.\n",
      "[I 2025-08-25 01:56:38,993] Trial 2 finished with value: 62.14279556274414 and parameters: {'reactant': 'Brc1ccsc1', 'reagent': 'CC(C)(C)P(c1ccccc1)C(C)(C)C.OB(O)B(O)O'}. Best is trial 2 with value: 62.14279556274414.\n",
      "[I 2025-08-25 01:56:39,224] Trial 3 finished with value: 45.1670036315918 and parameters: {'reactant': 'CN(C)S(=O)(=O)Oc1ccc2ncccc2c1', 'reagent': 'Fc1ccc(P(c2ccc(F)cc2)c2ccc(F)cc2)cc1.OB(O)B(O)O'}. Best is trial 2 with value: 62.14279556274414.\n",
      "[I 2025-08-25 01:56:39,444] Trial 4 finished with value: 50.456844329833984 and parameters: {'reactant': 'Cc1cccc(C)c1Cl', 'reagent': 'CCCCC1([PH+](C2CCCCC2)C2CCCCC2)c2ccccc2-c2ccccc21.F[B-](F)(F)F.OB(O)B(O)O'}. Best is trial 2 with value: 62.14279556274414.\n",
      "[I 2025-08-25 01:56:39,664] Trial 5 finished with value: 45.14030838012695 and parameters: {'reactant': 'COc1cc(Cl)ccc1F', 'reagent': 'COc1cccc(OC)c1-c1ccccc1P(c1ccccc1)c1ccccc1.OB(O)B(O)O'}. Best is trial 2 with value: 62.14279556274414.\n",
      "[I 2025-08-25 01:56:39,897] Trial 6 finished with value: 56.0617561340332 and parameters: {'reactant': 'CCOC(=O)C(C)(C)Oc1ccc(Cl)cc1', 'reagent': 'CN(C)c1ccccc1-c1ccccc1P(c1ccccc1)c1ccccc1.OB(O)B(O)O'}. Best is trial 2 with value: 62.14279556274414.\n",
      "[I 2025-08-25 01:56:40,130] Trial 7 finished with value: 46.19158935546875 and parameters: {'reactant': 'Brc1ccc(-c2ccccc2)cc1', 'reagent': 'c1ccc(P(C2CCCCC2)C2CCCCC2)c(-n2c3ccccc3c3ccccc32)c1.OB(O)B(O)O'}. Best is trial 2 with value: 62.14279556274414.\n",
      "[I 2025-08-25 01:56:40,327] Trial 8 finished with value: 42.79959487915039 and parameters: {'reactant': 'Brc1ccc2occc2c1', 'reagent': 'CC(C)(C)P(c1ccccc1)C(C)(C)C.OB(O)B(O)O'}. Best is trial 2 with value: 62.14279556274414.\n",
      "[I 2025-08-25 01:56:40,527] Trial 9 finished with value: 44.76215744018555 and parameters: {'reactant': 'Brc1ccc2c(c1)OCO2', 'reagent': 'c1ccc(P(c2ccccc2)C2CCCCC2)cc1.OB(O)B(O)O'}. Best is trial 2 with value: 62.14279556274414.\n",
      "[I 2025-08-25 01:56:40,717] Trial 10 finished with value: 59.592594146728516 and parameters: {'reactant': 'Brc1ccsc1', 'reagent': 'c1ccc(-c2ccccc2P(C2CCCCC2)C2CCCCC2)cc1.OB(O)B(O)O'}. Best is trial 2 with value: 62.14279556274414.\n",
      "[I 2025-08-25 01:56:40,913] Trial 11 finished with value: 58.384368896484375 and parameters: {'reactant': 'Cc1ncccc1Br', 'reagent': 'CC(=C(c1ccccc1)c1ccccc1)P(C1CCCCC1)C1CCCCC1.OB(O)B(O)O'}. Best is trial 2 with value: 62.14279556274414.\n",
      "[I 2025-08-25 01:56:41,167] Trial 12 finished with value: 52.740840911865234 and parameters: {'reactant': 'N#Cc1ccc(Cl)cc1F', 'reagent': 'COc1cc(C(C)(C)C)cc(C(C)(C)C)c1-c1ccccc1P(C1CCCCC1)C1CCCCC1.OB(O)B(O)O'}. Best is trial 2 with value: 62.14279556274414.\n",
      "[I 2025-08-25 01:56:41,376] Trial 13 finished with value: 36.05888366699219 and parameters: {'reactant': 'CCOC(=O)c1ccc(Cl)c(F)c1', 'reagent': 'CC(C)(C)P(c1ccccc1)C(C)(C)C.OB(O)B(O)O'}. Best is trial 2 with value: 62.14279556274414.\n",
      "[I 2025-08-25 01:56:41,595] Trial 14 finished with value: 57.223106384277344 and parameters: {'reactant': 'Cc1ncccc1Br', 'reagent': 'Cc1cc(C)cc(P(c2cc(C)cc(C)c2)c2cc(C)cc(C)c2)c1.OB(O)B(O)O'}. Best is trial 2 with value: 62.14279556274414.\n",
      "[I 2025-08-25 01:56:41,806] Trial 15 finished with value: 51.343040466308594 and parameters: {'reactant': 'Clc1ccc2c(c1)OCO2', 'reagent': 'CN(C)c1ccc(P(c2ccccc2)c2ccccc2)cc1.OB(O)B(O)O'}. Best is trial 2 with value: 62.14279556274414.\n",
      "[I 2025-08-25 01:56:42,034] Trial 16 finished with value: 29.908004760742188 and parameters: {'reactant': 'CCOC(=O)c1cc(Br)cn1CC', 'reagent': 'COc1ccccc1C1=C(P(C2CCCCC2)C2CCCCC2)C2c3ccccc3C1c1ccccc12.OB(O)B(O)O'}. Best is trial 2 with value: 62.14279556274414.\n",
      "[I 2025-08-25 01:56:42,245] Trial 17 finished with value: 40.24442672729492 and parameters: {'reactant': 'COc1ncc(Br)c(OC)n1', 'reagent': 'c1ccc(P(C2CCCCC2)C2CCCCC2)c(-n2c3ccccc3c3ccccc32)c1.OB(O)B(O)O'}. Best is trial 2 with value: 62.14279556274414.\n",
      "[I 2025-08-25 01:56:42,463] Trial 18 finished with value: 52.937625885009766 and parameters: {'reactant': 'COC(=O)c1ccc(Br)cc1', 'reagent': 'c1ccc(-n2cccc2P(C2CCCCC2)C2CCCCC2)cc1.OB(O)B(O)O'}. Best is trial 2 with value: 62.14279556274414.\n",
      "[I 2025-08-25 01:56:42,682] Trial 19 finished with value: 43.00778579711914 and parameters: {'reactant': 'COC(=O)c1ccc(Cl)cc1', 'reagent': 'c1ccc(-c2cc3ccccc3n2P(C2CCCCC2)C2CCCCC2)cc1.OB(O)B(O)O'}. Best is trial 2 with value: 62.14279556274414.\n",
      "[I 2025-08-25 01:56:42,916] Trial 20 finished with value: 45.09638595581055 and parameters: {'reactant': 'Clc1ccc(-c2ccccc2)cc1', 'reagent': 'C1CCC([PH+](C2CCCCC2)C2CCCCC2)CC1.F[B-](F)(F)F.OB(O)B(O)O'}. Best is trial 2 with value: 62.14279556274414.\n",
      "[I 2025-08-25 01:56:43,112] Trial 21 finished with value: 62.044395446777344 and parameters: {'reactant': 'Brc1ccsc1', 'reagent': 'c1ccc(-c2ccccc2P(C2CCCCC2)C2CCCCC2)cc1.OB(O)B(O)O'}. Best is trial 2 with value: 62.14279556274414.\n",
      "[I 2025-08-25 01:56:43,314] Trial 22 finished with value: 46.53828811645508 and parameters: {'reactant': 'Brc1ccsc1', 'reagent': 'c1ccc(-c2ccccc2P(C2CCCCC2)C2CCCCC2)cc1.OB(O)B(O)O'}. Best is trial 2 with value: 62.14279556274414.\n",
      "[I 2025-08-25 01:56:43,524] Trial 23 finished with value: 52.41431427001953 and parameters: {'reactant': 'N#Cc1ccc(Br)cc1F', 'reagent': 'COc1ccc(P(c2ccc(OC)cc2)c2ccc(OC)cc2)cc1.OB(O)B(O)O'}. Best is trial 2 with value: 62.14279556274414.\n",
      "[I 2025-08-25 01:56:43,757] Trial 24 finished with value: 45.14701843261719 and parameters: {'reactant': 'Clc1ccc2[nH]ccc2c1', 'reagent': 'c1ccc(P(c2ccccc2)c2ccccc2)cc1.OB(O)B(O)O'}. Best is trial 2 with value: 62.14279556274414.\n",
      "[I 2025-08-25 01:56:43,993] Trial 25 finished with value: 41.6029167175293 and parameters: {'reactant': 'Brc1cnc2ccccc2c1', 'reagent': 'C[PH+](C)C.F[B-](F)(F)F.OB(O)B(O)O'}. Best is trial 2 with value: 62.14279556274414.\n",
      "[I 2025-08-25 01:56:44,254] Trial 26 finished with value: 36.73891067504883 and parameters: {'reactant': 'CN(C)S(=O)(=O)Oc1ccc(-c2ccccc2)cc1', 'reagent': 'CC(C)c1cc(C(C)C)c(-c2ccccc2P(c2ccccc2)c2ccccc2)c(C(C)C)c1.OB(O)B(O)O'}. Best is trial 2 with value: 62.14279556274414.\n",
      "[I 2025-08-25 01:56:44,452] Trial 27 finished with value: 61.561065673828125 and parameters: {'reactant': 'Brc1ccsc1', 'reagent': 'COc1ccccc1P(c1ccccc1OC)c1ccccc1OC.OB(O)B(O)O'}. Best is trial 2 with value: 62.14279556274414.\n",
      "[I 2025-08-25 01:56:44,642] Trial 28 finished with value: 56.87958526611328 and parameters: {'reactant': 'Brc1ccsc1', 'reagent': 'COc1ccccc1P(c1ccccc1OC)c1ccccc1OC.OB(O)B(O)O'}. Best is trial 2 with value: 62.14279556274414.\n",
      "[I 2025-08-25 01:56:44,864] Trial 29 finished with value: 43.735050201416016 and parameters: {'reactant': 'COc1ccc(Br)cc1', 'reagent': 'c1ccc(-c2nn(-c3ccccc3)c(-c3ccccc3)c2-n2nccc2P(C2CCCCC2)C2CCCCC2)cc1.OB(O)B(O)O'}. Best is trial 2 with value: 62.14279556274414.\n",
      "[I 2025-08-25 01:56:45,073] Trial 30 finished with value: 51.52759552001953 and parameters: {'reactant': 'Brc1ccccc1-c1ccccc1', 'reagent': 'COc1ccccc1P(c1ccccc1OC)c1ccccc1OC.OB(O)B(O)O'}. Best is trial 2 with value: 62.14279556274414.\n",
      "[I 2025-08-25 01:56:45,294] Trial 31 finished with value: 46.25798034667969 and parameters: {'reactant': 'CN(C)C(=O)c1ccc(Cl)cc1', 'reagent': 'c1ccc(-c2ccccc2P(C2CCCCC2)C2CCCCC2)cc1.OB(O)B(O)O'}. Best is trial 2 with value: 62.14279556274414.\n",
      "[I 2025-08-25 01:56:45,503] Trial 32 finished with value: 53.38833236694336 and parameters: {'reactant': 'FC(F)(F)c1ccc(Br)cc1', 'reagent': 'Cc1ccccc1-c1ccccc1P(C1CCCCC1)C1CCCCC1.OB(O)B(O)O'}. Best is trial 2 with value: 62.14279556274414.\n",
      "[I 2025-08-25 01:56:45,710] Trial 33 finished with value: 55.51620101928711 and parameters: {'reactant': 'Cc1cc(F)ccc1Cl', 'reagent': 'Fc1ccc(P(c2ccc(F)cc2)c2ccc(F)cc2)cc1.OB(O)B(O)O'}. Best is trial 2 with value: 62.14279556274414.\n",
      "[I 2025-08-25 01:56:45,913] Trial 34 finished with value: 46.24547576904297 and parameters: {'reactant': 'Cc1c(N)cccc1Cl', 'reagent': 'COc1ccccc1P(c1ccccc1OC)c1ccccc1OC.OB(O)B(O)O'}. Best is trial 2 with value: 62.14279556274414.\n",
      "[I 2025-08-25 01:56:46,166] Trial 35 finished with value: 29.086416244506836 and parameters: {'reactant': 'Cc1nc2cc(OS(=O)(=O)N(C)C)ccc2s1', 'reagent': 'CCCCC1([PH+](C2CCCCC2)C2CCCCC2)c2ccccc2-c2ccccc21.F[B-](F)(F)F.OB(O)B(O)O'}. Best is trial 2 with value: 62.14279556274414.\n",
      "[I 2025-08-25 01:56:46,405] Trial 36 finished with value: 59.15329360961914 and parameters: {'reactant': 'FC(F)(F)c1ccc(Cl)cc1', 'reagent': 'c1ccc(P(C2CCCCC2)C2CCCCC2)c(-n2c3ccccc3c3ccccc32)c1.OB(O)B(O)O'}. Best is trial 2 with value: 62.14279556274414.\n",
      "[I 2025-08-25 01:56:46,632] Trial 37 finished with value: 23.081329345703125 and parameters: {'reactant': 'CN(C)S(=O)(=O)Oc1ccc2[nH]ccc2c1', 'reagent': 'COc1cccc(OC)c1-c1ccccc1P(c1ccccc1)c1ccccc1.OB(O)B(O)O'}. Best is trial 2 with value: 62.14279556274414.\n",
      "[I 2025-08-25 01:56:46,833] Trial 38 finished with value: 42.999237060546875 and parameters: {'reactant': 'Clc1cnc2ccccc2c1', 'reagent': 'CC(C)(C)P(c1ccccc1)C(C)(C)C.OB(O)B(O)O'}. Best is trial 2 with value: 62.14279556274414.\n",
      "[I 2025-08-25 01:56:47,044] Trial 39 finished with value: 50.33514404296875 and parameters: {'reactant': 'COc1ccc(Cl)cc1F', 'reagent': 'CN(C)c1ccccc1-c1ccccc1P(c1ccccc1)c1ccccc1.OB(O)B(O)O'}. Best is trial 2 with value: 62.14279556274414.\n",
      "[I 2025-08-25 01:56:47,254] Trial 40 finished with value: 38.973819732666016 and parameters: {'reactant': 'CN(C)S(=O)(=O)Oc1ccc2ncccc2c1', 'reagent': 'c1ccc(P(c2ccccc2)C2CCCCC2)cc1.OB(O)B(O)O'}. Best is trial 2 with value: 62.14279556274414.\n",
      "[I 2025-08-25 01:56:47,453] Trial 41 finished with value: 66.23432159423828 and parameters: {'reactant': 'Brc1ccsc1', 'reagent': 'c1ccc(-c2ccccc2P(C2CCCCC2)C2CCCCC2)cc1.OB(O)B(O)O'}. Best is trial 41 with value: 66.23432159423828.\n",
      "[I 2025-08-25 01:56:47,657] Trial 42 finished with value: 53.70184326171875 and parameters: {'reactant': 'Brc1ccsc1', 'reagent': 'c1ccc(-c2ccccc2P(C2CCCCC2)C2CCCCC2)cc1.OB(O)B(O)O'}. Best is trial 41 with value: 66.23432159423828.\n",
      "[I 2025-08-25 01:56:47,848] Trial 43 finished with value: 61.75069046020508 and parameters: {'reactant': 'Brc1ccsc1', 'reagent': 'c1ccc(-c2ccccc2P(C2CCCCC2)C2CCCCC2)cc1.OB(O)B(O)O'}. Best is trial 41 with value: 66.23432159423828.\n",
      "[I 2025-08-25 01:56:48,042] Trial 44 finished with value: 62.91497802734375 and parameters: {'reactant': 'Brc1ccsc1', 'reagent': 'c1ccc(-c2ccccc2P(C2CCCCC2)C2CCCCC2)cc1.OB(O)B(O)O'}. Best is trial 41 with value: 66.23432159423828.\n",
      "[I 2025-08-25 01:56:48,246] Trial 45 finished with value: 48.95289993286133 and parameters: {'reactant': 'Brc1ccsc1', 'reagent': 'c1ccc(-c2ccccc2P(C2CCCCC2)C2CCCCC2)cc1.OB(O)B(O)O'}. Best is trial 41 with value: 66.23432159423828.\n",
      "[I 2025-08-25 01:56:48,447] Trial 46 finished with value: 54.35696792602539 and parameters: {'reactant': 'Cc1cccc(C)c1Cl', 'reagent': 'c1ccc(-c2ccccc2P(C2CCCCC2)C2CCCCC2)cc1.OB(O)B(O)O'}. Best is trial 41 with value: 66.23432159423828.\n",
      "[I 2025-08-25 01:56:48,647] Trial 47 finished with value: 42.21077346801758 and parameters: {'reactant': 'COc1ccc(Br)cc1F', 'reagent': 'c1ccc(-c2ccccc2P(C2CCCCC2)C2CCCCC2)cc1.OB(O)B(O)O'}. Best is trial 41 with value: 66.23432159423828.\n",
      "[I 2025-08-25 01:56:48,843] Trial 48 finished with value: 53.384063720703125 and parameters: {'reactant': 'Brc1ccsc1', 'reagent': 'CC(=C(c1ccccc1)c1ccccc1)P(C1CCCCC1)C1CCCCC1.OB(O)B(O)O'}. Best is trial 41 with value: 66.23432159423828.\n",
      "[I 2025-08-25 01:56:49,037] Trial 49 finished with value: 33.50351333618164 and parameters: {'reactant': 'COc1cc(Cl)ccc1F', 'reagent': 'CC(C)(C)P(c1ccccc1)C(C)(C)C.OB(O)B(O)O'}. Best is trial 41 with value: 66.23432159423828.\n",
      "[I 2025-08-25 01:56:49,244] Trial 50 finished with value: 56.23478698730469 and parameters: {'reactant': 'Brc1ccc2occc2c1', 'reagent': 'c1ccc(-c2ccccc2P(C2CCCCC2)C2CCCCC2)cc1.OB(O)B(O)O'}. Best is trial 41 with value: 66.23432159423828.\n",
      "[I 2025-08-25 01:56:49,454] Trial 51 finished with value: 54.35544204711914 and parameters: {'reactant': 'Brc1ccsc1', 'reagent': 'COc1cc(C(C)(C)C)cc(C(C)(C)C)c1-c1ccccc1P(C1CCCCC1)C1CCCCC1.OB(O)B(O)O'}. Best is trial 41 with value: 66.23432159423828.\n",
      "[I 2025-08-25 01:56:49,653] Trial 52 finished with value: 62.55270767211914 and parameters: {'reactant': 'Brc1ccsc1', 'reagent': 'CN(C)c1ccc(P(c2ccccc2)c2ccccc2)cc1.OB(O)B(O)O'}. Best is trial 41 with value: 66.23432159423828.\n",
      "[I 2025-08-25 01:56:49,864] Trial 53 finished with value: 58.81760787963867 and parameters: {'reactant': 'Brc1ccc(-c2ccccc2)cc1', 'reagent': 'CN(C)c1ccc(P(c2ccccc2)c2ccccc2)cc1.OB(O)B(O)O'}. Best is trial 41 with value: 66.23432159423828.\n",
      "[I 2025-08-25 01:56:50,083] Trial 54 finished with value: 46.82151794433594 and parameters: {'reactant': 'CCOC(=O)C(C)(C)Oc1ccc(Cl)cc1', 'reagent': 'CN(C)c1ccc(P(c2ccccc2)c2ccccc2)cc1.OB(O)B(O)O'}. Best is trial 41 with value: 66.23432159423828.\n",
      "[I 2025-08-25 01:56:50,312] Trial 55 finished with value: 64.234130859375 and parameters: {'reactant': 'Brc1ccsc1', 'reagent': 'Cc1cc(C)cc(P(c2cc(C)cc(C)c2)c2cc(C)cc(C)c2)c1.OB(O)B(O)O'}. Best is trial 41 with value: 66.23432159423828.\n",
      "[I 2025-08-25 01:56:50,562] Trial 56 finished with value: 56.62836456298828 and parameters: {'reactant': 'N#Cc1ccc(Cl)cc1F', 'reagent': 'Cc1cc(C)cc(P(c2cc(C)cc(C)c2)c2cc(C)cc(C)c2)c1.OB(O)B(O)O'}. Best is trial 41 with value: 66.23432159423828.\n",
      "[I 2025-08-25 01:56:50,787] Trial 57 finished with value: 78.98497009277344 and parameters: {'reactant': 'Brc1ccsc1', 'reagent': 'Cc1cc(C)cc(P(c2cc(C)cc(C)c2)c2cc(C)cc(C)c2)c1.OB(O)B(O)O'}. Best is trial 57 with value: 78.98497009277344.\n",
      "[I 2025-08-25 01:56:51,028] Trial 58 finished with value: 50.379119873046875 and parameters: {'reactant': 'Brc1ccc2c(c1)OCO2', 'reagent': 'Cc1cc(C)cc(P(c2cc(C)cc(C)c2)c2cc(C)cc(C)c2)c1.OB(O)B(O)O'}. Best is trial 57 with value: 78.98497009277344.\n",
      "[I 2025-08-25 01:56:51,275] Trial 59 finished with value: 69.68122100830078 and parameters: {'reactant': 'Clc1ccc2c(c1)OCO2', 'reagent': 'Cc1cc(C)cc(P(c2cc(C)cc(C)c2)c2cc(C)cc(C)c2)c1.OB(O)B(O)O'}. Best is trial 57 with value: 78.98497009277344.\n",
      "[I 2025-08-25 01:56:51,524] Trial 60 finished with value: 58.079139709472656 and parameters: {'reactant': 'Clc1ccc2c(c1)OCO2', 'reagent': 'Cc1cc(C)cc(P(c2cc(C)cc(C)c2)c2cc(C)cc(C)c2)c1.OB(O)B(O)O'}. Best is trial 57 with value: 78.98497009277344.\n",
      "[I 2025-08-25 01:56:51,775] Trial 61 finished with value: 49.83233642578125 and parameters: {'reactant': 'Clc1ccc2c(c1)OCO2', 'reagent': 'Cc1cc(C)cc(P(c2cc(C)cc(C)c2)c2cc(C)cc(C)c2)c1.OB(O)B(O)O'}. Best is trial 57 with value: 78.98497009277344.\n",
      "[I 2025-08-25 01:56:52,016] Trial 62 finished with value: 29.862674713134766 and parameters: {'reactant': 'CCOC(=O)c1ccc(Cl)c(F)c1', 'reagent': 'COc1ccccc1C1=C(P(C2CCCCC2)C2CCCCC2)C2c3ccccc3C1c1ccccc12.OB(O)B(O)O'}. Best is trial 57 with value: 78.98497009277344.\n",
      "[I 2025-08-25 01:56:52,297] Trial 63 finished with value: 67.17477416992188 and parameters: {'reactant': 'COC(=O)c1ccc(Br)cc1', 'reagent': 'Cc1cc(C)cc(P(c2cc(C)cc(C)c2)c2cc(C)cc(C)c2)c1.OB(O)B(O)O'}. Best is trial 57 with value: 78.98497009277344.\n",
      "[I 2025-08-25 01:56:52,535] Trial 64 finished with value: 69.55313873291016 and parameters: {'reactant': 'COC(=O)c1ccc(Cl)cc1', 'reagent': 'Cc1cc(C)cc(P(c2cc(C)cc(C)c2)c2cc(C)cc(C)c2)c1.OB(O)B(O)O'}. Best is trial 57 with value: 78.98497009277344.\n",
      "[I 2025-08-25 01:56:52,817] Trial 65 finished with value: 57.54473876953125 and parameters: {'reactant': 'COC(=O)c1ccc(Br)cc1', 'reagent': 'Cc1cc(C)cc(P(c2cc(C)cc(C)c2)c2cc(C)cc(C)c2)c1.OB(O)B(O)O'}. Best is trial 57 with value: 78.98497009277344.\n",
      "[I 2025-08-25 01:56:53,069] Trial 66 finished with value: 45.21356964111328 and parameters: {'reactant': 'COC(=O)c1ccc(Cl)cc1', 'reagent': 'Cc1cc(C)cc(P(c2cc(C)cc(C)c2)c2cc(C)cc(C)c2)c1.OB(O)B(O)O'}. Best is trial 57 with value: 78.98497009277344.\n",
      "[I 2025-08-25 01:56:53,312] Trial 67 finished with value: 57.32431411743164 and parameters: {'reactant': 'COC(=O)c1ccc(Br)cc1', 'reagent': 'Cc1cc(C)cc(P(c2cc(C)cc(C)c2)c2cc(C)cc(C)c2)c1.OB(O)B(O)O'}. Best is trial 57 with value: 78.98497009277344.\n",
      "[I 2025-08-25 01:56:53,533] Trial 68 finished with value: 57.79744338989258 and parameters: {'reactant': 'COC(=O)c1ccc(Cl)cc1', 'reagent': 'c1ccc(-n2cccc2P(C2CCCCC2)C2CCCCC2)cc1.OB(O)B(O)O'}. Best is trial 57 with value: 78.98497009277344.\n",
      "[I 2025-08-25 01:56:53,774] Trial 69 finished with value: 37.27011489868164 and parameters: {'reactant': 'CN(C)C(=O)c1ccc(Cl)cc1', 'reagent': 'c1ccc(-c2cc3ccccc3n2P(C2CCCCC2)C2CCCCC2)cc1.OB(O)B(O)O'}. Best is trial 57 with value: 78.98497009277344.\n",
      "[I 2025-08-25 01:56:54,083] Trial 70 finished with value: 47.97608947753906 and parameters: {'reactant': 'Clc1ccc(-c2ccccc2)cc1', 'reagent': 'C1CCC([PH+](C2CCCCC2)C2CCCCC2)CC1.F[B-](F)(F)F.OB(O)B(O)O'}. Best is trial 57 with value: 78.98497009277344.\n",
      "[I 2025-08-25 01:56:54,313] Trial 71 finished with value: 44.4511833190918 and parameters: {'reactant': 'CCOC(=O)c1cc(Br)cn1CC', 'reagent': 'COc1ccc(P(c2ccc(OC)cc2)c2ccc(OC)cc2)cc1.OB(O)B(O)O'}. Best is trial 57 with value: 78.98497009277344.\n",
      "[I 2025-08-25 01:56:54,544] Trial 72 finished with value: 37.130821228027344 and parameters: {'reactant': 'COc1ncc(Br)c(OC)n1', 'reagent': 'Cc1cc(C)cc(P(c2cc(C)cc(C)c2)c2cc(C)cc(C)c2)c1.OB(O)B(O)O'}. Best is trial 57 with value: 78.98497009277344.\n",
      "[I 2025-08-25 01:56:54,763] Trial 73 finished with value: 47.022735595703125 and parameters: {'reactant': 'N#Cc1ccc(Br)cc1F', 'reagent': 'C[PH+](C)C.F[B-](F)(F)F.OB(O)B(O)O'}. Best is trial 57 with value: 78.98497009277344.\n",
      "[I 2025-08-25 01:56:54,955] Trial 74 finished with value: 45.76511001586914 and parameters: {'reactant': 'Cc1ncccc1Br', 'reagent': 'c1ccc(P(c2ccccc2)c2ccccc2)cc1.OB(O)B(O)O'}. Best is trial 57 with value: 78.98497009277344.\n",
      "[I 2025-08-25 01:56:55,174] Trial 75 finished with value: 50.183189392089844 and parameters: {'reactant': 'Brc1ccsc1', 'reagent': 'c1ccc(-c2nn(-c3ccccc3)c(-c3ccccc3)c2-n2nccc2P(C2CCCCC2)C2CCCCC2)cc1.OB(O)B(O)O'}. Best is trial 57 with value: 78.98497009277344.\n",
      "[I 2025-08-25 01:56:55,383] Trial 76 finished with value: 40.47312927246094 and parameters: {'reactant': 'Clc1ccc2[nH]ccc2c1', 'reagent': 'Cc1ccccc1-c1ccccc1P(C1CCCCC1)C1CCCCC1.OB(O)B(O)O'}. Best is trial 57 with value: 78.98497009277344.\n",
      "[I 2025-08-25 01:56:55,613] Trial 77 finished with value: 45.116539001464844 and parameters: {'reactant': 'COc1ccc(Br)cc1', 'reagent': 'CC(C)c1cc(C(C)C)c(-c2ccccc2P(c2ccccc2)c2ccccc2)c(C(C)C)c1.OB(O)B(O)O'}. Best is trial 57 with value: 78.98497009277344.\n",
      "[I 2025-08-25 01:56:55,868] Trial 78 finished with value: 59.829349517822266 and parameters: {'reactant': 'CN(C)S(=O)(=O)Oc1ccc(-c2ccccc2)cc1', 'reagent': 'Cc1cc(C)cc(P(c2cc(C)cc(C)c2)c2cc(C)cc(C)c2)c1.OB(O)B(O)O'}. Best is trial 57 with value: 78.98497009277344.\n",
      "[I 2025-08-25 01:56:56,075] Trial 79 finished with value: 44.21673583984375 and parameters: {'reactant': 'Brc1cnc2ccccc2c1', 'reagent': 'CN(C)c1ccc(P(c2ccccc2)c2ccccc2)cc1.OB(O)B(O)O'}. Best is trial 57 with value: 78.98497009277344.\n",
      "[I 2025-08-25 01:56:56,289] Trial 80 finished with value: 42.67723083496094 and parameters: {'reactant': 'Cc1cc(F)ccc1Cl', 'reagent': 'COc1cccc(OC)c1-c1ccccc1P(c1ccccc1)c1ccccc1.OB(O)B(O)O'}. Best is trial 57 with value: 78.98497009277344.\n",
      "[I 2025-08-25 01:56:56,504] Trial 81 finished with value: 68.58973693847656 and parameters: {'reactant': 'Brc1ccsc1', 'reagent': 'Fc1ccc(P(c2ccc(F)cc2)c2ccc(F)cc2)cc1.OB(O)B(O)O'}. Best is trial 57 with value: 78.98497009277344.\n",
      "[I 2025-08-25 01:56:56,709] Trial 82 finished with value: 43.84589385986328 and parameters: {'reactant': 'Cc1c(N)cccc1Cl', 'reagent': 'Fc1ccc(P(c2ccc(F)cc2)c2ccc(F)cc2)cc1.OB(O)B(O)O'}. Best is trial 57 with value: 78.98497009277344.\n",
      "[I 2025-08-25 01:56:56,921] Trial 83 finished with value: 75.01045989990234 and parameters: {'reactant': 'Brc1ccsc1', 'reagent': 'Fc1ccc(P(c2ccc(F)cc2)c2ccc(F)cc2)cc1.OB(O)B(O)O'}. Best is trial 57 with value: 78.98497009277344.\n",
      "[I 2025-08-25 01:56:57,125] Trial 84 finished with value: 60.575233459472656 and parameters: {'reactant': 'Brc1ccsc1', 'reagent': 'Fc1ccc(P(c2ccc(F)cc2)c2ccc(F)cc2)cc1.OB(O)B(O)O'}. Best is trial 57 with value: 78.98497009277344.\n",
      "[I 2025-08-25 01:56:57,348] Trial 85 finished with value: 48.19144821166992 and parameters: {'reactant': 'Brc1ccccc1-c1ccccc1', 'reagent': 'Fc1ccc(P(c2ccc(F)cc2)c2ccc(F)cc2)cc1.OB(O)B(O)O'}. Best is trial 57 with value: 78.98497009277344.\n",
      "[I 2025-08-25 01:56:57,622] Trial 86 finished with value: 52.73368835449219 and parameters: {'reactant': 'FC(F)(F)c1ccc(Br)cc1', 'reagent': 'CCCCC1([PH+](C2CCCCC2)C2CCCCC2)c2ccccc2-c2ccccc21.F[B-](F)(F)F.OB(O)B(O)O'}. Best is trial 57 with value: 78.98497009277344.\n",
      "[I 2025-08-25 01:56:57,850] Trial 87 finished with value: 41.4742546081543 and parameters: {'reactant': 'Clc1cnc2ccccc2c1', 'reagent': 'Fc1ccc(P(c2ccc(F)cc2)c2ccc(F)cc2)cc1.OB(O)B(O)O'}. Best is trial 57 with value: 78.98497009277344.\n",
      "[I 2025-08-25 01:56:58,054] Trial 88 finished with value: 48.37474060058594 and parameters: {'reactant': 'Brc1ccsc1', 'reagent': 'CN(C)c1ccccc1-c1ccccc1P(c1ccccc1)c1ccccc1.OB(O)B(O)O'}. Best is trial 57 with value: 78.98497009277344.\n",
      "[I 2025-08-25 01:56:58,305] Trial 89 finished with value: 56.95759201049805 and parameters: {'reactant': 'FC(F)(F)c1ccc(Cl)cc1', 'reagent': 'Cc1cc(C)cc(P(c2cc(C)cc(C)c2)c2cc(C)cc(C)c2)c1.OB(O)B(O)O'}. Best is trial 57 with value: 78.98497009277344.\n",
      "[I 2025-08-25 01:56:58,565] Trial 90 finished with value: 38.7684211730957 and parameters: {'reactant': 'CN(C)S(=O)(=O)Oc1ccc2[nH]ccc2c1', 'reagent': 'COc1cc(C(C)(C)C)cc(C(C)(C)C)c1-c1ccccc1P(C1CCCCC1)C1CCCCC1.OB(O)B(O)O'}. Best is trial 57 with value: 78.98497009277344.\n",
      "[I 2025-08-25 01:56:58,767] Trial 91 finished with value: 63.369441986083984 and parameters: {'reactant': 'Brc1ccsc1', 'reagent': 'CC(=C(c1ccccc1)c1ccccc1)P(C1CCCCC1)C1CCCCC1.OB(O)B(O)O'}. Best is trial 57 with value: 78.98497009277344.\n",
      "[I 2025-08-25 01:56:58,975] Trial 92 finished with value: 75.06482696533203 and parameters: {'reactant': 'Brc1ccsc1', 'reagent': 'Fc1ccc(P(c2ccc(F)cc2)c2ccc(F)cc2)cc1.OB(O)B(O)O'}. Best is trial 57 with value: 78.98497009277344.\n",
      "[I 2025-08-25 01:56:59,193] Trial 93 finished with value: 55.84825134277344 and parameters: {'reactant': 'Brc1ccsc1', 'reagent': 'CC(=C(c1ccccc1)c1ccccc1)P(C1CCCCC1)C1CCCCC1.OB(O)B(O)O'}. Best is trial 57 with value: 78.98497009277344.\n",
      "[I 2025-08-25 01:56:59,402] Trial 94 finished with value: 45.6090202331543 and parameters: {'reactant': 'COc1ccc(Cl)cc1F', 'reagent': 'Fc1ccc(P(c2ccc(F)cc2)c2ccc(F)cc2)cc1.OB(O)B(O)O'}. Best is trial 57 with value: 78.98497009277344.\n",
      "[I 2025-08-25 01:56:59,671] Trial 95 finished with value: 29.112422943115234 and parameters: {'reactant': 'Cc1nc2cc(OS(=O)(=O)N(C)C)ccc2s1', 'reagent': 'CC(=C(c1ccccc1)c1ccccc1)P(C1CCCCC1)C1CCCCC1.OB(O)B(O)O'}. Best is trial 57 with value: 78.98497009277344.\n",
      "[I 2025-08-25 01:56:59,912] Trial 96 finished with value: 49.590084075927734 and parameters: {'reactant': 'Clc1ccc2c(c1)OCO2', 'reagent': 'c1ccc(P(c2ccccc2)C2CCCCC2)cc1.OB(O)B(O)O'}. Best is trial 57 with value: 78.98497009277344.\n",
      "[I 2025-08-25 01:57:00,141] Trial 97 finished with value: 38.97718811035156 and parameters: {'reactant': 'COC(=O)c1ccc(Br)cc1', 'reagent': 'Fc1ccc(P(c2ccc(F)cc2)c2ccc(F)cc2)cc1.OB(O)B(O)O'}. Best is trial 57 with value: 78.98497009277344.\n",
      "[I 2025-08-25 01:57:00,373] Trial 98 finished with value: 55.6220588684082 and parameters: {'reactant': 'COc1ccc(Br)cc1F', 'reagent': 'Cc1cc(C)cc(P(c2cc(C)cc(C)c2)c2cc(C)cc(C)c2)c1.OB(O)B(O)O'}. Best is trial 57 with value: 78.98497009277344.\n",
      "[I 2025-08-25 01:57:00,592] Trial 99 finished with value: 47.40632247924805 and parameters: {'reactant': 'Cc1cccc(C)c1Cl', 'reagent': 'c1ccc(P(C2CCCCC2)C2CCCCC2)c(-n2c3ccccc3c3ccccc32)c1.OB(O)B(O)O'}. Best is trial 57 with value: 78.98497009277344.\n"
     ]
    },
    {
     "name": "stdout",
     "output_type": "stream",
     "text": [
      "[Round 5] Fine-tuning on 400 samples, eval 100 samples\n",
      "{'loss': 613.1297, 'grad_norm': 6040.9912109375, 'learning_rate': 0.000304, 'epoch': 2.0}\n",
      "{'loss': 559.3359, 'grad_norm': 5120.78564453125, 'learning_rate': 0.000104, 'epoch': 4.0}\n",
      "{'train_runtime': 8.2821, 'train_samples_per_second': 241.486, 'train_steps_per_second': 15.093, 'train_loss': 570.5009140625, 'epoch': 5.0}\n",
      "\n",
      "Done. Logs:\n",
      "- Trials CSV: runs/5rounds_100_trials_yield/log.csv\n",
      "- Optuna DBs: runs/5rounds_100_trials_yield/round_*.db\n",
      "- Checkpoints per round: runs/5rounds_100_trials_yield/round_*/\n"
     ]
    }
   ],
   "source": [
    "iterative_optuna_finetune(\n",
    "    predict_yield_fn=predict_yield,\n",
    "    true_yield_dict=true_yield_dict,\n",
    "    tokenizer=yield_tokenizer,\n",
    "    model=yield_model,\n",
    "    cfg=cfg,\n",
    ")"
   ]
  },
  {
   "cell_type": "markdown",
   "id": "8b7a7d36",
   "metadata": {},
   "source": [
    "## 可視化"
   ]
  },
  {
   "cell_type": "code",
   "execution_count": 27,
   "id": "67538921",
   "metadata": {},
   "outputs": [],
   "source": [
    "import pandas as pd\n",
    "import matplotlib.pyplot as plt\n",
    "\n",
    "from optuna.visualization.matplotlib import plot_optimization_history"
   ]
  },
  {
   "cell_type": "code",
   "execution_count": 28,
   "id": "806e0494",
   "metadata": {},
   "outputs": [
    {
     "name": "stderr",
     "output_type": "stream",
     "text": [
      "/tmp/ipykernel_16129/2701942162.py:6: ExperimentalWarning: plot_optimization_history is experimental (supported from v2.2.0). The interface can change in the future.\n",
      "  fig_ax = plot_optimization_history(study)\n"
     ]
    },
    {
     "data": {
      "image/png": "[encoded data removed]",
      "text/plain": [
       "<Figure size 640x480 with 1 Axes>"
      ]
     },
     "metadata": {},
     "output_type": "display_data"
    }
   ],
   "source": [
    "study = optuna.load_study(\n",
    "    study_name=\"yield_round_1\",\n",
    "    storage=\"sqlite:///runs/5rounds_100_trials_yield/round_1.db\"\n",
    ")\n",
    "\n",
    "fig_ax = plot_optimization_history(study)\n",
    "plt.show()"
   ]
  },
  {
   "cell_type": "code",
   "execution_count": 29,
   "id": "4b76d36d",
   "metadata": {},
   "outputs": [],
   "source": [
    "def visualize_logs(csv_path: str, out_dir: str | None = None, show: bool = False, dpi: int = 180):\n",
    "    # 出力ディレクトリ（集約）\n",
    "    root = out_dir or (os.path.dirname(csv_path) or \".\")\n",
    "    save_dir = os.path.join(root, \"visualization\")\n",
    "    os.makedirs(save_dir, exist_ok=True)\n",
    "\n",
    "    # ロード & 型整形\n",
    "    df = pd.read_csv(csv_path)\n",
    "    to_num_cols = [\n",
    "        \"round\", \"trial_index\", \"pred_yield_pct\", \"true_yield_pct\",\n",
    "        \"error_pct\", \"study_best_pred\", \"study_best_true\"\n",
    "    ]\n",
    "    for c in to_num_cols:\n",
    "        if c in df.columns:\n",
    "            df[c] = pd.to_numeric(df[c], errors=\"coerce\")\n",
    "\n",
    "    # 真値ありデータ\n",
    "    df_obs = df.dropna(subset=[\"true_yield_pct\"]) if \"true_yield_pct\" in df.columns else pd.DataFrame()\n",
    "    # error_pct が無い/NaN の場合は再計算\n",
    "    if not df_obs.empty:\n",
    "        df_obs[\"error_pct\"] = df_obs[\"pred_yield_pct\"] - df_obs[\"true_yield_pct\"]\n",
    "\n",
    "    # ===== 全体指標 =====\n",
    "    overall = {}\n",
    "    if not df_obs.empty:\n",
    "        y = df_obs[\"true_yield_pct\"].to_numpy()\n",
    "        yhat = df_obs[\"pred_yield_pct\"].to_numpy()\n",
    "        err = yhat - y\n",
    "        overall = {\n",
    "            \"n\": int(len(df_obs)),\n",
    "            \"mae_pct\": float(np.mean(np.abs(err))),\n",
    "            \"rmse_pct\": float(np.sqrt(np.mean(err**2))),\n",
    "            \"bias_pct\": float(np.mean(err)),\n",
    "            \"r2\": float(1 - np.sum(err**2) / np.sum((y - y.mean())**2)) if len(df_obs) > 1 else np.nan,\n",
    "        }\n",
    "    pd.DataFrame([overall]).to_csv(os.path.join(save_dir, \"metrics_overall.csv\"), index=False)\n",
    "\n",
    "    # ===== ラウンド別指標（MAE/RMSE/Bias/R2）=====\n",
    "    metrics_by_round = []\n",
    "    if not df_obs.empty and \"round\" in df_obs.columns:\n",
    "        for r, d in df_obs.groupby(\"round\", dropna=True):\n",
    "            y = d[\"true_yield_pct\"].to_numpy()\n",
    "            yhat = d[\"pred_yield_pct\"].to_numpy()\n",
    "            err = yhat - y\n",
    "            metrics_by_round.append({\n",
    "                \"round\": int(r),\n",
    "                \"n\": int(len(d)),\n",
    "                \"mae_pct\": float(np.mean(np.abs(err))),\n",
    "                \"rmse_pct\": float(np.sqrt(np.mean(err**2))),\n",
    "                \"bias_pct\": float(np.mean(err)),\n",
    "                \"r2\": float(1 - np.sum(err**2) / np.sum((y - y.mean())**2)) if len(d) > 1 else np.nan,\n",
    "            })\n",
    "    mdf = (pd.DataFrame(metrics_by_round)\n",
    "             .sort_values(\"round\")\n",
    "             if metrics_by_round else pd.DataFrame(columns=[\"round\",\"n\",\"mae_pct\",\"rmse_pct\",\"bias_pct\",\"r2\"]))\n",
    "    mdf.to_csv(os.path.join(save_dir, \"metrics_by_round.csv\"), index=False)\n",
    "\n",
    "    # ===== 図: パリティ =====\n",
    "    if not df_obs.empty:\n",
    "        fig = plt.figure(figsize=(5, 5))\n",
    "        plt.scatter(df_obs[\"true_yield_pct\"], df_obs[\"pred_yield_pct\"], s=18, alpha=0.65)\n",
    "        lims = [0, 100]\n",
    "        plt.plot(lims, lims, linestyle=\"--\")\n",
    "        plt.xlim(lims); plt.ylim(lims)\n",
    "        plt.xlabel(\"True Yield [%]\"); plt.ylabel(\"Predicted Yield [%]\")\n",
    "        plt.title(\"Parity: Prediction vs Truth\")\n",
    "        fig.savefig(os.path.join(save_dir, \"parity.png\"), dpi=dpi, bbox_inches=\"tight\")\n",
    "        if show: plt.show()\n",
    "        plt.close(fig)\n",
    "\n",
    "    # ===== 図: 誤差ヒスト =====\n",
    "    if not df_obs.empty and not df_obs[\"error_pct\"].dropna().empty:\n",
    "        fig = plt.figure(figsize=(6, 4))\n",
    "        plt.hist(df_obs[\"error_pct\"].dropna().to_numpy(), bins=30)\n",
    "        plt.xlabel(\"Prediction Error [%]  (pred - true)\")\n",
    "        plt.ylabel(\"Count\")\n",
    "        plt.title(\"Error Histogram\")\n",
    "        fig.savefig(os.path.join(save_dir, \"error_hist.png\"), dpi=dpi, bbox_inches=\"tight\")\n",
    "        if show: plt.show()\n",
    "        plt.close(fig)\n",
    "\n",
    "    # ===== 図: ラウンド別ベスト真値 =====\n",
    "    if not df_obs.empty and \"round\" in df_obs.columns:\n",
    "        best_by_round = df_obs.groupby(\"round\")[\"true_yield_pct\"].max()\n",
    "        fig = plt.figure(figsize=(6, 4))\n",
    "        plt.plot(best_by_round.index, best_by_round.values, marker=\"o\")\n",
    "        plt.xlabel(\"Round\"); plt.ylabel(\"Best Observed True Yield [%]\")\n",
    "        plt.title(\"Best True Yield per Round\"); plt.grid(True, alpha=0.3)\n",
    "        fig.savefig(os.path.join(save_dir, \"best_true_per_round.png\"), dpi=dpi, bbox_inches=\"tight\")\n",
    "        if show: plt.show()\n",
    "        plt.close(fig)\n",
    "\n",
    "    # ===== 図: キャリブレーション =====\n",
    "    if not df_obs.empty:\n",
    "        bins = np.linspace(0, 100, 11)  # 10ビン\n",
    "        cut = pd.cut(df_obs[\"pred_yield_pct\"], bins, include_lowest=True)\n",
    "        calib = df_obs.groupby(cut).agg(\n",
    "            pred_mean=(\"pred_yield_pct\", \"mean\"),\n",
    "            true_mean=(\"true_yield_pct\", \"mean\"),\n",
    "            n=(\"true_yield_pct\", \"size\")\n",
    "        ).dropna()\n",
    "        if not calib.empty:\n",
    "            fig = plt.figure(figsize=(6, 4))\n",
    "            lims = [0, 100]\n",
    "            plt.plot(calib[\"pred_mean\"], calib[\"true_mean\"], marker=\"o\")\n",
    "            plt.plot(lims, lims, linestyle=\"--\")\n",
    "            plt.xlim(lims); plt.ylim(lims)\n",
    "            plt.xlabel(\"Predicted Mean (per bin) [%]\")\n",
    "            plt.ylabel(\"Observed Mean (per bin) [%]\")\n",
    "            plt.title(\"Calibration Curve\")\n",
    "            fig.savefig(os.path.join(save_dir, \"calibration.png\"), dpi=dpi, bbox_inches=\"tight\")\n",
    "            if show: plt.show()\n",
    "            plt.close(fig)\n",
    "            calib.to_csv(os.path.join(save_dir, \"calibration_table.csv\"))\n",
    "\n",
    "    # ===== 図: ラウンド別（真値/予測）の箱ひげ =====\n",
    "    if not df_obs.empty and \"round\" in df_obs.columns:\n",
    "        rounds = sorted(df_obs[\"round\"].dropna().unique())\n",
    "        if len(rounds) > 0:\n",
    "            fig = plt.figure(figsize=(7, 4))\n",
    "            pos = np.array(rounds, dtype=float)\n",
    "            data_true = [df_obs[df_obs[\"round\"] == r][\"true_yield_pct\"].to_numpy() for r in rounds]\n",
    "            data_pred = [df_obs[df_obs[\"round\"] == r][\"pred_yield_pct\"].to_numpy() for r in rounds]\n",
    "            plt.boxplot(data_true, positions=pos - 0.15, widths=0.25, patch_artist=True)\n",
    "            plt.boxplot(data_pred, positions=pos + 0.15, widths=0.25, patch_artist=True)\n",
    "            plt.xticks(rounds)\n",
    "            plt.xlabel(\"Round\"); plt.ylabel(\"Yield [%]\")\n",
    "            plt.title(\"Distributions per Round (True vs Pred)\")\n",
    "            fig.savefig(os.path.join(save_dir, \"round_box.png\"), dpi=dpi, bbox_inches=\"tight\")\n",
    "            if show: plt.show()\n",
    "            plt.close(fig)\n",
    "\n",
    "    # ===== NEW: ラウンド別の誤差分布（箱ひげ）=====\n",
    "    if not df_obs.empty and \"round\" in df_obs.columns:\n",
    "        rounds = sorted(df_obs[\"round\"].dropna().unique())\n",
    "        if len(rounds) > 0:\n",
    "            fig = plt.figure(figsize=(7, 4))\n",
    "            data_err = [df_obs[df_obs[\"round\"] == r][\"error_pct\"].dropna().to_numpy() for r in rounds]\n",
    "            plt.boxplot(data_err, positions=np.array(rounds, dtype=float), widths=0.5, patch_artist=True)\n",
    "            plt.axhline(0.0, linestyle=\"--\")\n",
    "            plt.xticks(rounds)\n",
    "            plt.xlabel(\"Round\"); plt.ylabel(\"Prediction Error (pred - true) [%]\")\n",
    "            plt.title(\"Prediction Error by Round (Boxplot)\")\n",
    "            fig.savefig(os.path.join(save_dir, \"error_box_by_round.png\"), dpi=dpi, bbox_inches=\"tight\")\n",
    "            if show: plt.show()\n",
    "            plt.close(fig)\n",
    "\n",
    "    # ===== NEW: ラウンド別の MAE/RMSE/Bias 推移 =====\n",
    "    if not mdf.empty:\n",
    "        fig = plt.figure(figsize=(7, 4))\n",
    "        plt.plot(mdf[\"round\"], mdf[\"mae_pct\"], marker=\"o\", label=\"MAE [%]\")\n",
    "        plt.plot(mdf[\"round\"], mdf[\"rmse_pct\"], marker=\"o\", label=\"RMSE [%]\")\n",
    "        plt.plot(mdf[\"round\"], mdf[\"bias_pct\"], marker=\"o\", label=\"Bias (pred-true) [%]\")\n",
    "        plt.xlabel(\"Round\"); plt.ylabel(\"Error [%]\")\n",
    "        plt.title(\"Prediction Error by Round\")\n",
    "        plt.grid(True, alpha=0.3); plt.legend()\n",
    "        fig.savefig(os.path.join(save_dir, \"error_by_round.png\"), dpi=dpi, bbox_inches=\"tight\")\n",
    "        if show: plt.show()\n",
    "        plt.close(fig)\n",
    "\n",
    "    # ===== Optuna study best =====\n",
    "    if \"study_best_pred\" in df.columns:\n",
    "        best_df = df.dropna(subset=[\"round\", \"study_best_pred\"]).groupby(\"round\").agg(\n",
    "            best_pred=(\"study_best_pred\", \"max\"),\n",
    "            best_true=(\"study_best_true\", \"max\")\n",
    "        ).reset_index()\n",
    "        if not best_df.empty:\n",
    "            fig = plt.figure(figsize=(6, 4))\n",
    "            plt.plot(best_df[\"round\"], best_df[\"best_pred\"], marker=\"o\", label=\"Study Best Pred [%]\")\n",
    "            if \"study_best_true\" in best_df.columns and best_df[\"best_true\"].notna().any():\n",
    "                plt.plot(best_df[\"round\"], best_df[\"best_true\"], marker=\"o\", label=\"Study Best True [%]\")\n",
    "            plt.xlabel(\"Round\"); plt.ylabel(\"Yield [%]\")\n",
    "            plt.title(\"Optuna Study Best per Round\"); plt.grid(True, alpha=0.3); plt.legend()\n",
    "            fig.savefig(os.path.join(save_dir, \"study_best.png\"), dpi=dpi, bbox_inches=\"tight\")\n",
    "            if show: plt.show()\n",
    "            plt.close(fig)\n",
    "\n",
    "    return {\"overall\": overall, \"by_round\": mdf, \"save_dir\": save_dir}\n"
   ]
  },
  {
   "cell_type": "code",
   "execution_count": 30,
   "id": "3b965eb2",
   "metadata": {},
   "outputs": [
    {
     "name": "stderr",
     "output_type": "stream",
     "text": [
      "/tmp/ipykernel_16129/2173484790.py:97: FutureWarning: The default of observed=False is deprecated and will be changed to True in a future version of pandas. Pass observed=False to retain current behavior or observed=True to adopt the future default and silence this warning.\n",
      "  calib = df_obs.groupby(cut).agg(\n"
     ]
    },
    {
     "name": "stdout",
     "output_type": "stream",
     "text": [
      "{'n': 500, 'mae_pct': 26.770707150000003, 'rmse_pct': 32.52803643949866, 'bias_pct': 11.830344817999999, 'r2': -0.49314472178999114}\n"
     ]
    }
   ],
   "source": [
    "results = visualize_logs(\"runs/5rounds_100_trials_yield/log.csv\", show=False)\n",
    "print(results[\"overall\"])"
   ]
  }
 ],
 "metadata": {
  "kernelspec": {
   "display_name": ".venv",
   "language": "python",
   "name": "python3"
  },
  "language_info": {
   "codemirror_mode": {
    "name": "ipython",
    "version": 3
   },
   "file_extension": ".py",
   "mimetype": "text/x-python",
   "name": "python",
   "nbconvert_exporter": "python",
   "pygments_lexer": "ipython3",
   "version": "3.11.12"
  }
 },
 "nbformat": 4,
 "nbformat_minor": 5
}
