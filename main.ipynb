{
 "cells": [
  {
   "cell_type": "markdown",
   "id": "ff073d26",
   "metadata": {},
   "source": [
    "## データセットの準備"
   ]
  },
  {
   "cell_type": "code",
   "execution_count": 1,
   "id": "29605a73",
   "metadata": {},
   "outputs": [],
   "source": [
    "import pandas as pd\n",
    "from rdkit import Chem\n",
    "from rdkit.Chem import AllChem"
   ]
  },
  {
   "cell_type": "code",
   "execution_count": 2,
   "id": "33dbc2a1",
   "metadata": {},
   "outputs": [],
   "source": [
    "def space_clean(row):\n",
    "    row = row.replace(\". \", \"\").replace(\" .\", \"\").replace(\"  \", \" \")\n",
    "    return row\n",
    "\n",
    "\n",
    "def canonicalize(smiles):\n",
    "    try:\n",
    "        new_smiles = Chem.MolToSmiles(Chem.MolFromSmiles(smiles), canonical=True)\n",
    "    except:\n",
    "        new_smiles = None\n",
    "    return new_smiles"
   ]
  },
  {
   "cell_type": "code",
   "execution_count": 3,
   "id": "17a2a559",
   "metadata": {},
   "outputs": [],
   "source": [
    "df = pd.read_csv(\"./data/inchi_23l_reaction_t5_ready.csv\")"
   ]
  },
  {
   "cell_type": "code",
   "execution_count": 4,
   "id": "85294c23",
   "metadata": {},
   "outputs": [],
   "source": [
    "# 必須カラムの存在チェックと補完\n",
    "required_cols = [\"REACTANT\", \"CATALYST\", \"REAGENT\", \"SOLVENT\", \"PRODUCT\"]\n",
    "for col in required_cols:\n",
    "    if col not in df.columns:\n",
    "        df[col] = \"\"\n",
    "\n",
    "# 必要に応じてYIELDを標準化（0-1に正規化）\n",
    "if \"YIELD\" in df.columns and df[\"YIELD\"].max() >= 100:\n",
    "    df[\"YIELD\"] = df[\"YIELD\"].clip(0, 100) / 100\n",
    "else:\n",
    "    df[\"YIELD\"] = None"
   ]
  },
  {
   "cell_type": "code",
   "execution_count": 5,
   "id": "b1791ddf",
   "metadata": {},
   "outputs": [],
   "source": [
    "for col in [\"REAGENT\", \"REACTANT\", \"PRODUCT\"]:\n",
    "    df[col] = df[col].apply(space_clean)\n",
    "    df[col] = df[col].apply(lambda x: canonicalize(x) if x != \" \" else \" \")\n",
    "    df = df[~df[col].isna()].reset_index(drop=True)\n",
    "    df[col] = df[col].apply(lambda x: \".\".join(sorted(x.split(\".\"))))"
   ]
  },
  {
   "cell_type": "code",
   "execution_count": 6,
   "id": "f9d93a60",
   "metadata": {},
   "outputs": [],
   "source": [
    "df[\"REAGENT\"] = df[\"CATALYST\"].fillna(\" \") + \".\" + df[\"REAGENT\"].fillna(\" \")"
   ]
  },
  {
   "cell_type": "code",
   "execution_count": 7,
   "id": "776e7609",
   "metadata": {},
   "outputs": [],
   "source": [
    "df = df.loc[df[[\"YIELD\"]].drop_duplicates().index].reset_index(drop=True)"
   ]
  },
  {
   "cell_type": "markdown",
   "id": "3cdd3894",
   "metadata": {},
   "source": [
    "## モデルの読み込み"
   ]
  },
  {
   "cell_type": "code",
   "execution_count": 8,
   "id": "c47e4281",
   "metadata": {},
   "outputs": [
    {
     "name": "stderr",
     "output_type": "stream",
     "text": [
      "/root/ReactionT5-bo-yield-experiments/.venv/lib/python3.11/site-packages/tqdm/auto.py:21: TqdmWarning: IProgress not found. Please update jupyter and ipywidgets. See https://ipywidgets.readthedocs.io/en/stable/user_install.html\n",
      "  from .autonotebook import tqdm as notebook_tqdm\n"
     ]
    }
   ],
   "source": [
    "import numpy as np\n",
    "import torch\n",
    "import torch.nn as nn\n",
    "from transformers import AutoTokenizer, AutoModelForSeq2SeqLM, T5ForConditionalGeneration, AutoConfig, PreTrainedModel\n",
    "\n",
    "import logging\n",
    "logging.getLogger(\"transformers\").setLevel(logging.ERROR)"
   ]
  },
  {
   "cell_type": "code",
   "execution_count": 9,
   "id": "f09b311e",
   "metadata": {},
   "outputs": [],
   "source": [
    "class ReactionT5Yield(PreTrainedModel):\n",
    "    config_class  = AutoConfig\n",
    "    def __init__(self, config):\n",
    "        super().__init__(config)\n",
    "        self.config = config\n",
    "        self.model = T5ForConditionalGeneration.from_pretrained(self.config._name_or_path)\n",
    "        self.model.resize_token_embeddings(self.config.vocab_size)\n",
    "        self.fc1 = nn.Linear(self.config.hidden_size, self.config.hidden_size//2)\n",
    "        self.fc2 = nn.Linear(self.config.hidden_size, self.config.hidden_size//2)\n",
    "        self.fc3 = nn.Linear(self.config.hidden_size//2*2, self.config.hidden_size)\n",
    "        self.fc4 = nn.Linear(self.config.hidden_size, self.config.hidden_size)\n",
    "        self.fc5 = nn.Linear(self.config.hidden_size, 1)\n",
    "\n",
    "        self._init_weights(self.fc1)\n",
    "        self._init_weights(self.fc2)\n",
    "        self._init_weights(self.fc3)\n",
    "        self._init_weights(self.fc4)\n",
    "        self._init_weights(self.fc5)\n",
    "\n",
    "    def _init_weights(self, module):\n",
    "        if isinstance(module, nn.Linear):\n",
    "            module.weight.data.normal_(mean=0.0, std=0.01)\n",
    "            if module.bias is not None:\n",
    "                module.bias.data.zero_()\n",
    "        elif isinstance(module, nn.Embedding):\n",
    "            module.weight.data.normal_(mean=0.0, std=0.01)\n",
    "            if module.padding_idx is not None:\n",
    "                module.weight.data[module.padding_idx].zero_()\n",
    "        elif isinstance(module, nn.LayerNorm):\n",
    "            module.bias.data.zero_()\n",
    "            module.weight.data.fill_(1.0)\n",
    "\n",
    "    def forward(self, inputs):\n",
    "        device = inputs['input_ids'].device\n",
    "\n",
    "        with torch.no_grad():\n",
    "            encoder_outputs = self.model.encoder(\n",
    "                input_ids=inputs['input_ids'],\n",
    "                attention_mask=inputs.get('attention_mask', None),\n",
    "            )\n",
    "            encoder_hidden_states = encoder_outputs[0]  # (B, L, H)\n",
    "\n",
    "            dec_input_ids = torch.full(\n",
    "                (inputs['input_ids'].size(0), 1),\n",
    "                self.config.decoder_start_token_id,\n",
    "                dtype=torch.long,\n",
    "                device=device,\n",
    "            )\n",
    "\n",
    "            outputs = self.model.decoder(\n",
    "                input_ids=dec_input_ids,\n",
    "                encoder_hidden_states=encoder_hidden_states,\n",
    "            )\n",
    "            last_hidden_states = outputs[0]  # (B, 1, H)\n",
    "\n",
    "        output1 = self.fc1(last_hidden_states.view(-1, self.config.hidden_size))\n",
    "        output2 = self.fc2(encoder_hidden_states[:, 0, :].view(-1, self.config.hidden_size))\n",
    "        output = self.fc3(torch.hstack((output1, output2)))\n",
    "        output = self.fc4(output)\n",
    "        output = self.fc5(output)\n",
    "        return output * 100\n",
    "\n"
   ]
  },
  {
   "cell_type": "code",
   "execution_count": 10,
   "id": "18fcbfc4",
   "metadata": {},
   "outputs": [],
   "source": [
    "# 収率予測（スカラー出力）\n",
    "yield_tokenizer = AutoTokenizer.from_pretrained(\"sagawa/ReactionT5v2-yield\")\n",
    "yield_model = ReactionT5Yield.from_pretrained(\"sagawa/ReactionT5v2-yield\")"
   ]
  },
  {
   "cell_type": "code",
   "execution_count": 11,
   "id": "fb7b6281",
   "metadata": {},
   "outputs": [],
   "source": [
    "def predict_yield(input_str: str) -> float:\n",
    "    inputs = yield_tokenizer([input_str], return_tensors=\"pt\", truncation=True)\n",
    "    with torch.no_grad():\n",
    "        output = yield_model(inputs)\n",
    "    return output.item()"
   ]
  },
  {
   "cell_type": "markdown",
   "id": "4d7134d4",
   "metadata": {},
   "source": [
    "## Optunaによるベイズ最適化"
   ]
  },
  {
   "cell_type": "code",
   "execution_count": 12,
   "id": "f302359f",
   "metadata": {},
   "outputs": [],
   "source": [
    "import optuna"
   ]
  },
  {
   "cell_type": "code",
   "execution_count": 13,
   "id": "e8100e92",
   "metadata": {},
   "outputs": [],
   "source": [
    "target_product = \"OB(O)c1ccc2[nH]ccc2c1\""
   ]
  },
  {
   "cell_type": "code",
   "execution_count": 14,
   "id": "6677d422",
   "metadata": {},
   "outputs": [],
   "source": [
    "reactant_list = sorted(df[\"REACTANT\"].unique())\n",
    "reagent_list = sorted(df[\"REAGENT\"].unique())"
   ]
  },
  {
   "cell_type": "code",
   "execution_count": 15,
   "id": "94503414",
   "metadata": {},
   "outputs": [],
   "source": [
    "true_yield_dict = {\n",
    "    (row[\"REACTANT\"], row[\"REAGENT\"], row[\"PRODUCT\"]): row[\"YIELD\"]\n",
    "    for _, row in df.iterrows()\n",
    "}"
   ]
  },
  {
   "cell_type": "code",
   "execution_count": 16,
   "id": "d3d289ec",
   "metadata": {},
   "outputs": [],
   "source": [
    "def objective(trial):\n",
    "\n",
    "    yield_model.to(\"cpu\")\n",
    "    try:\n",
    "        torch.cuda.empty_cache()\n",
    "    except Exception:\n",
    "        pass\n",
    "    \n",
    "    reactant = trial.suggest_categorical(\"reactant\", reactant_list)\n",
    "    reagent = trial.suggest_categorical(\"reagent\", reagent_list)\n",
    "\n",
    "    input_str = f\"REACTANT:{reactant}REAGENT:{reagent}PRODUCT:{target_product}\"\n",
    "\n",
    "    try:\n",
    "        pred_yield = predict_yield(input_str)\n",
    "\n",
    "        # ground truth を取得\n",
    "        key = (reactant, reagent, target_product)\n",
    "        if key not in true_yield_dict:\n",
    "            print(f\"❗ No ground truth for: {reactant} + {reagent} → {target_product}\")\n",
    "            true_yield = 0.0\n",
    "        else:\n",
    "            true_yield = true_yield_dict.get(key)\n",
    "\n",
    "        # 誤差の計算\n",
    "        if true_yield is not None:\n",
    "            true_yield_pct = true_yield * 100\n",
    "            error = pred_yield - true_yield_pct \n",
    "            print(f\"🔎 {reactant} + {reagent} → {target_product}\")\n",
    "            print(f\"   📈 Predicted: {pred_yield:.2f}%\")\n",
    "            print(f\"   🧪 Ground truth: {true_yield_pct:.2f}%\" if true_yield is not None else \"   🧪 Ground truth: None\")\n",
    "            print(f\"   ❗ Error: {error:+.2f}%\")\n",
    "        else:\n",
    "            print(f\"❔ No ground truth for: {reactant} + {reagent}\")\n",
    "            error = None\n",
    "\n",
    "        if pred_yield < 0 or pred_yield > 100:\n",
    "            return 0.0\n",
    "\n",
    "        return pred_yield  # 目的関数は「予測収率の最大化」\n",
    "    except Exception as e:\n",
    "        print(f\"❌ Error during trial: {e}\")\n",
    "        return 0.0"
   ]
  },
  {
   "cell_type": "code",
   "execution_count": 17,
   "id": "c778149a",
   "metadata": {},
   "outputs": [
    {
     "name": "stderr",
     "output_type": "stream",
     "text": [
      "[I 2025-08-11 14:13:10,228] A new study created in memory with name: no-name-5b9a6a07-7d8f-4413-b9a1-b71967e4e8dc\n",
      "[I 2025-08-11 14:13:10,373] Trial 0 finished with value: 42.103721618652344 and parameters: {'reactant': 'CCOC(=O)C(C)(C)Oc1ccc(Cl)cc1.OB(O)B(O)O', 'reagent': '.COc1cc(C(C)(C)C)cc(C(C)(C)C)c1-c1ccccc1P(C1CCCCC1)C1CCCCC1'}. Best is trial 0 with value: 42.103721618652344.\n",
      "[I 2025-08-11 14:13:10,479] Trial 1 finished with value: 56.20895767211914 and parameters: {'reactant': 'COc1ncc(Br)c(OC)n1.OB(O)B(O)O', 'reagent': '.CC(C)c1cc(C(C)C)c(-c2ccccc2P(c2ccccc2)c2ccccc2)c(C(C)C)c1'}. Best is trial 1 with value: 56.20895767211914.\n"
     ]
    },
    {
     "name": "stdout",
     "output_type": "stream",
     "text": [
      "❗ No ground truth for: CCOC(=O)C(C)(C)Oc1ccc(Cl)cc1.OB(O)B(O)O + .COc1cc(C(C)(C)C)cc(C(C)(C)C)c1-c1ccccc1P(C1CCCCC1)C1CCCCC1 → OB(O)c1ccc2[nH]ccc2c1\n",
      "🔎 CCOC(=O)C(C)(C)Oc1ccc(Cl)cc1.OB(O)B(O)O + .COc1cc(C(C)(C)C)cc(C(C)(C)C)c1-c1ccccc1P(C1CCCCC1)C1CCCCC1 → OB(O)c1ccc2[nH]ccc2c1\n",
      "   📈 Predicted: 42.10%\n",
      "   🧪 Ground truth: 0.00%\n",
      "   ❗ Error: +42.10%\n",
      "❗ No ground truth for: COc1ncc(Br)c(OC)n1.OB(O)B(O)O + .CC(C)c1cc(C(C)C)c(-c2ccccc2P(c2ccccc2)c2ccccc2)c(C(C)C)c1 → OB(O)c1ccc2[nH]ccc2c1\n",
      "🔎 COc1ncc(Br)c(OC)n1.OB(O)B(O)O + .CC(C)c1cc(C(C)C)c(-c2ccccc2P(c2ccccc2)c2ccccc2)c(C(C)C)c1 → OB(O)c1ccc2[nH]ccc2c1\n",
      "   📈 Predicted: 56.21%\n",
      "   🧪 Ground truth: 0.00%\n",
      "   ❗ Error: +56.21%\n"
     ]
    },
    {
     "name": "stderr",
     "output_type": "stream",
     "text": [
      "[I 2025-08-11 14:13:10,584] Trial 2 finished with value: 69.60411071777344 and parameters: {'reactant': 'Cc1nc2cc(OS(=O)(=O)N(C)C)ccc2s1.OB(O)B(O)O', 'reagent': '.Fc1ccc(P(c2ccc(F)cc2)c2ccc(F)cc2)cc1'}. Best is trial 2 with value: 69.60411071777344.\n",
      "[I 2025-08-11 14:13:10,679] Trial 3 finished with value: 44.80626678466797 and parameters: {'reactant': 'COc1ccc(Br)cc1F.OB(O)B(O)O', 'reagent': '.CC(C)c1cc(C(C)C)c(-c2ccccc2P(c2ccccc2)c2ccccc2)c(C(C)C)c1'}. Best is trial 2 with value: 69.60411071777344.\n",
      "[I 2025-08-11 14:13:10,770] Trial 4 finished with value: 70.2636947631836 and parameters: {'reactant': 'Clc1ccc2[nH]ccc2c1.OB(O)B(O)O', 'reagent': '.c1ccc(P(c2ccccc2)c2ccccc2)cc1'}. Best is trial 4 with value: 70.2636947631836.\n"
     ]
    },
    {
     "name": "stdout",
     "output_type": "stream",
     "text": [
      "❗ No ground truth for: Cc1nc2cc(OS(=O)(=O)N(C)C)ccc2s1.OB(O)B(O)O + .Fc1ccc(P(c2ccc(F)cc2)c2ccc(F)cc2)cc1 → OB(O)c1ccc2[nH]ccc2c1\n",
      "🔎 Cc1nc2cc(OS(=O)(=O)N(C)C)ccc2s1.OB(O)B(O)O + .Fc1ccc(P(c2ccc(F)cc2)c2ccc(F)cc2)cc1 → OB(O)c1ccc2[nH]ccc2c1\n",
      "   📈 Predicted: 69.60%\n",
      "   🧪 Ground truth: 0.00%\n",
      "   ❗ Error: +69.60%\n",
      "❗ No ground truth for: COc1ccc(Br)cc1F.OB(O)B(O)O + .CC(C)c1cc(C(C)C)c(-c2ccccc2P(c2ccccc2)c2ccccc2)c(C(C)C)c1 → OB(O)c1ccc2[nH]ccc2c1\n",
      "🔎 COc1ccc(Br)cc1F.OB(O)B(O)O + .CC(C)c1cc(C(C)C)c(-c2ccccc2P(c2ccccc2)c2ccccc2)c(C(C)C)c1 → OB(O)c1ccc2[nH]ccc2c1\n",
      "   📈 Predicted: 44.81%\n",
      "   🧪 Ground truth: 0.00%\n",
      "   ❗ Error: +44.81%\n",
      "🔎 Clc1ccc2[nH]ccc2c1.OB(O)B(O)O + .c1ccc(P(c2ccccc2)c2ccccc2)cc1 → OB(O)c1ccc2[nH]ccc2c1\n",
      "   📈 Predicted: 70.26%\n",
      "   🧪 Ground truth: 57.31%\n",
      "   ❗ Error: +12.95%\n"
     ]
    },
    {
     "name": "stderr",
     "output_type": "stream",
     "text": [
      "[I 2025-08-11 14:13:10,848] Trial 5 finished with value: 35.00084686279297 and parameters: {'reactant': 'COc1ccc(Br)cc1F.OB(O)B(O)O', 'reagent': '.CN(C)c1ccc(P(c2ccccc2)c2ccccc2)cc1'}. Best is trial 4 with value: 70.2636947631836.\n",
      "[I 2025-08-11 14:13:10,931] Trial 6 finished with value: 55.39708709716797 and parameters: {'reactant': 'N#Cc1ccc(Cl)cc1F.OB(O)B(O)O', 'reagent': '.COc1ccccc1P(c1ccccc1OC)c1ccccc1OC'}. Best is trial 4 with value: 70.2636947631836.\n",
      "[I 2025-08-11 14:13:11,019] Trial 7 finished with value: 39.1043815612793 and parameters: {'reactant': 'Brc1ccc(-c2ccccc2)cc1.OB(O)B(O)O', 'reagent': '.c1ccc(-n2cccc2P(C2CCCCC2)C2CCCCC2)cc1'}. Best is trial 4 with value: 70.2636947631836.\n"
     ]
    },
    {
     "name": "stdout",
     "output_type": "stream",
     "text": [
      "❗ No ground truth for: COc1ccc(Br)cc1F.OB(O)B(O)O + .CN(C)c1ccc(P(c2ccccc2)c2ccccc2)cc1 → OB(O)c1ccc2[nH]ccc2c1\n",
      "🔎 COc1ccc(Br)cc1F.OB(O)B(O)O + .CN(C)c1ccc(P(c2ccccc2)c2ccccc2)cc1 → OB(O)c1ccc2[nH]ccc2c1\n",
      "   📈 Predicted: 35.00%\n",
      "   🧪 Ground truth: 0.00%\n",
      "   ❗ Error: +35.00%\n",
      "❗ No ground truth for: N#Cc1ccc(Cl)cc1F.OB(O)B(O)O + .COc1ccccc1P(c1ccccc1OC)c1ccccc1OC → OB(O)c1ccc2[nH]ccc2c1\n",
      "🔎 N#Cc1ccc(Cl)cc1F.OB(O)B(O)O + .COc1ccccc1P(c1ccccc1OC)c1ccccc1OC → OB(O)c1ccc2[nH]ccc2c1\n",
      "   📈 Predicted: 55.40%\n",
      "   🧪 Ground truth: 0.00%\n",
      "   ❗ Error: +55.40%\n",
      "❗ No ground truth for: Brc1ccc(-c2ccccc2)cc1.OB(O)B(O)O + .c1ccc(-n2cccc2P(C2CCCCC2)C2CCCCC2)cc1 → OB(O)c1ccc2[nH]ccc2c1\n",
      "🔎 Brc1ccc(-c2ccccc2)cc1.OB(O)B(O)O + .c1ccc(-n2cccc2P(C2CCCCC2)C2CCCCC2)cc1 → OB(O)c1ccc2[nH]ccc2c1\n",
      "   📈 Predicted: 39.10%\n",
      "   🧪 Ground truth: 0.00%\n",
      "   ❗ Error: +39.10%\n"
     ]
    },
    {
     "name": "stderr",
     "output_type": "stream",
     "text": [
      "[I 2025-08-11 14:13:11,103] Trial 8 finished with value: 44.0573616027832 and parameters: {'reactant': 'COc1ccc(Br)cc1F.OB(O)B(O)O', 'reagent': '.c1ccc(-c2cc3ccccc3n2P(C2CCCCC2)C2CCCCC2)cc1'}. Best is trial 4 with value: 70.2636947631836.\n",
      "[I 2025-08-11 14:13:11,214] Trial 9 finished with value: 65.11547088623047 and parameters: {'reactant': 'Clc1ccc2c(c1)OCO2.OB(O)B(O)O', 'reagent': '.c1ccc(-c2nn(-c3ccccc3)c(-c3ccccc3)c2-n2nccc2P(C2CCCCC2)C2CCCCC2)cc1'}. Best is trial 4 with value: 70.2636947631836.\n",
      "[I 2025-08-11 14:13:11,295] Trial 10 finished with value: 63.143795013427734 and parameters: {'reactant': 'Clc1cnc2ccccc2c1.OB(O)B(O)O', 'reagent': '.c1ccc(P(c2ccccc2)c2ccccc2)cc1'}. Best is trial 4 with value: 70.2636947631836.\n"
     ]
    },
    {
     "name": "stdout",
     "output_type": "stream",
     "text": [
      "❗ No ground truth for: COc1ccc(Br)cc1F.OB(O)B(O)O + .c1ccc(-c2cc3ccccc3n2P(C2CCCCC2)C2CCCCC2)cc1 → OB(O)c1ccc2[nH]ccc2c1\n",
      "🔎 COc1ccc(Br)cc1F.OB(O)B(O)O + .c1ccc(-c2cc3ccccc3n2P(C2CCCCC2)C2CCCCC2)cc1 → OB(O)c1ccc2[nH]ccc2c1\n",
      "   📈 Predicted: 44.06%\n",
      "   🧪 Ground truth: 0.00%\n",
      "   ❗ Error: +44.06%\n",
      "❗ No ground truth for: Clc1ccc2c(c1)OCO2.OB(O)B(O)O + .c1ccc(-c2nn(-c3ccccc3)c(-c3ccccc3)c2-n2nccc2P(C2CCCCC2)C2CCCCC2)cc1 → OB(O)c1ccc2[nH]ccc2c1\n",
      "🔎 Clc1ccc2c(c1)OCO2.OB(O)B(O)O + .c1ccc(-c2nn(-c3ccccc3)c(-c3ccccc3)c2-n2nccc2P(C2CCCCC2)C2CCCCC2)cc1 → OB(O)c1ccc2[nH]ccc2c1\n",
      "   📈 Predicted: 65.12%\n",
      "   🧪 Ground truth: 0.00%\n",
      "   ❗ Error: +65.12%\n",
      "❗ No ground truth for: Clc1cnc2ccccc2c1.OB(O)B(O)O + .c1ccc(P(c2ccccc2)c2ccccc2)cc1 → OB(O)c1ccc2[nH]ccc2c1\n",
      "🔎 Clc1cnc2ccccc2c1.OB(O)B(O)O + .c1ccc(P(c2ccccc2)c2ccccc2)cc1 → OB(O)c1ccc2[nH]ccc2c1\n",
      "   📈 Predicted: 63.14%\n",
      "   🧪 Ground truth: 0.00%\n",
      "   ❗ Error: +63.14%\n"
     ]
    },
    {
     "name": "stderr",
     "output_type": "stream",
     "text": [
      "[I 2025-08-11 14:13:11,391] Trial 11 finished with value: 69.60411071777344 and parameters: {'reactant': 'Cc1nc2cc(OS(=O)(=O)N(C)C)ccc2s1.OB(O)B(O)O', 'reagent': '.Fc1ccc(P(c2ccc(F)cc2)c2ccc(F)cc2)cc1'}. Best is trial 4 with value: 70.2636947631836.\n",
      "[I 2025-08-11 14:13:11,482] Trial 12 finished with value: 38.99863815307617 and parameters: {'reactant': 'Cc1cc(F)ccc1Cl.OB(O)B(O)O', 'reagent': '.CN(C)c1ccccc1-c1ccccc1P(c1ccccc1)c1ccccc1'}. Best is trial 4 with value: 70.2636947631836.\n"
     ]
    },
    {
     "name": "stdout",
     "output_type": "stream",
     "text": [
      "❗ No ground truth for: Cc1nc2cc(OS(=O)(=O)N(C)C)ccc2s1.OB(O)B(O)O + .Fc1ccc(P(c2ccc(F)cc2)c2ccc(F)cc2)cc1 → OB(O)c1ccc2[nH]ccc2c1\n",
      "🔎 Cc1nc2cc(OS(=O)(=O)N(C)C)ccc2s1.OB(O)B(O)O + .Fc1ccc(P(c2ccc(F)cc2)c2ccc(F)cc2)cc1 → OB(O)c1ccc2[nH]ccc2c1\n",
      "   📈 Predicted: 69.60%\n",
      "   🧪 Ground truth: 0.00%\n",
      "   ❗ Error: +69.60%\n",
      "❗ No ground truth for: Cc1cc(F)ccc1Cl.OB(O)B(O)O + .CN(C)c1ccccc1-c1ccccc1P(c1ccccc1)c1ccccc1 → OB(O)c1ccc2[nH]ccc2c1\n",
      "🔎 Cc1cc(F)ccc1Cl.OB(O)B(O)O + .CN(C)c1ccccc1-c1ccccc1P(c1ccccc1)c1ccccc1 → OB(O)c1ccc2[nH]ccc2c1\n",
      "   📈 Predicted: 39.00%\n",
      "   🧪 Ground truth: 0.00%\n",
      "   ❗ Error: +39.00%\n"
     ]
    },
    {
     "name": "stderr",
     "output_type": "stream",
     "text": [
      "[I 2025-08-11 14:13:11,623] Trial 13 finished with value: 66.96490478515625 and parameters: {'reactant': 'Cc1nc2cc(OS(=O)(=O)N(C)C)ccc2s1.OB(O)B(O)O', 'reagent': '.C[PH+](C)C.F[B-](F)(F)F'}. Best is trial 4 with value: 70.2636947631836.\n",
      "[I 2025-08-11 14:13:11,709] Trial 14 finished with value: 68.98009490966797 and parameters: {'reactant': 'Clc1ccc2[nH]ccc2c1.OB(O)B(O)O', 'reagent': '.Fc1ccc(P(c2ccc(F)cc2)c2ccc(F)cc2)cc1'}. Best is trial 4 with value: 70.2636947631836.\n",
      "[I 2025-08-11 14:13:11,803] Trial 15 finished with value: 44.18809127807617 and parameters: {'reactant': 'FC(F)(F)c1ccc(Cl)cc1.OB(O)B(O)O', 'reagent': '.c1ccc(-c2ccccc2P(C2CCCCC2)C2CCCCC2)cc1'}. Best is trial 4 with value: 70.2636947631836.\n"
     ]
    },
    {
     "name": "stdout",
     "output_type": "stream",
     "text": [
      "❗ No ground truth for: Cc1nc2cc(OS(=O)(=O)N(C)C)ccc2s1.OB(O)B(O)O + .C[PH+](C)C.F[B-](F)(F)F → OB(O)c1ccc2[nH]ccc2c1\n",
      "🔎 Cc1nc2cc(OS(=O)(=O)N(C)C)ccc2s1.OB(O)B(O)O + .C[PH+](C)C.F[B-](F)(F)F → OB(O)c1ccc2[nH]ccc2c1\n",
      "   📈 Predicted: 66.96%\n",
      "   🧪 Ground truth: 0.00%\n",
      "   ❗ Error: +66.96%\n",
      "🔎 Clc1ccc2[nH]ccc2c1.OB(O)B(O)O + .Fc1ccc(P(c2ccc(F)cc2)c2ccc(F)cc2)cc1 → OB(O)c1ccc2[nH]ccc2c1\n",
      "   📈 Predicted: 68.98%\n",
      "   🧪 Ground truth: 53.95%\n",
      "   ❗ Error: +15.03%\n",
      "❗ No ground truth for: FC(F)(F)c1ccc(Cl)cc1.OB(O)B(O)O + .c1ccc(-c2ccccc2P(C2CCCCC2)C2CCCCC2)cc1 → OB(O)c1ccc2[nH]ccc2c1\n",
      "🔎 FC(F)(F)c1ccc(Cl)cc1.OB(O)B(O)O + .c1ccc(-c2ccccc2P(C2CCCCC2)C2CCCCC2)cc1 → OB(O)c1ccc2[nH]ccc2c1\n",
      "   📈 Predicted: 44.19%\n",
      "   🧪 Ground truth: 0.00%\n",
      "   ❗ Error: +44.19%\n"
     ]
    },
    {
     "name": "stderr",
     "output_type": "stream",
     "text": [
      "[I 2025-08-11 14:13:11,933] Trial 16 finished with value: 45.801631927490234 and parameters: {'reactant': 'FC(F)(F)c1ccc(Br)cc1.OB(O)B(O)O', 'reagent': '.COc1cccc(OC)c1-c1ccccc1P(c1ccccc1)c1ccccc1'}. Best is trial 4 with value: 70.2636947631836.\n",
      "[I 2025-08-11 14:13:12,038] Trial 17 finished with value: 46.29161071777344 and parameters: {'reactant': 'COC(=O)c1ccc(Br)cc1.OB(O)B(O)O', 'reagent': '.c1ccc(P(c2ccccc2)c2ccccc2)cc1'}. Best is trial 4 with value: 70.2636947631836.\n"
     ]
    },
    {
     "name": "stdout",
     "output_type": "stream",
     "text": [
      "❗ No ground truth for: FC(F)(F)c1ccc(Br)cc1.OB(O)B(O)O + .COc1cccc(OC)c1-c1ccccc1P(c1ccccc1)c1ccccc1 → OB(O)c1ccc2[nH]ccc2c1\n",
      "🔎 FC(F)(F)c1ccc(Br)cc1.OB(O)B(O)O + .COc1cccc(OC)c1-c1ccccc1P(c1ccccc1)c1ccccc1 → OB(O)c1ccc2[nH]ccc2c1\n",
      "   📈 Predicted: 45.80%\n",
      "   🧪 Ground truth: 0.00%\n",
      "   ❗ Error: +45.80%\n",
      "❗ No ground truth for: COC(=O)c1ccc(Br)cc1.OB(O)B(O)O + .c1ccc(P(c2ccccc2)c2ccccc2)cc1 → OB(O)c1ccc2[nH]ccc2c1\n",
      "🔎 COC(=O)c1ccc(Br)cc1.OB(O)B(O)O + .c1ccc(P(c2ccccc2)c2ccccc2)cc1 → OB(O)c1ccc2[nH]ccc2c1\n",
      "   📈 Predicted: 46.29%\n",
      "   🧪 Ground truth: 0.00%\n",
      "   ❗ Error: +46.29%\n"
     ]
    },
    {
     "name": "stderr",
     "output_type": "stream",
     "text": [
      "[I 2025-08-11 14:13:12,137] Trial 18 finished with value: 48.68529510498047 and parameters: {'reactant': 'Cc1c(N)cccc1Cl.OB(O)B(O)O', 'reagent': '.C1CCC([PH+](C2CCCCC2)C2CCCCC2)CC1.F[B-](F)(F)F'}. Best is trial 4 with value: 70.2636947631836.\n",
      "[I 2025-08-11 14:13:12,223] Trial 19 finished with value: 41.02374267578125 and parameters: {'reactant': 'Clc1ccc(-c2ccccc2)cc1.OB(O)B(O)O', 'reagent': '.c1ccc(P(C2CCCCC2)C2CCCCC2)c(-n2c3ccccc3c3ccccc32)c1'}. Best is trial 4 with value: 70.2636947631836.\n"
     ]
    },
    {
     "name": "stdout",
     "output_type": "stream",
     "text": [
      "❗ No ground truth for: Cc1c(N)cccc1Cl.OB(O)B(O)O + .C1CCC([PH+](C2CCCCC2)C2CCCCC2)CC1.F[B-](F)(F)F → OB(O)c1ccc2[nH]ccc2c1\n",
      "🔎 Cc1c(N)cccc1Cl.OB(O)B(O)O + .C1CCC([PH+](C2CCCCC2)C2CCCCC2)CC1.F[B-](F)(F)F → OB(O)c1ccc2[nH]ccc2c1\n",
      "   📈 Predicted: 48.69%\n",
      "   🧪 Ground truth: 0.00%\n",
      "   ❗ Error: +48.69%\n",
      "❗ No ground truth for: Clc1ccc(-c2ccccc2)cc1.OB(O)B(O)O + .c1ccc(P(C2CCCCC2)C2CCCCC2)c(-n2c3ccccc3c3ccccc32)c1 → OB(O)c1ccc2[nH]ccc2c1\n",
      "🔎 Clc1ccc(-c2ccccc2)cc1.OB(O)B(O)O + .c1ccc(P(C2CCCCC2)C2CCCCC2)c(-n2c3ccccc3c3ccccc32)c1 → OB(O)c1ccc2[nH]ccc2c1\n",
      "   📈 Predicted: 41.02%\n",
      "   🧪 Ground truth: 0.00%\n",
      "   ❗ Error: +41.02%\n"
     ]
    }
   ],
   "source": [
    "study = optuna.create_study(direction=\"maximize\")\n",
    "study.optimize(objective, n_trials=20)"
   ]
  },
  {
   "cell_type": "markdown",
   "id": "81945985",
   "metadata": {},
   "source": [
    "## ベイズ最適化・ファインチューニングのループ"
   ]
  },
  {
   "cell_type": "code",
   "execution_count": 18,
   "id": "491d5cc6",
   "metadata": {},
   "outputs": [],
   "source": [
    "import os\n",
    "import csv\n",
    "import math\n",
    "import time\n",
    "import random\n",
    "from dataclasses import dataclass\n",
    "\n",
    "import torch.nn.functional as F\n",
    "from transformers import Trainer,TrainingArguments,DataCollatorWithPadding\n",
    "from optuna.samplers import TPESampler"
   ]
  },
  {
   "cell_type": "code",
   "execution_count": 19,
   "id": "6361cf44",
   "metadata": {},
   "outputs": [],
   "source": [
    "class CollatorForYield:\n",
    "    def __init__(self, tokenizer):\n",
    "        self.pad = DataCollatorWithPadding(tokenizer)\n",
    "    def __call__(self, features):\n",
    "        has_labels = \"labels\" in features[0]\n",
    "        if has_labels:\n",
    "            labels = torch.tensor([float(f[\"labels\"]) for f in features], dtype=torch.float)\n",
    "        token_feats = [{k: v for k, v in f.items() if k in (\"input_ids\", \"attention_mask\")} for f in features]\n",
    "        batch = self.pad(token_feats)\n",
    "        if has_labels:\n",
    "            batch[\"labels\"] = labels\n",
    "        return batch"
   ]
  },
  {
   "cell_type": "code",
   "execution_count": 20,
   "id": "c6d58894",
   "metadata": {},
   "outputs": [],
   "source": [
    "class YieldTrainer(Trainer):\n",
    "    def compute_loss(self, model, inputs, return_outputs=False, **kwargs):\n",
    "        labels = inputs.pop(\"labels\", None)\n",
    "        preds = model(inputs).squeeze(-1)\n",
    "        if labels is None:\n",
    "            loss = preds.new_zeros(())\n",
    "        else:\n",
    "            loss = F.mse_loss(preds, labels)\n",
    "        return (loss, preds) if return_outputs else loss"
   ]
  },
  {
   "cell_type": "code",
   "execution_count": 21,
   "id": "660c107b",
   "metadata": {},
   "outputs": [],
   "source": [
    "class YieldDataset(torch.utils.data.Dataset):\n",
    "    def __init__(self, texts, y, tokenizer, max_length=512):\n",
    "        self.enc = tokenizer(texts, truncation=True, padding=False, max_length=max_length)\n",
    "        self.y = y\n",
    "    def __len__(self): return len(self.y)\n",
    "    def __getitem__(self, i):\n",
    "        return {\n",
    "            \"input_ids\": torch.tensor(self.enc[\"input_ids\"][i], dtype=torch.long),\n",
    "            \"attention_mask\": torch.tensor(self.enc[\"attention_mask\"][i], dtype=torch.long),\n",
    "            \"labels\": torch.tensor(self.y[i], dtype=torch.float),  # [%]\n",
    "        }\n"
   ]
  },
  {
   "cell_type": "code",
   "execution_count": 22,
   "id": "08817036",
   "metadata": {},
   "outputs": [],
   "source": [
    "@dataclass\n",
    "class LoopConfig:\n",
    "    n_rounds: int = 3\n",
    "    trials_per_round: int = 50\n",
    "    study_seed: int = 42\n",
    "    learning_rate: float = 5e-4\n",
    "    epochs_per_round: int = 5\n",
    "    weight_decay: float = 0.01\n",
    "    max_length: int = 512\n",
    "    batch_size_train: int = 16\n",
    "    batch_size_eval: int = 32\n",
    "    val_ratio: float = 0.2\n",
    "    output_dir: str = \"runs/iter_yield\"\n",
    "    log_csv_name: str = \"bo_log.csv\""
   ]
  },
  {
   "cell_type": "code",
   "execution_count": 23,
   "id": "1531491a",
   "metadata": {},
   "outputs": [],
   "source": [
    "def iterative_optuna_finetune(\n",
    "    *,\n",
    "    predict_yield_fn,\n",
    "    reactant_list,\n",
    "    reagent_list,\n",
    "    target_product,\n",
    "    true_yield_dict,\n",
    "    tokenizer,\n",
    "    model,\n",
    "    cfg: LoopConfig = LoopConfig(),\n",
    "):\n",
    "    os.makedirs(cfg.output_dir, exist_ok=True)\n",
    "    log_csv_path = os.path.join(cfg.output_dir, cfg.log_csv_name)\n",
    "\n",
    "    # CSVヘッダ（存在しなければ作成）\n",
    "    if not os.path.exists(log_csv_path):\n",
    "        with open(log_csv_path, \"w\", newline=\"\", encoding=\"utf-8\") as f:\n",
    "            writer = csv.writer(f)\n",
    "            writer.writerow([\n",
    "                \"ts\", \"round\", \"trial_index\", \"reactant\", \"reagent\", \"product\",\n",
    "                \"pred_yield_pct\", \"true_yield_pct\", \"error_pct\",\n",
    "                \"was_used_for_ft\", \"study_best_pred\", \"study_best_true\"\n",
    "            ])\n",
    "\n",
    "    # これまで探索した（reactant,reagent）組の重複防止 optional\n",
    "    seen_pairs: set = set()\n",
    "\n",
    "    # 進捗\n",
    "    cumulative_true_texts = []\n",
    "    cumulative_true_labels = []\n",
    "\n",
    "    train_device = torch.device(\"cuda\" if torch.cuda.is_available() else \"cpu\")\n",
    "\n",
    "    for r in range(1, cfg.n_rounds + 1):\n",
    "        print(f\"\\n==== Round {r}/{cfg.n_rounds} ====\")\n",
    "\n",
    "        model.to(\"cpu\")\n",
    "        try:\n",
    "            torch.cuda.empty_cache()\n",
    "        except Exception:\n",
    "            pass\n",
    "\n",
    "        round_records = []\n",
    "\n",
    "        # ---- Optuna Study ----\n",
    "        storage_path = os.path.join(cfg.output_dir, f\"round_{r}.db\")\n",
    "        study = optuna.create_study(\n",
    "            direction=\"maximize\",\n",
    "            sampler=TPESampler(seed=cfg.study_seed + r),\n",
    "            storage=f\"sqlite:///{storage_path}\",\n",
    "            study_name=f\"yield_round_{r}\",\n",
    "            load_if_exists=True,\n",
    "        )\n",
    "\n",
    "        def objective(trial: optuna.Trial) -> float:\n",
    "            # カテゴリ探索\n",
    "            reactant = trial.suggest_categorical(\"reactant\", reactant_list)\n",
    "            reagent  = trial.suggest_categorical(\"reagent\", reagent_list)\n",
    "\n",
    "            # 重複チェック\n",
    "            pair = (reactant, reagent, target_product)\n",
    "            if pair in seen_pairs:\n",
    "                trial.set_user_attr(\"duplicate_pair\", True)\n",
    "            else:\n",
    "                trial.set_user_attr(\"duplicate_pair\", False)\n",
    "\n",
    "            input_str = f\"REACTANT:{reactant}REAGENT:{reagent}PRODUCT:{target_product}\"\n",
    "\n",
    "            # 予測\n",
    "            try:\n",
    "                pred_y = float(predict_yield_fn(input_str))  # [%]\n",
    "            except Exception as e:\n",
    "                print(f\"❌ prediction error: {e}\")\n",
    "                pred_y = 0.0\n",
    "\n",
    "            # クリッピング（安全策）\n",
    "            if not math.isfinite(pred_y):\n",
    "                pred_y = 0.0\n",
    "            pred_y = max(0.0, min(100.0, pred_y))\n",
    "\n",
    "            # 真値（%）— 無い場合は 0% を採用\n",
    "            true = true_yield_dict.get(pair, None)\n",
    "            if true is None:\n",
    "                true_pct = 0.0\n",
    "                error_pct = pred_y - true_pct\n",
    "                trial.set_user_attr(\"imputed_true_zero\", True)\n",
    "            else:\n",
    "                true_pct = float(true) * 100.0\n",
    "                error_pct = pred_y - true_pct\n",
    "                trial.set_user_attr(\"imputed_true_zero\", False)\n",
    "\n",
    "            # エラー\n",
    "            error_pct = None if true_pct is None else (pred_y - true_pct)\n",
    "\n",
    "            # Optuna user attrs にも残す\n",
    "            trial.set_user_attr(\"reactant\", reactant)\n",
    "            trial.set_user_attr(\"reagent\", reagent)\n",
    "            trial.set_user_attr(\"product\", target_product)\n",
    "            trial.set_user_attr(\"pred_yield_pct\", pred_y)\n",
    "            trial.set_user_attr(\"true_yield_pct\", true_pct)\n",
    "            trial.set_user_attr(\"error_pct\", error_pct)\n",
    "\n",
    "            # 一旦メモリにも保存（後でCSV出力）\n",
    "            round_records.append({\n",
    "                \"reactant\": reactant,\n",
    "                \"reagent\": reagent,\n",
    "                \"product\": target_product,\n",
    "                \"pred_yield_pct\": pred_y,\n",
    "                \"true_yield_pct\": true_pct,\n",
    "                \"error_pct\": error_pct,\n",
    "            })\n",
    "\n",
    "            # 目的関数は「予測収率の最大化」\n",
    "            return pred_y\n",
    "\n",
    "        study.optimize(objective, n_trials=cfg.trials_per_round, n_jobs=1)\n",
    "\n",
    "        model.to(train_device)\n",
    "        \n",
    "        # ---- ラウンドの結果をCSVへ出力 ----\n",
    "        best_pred = float(study.best_value) if study.best_value is not None else None\n",
    "        # best の真値\n",
    "        best_trial = study.best_trial if study.best_trial else None\n",
    "        best_true = None\n",
    "        if best_trial:\n",
    "            bt_true = best_trial.user_attrs.get(\"true_yield_pct\", None)\n",
    "            best_true = None if bt_true is None else float(bt_true)\n",
    "\n",
    "        with open(log_csv_path, \"a\", newline=\"\", encoding=\"utf-8\") as f:\n",
    "            writer = csv.writer(f)\n",
    "            for idx, rec in enumerate(round_records, start=1):\n",
    "                writer.writerow([\n",
    "                    int(time.time()),\n",
    "                    r,\n",
    "                    idx,\n",
    "                    rec[\"reactant\"],\n",
    "                    rec[\"reagent\"],\n",
    "                    rec[\"product\"],\n",
    "                    f'{rec[\"pred_yield_pct\"]:.6f}',\n",
    "                    \"\" if rec[\"true_yield_pct\"] is None else f'{rec[\"true_yield_pct\"]:.6f}',\n",
    "                    \"\" if rec[\"error_pct\"] is None else f'{rec[\"error_pct\"]:+.6f}',\n",
    "                    \"\",  # was_used_for_ft はFT後に上書き\n",
    "                    \"\" if best_pred is None else f\"{best_pred:.6f}\",\n",
    "                    \"\" if best_true is None else f\"{best_true:.6f}\",\n",
    "                ])\n",
    "\n",
    "        # ---- ラウンドの真値付きデータで FT 用データセット作成 ----\n",
    "        texts_round = []\n",
    "        labels_round = []  # [%]\n",
    "        for rec in round_records:\n",
    "            if rec[\"true_yield_pct\"] is not None:\n",
    "                inp = f\"REACTANT:{rec['reactant']}REAGENT:{rec['reagent']}PRODUCT:{rec['product']}\"\n",
    "                texts_round.append(inp)\n",
    "                labels_round.append(float(rec[\"true_yield_pct\"]))\n",
    "\n",
    "        if len(texts_round) == 0:\n",
    "            print(f\"[Round {r}] 真値付きデータが0件のため、微調整はスキップします。\")\n",
    "            continue\n",
    "\n",
    "        # 累積データに追加\n",
    "        cumulative_true_texts.extend(texts_round)\n",
    "        cumulative_true_labels.extend(labels_round)\n",
    "\n",
    "        # ---- 学習/評価分割（十分な件数のときのみ評価）----\n",
    "        idxs = list(range(len(cumulative_true_texts)))\n",
    "        random.Random(cfg.study_seed + r).shuffle(idxs)\n",
    "\n",
    "        n_total = len(idxs)\n",
    "        n_val = int(n_total * cfg.val_ratio)\n",
    "        if n_val >= 5:  # 最低5件確保できたときだけ eval\n",
    "            val_idx = idxs[:n_val]\n",
    "            train_idx = idxs[n_val:]\n",
    "        else:\n",
    "            val_idx = []\n",
    "            train_idx = idxs\n",
    "\n",
    "        def subset(lst, sel): return [lst[i] for i in sel]\n",
    "\n",
    "        train_ds = YieldDataset(\n",
    "            subset(cumulative_true_texts, train_idx),\n",
    "            subset(cumulative_true_labels, train_idx),\n",
    "            tokenizer,\n",
    "            max_length=cfg.max_length,\n",
    "        )\n",
    "        eval_ds = None\n",
    "        if len(val_idx) > 0:\n",
    "            eval_ds = YieldDataset(\n",
    "                subset(cumulative_true_texts, val_idx),\n",
    "                subset(cumulative_true_labels, val_idx),\n",
    "                tokenizer,\n",
    "                max_length=cfg.max_length,\n",
    "            )\n",
    "\n",
    "        # ---- Trainer 準備・学習 ----\n",
    "        out_dir_round = os.path.join(cfg.output_dir, f\"round_{r}\")\n",
    "        args = TrainingArguments(\n",
    "            output_dir=out_dir_round,\n",
    "            learning_rate=cfg.learning_rate,\n",
    "            num_train_epochs=cfg.epochs_per_round,\n",
    "            per_device_train_batch_size=min(cfg.batch_size_train, max(1, len(train_ds))),\n",
    "            per_device_eval_batch_size=cfg.batch_size_eval,\n",
    "            weight_decay=cfg.weight_decay,\n",
    "            logging_steps=50,\n",
    "            save_strategy=\"no\",\n",
    "            report_to=\"none\",\n",
    "            fp16=torch.cuda.is_available(),\n",
    "            remove_unused_columns=False\n",
    "        )\n",
    "\n",
    "        def compute_metrics(eval_pred):\n",
    "            import numpy as np\n",
    "            preds = np.array(eval_pred.predictions).reshape(-1)\n",
    "            labels = np.array(eval_pred.label_ids).reshape(-1)\n",
    "            mae = float(np.mean(np.abs(preds - labels)))\n",
    "            rmse = float(np.sqrt(np.mean((preds - labels) ** 2)))\n",
    "            return {\"mae_pct\": mae, \"rmse_pct\": rmse}\n",
    "\n",
    "        trainer = YieldTrainer(\n",
    "            model=model,\n",
    "            args=args,\n",
    "            train_dataset=train_ds,\n",
    "            eval_dataset=eval_ds,\n",
    "            data_collator=CollatorForYield(tokenizer),\n",
    "            compute_metrics=compute_metrics if eval_ds else None,\n",
    "        )\n",
    "\n",
    "        print(f\"[Round {r}] Fine-tuning on {len(train_ds)} samples\"\n",
    "              + (f\", eval {len(eval_ds)} samples\" if eval_ds else \"\"))\n",
    "\n",
    "        trainer.train()\n",
    "        trainer.save_model(out_dir_round)  # fc層を含む全体を保存\n",
    "\n",
    "        # ---- このラウンドで FT に使った試行を CSV にマーク ----\n",
    "        # （簡易的に：直近ラウンドの真値付き行の was_used_for_ft を 1 に上書き）\n",
    "        # 既存CSVを読み書きする\n",
    "        with open(log_csv_path, \"r\", encoding=\"utf-8\") as f:\n",
    "            rows = list(csv.reader(f))\n",
    "        header = rows[0]\n",
    "        # カラム位置\n",
    "        was_used_idx = header.index(\"was_used_for_ft\")\n",
    "        round_idx = header.index(\"round\")\n",
    "        trial_idx = header.index(\"trial_index\")\n",
    "        react_idx = header.index(\"reactant\")\n",
    "        reag_idx = header.index(\"reagent\")\n",
    "        prod_idx = header.index(\"product\")\n",
    "\n",
    "        ft_pairs = {(rec[\"reactant\"], rec[\"reagent\"], rec[\"product\"]) for rec in round_records if rec[\"true_yield_pct\"] is not None}\n",
    "        for i in range(1, len(rows)):\n",
    "            row = rows[i]\n",
    "            if int(row[round_idx]) == r and (row[react_idx], row[reag_idx], row[prod_idx]) in ft_pairs:\n",
    "                row[was_used_idx] = \"1\"\n",
    "        with open(log_csv_path, \"w\", newline=\"\", encoding=\"utf-8\") as f:\n",
    "            csv.writer(f).writerows(rows)\n",
    "\n",
    "        # seen に今回の組み合わせを加えて、以降の重複を（弱く）抑止\n",
    "        for rec in round_records:\n",
    "            seen_pairs.add((rec[\"reactant\"], rec[\"reagent\"]))\n",
    "\n",
    "    print(\"\\nDone. Logs:\")\n",
    "    print(f\"- Trials CSV: {log_csv_path}\")\n",
    "    print(f\"- Optuna DBs: {cfg.output_dir}/round_*.db\")\n",
    "    print(f\"- Checkpoints per round: {cfg.output_dir}/round_*/\")"
   ]
  },
  {
   "cell_type": "code",
   "execution_count": 24,
   "id": "f20480bb",
   "metadata": {},
   "outputs": [],
   "source": [
    "cfg = LoopConfig(\n",
    "    n_rounds=10,\n",
    "    trials_per_round=10,\n",
    "    study_seed=42,\n",
    "    learning_rate=5e-4,\n",
    "    epochs_per_round=5,\n",
    "    weight_decay=0.01,\n",
    "    max_length=512,\n",
    "    batch_size_train=16,\n",
    "    batch_size_eval=32,\n",
    "    val_ratio=0.2,\n",
    "    output_dir=\"runs/10rounds_10_trials_yield\",\n",
    ")"
   ]
  },
  {
   "cell_type": "code",
   "execution_count": 25,
   "id": "eaebe031",
   "metadata": {},
   "outputs": [
    {
     "name": "stdout",
     "output_type": "stream",
     "text": [
      "\n",
      "==== Round 1/10 ====\n"
     ]
    },
    {
     "name": "stderr",
     "output_type": "stream",
     "text": [
      "[I 2025-08-11 14:13:13,034] A new study created in RDB with name: yield_round_1\n",
      "[I 2025-08-11 14:13:13,320] Trial 0 finished with value: 42.4525032043457 and parameters: {'reactant': 'Cc1cc(F)ccc1Cl.OB(O)B(O)O', 'reagent': '.c1ccc(-c2cc3ccccc3n2P(C2CCCCC2)C2CCCCC2)cc1'}. Best is trial 0 with value: 42.4525032043457.\n",
      "[I 2025-08-11 14:13:13,610] Trial 1 finished with value: 67.52852630615234 and parameters: {'reactant': 'Clc1ccc2[nH]ccc2c1.OB(O)B(O)O', 'reagent': '.CC(C)c1cc(C(C)C)c(-c2ccccc2P(c2ccccc2)c2ccccc2)c(C(C)C)c1'}. Best is trial 1 with value: 67.52852630615234.\n",
      "[I 2025-08-11 14:13:13,893] Trial 2 finished with value: 43.33335876464844 and parameters: {'reactant': 'COC(=O)c1ccc(Cl)cc1.OB(O)B(O)O', 'reagent': '.C[PH+](C)C.F[B-](F)(F)F'}. Best is trial 1 with value: 67.52852630615234.\n",
      "[I 2025-08-11 14:13:14,177] Trial 3 finished with value: 59.327762603759766 and parameters: {'reactant': 'Brc1cnc2ccccc2c1.OB(O)B(O)O', 'reagent': '.COc1ccc(P(c2ccc(OC)cc2)c2ccc(OC)cc2)cc1'}. Best is trial 1 with value: 67.52852630615234.\n",
      "[I 2025-08-11 14:13:14,449] Trial 4 finished with value: 48.91151809692383 and parameters: {'reactant': 'N#Cc1ccc(Br)cc1F.OB(O)B(O)O', 'reagent': '.C1CCC([PH+](C2CCCCC2)C2CCCCC2)CC1.F[B-](F)(F)F'}. Best is trial 1 with value: 67.52852630615234.\n",
      "[I 2025-08-11 14:13:14,701] Trial 5 finished with value: 62.533878326416016 and parameters: {'reactant': 'Clc1ccc2[nH]ccc2c1.OB(O)B(O)O', 'reagent': '.CC(=C(c1ccccc1)c1ccccc1)P(C1CCCCC1)C1CCCCC1'}. Best is trial 1 with value: 67.52852630615234.\n",
      "[I 2025-08-11 14:13:15,008] Trial 6 finished with value: 34.70466995239258 and parameters: {'reactant': 'Cc1ncccc1Br.OB(O)B(O)O', 'reagent': '.CN(C)c1ccccc1-c1ccccc1P(c1ccccc1)c1ccccc1'}. Best is trial 1 with value: 67.52852630615234.\n",
      "[I 2025-08-11 14:13:15,378] Trial 7 finished with value: 50.49872589111328 and parameters: {'reactant': 'CCOC(=O)c1cc(Br)cn1CC.OB(O)B(O)O', 'reagent': '.CCCCC1([PH+](C2CCCCC2)C2CCCCC2)c2ccccc2-c2ccccc21.F[B-](F)(F)F'}. Best is trial 1 with value: 67.52852630615234.\n",
      "[I 2025-08-11 14:13:15,824] Trial 8 finished with value: 54.19309616088867 and parameters: {'reactant': 'CCOC(=O)c1cc(Br)cn1CC.OB(O)B(O)O', 'reagent': '.CN(C)c1ccc(P(c2ccccc2)c2ccccc2)cc1'}. Best is trial 1 with value: 67.52852630615234.\n",
      "[I 2025-08-11 14:13:16,294] Trial 9 finished with value: 46.906349182128906 and parameters: {'reactant': 'CCOC(=O)C(C)(C)Oc1ccc(Cl)cc1.OB(O)B(O)O', 'reagent': '.Cc1cc(C)cc(P(c2cc(C)cc(C)c2)c2cc(C)cc(C)c2)c1'}. Best is trial 1 with value: 67.52852630615234.\n"
     ]
    },
    {
     "name": "stdout",
     "output_type": "stream",
     "text": [
      "[Round 1] Fine-tuning on 10 samples\n",
      "{'train_runtime': 0.641, 'train_samples_per_second': 78.0, 'train_steps_per_second': 7.8, 'train_loss': 2435.675, 'epoch': 5.0}\n",
      "\n",
      "==== Round 2/10 ====\n"
     ]
    },
    {
     "name": "stderr",
     "output_type": "stream",
     "text": [
      "[I 2025-08-11 14:13:19,832] A new study created in RDB with name: yield_round_2\n",
      "[I 2025-08-11 14:13:20,175] Trial 0 finished with value: 44.28371810913086 and parameters: {'reactant': 'CN(C)S(=O)(=O)Oc1ccc(-c2ccccc2)cc1.OB(O)B(O)O', 'reagent': '.CC(C)(C)P(c1ccccc1)C(C)(C)C'}. Best is trial 0 with value: 44.28371810913086.\n",
      "[I 2025-08-11 14:13:20,505] Trial 1 finished with value: 50.8960075378418 and parameters: {'reactant': 'Cc1cccc(C)c1Cl.OB(O)B(O)O', 'reagent': '.CCCCC1([PH+](C2CCCCC2)C2CCCCC2)c2ccccc2-c2ccccc21.F[B-](F)(F)F'}. Best is trial 1 with value: 50.8960075378418.\n",
      "[I 2025-08-11 14:13:20,778] Trial 2 finished with value: 41.82666778564453 and parameters: {'reactant': 'COc1ccc(Cl)cc1F.OB(O)B(O)O', 'reagent': '.CC(=C(c1ccccc1)c1ccccc1)P(C1CCCCC1)C1CCCCC1'}. Best is trial 1 with value: 50.8960075378418.\n",
      "[I 2025-08-11 14:13:21,051] Trial 3 finished with value: 42.4200439453125 and parameters: {'reactant': 'CCOC(=O)c1ccc(Cl)c(F)c1.OB(O)B(O)O', 'reagent': '.c1ccc(P(c2ccccc2)C2CCCCC2)cc1'}. Best is trial 1 with value: 50.8960075378418.\n",
      "[I 2025-08-11 14:13:21,346] Trial 4 finished with value: 59.73894500732422 and parameters: {'reactant': 'CCOC(=O)c1cc(Br)cn1CC.OB(O)B(O)O', 'reagent': '.c1ccc(-c2cc3ccccc3n2P(C2CCCCC2)C2CCCCC2)cc1'}. Best is trial 4 with value: 59.73894500732422.\n",
      "[I 2025-08-11 14:13:21,662] Trial 5 finished with value: 62.635772705078125 and parameters: {'reactant': 'Cc1nc2cc(OS(=O)(=O)N(C)C)ccc2s1.OB(O)B(O)O', 'reagent': '.COc1ccccc1C1=C(P(C2CCCCC2)C2CCCCC2)C2c3ccccc3C1c1ccccc12'}. Best is trial 5 with value: 62.635772705078125.\n",
      "[I 2025-08-11 14:13:21,936] Trial 6 finished with value: 59.114044189453125 and parameters: {'reactant': 'Clc1cnc2ccccc2c1.OB(O)B(O)O', 'reagent': '.c1ccc(P(c2ccccc2)C2CCCCC2)cc1'}. Best is trial 5 with value: 62.635772705078125.\n",
      "[I 2025-08-11 14:13:22,219] Trial 7 finished with value: 49.179683685302734 and parameters: {'reactant': 'COc1ccc(Cl)cc1F.OB(O)B(O)O', 'reagent': '.Cc1ccccc1-c1ccccc1P(C1CCCCC1)C1CCCCC1'}. Best is trial 5 with value: 62.635772705078125.\n",
      "[I 2025-08-11 14:13:22,538] Trial 8 finished with value: 67.7348861694336 and parameters: {'reactant': 'CN(C)S(=O)(=O)Oc1ccc2[nH]ccc2c1.OB(O)B(O)O', 'reagent': '.Cc1cc(C)cc(P(c2cc(C)cc(C)c2)c2cc(C)cc(C)c2)c1'}. Best is trial 8 with value: 67.7348861694336.\n",
      "[I 2025-08-11 14:13:22,820] Trial 9 finished with value: 51.817649841308594 and parameters: {'reactant': 'Clc1ccc2c(c1)OCO2.OB(O)B(O)O', 'reagent': '.c1ccc(P(C2CCCCC2)C2CCCCC2)c(-n2c3ccccc3c3ccccc32)c1'}. Best is trial 8 with value: 67.7348861694336.\n"
     ]
    },
    {
     "name": "stdout",
     "output_type": "stream",
     "text": [
      "[Round 2] Fine-tuning on 20 samples\n",
      "{'train_runtime': 0.6237, 'train_samples_per_second': 160.333, 'train_steps_per_second': 16.033, 'train_loss': 2645.7228515625, 'epoch': 5.0}\n",
      "\n",
      "==== Round 3/10 ====\n"
     ]
    },
    {
     "name": "stderr",
     "output_type": "stream",
     "text": [
      "[I 2025-08-11 14:13:25,055] A new study created in RDB with name: yield_round_3\n",
      "[I 2025-08-11 14:13:25,357] Trial 0 finished with value: 69.13774871826172 and parameters: {'reactant': 'CN(C)S(=O)(=O)Oc1ccc2ncccc2c1.OB(O)B(O)O', 'reagent': '.c1ccc(-n2cccc2P(C2CCCCC2)C2CCCCC2)cc1'}. Best is trial 0 with value: 69.13774871826172.\n",
      "[I 2025-08-11 14:13:25,642] Trial 1 finished with value: 59.49842834472656 and parameters: {'reactant': 'COc1cc(Cl)ccc1F.OB(O)B(O)O', 'reagent': '.c1ccc(-c2ccccc2P(C2CCCCC2)C2CCCCC2)cc1'}. Best is trial 0 with value: 69.13774871826172.\n",
      "[I 2025-08-11 14:13:25,943] Trial 2 finished with value: 24.916404724121094 and parameters: {'reactant': 'COc1ccc(Cl)cc1F.OB(O)B(O)O', 'reagent': '.c1ccc(P(C2CCCCC2)C2CCCCC2)c(-n2c3ccccc3c3ccccc32)c1'}. Best is trial 0 with value: 69.13774871826172.\n",
      "[I 2025-08-11 14:13:26,249] Trial 3 finished with value: 47.6738395690918 and parameters: {'reactant': 'FC(F)(F)c1ccc(Br)cc1.OB(O)B(O)O', 'reagent': '.CC(C)(C)P(c1ccccc1)C(C)(C)C'}. Best is trial 0 with value: 69.13774871826172.\n",
      "[I 2025-08-11 14:13:26,557] Trial 4 finished with value: 57.696170806884766 and parameters: {'reactant': 'Brc1ccc2c(c1)OCO2.OB(O)B(O)O', 'reagent': '.COc1ccc(P(c2ccc(OC)cc2)c2ccc(OC)cc2)cc1'}. Best is trial 0 with value: 69.13774871826172.\n",
      "[I 2025-08-11 14:13:26,883] Trial 5 finished with value: 64.47637176513672 and parameters: {'reactant': 'CN(C)S(=O)(=O)Oc1ccc(-c2ccccc2)cc1.OB(O)B(O)O', 'reagent': '.Cc1cc(C)cc(P(c2cc(C)cc(C)c2)c2cc(C)cc(C)c2)c1'}. Best is trial 0 with value: 69.13774871826172.\n",
      "[I 2025-08-11 14:13:27,206] Trial 6 finished with value: 58.22437286376953 and parameters: {'reactant': 'Clc1cnc2ccccc2c1.OB(O)B(O)O', 'reagent': '.COc1ccccc1C1=C(P(C2CCCCC2)C2CCCCC2)C2c3ccccc3C1c1ccccc12'}. Best is trial 0 with value: 69.13774871826172.\n",
      "[I 2025-08-11 14:13:27,513] Trial 7 finished with value: 38.28652572631836 and parameters: {'reactant': 'CCOC(=O)C(C)(C)Oc1ccc(Cl)cc1.OB(O)B(O)O', 'reagent': '.c1ccc(P(c2ccccc2)C2CCCCC2)cc1'}. Best is trial 0 with value: 69.13774871826172.\n",
      "[I 2025-08-11 14:13:27,808] Trial 8 finished with value: 45.84006881713867 and parameters: {'reactant': 'Clc1ccc(-c2ccccc2)cc1.OB(O)B(O)O', 'reagent': '.c1ccc(-c2ccccc2P(C2CCCCC2)C2CCCCC2)cc1'}. Best is trial 0 with value: 69.13774871826172.\n",
      "[I 2025-08-11 14:13:28,106] Trial 9 finished with value: 52.5198860168457 and parameters: {'reactant': 'COc1ccc(Cl)cc1F.OB(O)B(O)O', 'reagent': '.C[PH+](C)C.F[B-](F)(F)F'}. Best is trial 0 with value: 69.13774871826172.\n"
     ]
    },
    {
     "name": "stdout",
     "output_type": "stream",
     "text": [
      "[Round 3] Fine-tuning on 24 samples, eval 6 samples\n",
      "{'train_runtime': 0.5893, 'train_samples_per_second': 203.641, 'train_steps_per_second': 16.97, 'train_loss': 2801.68984375, 'epoch': 5.0}\n",
      "\n",
      "==== Round 4/10 ====\n"
     ]
    },
    {
     "name": "stderr",
     "output_type": "stream",
     "text": [
      "[I 2025-08-11 14:13:30,187] A new study created in RDB with name: yield_round_4\n",
      "[I 2025-08-11 14:13:30,499] Trial 0 finished with value: 39.66865921020508 and parameters: {'reactant': 'Clc1ccc(-c2ccccc2)cc1.OB(O)B(O)O', 'reagent': '.CN(C)c1ccccc1-c1ccccc1P(c1ccccc1)c1ccccc1'}. Best is trial 0 with value: 39.66865921020508.\n",
      "[I 2025-08-11 14:13:30,796] Trial 1 finished with value: 56.590797424316406 and parameters: {'reactant': 'CN(C)S(=O)(=O)Oc1ccc(-c2ccccc2)cc1.OB(O)B(O)O', 'reagent': '.c1ccc(P(c2ccccc2)c2ccccc2)cc1'}. Best is trial 1 with value: 56.590797424316406.\n",
      "[I 2025-08-11 14:13:31,119] Trial 2 finished with value: 57.93023681640625 and parameters: {'reactant': 'FC(F)(F)c1ccc(Cl)cc1.OB(O)B(O)O', 'reagent': '.Cc1cc(C)cc(P(c2cc(C)cc(C)c2)c2cc(C)cc(C)c2)c1'}. Best is trial 2 with value: 57.93023681640625.\n",
      "[I 2025-08-11 14:13:31,421] Trial 3 finished with value: 46.10227584838867 and parameters: {'reactant': 'CCOC(=O)C(C)(C)Oc1ccc(Cl)cc1.OB(O)B(O)O', 'reagent': '.CC(C)(C)P(c1ccccc1)C(C)(C)C'}. Best is trial 2 with value: 57.93023681640625.\n",
      "[I 2025-08-11 14:13:31,717] Trial 4 finished with value: 53.55445861816406 and parameters: {'reactant': 'COc1ncc(Br)c(OC)n1.OB(O)B(O)O', 'reagent': '.c1ccc(-n2cccc2P(C2CCCCC2)C2CCCCC2)cc1'}. Best is trial 2 with value: 57.93023681640625.\n",
      "[I 2025-08-11 14:13:32,019] Trial 5 finished with value: 61.925506591796875 and parameters: {'reactant': 'CN(C)S(=O)(=O)Oc1ccc2ncccc2c1.OB(O)B(O)O', 'reagent': '.Cc1ccccc1-c1ccccc1P(C1CCCCC1)C1CCCCC1'}. Best is trial 5 with value: 61.925506591796875.\n",
      "[I 2025-08-11 14:13:32,317] Trial 6 finished with value: 58.13152313232422 and parameters: {'reactant': 'COc1ccc(Cl)cc1F.OB(O)B(O)O', 'reagent': '.Cc1ccccc1-c1ccccc1P(C1CCCCC1)C1CCCCC1'}. Best is trial 5 with value: 61.925506591796875.\n",
      "[I 2025-08-11 14:13:32,651] Trial 7 finished with value: 45.44253921508789 and parameters: {'reactant': 'FC(F)(F)c1ccc(Br)cc1.OB(O)B(O)O', 'reagent': '.c1ccc(P(c2ccccc2)C2CCCCC2)cc1'}. Best is trial 5 with value: 61.925506591796875.\n",
      "[I 2025-08-11 14:13:32,978] Trial 8 finished with value: 62.371063232421875 and parameters: {'reactant': 'Clc1ccc(-c2ccccc2)cc1.OB(O)B(O)O', 'reagent': '.COc1cc(C(C)(C)C)cc(C(C)(C)C)c1-c1ccccc1P(C1CCCCC1)C1CCCCC1'}. Best is trial 8 with value: 62.371063232421875.\n",
      "[I 2025-08-11 14:13:33,296] Trial 9 finished with value: 55.094303131103516 and parameters: {'reactant': 'Brc1ccsc1.OB(O)B(O)O', 'reagent': '.CC(C)c1cc(C(C)C)c(-c2ccccc2P(c2ccccc2)c2ccccc2)c(C(C)C)c1'}. Best is trial 8 with value: 62.371063232421875.\n"
     ]
    },
    {
     "name": "stdout",
     "output_type": "stream",
     "text": [
      "[Round 4] Fine-tuning on 32 samples, eval 8 samples\n",
      "{'train_runtime': 0.6586, 'train_samples_per_second': 242.954, 'train_steps_per_second': 15.185, 'train_loss': 2853.3443359375, 'epoch': 5.0}\n",
      "\n",
      "==== Round 5/10 ====\n"
     ]
    },
    {
     "name": "stderr",
     "output_type": "stream",
     "text": [
      "[I 2025-08-11 14:13:35,345] A new study created in RDB with name: yield_round_5\n",
      "[I 2025-08-11 14:13:35,566] Trial 0 finished with value: 48.309173583984375 and parameters: {'reactant': 'Brc1ccc2c(c1)OCO2.OB(O)B(O)O', 'reagent': '.Cc1ccccc1-c1ccccc1P(C1CCCCC1)C1CCCCC1'}. Best is trial 0 with value: 48.309173583984375.\n",
      "[I 2025-08-11 14:13:35,790] Trial 1 finished with value: 35.72278594970703 and parameters: {'reactant': 'Cc1ncccc1Br.OB(O)B(O)O', 'reagent': '.c1ccc(P(C2CCCCC2)C2CCCCC2)c(-n2c3ccccc3c3ccccc32)c1'}. Best is trial 0 with value: 48.309173583984375.\n",
      "[I 2025-08-11 14:13:35,996] Trial 2 finished with value: 43.872798919677734 and parameters: {'reactant': 'Brc1ccsc1.OB(O)B(O)O', 'reagent': '.CC(C)(C)P(c1ccccc1)C(C)(C)C'}. Best is trial 0 with value: 48.309173583984375.\n",
      "[I 2025-08-11 14:13:36,214] Trial 3 finished with value: 61.03029251098633 and parameters: {'reactant': 'CN(C)S(=O)(=O)Oc1ccc2ncccc2c1.OB(O)B(O)O', 'reagent': '.Fc1ccc(P(c2ccc(F)cc2)c2ccc(F)cc2)cc1'}. Best is trial 3 with value: 61.03029251098633.\n",
      "[I 2025-08-11 14:13:36,453] Trial 4 finished with value: 47.6279182434082 and parameters: {'reactant': 'Cc1cccc(C)c1Cl.OB(O)B(O)O', 'reagent': '.CCCCC1([PH+](C2CCCCC2)C2CCCCC2)c2ccccc2-c2ccccc21.F[B-](F)(F)F'}. Best is trial 3 with value: 61.03029251098633.\n",
      "[I 2025-08-11 14:13:36,690] Trial 5 finished with value: 52.00225067138672 and parameters: {'reactant': 'COc1cc(Cl)ccc1F.OB(O)B(O)O', 'reagent': '.COc1cccc(OC)c1-c1ccccc1P(c1ccccc1)c1ccccc1'}. Best is trial 3 with value: 61.03029251098633.\n",
      "[I 2025-08-11 14:13:36,920] Trial 6 finished with value: 42.25899124145508 and parameters: {'reactant': 'CCOC(=O)C(C)(C)Oc1ccc(Cl)cc1.OB(O)B(O)O', 'reagent': '.CN(C)c1ccccc1-c1ccccc1P(c1ccccc1)c1ccccc1'}. Best is trial 3 with value: 61.03029251098633.\n",
      "[I 2025-08-11 14:13:37,140] Trial 7 finished with value: 47.9019775390625 and parameters: {'reactant': 'Brc1ccc(-c2ccccc2)cc1.OB(O)B(O)O', 'reagent': '.c1ccc(P(C2CCCCC2)C2CCCCC2)c(-n2c3ccccc3c3ccccc32)c1'}. Best is trial 3 with value: 61.03029251098633.\n",
      "[I 2025-08-11 14:13:37,342] Trial 8 finished with value: 57.167083740234375 and parameters: {'reactant': 'Brc1ccc2occc2c1.OB(O)B(O)O', 'reagent': '.CC(C)(C)P(c1ccccc1)C(C)(C)C'}. Best is trial 3 with value: 61.03029251098633.\n",
      "[I 2025-08-11 14:13:37,550] Trial 9 finished with value: 59.66584014892578 and parameters: {'reactant': 'Brc1ccc2c(c1)OCO2.OB(O)B(O)O', 'reagent': '.c1ccc(P(c2ccccc2)C2CCCCC2)cc1'}. Best is trial 3 with value: 61.03029251098633.\n"
     ]
    },
    {
     "name": "stdout",
     "output_type": "stream",
     "text": [
      "[Round 5] Fine-tuning on 40 samples, eval 10 samples\n",
      "{'train_runtime': 0.8766, 'train_samples_per_second': 228.155, 'train_steps_per_second': 17.112, 'train_loss': 2785.9125, 'epoch': 5.0}\n",
      "\n",
      "==== Round 6/10 ====\n"
     ]
    },
    {
     "name": "stderr",
     "output_type": "stream",
     "text": [
      "[I 2025-08-11 14:13:39,751] A new study created in RDB with name: yield_round_6\n",
      "[I 2025-08-11 14:13:39,994] Trial 0 finished with value: 53.049461364746094 and parameters: {'reactant': 'Brc1ccc2c(c1)OCO2.OB(O)B(O)O', 'reagent': '.c1ccc(P(c2ccccc2)C2CCCCC2)cc1'}. Best is trial 0 with value: 53.049461364746094.\n",
      "[I 2025-08-11 14:13:40,214] Trial 1 finished with value: 55.20258712768555 and parameters: {'reactant': 'Brc1ccsc1.OB(O)B(O)O', 'reagent': '.COc1ccc(P(c2ccc(OC)cc2)c2ccc(OC)cc2)cc1'}. Best is trial 1 with value: 55.20258712768555.\n",
      "[I 2025-08-11 14:13:40,425] Trial 2 finished with value: 57.3232307434082 and parameters: {'reactant': 'CN(C)C(=O)c1ccc(Cl)cc1.OB(O)B(O)O', 'reagent': '.c1ccc(P(c2ccccc2)C2CCCCC2)cc1'}. Best is trial 2 with value: 57.3232307434082.\n",
      "[I 2025-08-11 14:13:40,655] Trial 3 finished with value: 20.34602165222168 and parameters: {'reactant': 'Brc1ccccc1-c1ccccc1.OB(O)B(O)O', 'reagent': '.CCCCC1([PH+](C2CCCCC2)C2CCCCC2)c2ccccc2-c2ccccc21.F[B-](F)(F)F'}. Best is trial 2 with value: 57.3232307434082.\n",
      "[I 2025-08-11 14:13:40,880] Trial 4 finished with value: 41.960418701171875 and parameters: {'reactant': 'COC(=O)c1ccc(Cl)cc1.OB(O)B(O)O', 'reagent': '.C[PH+](C)C.F[B-](F)(F)F'}. Best is trial 2 with value: 57.3232307434082.\n",
      "[I 2025-08-11 14:13:41,086] Trial 5 finished with value: 34.05351257324219 and parameters: {'reactant': 'Cc1cc(F)ccc1Cl.OB(O)B(O)O', 'reagent': '.CC(=C(c1ccccc1)c1ccccc1)P(C1CCCCC1)C1CCCCC1'}. Best is trial 2 with value: 57.3232307434082.\n",
      "[I 2025-08-11 14:13:41,304] Trial 6 finished with value: 59.87752151489258 and parameters: {'reactant': 'Clc1ccc2c(c1)OCO2.OB(O)B(O)O', 'reagent': '.c1ccc(-n2cccc2P(C2CCCCC2)C2CCCCC2)cc1'}. Best is trial 6 with value: 59.87752151489258.\n",
      "[I 2025-08-11 14:13:41,552] Trial 7 finished with value: 54.96427536010742 and parameters: {'reactant': 'Brc1ccsc1.OB(O)B(O)O', 'reagent': '.COc1cc(C(C)(C)C)cc(C(C)(C)C)c1-c1ccccc1P(C1CCCCC1)C1CCCCC1'}. Best is trial 6 with value: 59.87752151489258.\n",
      "[I 2025-08-11 14:13:41,752] Trial 8 finished with value: 57.105751037597656 and parameters: {'reactant': 'Brc1cnc2ccccc2c1.OB(O)B(O)O', 'reagent': '.COc1ccccc1P(c1ccccc1OC)c1ccccc1OC'}. Best is trial 6 with value: 59.87752151489258.\n",
      "[I 2025-08-11 14:13:41,962] Trial 9 finished with value: 39.93524932861328 and parameters: {'reactant': 'Brc1ccsc1.OB(O)B(O)O', 'reagent': '.COc1cccc(OC)c1-c1ccccc1P(c1ccccc1)c1ccccc1'}. Best is trial 6 with value: 59.87752151489258.\n"
     ]
    },
    {
     "name": "stdout",
     "output_type": "stream",
     "text": [
      "[Round 6] Fine-tuning on 48 samples, eval 12 samples\n",
      "{'train_runtime': 0.9515, 'train_samples_per_second': 252.239, 'train_steps_per_second': 15.765, 'train_loss': 2567.4348958333335, 'epoch': 5.0}\n",
      "\n",
      "==== Round 7/10 ====\n"
     ]
    },
    {
     "name": "stderr",
     "output_type": "stream",
     "text": [
      "[I 2025-08-11 14:13:44,300] A new study created in RDB with name: yield_round_7\n",
      "[I 2025-08-11 14:13:44,584] Trial 0 finished with value: 28.70975685119629 and parameters: {'reactant': 'COc1ccc(Br)cc1.OB(O)B(O)O', 'reagent': '.CC(=C(c1ccccc1)c1ccccc1)P(C1CCCCC1)C1CCCCC1'}. Best is trial 0 with value: 28.70975685119629.\n",
      "[I 2025-08-11 14:13:44,857] Trial 1 finished with value: 52.141292572021484 and parameters: {'reactant': 'CCOC(=O)c1cc(Br)cn1CC.OB(O)B(O)O', 'reagent': '.CC(C)(C)P(c1ccccc1)C(C)(C)C'}. Best is trial 1 with value: 52.141292572021484.\n",
      "[I 2025-08-11 14:13:45,154] Trial 2 finished with value: 68.51814270019531 and parameters: {'reactant': 'Clc1cnc2ccccc2c1.OB(O)B(O)O', 'reagent': '.COc1ccc(P(c2ccc(OC)cc2)c2ccc(OC)cc2)cc1'}. Best is trial 2 with value: 68.51814270019531.\n",
      "[I 2025-08-11 14:13:45,484] Trial 3 finished with value: 63.468955993652344 and parameters: {'reactant': 'CCOC(=O)c1cc(Br)cn1CC.OB(O)B(O)O', 'reagent': '.COc1cc(C(C)(C)C)cc(C(C)(C)C)c1-c1ccccc1P(C1CCCCC1)C1CCCCC1'}. Best is trial 2 with value: 68.51814270019531.\n",
      "[I 2025-08-11 14:13:45,781] Trial 4 finished with value: 55.49355697631836 and parameters: {'reactant': 'Cc1c(N)cccc1Cl.OB(O)B(O)O', 'reagent': '.CC(C)c1cc(C(C)C)c(-c2ccccc2P(c2ccccc2)c2ccccc2)c(C(C)C)c1'}. Best is trial 2 with value: 68.51814270019531.\n",
      "[I 2025-08-11 14:13:46,096] Trial 5 finished with value: 67.4302978515625 and parameters: {'reactant': 'CN(C)S(=O)(=O)Oc1ccc2ncccc2c1.OB(O)B(O)O', 'reagent': '.Cc1cc(C)cc(P(c2cc(C)cc(C)c2)c2cc(C)cc(C)c2)c1'}. Best is trial 2 with value: 68.51814270019531.\n",
      "[I 2025-08-11 14:13:46,378] Trial 6 finished with value: 45.3929557800293 and parameters: {'reactant': 'COC(=O)c1ccc(Br)cc1.OB(O)B(O)O', 'reagent': '.CC(C)(C)P(c1ccccc1)C(C)(C)C'}. Best is trial 2 with value: 68.51814270019531.\n",
      "[I 2025-08-11 14:13:46,660] Trial 7 finished with value: 44.374267578125 and parameters: {'reactant': 'Cc1c(N)cccc1Cl.OB(O)B(O)O', 'reagent': '.c1ccc(P(c2ccccc2)C2CCCCC2)cc1'}. Best is trial 2 with value: 68.51814270019531.\n",
      "[I 2025-08-11 14:13:46,965] Trial 8 finished with value: 55.95726776123047 and parameters: {'reactant': 'Brc1cnc2ccccc2c1.OB(O)B(O)O', 'reagent': '.COc1ccccc1C1=C(P(C2CCCCC2)C2CCCCC2)C2c3ccccc3C1c1ccccc12'}. Best is trial 2 with value: 68.51814270019531.\n",
      "[I 2025-08-11 14:13:47,267] Trial 9 finished with value: 44.79719543457031 and parameters: {'reactant': 'COC(=O)c1ccc(Br)cc1.OB(O)B(O)O', 'reagent': '.CC(C)c1cc(C(C)C)c(-c2ccccc2P(c2ccccc2)c2ccccc2)c(C(C)C)c1'}. Best is trial 2 with value: 68.51814270019531.\n"
     ]
    },
    {
     "name": "stdout",
     "output_type": "stream",
     "text": [
      "[Round 7] Fine-tuning on 56 samples, eval 14 samples\n",
      "{'train_runtime': 1.2343, 'train_samples_per_second': 226.849, 'train_steps_per_second': 16.203, 'train_loss': 2646.1853515625, 'epoch': 5.0}\n",
      "\n",
      "==== Round 8/10 ====\n"
     ]
    },
    {
     "name": "stderr",
     "output_type": "stream",
     "text": [
      "[I 2025-08-11 14:13:49,858] A new study created in RDB with name: yield_round_8\n",
      "[I 2025-08-11 14:13:50,162] Trial 0 finished with value: 51.210235595703125 and parameters: {'reactant': 'Brc1cnc2ccccc2c1.OB(O)B(O)O', 'reagent': '.CC(=C(c1ccccc1)c1ccccc1)P(C1CCCCC1)C1CCCCC1'}. Best is trial 0 with value: 51.210235595703125.\n",
      "[I 2025-08-11 14:13:50,458] Trial 1 finished with value: 51.990692138671875 and parameters: {'reactant': 'COc1cc(Cl)ccc1F.OB(O)B(O)O', 'reagent': '.c1ccc(-c2ccccc2P(C2CCCCC2)C2CCCCC2)cc1'}. Best is trial 1 with value: 51.990692138671875.\n",
      "[I 2025-08-11 14:13:50,758] Trial 2 finished with value: 50.29109573364258 and parameters: {'reactant': 'COc1ccc(Br)cc1.OB(O)B(O)O', 'reagent': '.CCCCC1([PH+](C2CCCCC2)C2CCCCC2)c2ccccc2-c2ccccc21.F[B-](F)(F)F'}. Best is trial 1 with value: 51.990692138671875.\n",
      "[I 2025-08-11 14:13:51,042] Trial 3 finished with value: 38.96900939941406 and parameters: {'reactant': 'N#Cc1ccc(Br)cc1F.OB(O)B(O)O', 'reagent': '.c1ccc(P(C2CCCCC2)C2CCCCC2)c(-n2c3ccccc3c3ccccc32)c1'}. Best is trial 1 with value: 51.990692138671875.\n",
      "[I 2025-08-11 14:13:51,348] Trial 4 finished with value: 53.096466064453125 and parameters: {'reactant': 'FC(F)(F)c1ccc(Br)cc1.OB(O)B(O)O', 'reagent': '.COc1ccccc1C1=C(P(C2CCCCC2)C2CCCCC2)C2c3ccccc3C1c1ccccc12'}. Best is trial 4 with value: 53.096466064453125.\n",
      "[I 2025-08-11 14:13:51,614] Trial 5 finished with value: 47.625614166259766 and parameters: {'reactant': 'Cc1ncccc1Br.OB(O)B(O)O', 'reagent': '.CN(C)c1ccc(P(c2ccccc2)c2ccccc2)cc1'}. Best is trial 4 with value: 53.096466064453125.\n",
      "[I 2025-08-11 14:13:51,905] Trial 6 finished with value: 42.11700439453125 and parameters: {'reactant': 'CCOC(=O)C(C)(C)Oc1ccc(Cl)cc1.OB(O)B(O)O', 'reagent': '.c1ccc(P(c2ccccc2)C2CCCCC2)cc1'}. Best is trial 4 with value: 53.096466064453125.\n",
      "[I 2025-08-11 14:13:52,198] Trial 7 finished with value: 70.6785888671875 and parameters: {'reactant': 'Clc1cnc2ccccc2c1.OB(O)B(O)O', 'reagent': '.CN(C)c1ccc(P(c2ccccc2)c2ccccc2)cc1'}. Best is trial 7 with value: 70.6785888671875.\n",
      "[I 2025-08-11 14:13:52,508] Trial 8 finished with value: 51.26930618286133 and parameters: {'reactant': 'Cc1c(N)cccc1Cl.OB(O)B(O)O', 'reagent': '.Cc1cc(C)cc(P(c2cc(C)cc(C)c2)c2cc(C)cc(C)c2)c1'}. Best is trial 7 with value: 70.6785888671875.\n",
      "[I 2025-08-11 14:13:52,832] Trial 9 finished with value: 40.75380325317383 and parameters: {'reactant': 'CCOC(=O)C(C)(C)Oc1ccc(Cl)cc1.OB(O)B(O)O', 'reagent': '.CC(C)c1cc(C(C)C)c(-c2ccccc2P(c2ccccc2)c2ccccc2)c(C(C)C)c1'}. Best is trial 7 with value: 70.6785888671875.\n"
     ]
    },
    {
     "name": "stdout",
     "output_type": "stream",
     "text": [
      "[Round 8] Fine-tuning on 64 samples, eval 16 samples\n",
      "{'train_runtime': 1.2388, 'train_samples_per_second': 258.309, 'train_steps_per_second': 16.144, 'train_loss': 2656.46953125, 'epoch': 5.0}\n",
      "\n",
      "==== Round 9/10 ====\n"
     ]
    },
    {
     "name": "stderr",
     "output_type": "stream",
     "text": [
      "[I 2025-08-11 14:13:55,678] A new study created in RDB with name: yield_round_9\n",
      "[I 2025-08-11 14:13:55,968] Trial 0 finished with value: 57.391090393066406 and parameters: {'reactant': 'Brc1cnc2ccccc2c1.OB(O)B(O)O', 'reagent': '.C[PH+](C)C.F[B-](F)(F)F'}. Best is trial 0 with value: 57.391090393066406.\n",
      "[I 2025-08-11 14:13:56,256] Trial 1 finished with value: 47.387542724609375 and parameters: {'reactant': 'COC(=O)c1ccc(Cl)cc1.OB(O)B(O)O', 'reagent': '.Fc1ccc(P(c2ccc(F)cc2)c2ccc(F)cc2)cc1'}. Best is trial 0 with value: 57.391090393066406.\n",
      "[I 2025-08-11 14:13:56,530] Trial 2 finished with value: 47.99216842651367 and parameters: {'reactant': 'Brc1ccsc1.OB(O)B(O)O', 'reagent': '.Cc1ccccc1-c1ccccc1P(C1CCCCC1)C1CCCCC1'}. Best is trial 0 with value: 57.391090393066406.\n",
      "[I 2025-08-11 14:13:56,828] Trial 3 finished with value: 53.527748107910156 and parameters: {'reactant': 'Clc1ccc(-c2ccccc2)cc1.OB(O)B(O)O', 'reagent': '.Cc1ccccc1-c1ccccc1P(C1CCCCC1)C1CCCCC1'}. Best is trial 0 with value: 57.391090393066406.\n",
      "[I 2025-08-11 14:13:57,110] Trial 4 finished with value: 56.06599426269531 and parameters: {'reactant': 'COC(=O)c1ccc(Cl)cc1.OB(O)B(O)O', 'reagent': '.Cc1ccccc1-c1ccccc1P(C1CCCCC1)C1CCCCC1'}. Best is trial 0 with value: 57.391090393066406.\n",
      "[I 2025-08-11 14:13:57,392] Trial 5 finished with value: 45.76572036743164 and parameters: {'reactant': 'FC(F)(F)c1ccc(Br)cc1.OB(O)B(O)O', 'reagent': '.CC(C)(C)P(c1ccccc1)C(C)(C)C'}. Best is trial 0 with value: 57.391090393066406.\n",
      "[I 2025-08-11 14:13:57,692] Trial 6 finished with value: 42.10447692871094 and parameters: {'reactant': 'Brc1ccccc1-c1ccccc1.OB(O)B(O)O', 'reagent': '.Fc1ccc(P(c2ccc(F)cc2)c2ccc(F)cc2)cc1'}. Best is trial 0 with value: 57.391090393066406.\n",
      "[I 2025-08-11 14:13:57,989] Trial 7 finished with value: 50.779693603515625 and parameters: {'reactant': 'Clc1ccc(-c2ccccc2)cc1.OB(O)B(O)O', 'reagent': '.c1ccc(-c2cc3ccccc3n2P(C2CCCCC2)C2CCCCC2)cc1'}. Best is trial 0 with value: 57.391090393066406.\n",
      "[I 2025-08-11 14:13:58,269] Trial 8 finished with value: 46.65964126586914 and parameters: {'reactant': 'N#Cc1ccc(Cl)cc1F.OB(O)B(O)O', 'reagent': '.C[PH+](C)C.F[B-](F)(F)F'}. Best is trial 0 with value: 57.391090393066406.\n",
      "[I 2025-08-11 14:13:58,555] Trial 9 finished with value: 56.99350357055664 and parameters: {'reactant': 'Clc1ccc2c(c1)OCO2.OB(O)B(O)O', 'reagent': '.C1CCC([PH+](C2CCCCC2)C2CCCCC2)CC1.F[B-](F)(F)F'}. Best is trial 0 with value: 57.391090393066406.\n"
     ]
    },
    {
     "name": "stdout",
     "output_type": "stream",
     "text": [
      "[Round 9] Fine-tuning on 72 samples, eval 18 samples\n",
      "{'train_runtime': 1.6374, 'train_samples_per_second': 219.863, 'train_steps_per_second': 15.268, 'train_loss': 2295.14140625, 'epoch': 5.0}\n",
      "\n",
      "==== Round 10/10 ====\n"
     ]
    },
    {
     "name": "stderr",
     "output_type": "stream",
     "text": [
      "[I 2025-08-11 14:14:01,619] A new study created in RDB with name: yield_round_10\n",
      "[I 2025-08-11 14:14:01,931] Trial 0 finished with value: 34.8645133972168 and parameters: {'reactant': 'CCOC(=O)c1ccc(Cl)c(F)c1.OB(O)B(O)O', 'reagent': '.C[PH+](C)C.F[B-](F)(F)F'}. Best is trial 0 with value: 34.8645133972168.\n",
      "[I 2025-08-11 14:14:02,244] Trial 1 finished with value: 60.60206985473633 and parameters: {'reactant': 'Clc1ccc2[nH]ccc2c1.OB(O)B(O)O', 'reagent': '.CCCCC1([PH+](C2CCCCC2)C2CCCCC2)c2ccccc2-c2ccccc21.F[B-](F)(F)F'}. Best is trial 1 with value: 60.60206985473633.\n",
      "[I 2025-08-11 14:14:02,525] Trial 2 finished with value: 57.71529769897461 and parameters: {'reactant': 'Clc1ccc2[nH]ccc2c1.OB(O)B(O)O', 'reagent': '.c1ccc(-n2cccc2P(C2CCCCC2)C2CCCCC2)cc1'}. Best is trial 1 with value: 60.60206985473633.\n",
      "[I 2025-08-11 14:14:02,822] Trial 3 finished with value: 45.23029708862305 and parameters: {'reactant': 'CCOC(=O)c1cc(Br)cn1CC.OB(O)B(O)O', 'reagent': '.c1ccc(-c2cc3ccccc3n2P(C2CCCCC2)C2CCCCC2)cc1'}. Best is trial 1 with value: 60.60206985473633.\n",
      "[I 2025-08-11 14:14:03,125] Trial 4 finished with value: 69.31217193603516 and parameters: {'reactant': 'CN(C)S(=O)(=O)Oc1ccc2[nH]ccc2c1.OB(O)B(O)O', 'reagent': '.CC(=C(c1ccccc1)c1ccccc1)P(C1CCCCC1)C1CCCCC1'}. Best is trial 4 with value: 69.31217193603516.\n",
      "[I 2025-08-11 14:14:03,425] Trial 5 finished with value: 34.73426818847656 and parameters: {'reactant': 'Cc1c(N)cccc1Cl.OB(O)B(O)O', 'reagent': '.C[PH+](C)C.F[B-](F)(F)F'}. Best is trial 4 with value: 69.31217193603516.\n",
      "[I 2025-08-11 14:14:03,715] Trial 6 finished with value: 46.36537551879883 and parameters: {'reactant': 'Cc1cc(F)ccc1Cl.OB(O)B(O)O', 'reagent': '.COc1ccc(P(c2ccc(OC)cc2)c2ccc(OC)cc2)cc1'}. Best is trial 4 with value: 69.31217193603516.\n",
      "[I 2025-08-11 14:14:04,006] Trial 7 finished with value: 12.915483474731445 and parameters: {'reactant': 'CCOC(=O)C(C)(C)Oc1ccc(Cl)cc1.OB(O)B(O)O', 'reagent': '.COc1cccc(OC)c1-c1ccccc1P(c1ccccc1)c1ccccc1'}. Best is trial 4 with value: 69.31217193603516.\n",
      "[I 2025-08-11 14:14:04,272] Trial 8 finished with value: 12.44000244140625 and parameters: {'reactant': 'COc1ccc(Br)cc1.OB(O)B(O)O', 'reagent': '.CC(C)(C)P(c1ccccc1)C(C)(C)C'}. Best is trial 4 with value: 69.31217193603516.\n",
      "[I 2025-08-11 14:14:04,565] Trial 9 finished with value: 64.45130920410156 and parameters: {'reactant': 'Clc1ccc2[nH]ccc2c1.OB(O)B(O)O', 'reagent': '.COc1ccc(P(c2ccc(OC)cc2)c2ccc(OC)cc2)cc1'}. Best is trial 4 with value: 69.31217193603516.\n"
     ]
    },
    {
     "name": "stdout",
     "output_type": "stream",
     "text": [
      "[Round 10] Fine-tuning on 80 samples, eval 20 samples\n",
      "{'train_runtime': 1.6551, 'train_samples_per_second': 241.673, 'train_steps_per_second': 15.105, 'train_loss': 1207.054140625, 'epoch': 5.0}\n",
      "\n",
      "Done. Logs:\n",
      "- Trials CSV: runs/10rounds_10_trials_yield/bo_log.csv\n",
      "- Optuna DBs: runs/10rounds_10_trials_yield/round_*.db\n",
      "- Checkpoints per round: runs/10rounds_10_trials_yield/round_*/\n"
     ]
    }
   ],
   "source": [
    "iterative_optuna_finetune(\n",
    "    predict_yield_fn=predict_yield,\n",
    "    reactant_list=reactant_list,\n",
    "    reagent_list=reagent_list,\n",
    "    target_product=target_product,\n",
    "    true_yield_dict=true_yield_dict,\n",
    "    tokenizer=yield_tokenizer,\n",
    "    model=yield_model,\n",
    "    cfg=cfg,\n",
    ")"
   ]
  },
  {
   "cell_type": "code",
   "execution_count": 26,
   "id": "67538921",
   "metadata": {},
   "outputs": [],
   "source": [
    "import pandas as pd\n",
    "import matplotlib.pyplot as plt"
   ]
  },
  {
   "cell_type": "code",
   "execution_count": 27,
   "id": "4b76d36d",
   "metadata": {},
   "outputs": [],
   "source": [
    "def visualize_bo_logs(csv_path: str, out_dir: str | None = None, show: bool = False, dpi: int = 180):\n",
    "    # 出力ディレクトリ（集約）\n",
    "    root = out_dir or (os.path.dirname(csv_path) or \".\")\n",
    "    save_dir = os.path.join(root, \"bo_viz\")\n",
    "    os.makedirs(save_dir, exist_ok=True)\n",
    "\n",
    "    # ロード & 型整形\n",
    "    df = pd.read_csv(csv_path)\n",
    "    to_num_cols = [\n",
    "        \"round\", \"trial_index\", \"pred_yield_pct\", \"true_yield_pct\",\n",
    "        \"error_pct\", \"study_best_pred\", \"study_best_true\"\n",
    "    ]\n",
    "    for c in to_num_cols:\n",
    "        if c in df.columns:\n",
    "            df[c] = pd.to_numeric(df[c], errors=\"coerce\")\n",
    "\n",
    "    # 真値ありデータ\n",
    "    df_obs = df.dropna(subset=[\"true_yield_pct\"]) if \"true_yield_pct\" in df.columns else pd.DataFrame()\n",
    "    # error_pct が無い/NaN の場合は再計算\n",
    "    if not df_obs.empty:\n",
    "        df_obs[\"error_pct\"] = df_obs[\"pred_yield_pct\"] - df_obs[\"true_yield_pct\"]\n",
    "\n",
    "    # ===== 全体指標 =====\n",
    "    overall = {}\n",
    "    if not df_obs.empty:\n",
    "        y = df_obs[\"true_yield_pct\"].to_numpy()\n",
    "        yhat = df_obs[\"pred_yield_pct\"].to_numpy()\n",
    "        err = yhat - y\n",
    "        overall = {\n",
    "            \"n\": int(len(df_obs)),\n",
    "            \"mae_pct\": float(np.mean(np.abs(err))),\n",
    "            \"rmse_pct\": float(np.sqrt(np.mean(err**2))),\n",
    "            \"bias_pct\": float(np.mean(err)),\n",
    "            \"r2\": float(1 - np.sum(err**2) / np.sum((y - y.mean())**2)) if len(df_obs) > 1 else np.nan,\n",
    "        }\n",
    "    pd.DataFrame([overall]).to_csv(os.path.join(save_dir, \"metrics_overall.csv\"), index=False)\n",
    "\n",
    "    # ===== ラウンド別指標（MAE/RMSE/Bias/R2）=====\n",
    "    metrics_by_round = []\n",
    "    if not df_obs.empty and \"round\" in df_obs.columns:\n",
    "        for r, d in df_obs.groupby(\"round\", dropna=True):\n",
    "            y = d[\"true_yield_pct\"].to_numpy()\n",
    "            yhat = d[\"pred_yield_pct\"].to_numpy()\n",
    "            err = yhat - y\n",
    "            metrics_by_round.append({\n",
    "                \"round\": int(r),\n",
    "                \"n\": int(len(d)),\n",
    "                \"mae_pct\": float(np.mean(np.abs(err))),\n",
    "                \"rmse_pct\": float(np.sqrt(np.mean(err**2))),\n",
    "                \"bias_pct\": float(np.mean(err)),\n",
    "                \"r2\": float(1 - np.sum(err**2) / np.sum((y - y.mean())**2)) if len(d) > 1 else np.nan,\n",
    "            })\n",
    "    mdf = (pd.DataFrame(metrics_by_round)\n",
    "             .sort_values(\"round\")\n",
    "             if metrics_by_round else pd.DataFrame(columns=[\"round\",\"n\",\"mae_pct\",\"rmse_pct\",\"bias_pct\",\"r2\"]))\n",
    "    mdf.to_csv(os.path.join(save_dir, \"metrics_by_round.csv\"), index=False)\n",
    "\n",
    "    # ===== 図: パリティ =====\n",
    "    if not df_obs.empty:\n",
    "        fig = plt.figure(figsize=(5, 5))\n",
    "        plt.scatter(df_obs[\"true_yield_pct\"], df_obs[\"pred_yield_pct\"], s=18, alpha=0.65)\n",
    "        lims = [0, 100]\n",
    "        plt.plot(lims, lims, linestyle=\"--\")\n",
    "        plt.xlim(lims); plt.ylim(lims)\n",
    "        plt.xlabel(\"True Yield [%]\"); plt.ylabel(\"Predicted Yield [%]\")\n",
    "        plt.title(\"Parity: Prediction vs Truth\")\n",
    "        fig.savefig(os.path.join(save_dir, \"parity.png\"), dpi=dpi, bbox_inches=\"tight\")\n",
    "        if show: plt.show()\n",
    "        plt.close(fig)\n",
    "\n",
    "    # ===== 図: 誤差ヒスト =====\n",
    "    if not df_obs.empty and not df_obs[\"error_pct\"].dropna().empty:\n",
    "        fig = plt.figure(figsize=(6, 4))\n",
    "        plt.hist(df_obs[\"error_pct\"].dropna().to_numpy(), bins=30)\n",
    "        plt.xlabel(\"Prediction Error [%]  (pred - true)\")\n",
    "        plt.ylabel(\"Count\")\n",
    "        plt.title(\"Error Histogram\")\n",
    "        fig.savefig(os.path.join(save_dir, \"error_hist.png\"), dpi=dpi, bbox_inches=\"tight\")\n",
    "        if show: plt.show()\n",
    "        plt.close(fig)\n",
    "\n",
    "    # ===== 図: ラウンド別ベスト真値 =====\n",
    "    if not df_obs.empty and \"round\" in df_obs.columns:\n",
    "        best_by_round = df_obs.groupby(\"round\")[\"true_yield_pct\"].max()\n",
    "        fig = plt.figure(figsize=(6, 4))\n",
    "        plt.plot(best_by_round.index, best_by_round.values, marker=\"o\")\n",
    "        plt.xlabel(\"Round\"); plt.ylabel(\"Best Observed True Yield [%]\")\n",
    "        plt.title(\"Best True Yield per Round\"); plt.grid(True, alpha=0.3)\n",
    "        fig.savefig(os.path.join(save_dir, \"best_true_per_round.png\"), dpi=dpi, bbox_inches=\"tight\")\n",
    "        if show: plt.show()\n",
    "        plt.close(fig)\n",
    "\n",
    "    # ===== 図: キャリブレーション =====\n",
    "    if not df_obs.empty:\n",
    "        bins = np.linspace(0, 100, 11)  # 10ビン\n",
    "        cut = pd.cut(df_obs[\"pred_yield_pct\"], bins, include_lowest=True)\n",
    "        calib = df_obs.groupby(cut).agg(\n",
    "            pred_mean=(\"pred_yield_pct\", \"mean\"),\n",
    "            true_mean=(\"true_yield_pct\", \"mean\"),\n",
    "            n=(\"true_yield_pct\", \"size\")\n",
    "        ).dropna()\n",
    "        if not calib.empty:\n",
    "            fig = plt.figure(figsize=(6, 4))\n",
    "            lims = [0, 100]\n",
    "            plt.plot(calib[\"pred_mean\"], calib[\"true_mean\"], marker=\"o\")\n",
    "            plt.plot(lims, lims, linestyle=\"--\")\n",
    "            plt.xlim(lims); plt.ylim(lims)\n",
    "            plt.xlabel(\"Predicted Mean (per bin) [%]\")\n",
    "            plt.ylabel(\"Observed Mean (per bin) [%]\")\n",
    "            plt.title(\"Calibration Curve\")\n",
    "            fig.savefig(os.path.join(save_dir, \"calibration.png\"), dpi=dpi, bbox_inches=\"tight\")\n",
    "            if show: plt.show()\n",
    "            plt.close(fig)\n",
    "            calib.to_csv(os.path.join(save_dir, \"calibration_table.csv\"))\n",
    "\n",
    "    # ===== 図: ラウンド別（真値/予測）の箱ひげ =====\n",
    "    if not df_obs.empty and \"round\" in df_obs.columns:\n",
    "        rounds = sorted(df_obs[\"round\"].dropna().unique())\n",
    "        if len(rounds) > 0:\n",
    "            fig = plt.figure(figsize=(7, 4))\n",
    "            pos = np.array(rounds, dtype=float)\n",
    "            data_true = [df_obs[df_obs[\"round\"] == r][\"true_yield_pct\"].to_numpy() for r in rounds]\n",
    "            data_pred = [df_obs[df_obs[\"round\"] == r][\"pred_yield_pct\"].to_numpy() for r in rounds]\n",
    "            plt.boxplot(data_true, positions=pos - 0.15, widths=0.25, patch_artist=True)\n",
    "            plt.boxplot(data_pred, positions=pos + 0.15, widths=0.25, patch_artist=True)\n",
    "            plt.xticks(rounds)\n",
    "            plt.xlabel(\"Round\"); plt.ylabel(\"Yield [%]\")\n",
    "            plt.title(\"Distributions per Round (True vs Pred)\")\n",
    "            fig.savefig(os.path.join(save_dir, \"round_box.png\"), dpi=dpi, bbox_inches=\"tight\")\n",
    "            if show: plt.show()\n",
    "            plt.close(fig)\n",
    "\n",
    "    # ===== NEW: ラウンド別の誤差分布（箱ひげ）=====\n",
    "    if not df_obs.empty and \"round\" in df_obs.columns:\n",
    "        rounds = sorted(df_obs[\"round\"].dropna().unique())\n",
    "        if len(rounds) > 0:\n",
    "            fig = plt.figure(figsize=(7, 4))\n",
    "            data_err = [df_obs[df_obs[\"round\"] == r][\"error_pct\"].dropna().to_numpy() for r in rounds]\n",
    "            plt.boxplot(data_err, positions=np.array(rounds, dtype=float), widths=0.5, patch_artist=True)\n",
    "            plt.axhline(0.0, linestyle=\"--\")\n",
    "            plt.xticks(rounds)\n",
    "            plt.xlabel(\"Round\"); plt.ylabel(\"Prediction Error (pred - true) [%]\")\n",
    "            plt.title(\"Prediction Error by Round (Boxplot)\")\n",
    "            fig.savefig(os.path.join(save_dir, \"error_box_by_round.png\"), dpi=dpi, bbox_inches=\"tight\")\n",
    "            if show: plt.show()\n",
    "            plt.close(fig)\n",
    "\n",
    "    # ===== NEW: ラウンド別の MAE/RMSE/Bias 推移 =====\n",
    "    if not mdf.empty:\n",
    "        fig = plt.figure(figsize=(7, 4))\n",
    "        plt.plot(mdf[\"round\"], mdf[\"mae_pct\"], marker=\"o\", label=\"MAE [%]\")\n",
    "        plt.plot(mdf[\"round\"], mdf[\"rmse_pct\"], marker=\"o\", label=\"RMSE [%]\")\n",
    "        plt.plot(mdf[\"round\"], mdf[\"bias_pct\"], marker=\"o\", label=\"Bias (pred-true) [%]\")\n",
    "        plt.xlabel(\"Round\"); plt.ylabel(\"Error [%]\")\n",
    "        plt.title(\"Prediction Error by Round\")\n",
    "        plt.grid(True, alpha=0.3); plt.legend()\n",
    "        fig.savefig(os.path.join(save_dir, \"error_by_round.png\"), dpi=dpi, bbox_inches=\"tight\")\n",
    "        if show: plt.show()\n",
    "        plt.close(fig)\n",
    "\n",
    "    # ===== Optuna study best =====\n",
    "    if \"study_best_pred\" in df.columns:\n",
    "        best_df = df.dropna(subset=[\"round\", \"study_best_pred\"]).groupby(\"round\").agg(\n",
    "            best_pred=(\"study_best_pred\", \"max\"),\n",
    "            best_true=(\"study_best_true\", \"max\")\n",
    "        ).reset_index()\n",
    "        if not best_df.empty:\n",
    "            fig = plt.figure(figsize=(6, 4))\n",
    "            plt.plot(best_df[\"round\"], best_df[\"best_pred\"], marker=\"o\", label=\"Study Best Pred [%]\")\n",
    "            if \"study_best_true\" in best_df.columns and best_df[\"best_true\"].notna().any():\n",
    "                plt.plot(best_df[\"round\"], best_df[\"best_true\"], marker=\"o\", label=\"Study Best True [%]\")\n",
    "            plt.xlabel(\"Round\"); plt.ylabel(\"Yield [%]\")\n",
    "            plt.title(\"Optuna Study Best per Round\"); plt.grid(True, alpha=0.3); plt.legend()\n",
    "            fig.savefig(os.path.join(save_dir, \"study_best.png\"), dpi=dpi, bbox_inches=\"tight\")\n",
    "            if show: plt.show()\n",
    "            plt.close(fig)\n",
    "\n",
    "    return {\"overall\": overall, \"by_round\": mdf, \"save_dir\": save_dir}\n"
   ]
  },
  {
   "cell_type": "code",
   "execution_count": 28,
   "id": "3b965eb2",
   "metadata": {},
   "outputs": [
    {
     "name": "stderr",
     "output_type": "stream",
     "text": [
      "/tmp/ipykernel_3920/306732793.py:51: RuntimeWarning: divide by zero encountered in scalar divide\n",
      "  \"r2\": float(1 - np.sum(err**2) / np.sum((y - y.mean())**2)) if len(d) > 1 else np.nan,\n",
      "/tmp/ipykernel_3920/306732793.py:97: FutureWarning: The default of observed=False is deprecated and will be changed to True in a future version of pandas. Pass observed=False to retain current behavior or observed=True to adopt the future default and silence this warning.\n",
      "  calib = df_obs.groupby(cut).agg(\n"
     ]
    },
    {
     "name": "stdout",
     "output_type": "stream",
     "text": [
      "{'n': 100, 'mae_pct': 47.77434896999999, 'rmse_pct': 49.42323617180193, 'bias_pct': 46.29600007, 'r2': -7.879602744060826}\n"
     ]
    }
   ],
   "source": [
    "results = visualize_bo_logs(\"runs/10rounds_10_trials_yield/bo_log.csv\", show=False)\n",
    "print(results[\"overall\"])"
   ]
  }
 ],
 "metadata": {
  "kernelspec": {
   "display_name": ".venv",
   "language": "python",
   "name": "python3"
  },
  "language_info": {
   "codemirror_mode": {
    "name": "ipython",
    "version": 3
   },
   "file_extension": ".py",
   "mimetype": "text/x-python",
   "name": "python",
   "nbconvert_exporter": "python",
   "pygments_lexer": "ipython3",
   "version": "3.11.12"
  }
 },
 "nbformat": 4,
 "nbformat_minor": 5
}
