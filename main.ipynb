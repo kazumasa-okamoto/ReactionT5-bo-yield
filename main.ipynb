{
 "cells": [
  {
   "cell_type": "markdown",
   "id": "ff073d26",
   "metadata": {},
   "source": [
    "## データセットの準備"
   ]
  },
  {
   "cell_type": "code",
   "execution_count": 1,
   "id": "29605a73",
   "metadata": {},
   "outputs": [],
   "source": [
    "import pandas as pd\n",
    "from rdkit import Chem\n",
    "from rdkit.Chem import AllChem"
   ]
  },
  {
   "cell_type": "code",
   "execution_count": 2,
   "id": "33dbc2a1",
   "metadata": {},
   "outputs": [],
   "source": [
    "def space_clean(row):\n",
    "    row = row.replace(\". \", \"\").replace(\" .\", \"\").replace(\"  \", \" \")\n",
    "    return row\n",
    "\n",
    "\n",
    "def canonicalize(smiles):\n",
    "    try:\n",
    "        new_smiles = Chem.MolToSmiles(Chem.MolFromSmiles(smiles), canonical=True)\n",
    "    except:\n",
    "        new_smiles = None\n",
    "    return new_smiles"
   ]
  },
  {
   "cell_type": "code",
   "execution_count": 3,
   "id": "17a2a559",
   "metadata": {},
   "outputs": [],
   "source": [
    "df = pd.read_csv(\"./data/inchi_23l_reaction_t5_ready.csv\")"
   ]
  },
  {
   "cell_type": "code",
   "execution_count": 4,
   "id": "85294c23",
   "metadata": {},
   "outputs": [],
   "source": [
    "# 必須カラムの存在チェックと補完\n",
    "required_cols = [\"REACTANT\", \"CATALYST\", \"REAGENT\", \"SOLVENT\", \"PRODUCT\"]\n",
    "for col in required_cols:\n",
    "    if col not in df.columns:\n",
    "        df[col] = \"\"\n",
    "\n",
    "# 必要に応じてYIELDを標準化（0-1に正規化）\n",
    "if \"YIELD\" in df.columns and df[\"YIELD\"].max() >= 100:\n",
    "    df[\"YIELD\"] = df[\"YIELD\"].clip(0, 100) / 100\n",
    "else:\n",
    "    df[\"YIELD\"] = None"
   ]
  },
  {
   "cell_type": "code",
   "execution_count": 5,
   "id": "b1791ddf",
   "metadata": {},
   "outputs": [],
   "source": [
    "for col in [\"REAGENT\", \"REACTANT\", \"PRODUCT\"]:\n",
    "    df[col] = df[col].apply(space_clean)\n",
    "    df[col] = df[col].apply(lambda x: canonicalize(x) if x != \" \" else \" \")\n",
    "    df = df[~df[col].isna()].reset_index(drop=True)\n",
    "    df[col] = df[col].apply(lambda x: \".\".join(sorted(x.split(\".\"))))"
   ]
  },
  {
   "cell_type": "code",
   "execution_count": 6,
   "id": "f9d93a60",
   "metadata": {},
   "outputs": [],
   "source": [
    "df[\"REAGENT\"] = df[\"CATALYST\"].fillna(\" \") + \".\" + df[\"REAGENT\"].fillna(\" \")"
   ]
  },
  {
   "cell_type": "code",
   "execution_count": 7,
   "id": "776e7609",
   "metadata": {},
   "outputs": [],
   "source": [
    "df = df.loc[df[[\"YIELD\"]].drop_duplicates().index].reset_index(drop=True)"
   ]
  },
  {
   "cell_type": "markdown",
   "id": "3cdd3894",
   "metadata": {},
   "source": [
    "## モデルの読み込み"
   ]
  },
  {
   "cell_type": "code",
   "execution_count": 8,
   "id": "c47e4281",
   "metadata": {},
   "outputs": [
    {
     "name": "stderr",
     "output_type": "stream",
     "text": [
      "/root/ReactionT5-bo-yield/.venv/lib/python3.11/site-packages/tqdm/auto.py:21: TqdmWarning: IProgress not found. Please update jupyter and ipywidgets. See https://ipywidgets.readthedocs.io/en/stable/user_install.html\n",
      "  from .autonotebook import tqdm as notebook_tqdm\n"
     ]
    }
   ],
   "source": [
    "import numpy as np\n",
    "import torch\n",
    "import torch.nn as nn\n",
    "from transformers import AutoTokenizer, AutoModelForSeq2SeqLM, T5ForConditionalGeneration, AutoConfig, PreTrainedModel\n",
    "\n",
    "import logging\n",
    "logging.getLogger(\"transformers\").setLevel(logging.ERROR)"
   ]
  },
  {
   "cell_type": "code",
   "execution_count": 9,
   "id": "f09b311e",
   "metadata": {},
   "outputs": [],
   "source": [
    "class ReactionT5Yield(PreTrainedModel):\n",
    "    config_class  = AutoConfig\n",
    "    def __init__(self, config):\n",
    "        super().__init__(config)\n",
    "        self.config = config\n",
    "        self.model = T5ForConditionalGeneration.from_pretrained(self.config._name_or_path)\n",
    "        self.model.resize_token_embeddings(self.config.vocab_size)\n",
    "        self.fc1 = nn.Linear(self.config.hidden_size, self.config.hidden_size//2)\n",
    "        self.fc2 = nn.Linear(self.config.hidden_size, self.config.hidden_size//2)\n",
    "        self.fc3 = nn.Linear(self.config.hidden_size//2*2, self.config.hidden_size)\n",
    "        self.fc4 = nn.Linear(self.config.hidden_size, self.config.hidden_size)\n",
    "        self.fc5 = nn.Linear(self.config.hidden_size, 1)\n",
    "\n",
    "        self._init_weights(self.fc1)\n",
    "        self._init_weights(self.fc2)\n",
    "        self._init_weights(self.fc3)\n",
    "        self._init_weights(self.fc4)\n",
    "        self._init_weights(self.fc5)\n",
    "\n",
    "    def _init_weights(self, module):\n",
    "        if isinstance(module, nn.Linear):\n",
    "            module.weight.data.normal_(mean=0.0, std=0.01)\n",
    "            if module.bias is not None:\n",
    "                module.bias.data.zero_()\n",
    "        elif isinstance(module, nn.Embedding):\n",
    "            module.weight.data.normal_(mean=0.0, std=0.01)\n",
    "            if module.padding_idx is not None:\n",
    "                module.weight.data[module.padding_idx].zero_()\n",
    "        elif isinstance(module, nn.LayerNorm):\n",
    "            module.bias.data.zero_()\n",
    "            module.weight.data.fill_(1.0)\n",
    "\n",
    "    def forward(self, inputs):\n",
    "        device = inputs['input_ids'].device\n",
    "\n",
    "        with torch.no_grad():\n",
    "            encoder_outputs = self.model.encoder(\n",
    "                input_ids=inputs['input_ids'],\n",
    "                attention_mask=inputs.get('attention_mask', None),\n",
    "            )\n",
    "            encoder_hidden_states = encoder_outputs[0]  # (B, L, H)\n",
    "\n",
    "            dec_input_ids = torch.full(\n",
    "                (inputs['input_ids'].size(0), 1),\n",
    "                self.config.decoder_start_token_id,\n",
    "                dtype=torch.long,\n",
    "                device=device,\n",
    "            )\n",
    "\n",
    "            outputs = self.model.decoder(\n",
    "                input_ids=dec_input_ids,\n",
    "                encoder_hidden_states=encoder_hidden_states,\n",
    "            )\n",
    "            last_hidden_states = outputs[0]  # (B, 1, H)\n",
    "\n",
    "        output1 = self.fc1(last_hidden_states.view(-1, self.config.hidden_size))\n",
    "        output2 = self.fc2(encoder_hidden_states[:, 0, :].view(-1, self.config.hidden_size))\n",
    "        output = self.fc3(torch.hstack((output1, output2)))\n",
    "        output = self.fc4(output)\n",
    "        output = self.fc5(output)\n",
    "        return output * 100\n",
    "\n"
   ]
  },
  {
   "cell_type": "code",
   "execution_count": 10,
   "id": "18fcbfc4",
   "metadata": {},
   "outputs": [],
   "source": [
    "# 収率予測（スカラー出力）\n",
    "yield_tokenizer = AutoTokenizer.from_pretrained(\"sagawa/ReactionT5v2-yield\")\n",
    "yield_model = ReactionT5Yield.from_pretrained(\"sagawa/ReactionT5v2-yield\")"
   ]
  },
  {
   "cell_type": "code",
   "execution_count": 11,
   "id": "fb7b6281",
   "metadata": {},
   "outputs": [],
   "source": [
    "def predict_yield(input_str: str) -> float:\n",
    "    inputs = yield_tokenizer([input_str], return_tensors=\"pt\", truncation=True)\n",
    "    with torch.no_grad():\n",
    "        output = yield_model(inputs)\n",
    "    return output.item()"
   ]
  },
  {
   "cell_type": "markdown",
   "id": "4d7134d4",
   "metadata": {},
   "source": [
    "## Optunaによる探索"
   ]
  },
  {
   "cell_type": "code",
   "execution_count": 12,
   "id": "f302359f",
   "metadata": {},
   "outputs": [],
   "source": [
    "import optuna"
   ]
  },
  {
   "cell_type": "code",
   "execution_count": 13,
   "id": "6677d422",
   "metadata": {},
   "outputs": [],
   "source": [
    "reactant_list = sorted(df[\"REACTANT\"].unique())\n",
    "reagent_list = sorted(df[\"REAGENT\"].unique())\n",
    "product_list = sorted(df[\"PRODUCT\"].unique())"
   ]
  },
  {
   "cell_type": "code",
   "execution_count": 14,
   "id": "d883e494",
   "metadata": {},
   "outputs": [
    {
     "data": {
      "text/plain": [
       "(33, 23, 24)"
      ]
     },
     "execution_count": 14,
     "metadata": {},
     "output_type": "execute_result"
    }
   ],
   "source": [
    "len(reactant_list), len(reagent_list), len(product_list)"
   ]
  },
  {
   "cell_type": "code",
   "execution_count": 15,
   "id": "1bd684cc",
   "metadata": {},
   "outputs": [],
   "source": [
    "product_dict = {\n",
    "    (row[\"REACTANT\"], row[\"REAGENT\"]): row[\"PRODUCT\"]\n",
    "    for _, row in df.iterrows()\n",
    "}"
   ]
  },
  {
   "cell_type": "code",
   "execution_count": 16,
   "id": "94503414",
   "metadata": {},
   "outputs": [],
   "source": [
    "true_yield_dict = {\n",
    "    (row[\"REACTANT\"], row[\"REAGENT\"], row[\"PRODUCT\"]): row[\"YIELD\"]\n",
    "    for _, row in df.iterrows()\n",
    "}"
   ]
  },
  {
   "cell_type": "code",
   "execution_count": 17,
   "id": "d3d289ec",
   "metadata": {},
   "outputs": [],
   "source": [
    "def objective(trial):\n",
    "\n",
    "    yield_model.to(\"cpu\")\n",
    "    try:\n",
    "        torch.cuda.empty_cache()\n",
    "    except Exception:\n",
    "        pass\n",
    "    \n",
    "    reactant = trial.suggest_categorical(\"reactant\", reactant_list)\n",
    "    reagent = trial.suggest_categorical(\"reagent\", reagent_list)\n",
    "    product = product_dict.get((reactant, reagent))\n",
    "\n",
    "    input_str = f\"REACTANT:{reactant}REAGENT:{reagent}PRODUCT:{product}\"\n",
    "\n",
    "    try:\n",
    "        pred_yield = predict_yield(input_str)\n",
    "\n",
    "        # ground truth を取得\n",
    "        key = (reactant, reagent, product)\n",
    "        if key not in true_yield_dict:\n",
    "            print(f\"❗ No ground truth for: {reactant} + {reagent} → {product}\")\n",
    "            true_yield = 0.0\n",
    "        else:\n",
    "            true_yield = true_yield_dict.get(key)\n",
    "\n",
    "        # 誤差の計算\n",
    "        if true_yield is not None:\n",
    "            true_yield_pct = true_yield * 100\n",
    "            error = pred_yield - true_yield_pct \n",
    "            print(f\"🔎 {reactant} + {reagent} → {product}\")\n",
    "            print(f\"   📈 Predicted: {pred_yield:.2f}%\")\n",
    "            print(f\"   🧪 Ground truth: {true_yield_pct:.2f}%\" if true_yield is not None else \"   🧪 Ground truth: None\")\n",
    "            print(f\"   ❗ Error: {error:+.2f}%\")\n",
    "        else:\n",
    "            print(f\"❔ No ground truth for: {reactant} + {reagent}\")\n",
    "            error = None\n",
    "\n",
    "        if pred_yield < 0 or pred_yield > 100:\n",
    "            return 0.0\n",
    "\n",
    "        return pred_yield  # 目的関数は「予測収率の最大化」\n",
    "    except Exception as e:\n",
    "        print(f\"❌ Error during trial: {e}\")\n",
    "        return 0.0"
   ]
  },
  {
   "cell_type": "code",
   "execution_count": 18,
   "id": "c778149a",
   "metadata": {},
   "outputs": [
    {
     "name": "stderr",
     "output_type": "stream",
     "text": [
      "[I 2025-08-16 00:39:32,766] A new study created in memory with name: no-name-926d650e-940b-465e-bab9-0211a4aa1e6e\n",
      "[I 2025-08-16 00:39:32,940] Trial 0 finished with value: 73.9183120727539 and parameters: {'reactant': 'Clc1ccc2[nH]ccc2c1', 'reagent': 'c1ccc(-c2nn(-c3ccccc3)c(-c3ccccc3)c2-n2nccc2P(C2CCCCC2)C2CCCCC2)cc1.OB(O)B(O)O'}. Best is trial 0 with value: 73.9183120727539.\n",
      "[I 2025-08-16 00:39:33,052] Trial 1 finished with value: 60.860897064208984 and parameters: {'reactant': 'CN(C)S(=O)(=O)Oc1ccc(-c2ccccc2)cc1', 'reagent': 'c1ccc(P(C2CCCCC2)C2CCCCC2)c(-n2c3ccccc3c3ccccc32)c1.OB(O)B(O)O'}. Best is trial 0 with value: 73.9183120727539.\n"
     ]
    },
    {
     "name": "stdout",
     "output_type": "stream",
     "text": [
      "🔎 Clc1ccc2[nH]ccc2c1 + c1ccc(-c2nn(-c3ccccc3)c(-c3ccccc3)c2-n2nccc2P(C2CCCCC2)C2CCCCC2)cc1.OB(O)B(O)O → OB(O)c1ccc2[nH]ccc2c1\n",
      "   📈 Predicted: 73.92%\n",
      "   🧪 Ground truth: 87.49%\n",
      "   ❗ Error: -13.57%\n",
      "🔎 CN(C)S(=O)(=O)Oc1ccc(-c2ccccc2)cc1 + c1ccc(P(C2CCCCC2)C2CCCCC2)c(-n2c3ccccc3c3ccccc32)c1.OB(O)B(O)O → OB(O)c1ccc(-c2ccccc2)cc1\n",
      "   📈 Predicted: 60.86%\n",
      "   🧪 Ground truth: 51.89%\n",
      "   ❗ Error: +8.97%\n"
     ]
    },
    {
     "name": "stderr",
     "output_type": "stream",
     "text": [
      "[I 2025-08-16 00:39:33,155] Trial 2 finished with value: 68.48898315429688 and parameters: {'reactant': 'Clc1cnc2ccccc2c1', 'reagent': 'C1CCC([PH+](C2CCCCC2)C2CCCCC2)CC1.F[B-](F)(F)F.OB(O)B(O)O'}. Best is trial 0 with value: 73.9183120727539.\n",
      "[I 2025-08-16 00:39:33,261] Trial 3 finished with value: 54.851043701171875 and parameters: {'reactant': 'Cc1c(N)cccc1Cl', 'reagent': 'CCCCC1([PH+](C2CCCCC2)C2CCCCC2)c2ccccc2-c2ccccc21.F[B-](F)(F)F.OB(O)B(O)O'}. Best is trial 0 with value: 73.9183120727539.\n"
     ]
    },
    {
     "name": "stdout",
     "output_type": "stream",
     "text": [
      "🔎 Clc1cnc2ccccc2c1 + C1CCC([PH+](C2CCCCC2)C2CCCCC2)CC1.F[B-](F)(F)F.OB(O)B(O)O → OB(O)c1cnc2ccccc2c1\n",
      "   📈 Predicted: 68.49%\n",
      "   🧪 Ground truth: 17.55%\n",
      "   ❗ Error: +50.94%\n",
      "🔎 Cc1c(N)cccc1Cl + CCCCC1([PH+](C2CCCCC2)C2CCCCC2)c2ccccc2-c2ccccc21.F[B-](F)(F)F.OB(O)B(O)O → Cc1c(N)cccc1B(O)O\n",
      "   📈 Predicted: 54.85%\n",
      "   🧪 Ground truth: 20.02%\n",
      "   ❗ Error: +34.83%\n"
     ]
    },
    {
     "name": "stderr",
     "output_type": "stream",
     "text": [
      "[I 2025-08-16 00:39:33,407] Trial 4 finished with value: 66.64136505126953 and parameters: {'reactant': 'CN(C)S(=O)(=O)Oc1ccc2[nH]ccc2c1', 'reagent': 'CC(C)c1cc(C(C)C)c(-c2ccccc2P(c2ccccc2)c2ccccc2)c(C(C)C)c1.OB(O)B(O)O'}. Best is trial 0 with value: 73.9183120727539.\n",
      "[I 2025-08-16 00:39:33,504] Trial 5 finished with value: 65.99288177490234 and parameters: {'reactant': 'Brc1ccc2c(c1)OCO2', 'reagent': 'CC(=C(c1ccccc1)c1ccccc1)P(C1CCCCC1)C1CCCCC1.OB(O)B(O)O'}. Best is trial 0 with value: 73.9183120727539.\n",
      "[I 2025-08-16 00:39:33,595] Trial 6 finished with value: 67.0660400390625 and parameters: {'reactant': 'COc1ccc(Br)cc1F', 'reagent': 'CC(C)(C)P(c1ccccc1)C(C)(C)C.OB(O)B(O)O'}. Best is trial 0 with value: 73.9183120727539.\n"
     ]
    },
    {
     "name": "stdout",
     "output_type": "stream",
     "text": [
      "🔎 CN(C)S(=O)(=O)Oc1ccc2[nH]ccc2c1 + CC(C)c1cc(C(C)C)c(-c2ccccc2P(c2ccccc2)c2ccccc2)c(C(C)C)c1.OB(O)B(O)O → OB(O)c1ccc2[nH]ccc2c1\n",
      "   📈 Predicted: 66.64%\n",
      "   🧪 Ground truth: 6.73%\n",
      "   ❗ Error: +59.91%\n",
      "🔎 Brc1ccc2c(c1)OCO2 + CC(=C(c1ccccc1)c1ccccc1)P(C1CCCCC1)C1CCCCC1.OB(O)B(O)O → OB(O)c1ccc2c(c1)OCO2\n",
      "   📈 Predicted: 65.99%\n",
      "   🧪 Ground truth: 42.40%\n",
      "   ❗ Error: +23.59%\n",
      "🔎 COc1ccc(Br)cc1F + CC(C)(C)P(c1ccccc1)C(C)(C)C.OB(O)B(O)O → COc1ccc(B(O)O)cc1F\n",
      "   📈 Predicted: 67.07%\n",
      "   🧪 Ground truth: 16.98%\n",
      "   ❗ Error: +50.09%\n"
     ]
    },
    {
     "name": "stderr",
     "output_type": "stream",
     "text": [
      "[I 2025-08-16 00:39:33,690] Trial 7 finished with value: 71.50020599365234 and parameters: {'reactant': 'Clc1ccc2[nH]ccc2c1', 'reagent': 'c1ccc(-c2cc3ccccc3n2P(C2CCCCC2)C2CCCCC2)cc1.OB(O)B(O)O'}. Best is trial 0 with value: 73.9183120727539.\n",
      "[I 2025-08-16 00:39:33,811] Trial 8 finished with value: 69.74617004394531 and parameters: {'reactant': 'N#Cc1ccc(Cl)cc1F', 'reagent': 'c1ccc(-c2nn(-c3ccccc3)c(-c3ccccc3)c2-n2nccc2P(C2CCCCC2)C2CCCCC2)cc1.OB(O)B(O)O'}. Best is trial 0 with value: 73.9183120727539.\n"
     ]
    },
    {
     "name": "stdout",
     "output_type": "stream",
     "text": [
      "🔎 Clc1ccc2[nH]ccc2c1 + c1ccc(-c2cc3ccccc3n2P(C2CCCCC2)C2CCCCC2)cc1.OB(O)B(O)O → OB(O)c1ccc2[nH]ccc2c1\n",
      "   📈 Predicted: 71.50%\n",
      "   🧪 Ground truth: 89.17%\n",
      "   ❗ Error: -17.67%\n",
      "🔎 N#Cc1ccc(Cl)cc1F + c1ccc(-c2nn(-c3ccccc3)c(-c3ccccc3)c2-n2nccc2P(C2CCCCC2)C2CCCCC2)cc1.OB(O)B(O)O → N#Cc1ccc(B(O)O)cc1F\n",
      "   📈 Predicted: 69.75%\n",
      "   🧪 Ground truth: 47.51%\n",
      "   ❗ Error: +22.24%\n"
     ]
    },
    {
     "name": "stderr",
     "output_type": "stream",
     "text": [
      "[I 2025-08-16 00:39:33,904] Trial 9 finished with value: 72.45337677001953 and parameters: {'reactant': 'Brc1cnc2ccccc2c1', 'reagent': 'c1ccc(P(c2ccccc2)C2CCCCC2)cc1.OB(O)B(O)O'}. Best is trial 0 with value: 73.9183120727539.\n",
      "[I 2025-08-16 00:39:34,002] Trial 10 finished with value: 63.16690444946289 and parameters: {'reactant': 'Cc1ncccc1Br', 'reagent': 'COc1cccc(OC)c1-c1ccccc1P(c1ccccc1)c1ccccc1.OB(O)B(O)O'}. Best is trial 0 with value: 73.9183120727539.\n",
      "[I 2025-08-16 00:39:34,093] Trial 11 finished with value: 72.45337677001953 and parameters: {'reactant': 'Brc1cnc2ccccc2c1', 'reagent': 'c1ccc(P(c2ccccc2)C2CCCCC2)cc1.OB(O)B(O)O'}. Best is trial 0 with value: 73.9183120727539.\n"
     ]
    },
    {
     "name": "stdout",
     "output_type": "stream",
     "text": [
      "🔎 Brc1cnc2ccccc2c1 + c1ccc(P(c2ccccc2)C2CCCCC2)cc1.OB(O)B(O)O → OB(O)c1cnc2ccccc2c1\n",
      "   📈 Predicted: 72.45%\n",
      "   🧪 Ground truth: 53.05%\n",
      "   ❗ Error: +19.40%\n",
      "🔎 Cc1ncccc1Br + COc1cccc(OC)c1-c1ccccc1P(c1ccccc1)c1ccccc1.OB(O)B(O)O → Cc1ncccc1B(O)O\n",
      "   📈 Predicted: 63.17%\n",
      "   🧪 Ground truth: 83.74%\n",
      "   ❗ Error: -20.58%\n",
      "🔎 Brc1cnc2ccccc2c1 + c1ccc(P(c2ccccc2)C2CCCCC2)cc1.OB(O)B(O)O → OB(O)c1cnc2ccccc2c1\n",
      "   📈 Predicted: 72.45%\n",
      "   🧪 Ground truth: 53.05%\n",
      "   ❗ Error: +19.40%\n"
     ]
    },
    {
     "name": "stderr",
     "output_type": "stream",
     "text": [
      "[I 2025-08-16 00:39:34,205] Trial 12 finished with value: 61.39530563354492 and parameters: {'reactant': 'Brc1ccccc1-c1ccccc1', 'reagent': 'Cc1cc(C)cc(P(c2cc(C)cc(C)c2)c2cc(C)cc(C)c2)c1.OB(O)B(O)O'}. Best is trial 0 with value: 73.9183120727539.\n",
      "[I 2025-08-16 00:39:34,321] Trial 13 finished with value: 66.90037536621094 and parameters: {'reactant': 'COC(=O)c1ccc(Cl)cc1', 'reagent': 'c1ccc(-c2nn(-c3ccccc3)c(-c3ccccc3)c2-n2nccc2P(C2CCCCC2)C2CCCCC2)cc1.OB(O)B(O)O'}. Best is trial 0 with value: 73.9183120727539.\n"
     ]
    },
    {
     "name": "stdout",
     "output_type": "stream",
     "text": [
      "🔎 Brc1ccccc1-c1ccccc1 + Cc1cc(C)cc(P(c2cc(C)cc(C)c2)c2cc(C)cc(C)c2)c1.OB(O)B(O)O → OB(O)c1ccccc1-c1ccccc1\n",
      "   📈 Predicted: 61.40%\n",
      "   🧪 Ground truth: 59.51%\n",
      "   ❗ Error: +1.88%\n",
      "🔎 COC(=O)c1ccc(Cl)cc1 + c1ccc(-c2nn(-c3ccccc3)c(-c3ccccc3)c2-n2nccc2P(C2CCCCC2)C2CCCCC2)cc1.OB(O)B(O)O → COC(=O)c1ccc(B(O)O)cc1\n",
      "   📈 Predicted: 66.90%\n",
      "   🧪 Ground truth: 32.66%\n",
      "   ❗ Error: +34.24%\n"
     ]
    },
    {
     "name": "stderr",
     "output_type": "stream",
     "text": [
      "[I 2025-08-16 00:39:34,408] Trial 14 finished with value: 70.97915649414062 and parameters: {'reactant': 'Cc1cc(F)ccc1Cl', 'reagent': 'c1ccc(-n2cccc2P(C2CCCCC2)C2CCCCC2)cc1.OB(O)B(O)O'}. Best is trial 0 with value: 73.9183120727539.\n",
      "[I 2025-08-16 00:39:34,499] Trial 15 finished with value: 62.21269226074219 and parameters: {'reactant': 'Brc1ccc2occc2c1', 'reagent': 'CN(C)c1ccc(P(c2ccccc2)c2ccccc2)cc1.OB(O)B(O)O'}. Best is trial 0 with value: 73.9183120727539.\n",
      "[I 2025-08-16 00:39:34,601] Trial 16 finished with value: 73.2723388671875 and parameters: {'reactant': 'Brc1ccc(-c2ccccc2)cc1', 'reagent': 'c1ccc(P(c2ccccc2)c2ccccc2)cc1.OB(O)B(O)O'}. Best is trial 0 with value: 73.9183120727539.\n"
     ]
    },
    {
     "name": "stdout",
     "output_type": "stream",
     "text": [
      "🔎 Cc1cc(F)ccc1Cl + c1ccc(-n2cccc2P(C2CCCCC2)C2CCCCC2)cc1.OB(O)B(O)O → Cc1cc(F)ccc1B(O)O\n",
      "   📈 Predicted: 70.98%\n",
      "   🧪 Ground truth: 52.00%\n",
      "   ❗ Error: +18.98%\n",
      "🔎 Brc1ccc2occc2c1 + CN(C)c1ccc(P(c2ccccc2)c2ccccc2)cc1.OB(O)B(O)O → OB(O)c1ccc2occc2c1\n",
      "   📈 Predicted: 62.21%\n",
      "   🧪 Ground truth: 39.34%\n",
      "   ❗ Error: +22.87%\n",
      "🔎 Brc1ccc(-c2ccccc2)cc1 + c1ccc(P(c2ccccc2)c2ccccc2)cc1.OB(O)B(O)O → OB(O)c1ccc(-c2ccccc2)cc1\n",
      "   📈 Predicted: 73.27%\n",
      "   🧪 Ground truth: 96.01%\n",
      "   ❗ Error: -22.74%\n"
     ]
    },
    {
     "name": "stderr",
     "output_type": "stream",
     "text": [
      "[I 2025-08-16 00:39:34,693] Trial 17 finished with value: 73.2723388671875 and parameters: {'reactant': 'Brc1ccc(-c2ccccc2)cc1', 'reagent': 'c1ccc(P(c2ccccc2)c2ccccc2)cc1.OB(O)B(O)O'}. Best is trial 0 with value: 73.9183120727539.\n",
      "[I 2025-08-16 00:39:34,790] Trial 18 finished with value: 78.02354431152344 and parameters: {'reactant': 'COc1cc(Cl)ccc1F', 'reagent': 'c1ccc(P(c2ccccc2)c2ccccc2)cc1.OB(O)B(O)O'}. Best is trial 18 with value: 78.02354431152344.\n",
      "[I 2025-08-16 00:39:34,879] Trial 19 finished with value: 64.9549331665039 and parameters: {'reactant': 'COc1cc(Cl)ccc1F', 'reagent': 'C[PH+](C)C.F[B-](F)(F)F.OB(O)B(O)O'}. Best is trial 18 with value: 78.02354431152344.\n"
     ]
    },
    {
     "name": "stdout",
     "output_type": "stream",
     "text": [
      "🔎 Brc1ccc(-c2ccccc2)cc1 + c1ccc(P(c2ccccc2)c2ccccc2)cc1.OB(O)B(O)O → OB(O)c1ccc(-c2ccccc2)cc1\n",
      "   📈 Predicted: 73.27%\n",
      "   🧪 Ground truth: 96.01%\n",
      "   ❗ Error: -22.74%\n",
      "🔎 COc1cc(Cl)ccc1F + c1ccc(P(c2ccccc2)c2ccccc2)cc1.OB(O)B(O)O → COc1cc(B(O)O)ccc1F\n",
      "   📈 Predicted: 78.02%\n",
      "   🧪 Ground truth: 27.36%\n",
      "   ❗ Error: +50.66%\n",
      "🔎 COc1cc(Cl)ccc1F + C[PH+](C)C.F[B-](F)(F)F.OB(O)B(O)O → COc1cc(B(O)O)ccc1F\n",
      "   📈 Predicted: 64.95%\n",
      "   🧪 Ground truth: 15.84%\n",
      "   ❗ Error: +49.11%\n"
     ]
    },
    {
     "name": "stderr",
     "output_type": "stream",
     "text": [
      "[I 2025-08-16 00:39:34,989] Trial 20 finished with value: 77.95579528808594 and parameters: {'reactant': 'COc1cc(Cl)ccc1F', 'reagent': 'Fc1ccc(P(c2ccc(F)cc2)c2ccc(F)cc2)cc1.OB(O)B(O)O'}. Best is trial 18 with value: 78.02354431152344.\n",
      "[I 2025-08-16 00:39:35,095] Trial 21 finished with value: 77.95579528808594 and parameters: {'reactant': 'COc1cc(Cl)ccc1F', 'reagent': 'Fc1ccc(P(c2ccc(F)cc2)c2ccc(F)cc2)cc1.OB(O)B(O)O'}. Best is trial 18 with value: 78.02354431152344.\n",
      "[I 2025-08-16 00:39:35,187] Trial 22 finished with value: 77.95579528808594 and parameters: {'reactant': 'COc1cc(Cl)ccc1F', 'reagent': 'Fc1ccc(P(c2ccc(F)cc2)c2ccc(F)cc2)cc1.OB(O)B(O)O'}. Best is trial 18 with value: 78.02354431152344.\n"
     ]
    },
    {
     "name": "stdout",
     "output_type": "stream",
     "text": [
      "🔎 COc1cc(Cl)ccc1F + Fc1ccc(P(c2ccc(F)cc2)c2ccc(F)cc2)cc1.OB(O)B(O)O → COc1cc(B(O)O)ccc1F\n",
      "   📈 Predicted: 77.96%\n",
      "   🧪 Ground truth: 56.21%\n",
      "   ❗ Error: +21.75%\n",
      "🔎 COc1cc(Cl)ccc1F + Fc1ccc(P(c2ccc(F)cc2)c2ccc(F)cc2)cc1.OB(O)B(O)O → COc1cc(B(O)O)ccc1F\n",
      "   📈 Predicted: 77.96%\n",
      "   🧪 Ground truth: 56.21%\n",
      "   ❗ Error: +21.75%\n",
      "🔎 COc1cc(Cl)ccc1F + Fc1ccc(P(c2ccc(F)cc2)c2ccc(F)cc2)cc1.OB(O)B(O)O → COc1cc(B(O)O)ccc1F\n",
      "   📈 Predicted: 77.96%\n",
      "   🧪 Ground truth: 56.21%\n",
      "   ❗ Error: +21.75%\n"
     ]
    },
    {
     "name": "stderr",
     "output_type": "stream",
     "text": [
      "[I 2025-08-16 00:39:35,326] Trial 23 finished with value: 77.95579528808594 and parameters: {'reactant': 'COc1cc(Cl)ccc1F', 'reagent': 'Fc1ccc(P(c2ccc(F)cc2)c2ccc(F)cc2)cc1.OB(O)B(O)O'}. Best is trial 18 with value: 78.02354431152344.\n",
      "[I 2025-08-16 00:39:35,431] Trial 24 finished with value: 63.68893814086914 and parameters: {'reactant': 'COc1ccc(Br)cc1', 'reagent': 'CN(C)c1ccccc1-c1ccccc1P(c1ccccc1)c1ccccc1.OB(O)B(O)O'}. Best is trial 18 with value: 78.02354431152344.\n"
     ]
    },
    {
     "name": "stdout",
     "output_type": "stream",
     "text": [
      "🔎 COc1cc(Cl)ccc1F + Fc1ccc(P(c2ccc(F)cc2)c2ccc(F)cc2)cc1.OB(O)B(O)O → COc1cc(B(O)O)ccc1F\n",
      "   📈 Predicted: 77.96%\n",
      "   🧪 Ground truth: 56.21%\n",
      "   ❗ Error: +21.75%\n",
      "🔎 COc1ccc(Br)cc1 + CN(C)c1ccccc1-c1ccccc1P(c1ccccc1)c1ccccc1.OB(O)B(O)O → COc1ccc(B(O)O)cc1\n",
      "   📈 Predicted: 63.69%\n",
      "   🧪 Ground truth: 71.23%\n",
      "   ❗ Error: -7.55%\n"
     ]
    },
    {
     "name": "stderr",
     "output_type": "stream",
     "text": [
      "[I 2025-08-16 00:39:35,557] Trial 25 finished with value: 74.3940200805664 and parameters: {'reactant': 'N#Cc1ccc(Br)cc1F', 'reagent': 'Fc1ccc(P(c2ccc(F)cc2)c2ccc(F)cc2)cc1.OB(O)B(O)O'}. Best is trial 18 with value: 78.02354431152344.\n",
      "[I 2025-08-16 00:39:35,669] Trial 26 finished with value: 77.19477081298828 and parameters: {'reactant': 'CCOC(=O)c1cc(Br)cn1CC', 'reagent': 'COc1ccc(P(c2ccc(OC)cc2)c2ccc(OC)cc2)cc1.OB(O)B(O)O'}. Best is trial 18 with value: 78.02354431152344.\n"
     ]
    },
    {
     "name": "stdout",
     "output_type": "stream",
     "text": [
      "🔎 N#Cc1ccc(Br)cc1F + Fc1ccc(P(c2ccc(F)cc2)c2ccc(F)cc2)cc1.OB(O)B(O)O → N#Cc1ccc(B(O)O)cc1F\n",
      "   📈 Predicted: 74.39%\n",
      "   🧪 Ground truth: 49.90%\n",
      "   ❗ Error: +24.49%\n",
      "🔎 CCOC(=O)c1cc(Br)cn1CC + COc1ccc(P(c2ccc(OC)cc2)c2ccc(OC)cc2)cc1.OB(O)B(O)O → CCOC(=O)c1cc(B(O)O)cn1CC\n",
      "   📈 Predicted: 77.19%\n",
      "   🧪 Ground truth: 31.12%\n",
      "   ❗ Error: +46.07%\n"
     ]
    },
    {
     "name": "stderr",
     "output_type": "stream",
     "text": [
      "[I 2025-08-16 00:39:35,766] Trial 27 finished with value: 63.46672058105469 and parameters: {'reactant': 'COc1cc(Cl)ccc1F', 'reagent': 'Cc1ccccc1-c1ccccc1P(C1CCCCC1)C1CCCCC1.OB(O)B(O)O'}. Best is trial 18 with value: 78.02354431152344.\n",
      "[I 2025-08-16 00:39:35,895] Trial 28 finished with value: 69.90227508544922 and parameters: {'reactant': 'CN(C)C(=O)c1ccc(Cl)cc1', 'reagent': 'COc1cc(C(C)(C)C)cc(C(C)(C)C)c1-c1ccccc1P(C1CCCCC1)C1CCCCC1.OB(O)B(O)O'}. Best is trial 18 with value: 78.02354431152344.\n"
     ]
    },
    {
     "name": "stdout",
     "output_type": "stream",
     "text": [
      "🔎 COc1cc(Cl)ccc1F + Cc1ccccc1-c1ccccc1P(C1CCCCC1)C1CCCCC1.OB(O)B(O)O → COc1cc(B(O)O)ccc1F\n",
      "   📈 Predicted: 63.47%\n",
      "   🧪 Ground truth: 62.87%\n",
      "   ❗ Error: +0.60%\n",
      "🔎 CN(C)C(=O)c1ccc(Cl)cc1 + COc1cc(C(C)(C)C)cc(C(C)(C)C)c1-c1ccccc1P(C1CCCCC1)C1CCCCC1.OB(O)B(O)O → CN(C)C(=O)c1ccc(B(O)O)cc1\n",
      "   📈 Predicted: 69.90%\n",
      "   🧪 Ground truth: 50.83%\n",
      "   ❗ Error: +19.07%\n"
     ]
    },
    {
     "name": "stderr",
     "output_type": "stream",
     "text": [
      "[I 2025-08-16 00:39:36,001] Trial 29 finished with value: 73.82299041748047 and parameters: {'reactant': 'COC(=O)c1ccc(Br)cc1', 'reagent': 'c1ccc(-c2ccccc2P(C2CCCCC2)C2CCCCC2)cc1.OB(O)B(O)O'}. Best is trial 18 with value: 78.02354431152344.\n",
      "[I 2025-08-16 00:39:36,126] Trial 30 finished with value: 62.704002380371094 and parameters: {'reactant': 'CCOC(=O)c1ccc(Cl)c(F)c1', 'reagent': 'COc1ccccc1C1=C(P(C2CCCCC2)C2CCCCC2)C2c3ccccc3C1c1ccccc12.OB(O)B(O)O'}. Best is trial 18 with value: 78.02354431152344.\n"
     ]
    },
    {
     "name": "stdout",
     "output_type": "stream",
     "text": [
      "🔎 COC(=O)c1ccc(Br)cc1 + c1ccc(-c2ccccc2P(C2CCCCC2)C2CCCCC2)cc1.OB(O)B(O)O → COC(=O)c1ccc(B(O)O)cc1\n",
      "   📈 Predicted: 73.82%\n",
      "   🧪 Ground truth: 68.37%\n",
      "   ❗ Error: +5.45%\n",
      "🔎 CCOC(=O)c1ccc(Cl)c(F)c1 + COc1ccccc1C1=C(P(C2CCCCC2)C2CCCCC2)C2c3ccccc3C1c1ccccc12.OB(O)B(O)O → CCOC(=O)c1ccc(B(O)O)c(F)c1\n",
      "   📈 Predicted: 62.70%\n",
      "   🧪 Ground truth: 4.84%\n",
      "   ❗ Error: +57.86%\n"
     ]
    },
    {
     "name": "stderr",
     "output_type": "stream",
     "text": [
      "[I 2025-08-16 00:39:36,219] Trial 31 finished with value: 77.95579528808594 and parameters: {'reactant': 'COc1cc(Cl)ccc1F', 'reagent': 'Fc1ccc(P(c2ccc(F)cc2)c2ccc(F)cc2)cc1.OB(O)B(O)O'}. Best is trial 18 with value: 78.02354431152344.\n",
      "[I 2025-08-16 00:39:36,317] Trial 32 finished with value: 71.98419189453125 and parameters: {'reactant': 'COc1ncc(Br)c(OC)n1', 'reagent': 'COc1ccccc1P(c1ccccc1OC)c1ccccc1OC.OB(O)B(O)O'}. Best is trial 18 with value: 78.02354431152344.\n",
      "[I 2025-08-16 00:39:36,404] Trial 33 finished with value: 77.02468872070312 and parameters: {'reactant': 'COc1ccc(Cl)cc1F', 'reagent': 'c1ccc(P(c2ccccc2)c2ccccc2)cc1.OB(O)B(O)O'}. Best is trial 18 with value: 78.02354431152344.\n"
     ]
    },
    {
     "name": "stdout",
     "output_type": "stream",
     "text": [
      "🔎 COc1cc(Cl)ccc1F + Fc1ccc(P(c2ccc(F)cc2)c2ccc(F)cc2)cc1.OB(O)B(O)O → COc1cc(B(O)O)ccc1F\n",
      "   📈 Predicted: 77.96%\n",
      "   🧪 Ground truth: 56.21%\n",
      "   ❗ Error: +21.75%\n",
      "🔎 COc1ncc(Br)c(OC)n1 + COc1ccccc1P(c1ccccc1OC)c1ccccc1OC.OB(O)B(O)O → COc1ncc(B(O)O)c(OC)n1\n",
      "   📈 Predicted: 71.98%\n",
      "   🧪 Ground truth: 11.79%\n",
      "   ❗ Error: +60.19%\n",
      "🔎 COc1ccc(Cl)cc1F + c1ccc(P(c2ccccc2)c2ccccc2)cc1.OB(O)B(O)O → COc1ccc(B(O)O)cc1F\n",
      "   📈 Predicted: 77.02%\n",
      "   🧪 Ground truth: 33.28%\n",
      "   ❗ Error: +43.74%\n"
     ]
    },
    {
     "name": "stderr",
     "output_type": "stream",
     "text": [
      "[I 2025-08-16 00:39:36,508] Trial 34 finished with value: 73.21011352539062 and parameters: {'reactant': 'FC(F)(F)c1ccc(Cl)cc1', 'reagent': 'Fc1ccc(P(c2ccc(F)cc2)c2ccc(F)cc2)cc1.OB(O)B(O)O'}. Best is trial 18 with value: 78.02354431152344.\n",
      "[I 2025-08-16 00:39:36,619] Trial 35 finished with value: 51.18157958984375 and parameters: {'reactant': 'Cc1cccc(C)c1Cl', 'reagent': 'c1ccc(P(C2CCCCC2)C2CCCCC2)c(-n2c3ccccc3c3ccccc32)c1.OB(O)B(O)O'}. Best is trial 18 with value: 78.02354431152344.\n"
     ]
    },
    {
     "name": "stdout",
     "output_type": "stream",
     "text": [
      "🔎 FC(F)(F)c1ccc(Cl)cc1 + Fc1ccc(P(c2ccc(F)cc2)c2ccc(F)cc2)cc1.OB(O)B(O)O → OB(O)c1ccc(C(F)(F)F)cc1\n",
      "   📈 Predicted: 73.21%\n",
      "   🧪 Ground truth: 71.85%\n",
      "   ❗ Error: +1.36%\n",
      "🔎 Cc1cccc(C)c1Cl + c1ccc(P(C2CCCCC2)C2CCCCC2)c(-n2c3ccccc3c3ccccc32)c1.OB(O)B(O)O → Cc1cccc(C)c1B(O)O\n",
      "   📈 Predicted: 51.18%\n",
      "   🧪 Ground truth: 8.80%\n",
      "   ❗ Error: +42.38%\n"
     ]
    },
    {
     "name": "stderr",
     "output_type": "stream",
     "text": [
      "[I 2025-08-16 00:39:36,732] Trial 36 finished with value: 73.84654998779297 and parameters: {'reactant': 'FC(F)(F)c1ccc(Br)cc1', 'reagent': 'Fc1ccc(P(c2ccc(F)cc2)c2ccc(F)cc2)cc1.OB(O)B(O)O'}. Best is trial 18 with value: 78.02354431152344.\n",
      "[I 2025-08-16 00:39:36,852] Trial 37 finished with value: 56.64259338378906 and parameters: {'reactant': 'CCOC(=O)C(C)(C)Oc1ccc(Cl)cc1', 'reagent': 'C1CCC([PH+](C2CCCCC2)C2CCCCC2)CC1.F[B-](F)(F)F.OB(O)B(O)O'}. Best is trial 18 with value: 78.02354431152344.\n"
     ]
    },
    {
     "name": "stdout",
     "output_type": "stream",
     "text": [
      "🔎 FC(F)(F)c1ccc(Br)cc1 + Fc1ccc(P(c2ccc(F)cc2)c2ccc(F)cc2)cc1.OB(O)B(O)O → OB(O)c1ccc(C(F)(F)F)cc1\n",
      "   📈 Predicted: 73.85%\n",
      "   🧪 Ground truth: 89.81%\n",
      "   ❗ Error: -15.96%\n",
      "🔎 CCOC(=O)C(C)(C)Oc1ccc(Cl)cc1 + C1CCC([PH+](C2CCCCC2)C2CCCCC2)CC1.F[B-](F)(F)F.OB(O)B(O)O → CCOC(=O)C(C)(C)Oc1ccc(B(O)O)cc1\n",
      "   📈 Predicted: 56.64%\n",
      "   🧪 Ground truth: 5.19%\n",
      "   ❗ Error: +51.45%\n"
     ]
    },
    {
     "name": "stderr",
     "output_type": "stream",
     "text": [
      "[I 2025-08-16 00:39:36,964] Trial 38 finished with value: 65.53190612792969 and parameters: {'reactant': 'COc1cc(Cl)ccc1F', 'reagent': 'CCCCC1([PH+](C2CCCCC2)C2CCCCC2)c2ccccc2-c2ccccc21.F[B-](F)(F)F.OB(O)B(O)O'}. Best is trial 18 with value: 78.02354431152344.\n",
      "[I 2025-08-16 00:39:37,054] Trial 39 finished with value: 57.18404769897461 and parameters: {'reactant': 'Brc1ccsc1', 'reagent': 'CC(=C(c1ccccc1)c1ccccc1)P(C1CCCCC1)C1CCCCC1.OB(O)B(O)O'}. Best is trial 18 with value: 78.02354431152344.\n",
      "[I 2025-08-16 00:39:37,154] Trial 40 finished with value: 65.55087280273438 and parameters: {'reactant': 'CN(C)S(=O)(=O)Oc1ccc2ncccc2c1', 'reagent': 'Fc1ccc(P(c2ccc(F)cc2)c2ccc(F)cc2)cc1.OB(O)B(O)O'}. Best is trial 18 with value: 78.02354431152344.\n"
     ]
    },
    {
     "name": "stdout",
     "output_type": "stream",
     "text": [
      "🔎 COc1cc(Cl)ccc1F + CCCCC1([PH+](C2CCCCC2)C2CCCCC2)c2ccccc2-c2ccccc21.F[B-](F)(F)F.OB(O)B(O)O → COc1cc(B(O)O)ccc1F\n",
      "   📈 Predicted: 65.53%\n",
      "   🧪 Ground truth: 30.47%\n",
      "   ❗ Error: +35.06%\n",
      "🔎 Brc1ccsc1 + CC(=C(c1ccccc1)c1ccccc1)P(C1CCCCC1)C1CCCCC1.OB(O)B(O)O → OB(O)c1ccsc1\n",
      "   📈 Predicted: 57.18%\n",
      "   🧪 Ground truth: 75.11%\n",
      "   ❗ Error: -17.92%\n",
      "🔎 CN(C)S(=O)(=O)Oc1ccc2ncccc2c1 + Fc1ccc(P(c2ccc(F)cc2)c2ccc(F)cc2)cc1.OB(O)B(O)O → OB(O)c1ccc2ncccc2c1\n",
      "   📈 Predicted: 65.55%\n",
      "   🧪 Ground truth: 64.90%\n",
      "   ❗ Error: +0.65%\n"
     ]
    },
    {
     "name": "stderr",
     "output_type": "stream",
     "text": [
      "[I 2025-08-16 00:39:37,263] Trial 41 finished with value: 77.95579528808594 and parameters: {'reactant': 'COc1cc(Cl)ccc1F', 'reagent': 'Fc1ccc(P(c2ccc(F)cc2)c2ccc(F)cc2)cc1.OB(O)B(O)O'}. Best is trial 18 with value: 78.02354431152344.\n",
      "[I 2025-08-16 00:39:37,366] Trial 42 finished with value: 73.6514663696289 and parameters: {'reactant': 'Clc1ccc(-c2ccccc2)cc1', 'reagent': 'Fc1ccc(P(c2ccc(F)cc2)c2ccc(F)cc2)cc1.OB(O)B(O)O'}. Best is trial 18 with value: 78.02354431152344.\n"
     ]
    },
    {
     "name": "stdout",
     "output_type": "stream",
     "text": [
      "🔎 COc1cc(Cl)ccc1F + Fc1ccc(P(c2ccc(F)cc2)c2ccc(F)cc2)cc1.OB(O)B(O)O → COc1cc(B(O)O)ccc1F\n",
      "   📈 Predicted: 77.96%\n",
      "   🧪 Ground truth: 56.21%\n",
      "   ❗ Error: +21.75%\n",
      "🔎 Clc1ccc(-c2ccccc2)cc1 + Fc1ccc(P(c2ccc(F)cc2)c2ccc(F)cc2)cc1.OB(O)B(O)O → OB(O)c1ccc(-c2ccccc2)cc1\n",
      "   📈 Predicted: 73.65%\n",
      "   🧪 Ground truth: 90.37%\n",
      "   ❗ Error: -16.72%\n"
     ]
    },
    {
     "name": "stderr",
     "output_type": "stream",
     "text": [
      "[I 2025-08-16 00:39:37,468] Trial 43 finished with value: 76.9076919555664 and parameters: {'reactant': 'Cc1nc2cc(OS(=O)(=O)N(C)C)ccc2s1', 'reagent': 'CC(C)(C)P(c1ccccc1)C(C)(C)C.OB(O)B(O)O'}. Best is trial 18 with value: 78.02354431152344.\n",
      "[I 2025-08-16 00:39:37,584] Trial 44 finished with value: 73.53451538085938 and parameters: {'reactant': 'Clc1ccc2c(c1)OCO2', 'reagent': 'CC(C)c1cc(C(C)C)c(-c2ccccc2P(c2ccccc2)c2ccccc2)c(C(C)C)c1.OB(O)B(O)O'}. Best is trial 18 with value: 78.02354431152344.\n"
     ]
    },
    {
     "name": "stdout",
     "output_type": "stream",
     "text": [
      "❗ No ground truth for: Cc1nc2cc(OS(=O)(=O)N(C)C)ccc2s1 + CC(C)(C)P(c1ccccc1)C(C)(C)C.OB(O)B(O)O → None\n",
      "🔎 Cc1nc2cc(OS(=O)(=O)N(C)C)ccc2s1 + CC(C)(C)P(c1ccccc1)C(C)(C)C.OB(O)B(O)O → None\n",
      "   📈 Predicted: 76.91%\n",
      "   🧪 Ground truth: 0.00%\n",
      "   ❗ Error: +76.91%\n",
      "🔎 Clc1ccc2c(c1)OCO2 + CC(C)c1cc(C(C)C)c(-c2ccccc2P(c2ccccc2)c2ccccc2)c(C(C)C)c1.OB(O)B(O)O → OB(O)c1ccc2c(c1)OCO2\n",
      "   📈 Predicted: 73.53%\n",
      "   🧪 Ground truth: 13.64%\n",
      "   ❗ Error: +59.89%\n"
     ]
    },
    {
     "name": "stderr",
     "output_type": "stream",
     "text": [
      "[I 2025-08-16 00:39:37,686] Trial 45 finished with value: 77.95579528808594 and parameters: {'reactant': 'COc1cc(Cl)ccc1F', 'reagent': 'Fc1ccc(P(c2ccc(F)cc2)c2ccc(F)cc2)cc1.OB(O)B(O)O'}. Best is trial 18 with value: 78.02354431152344.\n",
      "[I 2025-08-16 00:39:37,798] Trial 46 finished with value: 74.21930694580078 and parameters: {'reactant': 'CN(C)S(=O)(=O)Oc1ccc(-c2ccccc2)cc1', 'reagent': 'c1ccc(-c2cc3ccccc3n2P(C2CCCCC2)C2CCCCC2)cc1.OB(O)B(O)O'}. Best is trial 18 with value: 78.02354431152344.\n"
     ]
    },
    {
     "name": "stdout",
     "output_type": "stream",
     "text": [
      "🔎 COc1cc(Cl)ccc1F + Fc1ccc(P(c2ccc(F)cc2)c2ccc(F)cc2)cc1.OB(O)B(O)O → COc1cc(B(O)O)ccc1F\n",
      "   📈 Predicted: 77.96%\n",
      "   🧪 Ground truth: 56.21%\n",
      "   ❗ Error: +21.75%\n",
      "🔎 CN(C)S(=O)(=O)Oc1ccc(-c2ccccc2)cc1 + c1ccc(-c2cc3ccccc3n2P(C2CCCCC2)C2CCCCC2)cc1.OB(O)B(O)O → OB(O)c1ccc(-c2ccccc2)cc1\n",
      "   📈 Predicted: 74.22%\n",
      "   🧪 Ground truth: 41.89%\n",
      "   ❗ Error: +32.33%\n"
     ]
    },
    {
     "name": "stderr",
     "output_type": "stream",
     "text": [
      "[I 2025-08-16 00:39:37,920] Trial 47 finished with value: 68.4332504272461 and parameters: {'reactant': 'Clc1cnc2ccccc2c1', 'reagent': 'Cc1cc(C)cc(P(c2cc(C)cc(C)c2)c2cc(C)cc(C)c2)c1.OB(O)B(O)O'}. Best is trial 18 with value: 78.02354431152344.\n",
      "[I 2025-08-16 00:39:38,030] Trial 48 finished with value: 73.19617462158203 and parameters: {'reactant': 'CN(C)S(=O)(=O)Oc1ccc2[nH]ccc2c1', 'reagent': 'c1ccc(-n2cccc2P(C2CCCCC2)C2CCCCC2)cc1.OB(O)B(O)O'}. Best is trial 18 with value: 78.02354431152344.\n"
     ]
    },
    {
     "name": "stdout",
     "output_type": "stream",
     "text": [
      "🔎 Clc1cnc2ccccc2c1 + Cc1cc(C)cc(P(c2cc(C)cc(C)c2)c2cc(C)cc(C)c2)c1.OB(O)B(O)O → OB(O)c1cnc2ccccc2c1\n",
      "   📈 Predicted: 68.43%\n",
      "   🧪 Ground truth: 65.99%\n",
      "   ❗ Error: +2.44%\n",
      "🔎 CN(C)S(=O)(=O)Oc1ccc2[nH]ccc2c1 + c1ccc(-n2cccc2P(C2CCCCC2)C2CCCCC2)cc1.OB(O)B(O)O → OB(O)c1ccc2[nH]ccc2c1\n",
      "   📈 Predicted: 73.20%\n",
      "   🧪 Ground truth: 74.99%\n",
      "   ❗ Error: -1.79%\n"
     ]
    },
    {
     "name": "stderr",
     "output_type": "stream",
     "text": [
      "[I 2025-08-16 00:39:38,124] Trial 49 finished with value: 69.04938507080078 and parameters: {'reactant': 'Cc1c(N)cccc1Cl', 'reagent': 'COc1cccc(OC)c1-c1ccccc1P(c1ccccc1)c1ccccc1.OB(O)B(O)O'}. Best is trial 18 with value: 78.02354431152344.\n",
      "[I 2025-08-16 00:39:38,228] Trial 50 finished with value: 78.02354431152344 and parameters: {'reactant': 'COc1cc(Cl)ccc1F', 'reagent': 'c1ccc(P(c2ccccc2)c2ccccc2)cc1.OB(O)B(O)O'}. Best is trial 18 with value: 78.02354431152344.\n",
      "[I 2025-08-16 00:39:38,325] Trial 51 finished with value: 77.95579528808594 and parameters: {'reactant': 'COc1cc(Cl)ccc1F', 'reagent': 'Fc1ccc(P(c2ccc(F)cc2)c2ccc(F)cc2)cc1.OB(O)B(O)O'}. Best is trial 18 with value: 78.02354431152344.\n"
     ]
    },
    {
     "name": "stdout",
     "output_type": "stream",
     "text": [
      "❗ No ground truth for: Cc1c(N)cccc1Cl + COc1cccc(OC)c1-c1ccccc1P(c1ccccc1)c1ccccc1.OB(O)B(O)O → None\n",
      "🔎 Cc1c(N)cccc1Cl + COc1cccc(OC)c1-c1ccccc1P(c1ccccc1)c1ccccc1.OB(O)B(O)O → None\n",
      "   📈 Predicted: 69.05%\n",
      "   🧪 Ground truth: 0.00%\n",
      "   ❗ Error: +69.05%\n",
      "🔎 COc1cc(Cl)ccc1F + c1ccc(P(c2ccccc2)c2ccccc2)cc1.OB(O)B(O)O → COc1cc(B(O)O)ccc1F\n",
      "   📈 Predicted: 78.02%\n",
      "   🧪 Ground truth: 27.36%\n",
      "   ❗ Error: +50.66%\n",
      "🔎 COc1cc(Cl)ccc1F + Fc1ccc(P(c2ccc(F)cc2)c2ccc(F)cc2)cc1.OB(O)B(O)O → COc1cc(B(O)O)ccc1F\n",
      "   📈 Predicted: 77.96%\n",
      "   🧪 Ground truth: 56.21%\n",
      "   ❗ Error: +21.75%\n"
     ]
    },
    {
     "name": "stderr",
     "output_type": "stream",
     "text": [
      "[I 2025-08-16 00:39:38,437] Trial 52 finished with value: 73.75474548339844 and parameters: {'reactant': 'Brc1ccc2c(c1)OCO2', 'reagent': 'c1ccc(P(c2ccccc2)c2ccccc2)cc1.OB(O)B(O)O'}. Best is trial 18 with value: 78.02354431152344.\n",
      "[I 2025-08-16 00:39:38,539] Trial 53 finished with value: 76.3082275390625 and parameters: {'reactant': 'COc1ccc(Br)cc1F', 'reagent': 'c1ccc(P(c2ccccc2)c2ccccc2)cc1.OB(O)B(O)O'}. Best is trial 18 with value: 78.02354431152344.\n",
      "[I 2025-08-16 00:39:38,633] Trial 54 finished with value: 71.75689697265625 and parameters: {'reactant': 'COc1cc(Cl)ccc1F', 'reagent': 'CN(C)c1ccccc1-c1ccccc1P(c1ccccc1)c1ccccc1.OB(O)B(O)O'}. Best is trial 18 with value: 78.02354431152344.\n"
     ]
    },
    {
     "name": "stdout",
     "output_type": "stream",
     "text": [
      "🔎 Brc1ccc2c(c1)OCO2 + c1ccc(P(c2ccccc2)c2ccccc2)cc1.OB(O)B(O)O → OB(O)c1ccc2c(c1)OCO2\n",
      "   📈 Predicted: 73.75%\n",
      "   🧪 Ground truth: 73.24%\n",
      "   ❗ Error: +0.51%\n",
      "🔎 COc1ccc(Br)cc1F + c1ccc(P(c2ccccc2)c2ccccc2)cc1.OB(O)B(O)O → COc1ccc(B(O)O)cc1F\n",
      "   📈 Predicted: 76.31%\n",
      "   🧪 Ground truth: 55.90%\n",
      "   ❗ Error: +20.41%\n",
      "🔎 COc1cc(Cl)ccc1F + CN(C)c1ccccc1-c1ccccc1P(c1ccccc1)c1ccccc1.OB(O)B(O)O → COc1cc(B(O)O)ccc1F\n",
      "   📈 Predicted: 71.76%\n",
      "   🧪 Ground truth: 30.78%\n",
      "   ❗ Error: +40.98%\n"
     ]
    },
    {
     "name": "stderr",
     "output_type": "stream",
     "text": [
      "[I 2025-08-16 00:39:38,746] Trial 55 finished with value: 51.046722412109375 and parameters: {'reactant': 'Cc1ncccc1Br', 'reagent': 'CN(C)c1ccc(P(c2ccccc2)c2ccccc2)cc1.OB(O)B(O)O'}. Best is trial 18 with value: 78.02354431152344.\n",
      "[I 2025-08-16 00:39:38,923] Trial 56 finished with value: 74.96503448486328 and parameters: {'reactant': 'COc1cc(Cl)ccc1F', 'reagent': 'COc1ccc(P(c2ccc(OC)cc2)c2ccc(OC)cc2)cc1.OB(O)B(O)O'}. Best is trial 18 with value: 78.02354431152344.\n"
     ]
    },
    {
     "name": "stdout",
     "output_type": "stream",
     "text": [
      "🔎 Cc1ncccc1Br + CN(C)c1ccc(P(c2ccccc2)c2ccccc2)cc1.OB(O)B(O)O → Cc1ncccc1B(O)O\n",
      "   📈 Predicted: 51.05%\n",
      "   🧪 Ground truth: 92.78%\n",
      "   ❗ Error: -41.73%\n",
      "🔎 COc1cc(Cl)ccc1F + COc1ccc(P(c2ccc(OC)cc2)c2ccc(OC)cc2)cc1.OB(O)B(O)O → COc1cc(B(O)O)ccc1F\n",
      "   📈 Predicted: 74.97%\n",
      "   🧪 Ground truth: 55.52%\n",
      "   ❗ Error: +19.45%\n"
     ]
    },
    {
     "name": "stderr",
     "output_type": "stream",
     "text": [
      "[I 2025-08-16 00:39:39,044] Trial 57 finished with value: 64.30378723144531 and parameters: {'reactant': 'Clc1ccc2[nH]ccc2c1', 'reagent': 'C[PH+](C)C.F[B-](F)(F)F.OB(O)B(O)O'}. Best is trial 18 with value: 78.02354431152344.\n",
      "[I 2025-08-16 00:39:39,147] Trial 58 finished with value: 67.48298645019531 and parameters: {'reactant': 'N#Cc1ccc(Cl)cc1F', 'reagent': 'Cc1ccccc1-c1ccccc1P(C1CCCCC1)C1CCCCC1.OB(O)B(O)O'}. Best is trial 18 with value: 78.02354431152344.\n"
     ]
    },
    {
     "name": "stdout",
     "output_type": "stream",
     "text": [
      "🔎 Clc1ccc2[nH]ccc2c1 + C[PH+](C)C.F[B-](F)(F)F.OB(O)B(O)O → OB(O)c1ccc2[nH]ccc2c1\n",
      "   📈 Predicted: 64.30%\n",
      "   🧪 Ground truth: 4.76%\n",
      "   ❗ Error: +59.54%\n",
      "🔎 N#Cc1ccc(Cl)cc1F + Cc1ccccc1-c1ccccc1P(C1CCCCC1)C1CCCCC1.OB(O)B(O)O → N#Cc1ccc(B(O)O)cc1F\n",
      "   📈 Predicted: 67.48%\n",
      "   🧪 Ground truth: 85.41%\n",
      "   ❗ Error: -17.93%\n"
     ]
    },
    {
     "name": "stderr",
     "output_type": "stream",
     "text": [
      "[I 2025-08-16 00:39:39,258] Trial 59 finished with value: 73.42987060546875 and parameters: {'reactant': 'Cc1cc(F)ccc1Cl', 'reagent': 'c1ccc(-c2nn(-c3ccccc3)c(-c3ccccc3)c2-n2nccc2P(C2CCCCC2)C2CCCCC2)cc1.OB(O)B(O)O'}. Best is trial 18 with value: 78.02354431152344.\n",
      "[I 2025-08-16 00:39:39,357] Trial 60 finished with value: 65.36084747314453 and parameters: {'reactant': 'Brc1ccc2occc2c1', 'reagent': 'c1ccc(P(c2ccccc2)C2CCCCC2)cc1.OB(O)B(O)O'}. Best is trial 18 with value: 78.02354431152344.\n",
      "[I 2025-08-16 00:39:39,453] Trial 61 finished with value: 77.95579528808594 and parameters: {'reactant': 'COc1cc(Cl)ccc1F', 'reagent': 'Fc1ccc(P(c2ccc(F)cc2)c2ccc(F)cc2)cc1.OB(O)B(O)O'}. Best is trial 18 with value: 78.02354431152344.\n"
     ]
    },
    {
     "name": "stdout",
     "output_type": "stream",
     "text": [
      "🔎 Cc1cc(F)ccc1Cl + c1ccc(-c2nn(-c3ccccc3)c(-c3ccccc3)c2-n2nccc2P(C2CCCCC2)C2CCCCC2)cc1.OB(O)B(O)O → Cc1cc(F)ccc1B(O)O\n",
      "   📈 Predicted: 73.43%\n",
      "   🧪 Ground truth: 55.34%\n",
      "   ❗ Error: +18.08%\n",
      "🔎 Brc1ccc2occc2c1 + c1ccc(P(c2ccccc2)C2CCCCC2)cc1.OB(O)B(O)O → OB(O)c1ccc2occc2c1\n",
      "   📈 Predicted: 65.36%\n",
      "   🧪 Ground truth: 36.46%\n",
      "   ❗ Error: +28.90%\n",
      "🔎 COc1cc(Cl)ccc1F + Fc1ccc(P(c2ccc(F)cc2)c2ccc(F)cc2)cc1.OB(O)B(O)O → COc1cc(B(O)O)ccc1F\n",
      "   📈 Predicted: 77.96%\n",
      "   🧪 Ground truth: 56.21%\n",
      "   ❗ Error: +21.75%\n"
     ]
    },
    {
     "name": "stderr",
     "output_type": "stream",
     "text": [
      "[I 2025-08-16 00:39:39,571] Trial 62 finished with value: 71.17869567871094 and parameters: {'reactant': 'COc1cc(Cl)ccc1F', 'reagent': 'COc1cc(C(C)(C)C)cc(C(C)(C)C)c1-c1ccccc1P(C1CCCCC1)C1CCCCC1.OB(O)B(O)O'}. Best is trial 18 with value: 78.02354431152344.\n",
      "[I 2025-08-16 00:39:39,680] Trial 63 finished with value: 69.07535552978516 and parameters: {'reactant': 'COC(=O)c1ccc(Cl)cc1', 'reagent': 'c1ccc(-c2ccccc2P(C2CCCCC2)C2CCCCC2)cc1.OB(O)B(O)O'}. Best is trial 18 with value: 78.02354431152344.\n"
     ]
    },
    {
     "name": "stdout",
     "output_type": "stream",
     "text": [
      "🔎 COc1cc(Cl)ccc1F + COc1cc(C(C)(C)C)cc(C(C)(C)C)c1-c1ccccc1P(C1CCCCC1)C1CCCCC1.OB(O)B(O)O → COc1cc(B(O)O)ccc1F\n",
      "   📈 Predicted: 71.18%\n",
      "   🧪 Ground truth: 64.97%\n",
      "   ❗ Error: +6.21%\n",
      "🔎 COC(=O)c1ccc(Cl)cc1 + c1ccc(-c2ccccc2P(C2CCCCC2)C2CCCCC2)cc1.OB(O)B(O)O → COC(=O)c1ccc(B(O)O)cc1\n",
      "   📈 Predicted: 69.08%\n",
      "   🧪 Ground truth: 57.28%\n",
      "   ❗ Error: +11.80%\n"
     ]
    },
    {
     "name": "stderr",
     "output_type": "stream",
     "text": [
      "[I 2025-08-16 00:39:39,787] Trial 64 finished with value: 77.95579528808594 and parameters: {'reactant': 'COc1cc(Cl)ccc1F', 'reagent': 'Fc1ccc(P(c2ccc(F)cc2)c2ccc(F)cc2)cc1.OB(O)B(O)O'}. Best is trial 18 with value: 78.02354431152344.\n",
      "[I 2025-08-16 00:39:39,901] Trial 65 finished with value: 64.73448181152344 and parameters: {'reactant': 'Brc1ccccc1-c1ccccc1', 'reagent': 'COc1ccccc1C1=C(P(C2CCCCC2)C2CCCCC2)C2c3ccccc3C1c1ccccc12.OB(O)B(O)O'}. Best is trial 18 with value: 78.02354431152344.\n"
     ]
    },
    {
     "name": "stdout",
     "output_type": "stream",
     "text": [
      "🔎 COc1cc(Cl)ccc1F + Fc1ccc(P(c2ccc(F)cc2)c2ccc(F)cc2)cc1.OB(O)B(O)O → COc1cc(B(O)O)ccc1F\n",
      "   📈 Predicted: 77.96%\n",
      "   🧪 Ground truth: 56.21%\n",
      "   ❗ Error: +21.75%\n",
      "🔎 Brc1ccccc1-c1ccccc1 + COc1ccccc1C1=C(P(C2CCCCC2)C2CCCCC2)C2c3ccccc3C1c1ccccc12.OB(O)B(O)O → OB(O)c1ccccc1-c1ccccc1\n",
      "   📈 Predicted: 64.73%\n",
      "   🧪 Ground truth: 46.78%\n",
      "   ❗ Error: +17.95%\n"
     ]
    },
    {
     "name": "stderr",
     "output_type": "stream",
     "text": [
      "[I 2025-08-16 00:39:40,012] Trial 66 finished with value: 70.82689666748047 and parameters: {'reactant': 'COc1ccc(Br)cc1', 'reagent': 'c1ccc(P(c2ccccc2)c2ccccc2)cc1.OB(O)B(O)O'}. Best is trial 18 with value: 78.02354431152344.\n",
      "[I 2025-08-16 00:39:40,157] Trial 67 finished with value: 77.95579528808594 and parameters: {'reactant': 'COc1cc(Cl)ccc1F', 'reagent': 'Fc1ccc(P(c2ccc(F)cc2)c2ccc(F)cc2)cc1.OB(O)B(O)O'}. Best is trial 18 with value: 78.02354431152344.\n"
     ]
    },
    {
     "name": "stdout",
     "output_type": "stream",
     "text": [
      "🔎 COc1ccc(Br)cc1 + c1ccc(P(c2ccccc2)c2ccccc2)cc1.OB(O)B(O)O → COc1ccc(B(O)O)cc1\n",
      "   📈 Predicted: 70.83%\n",
      "   🧪 Ground truth: 79.66%\n",
      "   ❗ Error: -8.84%\n",
      "🔎 COc1cc(Cl)ccc1F + Fc1ccc(P(c2ccc(F)cc2)c2ccc(F)cc2)cc1.OB(O)B(O)O → COc1cc(B(O)O)ccc1F\n",
      "   📈 Predicted: 77.96%\n",
      "   🧪 Ground truth: 56.21%\n",
      "   ❗ Error: +21.75%\n"
     ]
    },
    {
     "name": "stderr",
     "output_type": "stream",
     "text": [
      "[I 2025-08-16 00:39:40,280] Trial 68 finished with value: 74.83367919921875 and parameters: {'reactant': 'N#Cc1ccc(Br)cc1F', 'reagent': 'COc1ccccc1P(c1ccccc1OC)c1ccccc1OC.OB(O)B(O)O'}. Best is trial 18 with value: 78.02354431152344.\n",
      "[I 2025-08-16 00:39:40,396] Trial 69 finished with value: 57.97932815551758 and parameters: {'reactant': 'CN(C)C(=O)c1ccc(Cl)cc1', 'reagent': 'c1ccc(P(C2CCCCC2)C2CCCCC2)c(-n2c3ccccc3c3ccccc32)c1.OB(O)B(O)O'}. Best is trial 18 with value: 78.02354431152344.\n"
     ]
    },
    {
     "name": "stdout",
     "output_type": "stream",
     "text": [
      "🔎 N#Cc1ccc(Br)cc1F + COc1ccccc1P(c1ccccc1OC)c1ccccc1OC.OB(O)B(O)O → N#Cc1ccc(B(O)O)cc1F\n",
      "   📈 Predicted: 74.83%\n",
      "   🧪 Ground truth: 55.22%\n",
      "   ❗ Error: +19.61%\n",
      "🔎 CN(C)C(=O)c1ccc(Cl)cc1 + c1ccc(P(C2CCCCC2)C2CCCCC2)c(-n2c3ccccc3c3ccccc32)c1.OB(O)B(O)O → CN(C)C(=O)c1ccc(B(O)O)cc1\n",
      "   📈 Predicted: 57.98%\n",
      "   🧪 Ground truth: 66.35%\n",
      "   ❗ Error: -8.37%\n"
     ]
    },
    {
     "name": "stderr",
     "output_type": "stream",
     "text": [
      "[I 2025-08-16 00:39:40,501] Trial 70 finished with value: 66.93592071533203 and parameters: {'reactant': 'Brc1cnc2ccccc2c1', 'reagent': 'C1CCC([PH+](C2CCCCC2)C2CCCCC2)CC1.F[B-](F)(F)F.OB(O)B(O)O'}. Best is trial 18 with value: 78.02354431152344.\n",
      "[I 2025-08-16 00:39:40,599] Trial 71 finished with value: 77.95579528808594 and parameters: {'reactant': 'COc1cc(Cl)ccc1F', 'reagent': 'Fc1ccc(P(c2ccc(F)cc2)c2ccc(F)cc2)cc1.OB(O)B(O)O'}. Best is trial 18 with value: 78.02354431152344.\n",
      "[I 2025-08-16 00:39:40,698] Trial 72 finished with value: 77.95579528808594 and parameters: {'reactant': 'COc1cc(Cl)ccc1F', 'reagent': 'Fc1ccc(P(c2ccc(F)cc2)c2ccc(F)cc2)cc1.OB(O)B(O)O'}. Best is trial 18 with value: 78.02354431152344.\n"
     ]
    },
    {
     "name": "stdout",
     "output_type": "stream",
     "text": [
      "🔎 Brc1cnc2ccccc2c1 + C1CCC([PH+](C2CCCCC2)C2CCCCC2)CC1.F[B-](F)(F)F.OB(O)B(O)O → OB(O)c1cnc2ccccc2c1\n",
      "   📈 Predicted: 66.94%\n",
      "   🧪 Ground truth: 19.71%\n",
      "   ❗ Error: +47.23%\n",
      "🔎 COc1cc(Cl)ccc1F + Fc1ccc(P(c2ccc(F)cc2)c2ccc(F)cc2)cc1.OB(O)B(O)O → COc1cc(B(O)O)ccc1F\n",
      "   📈 Predicted: 77.96%\n",
      "   🧪 Ground truth: 56.21%\n",
      "   ❗ Error: +21.75%\n",
      "🔎 COc1cc(Cl)ccc1F + Fc1ccc(P(c2ccc(F)cc2)c2ccc(F)cc2)cc1.OB(O)B(O)O → COc1cc(B(O)O)ccc1F\n",
      "   📈 Predicted: 77.96%\n",
      "   🧪 Ground truth: 56.21%\n",
      "   ❗ Error: +21.75%\n"
     ]
    },
    {
     "name": "stderr",
     "output_type": "stream",
     "text": [
      "[I 2025-08-16 00:39:40,829] Trial 73 finished with value: 72.12860870361328 and parameters: {'reactant': 'CCOC(=O)c1cc(Br)cn1CC', 'reagent': 'CCCCC1([PH+](C2CCCCC2)C2CCCCC2)c2ccccc2-c2ccccc21.F[B-](F)(F)F.OB(O)B(O)O'}. Best is trial 18 with value: 78.02354431152344.\n",
      "[I 2025-08-16 00:39:40,933] Trial 74 finished with value: 77.95579528808594 and parameters: {'reactant': 'COc1cc(Cl)ccc1F', 'reagent': 'Fc1ccc(P(c2ccc(F)cc2)c2ccc(F)cc2)cc1.OB(O)B(O)O'}. Best is trial 18 with value: 78.02354431152344.\n"
     ]
    },
    {
     "name": "stdout",
     "output_type": "stream",
     "text": [
      "🔎 CCOC(=O)c1cc(Br)cn1CC + CCCCC1([PH+](C2CCCCC2)C2CCCCC2)c2ccccc2-c2ccccc21.F[B-](F)(F)F.OB(O)B(O)O → CCOC(=O)c1cc(B(O)O)cn1CC\n",
      "   📈 Predicted: 72.13%\n",
      "   🧪 Ground truth: 19.85%\n",
      "   ❗ Error: +52.27%\n",
      "🔎 COc1cc(Cl)ccc1F + Fc1ccc(P(c2ccc(F)cc2)c2ccc(F)cc2)cc1.OB(O)B(O)O → COc1cc(B(O)O)ccc1F\n",
      "   📈 Predicted: 77.96%\n",
      "   🧪 Ground truth: 56.21%\n",
      "   ❗ Error: +21.75%\n"
     ]
    },
    {
     "name": "stderr",
     "output_type": "stream",
     "text": [
      "[I 2025-08-16 00:39:41,032] Trial 75 finished with value: 60.321205139160156 and parameters: {'reactant': 'COC(=O)c1ccc(Br)cc1', 'reagent': 'CC(=C(c1ccccc1)c1ccccc1)P(C1CCCCC1)C1CCCCC1.OB(O)B(O)O'}. Best is trial 18 with value: 78.02354431152344.\n",
      "[I 2025-08-16 00:39:41,160] Trial 76 finished with value: 63.617889404296875 and parameters: {'reactant': 'CCOC(=O)c1ccc(Cl)c(F)c1', 'reagent': 'CC(C)c1cc(C(C)C)c(-c2ccccc2P(c2ccccc2)c2ccccc2)c(C(C)C)c1.OB(O)B(O)O'}. Best is trial 18 with value: 78.02354431152344.\n"
     ]
    },
    {
     "name": "stdout",
     "output_type": "stream",
     "text": [
      "🔎 COC(=O)c1ccc(Br)cc1 + CC(=C(c1ccccc1)c1ccccc1)P(C1CCCCC1)C1CCCCC1.OB(O)B(O)O → COC(=O)c1ccc(B(O)O)cc1\n",
      "   📈 Predicted: 60.32%\n",
      "   🧪 Ground truth: 54.97%\n",
      "   ❗ Error: +5.35%\n",
      "🔎 CCOC(=O)c1ccc(Cl)c(F)c1 + CC(C)c1cc(C(C)C)c(-c2ccccc2P(c2ccccc2)c2ccccc2)c(C(C)C)c1.OB(O)B(O)O → CCOC(=O)c1ccc(B(O)O)c(F)c1\n",
      "   📈 Predicted: 63.62%\n",
      "   🧪 Ground truth: 39.20%\n",
      "   ❗ Error: +24.42%\n"
     ]
    },
    {
     "name": "stderr",
     "output_type": "stream",
     "text": [
      "[I 2025-08-16 00:39:41,260] Trial 77 finished with value: 68.204345703125 and parameters: {'reactant': 'Cc1cccc(C)c1Cl', 'reagent': 'CC(C)(C)P(c1ccccc1)C(C)(C)C.OB(O)B(O)O'}. Best is trial 18 with value: 78.02354431152344.\n",
      "[I 2025-08-16 00:39:41,415] Trial 78 finished with value: 72.10460662841797 and parameters: {'reactant': 'COc1ncc(Br)c(OC)n1', 'reagent': 'c1ccc(P(c2ccccc2)c2ccccc2)cc1.OB(O)B(O)O'}. Best is trial 18 with value: 78.02354431152344.\n"
     ]
    },
    {
     "name": "stdout",
     "output_type": "stream",
     "text": [
      "❗ No ground truth for: Cc1cccc(C)c1Cl + CC(C)(C)P(c1ccccc1)C(C)(C)C.OB(O)B(O)O → None\n",
      "🔎 Cc1cccc(C)c1Cl + CC(C)(C)P(c1ccccc1)C(C)(C)C.OB(O)B(O)O → None\n",
      "   📈 Predicted: 68.20%\n",
      "   🧪 Ground truth: 0.00%\n",
      "   ❗ Error: +68.20%\n",
      "🔎 COc1ncc(Br)c(OC)n1 + c1ccc(P(c2ccccc2)c2ccccc2)cc1.OB(O)B(O)O → COc1ncc(B(O)O)c(OC)n1\n",
      "   📈 Predicted: 72.10%\n",
      "   🧪 Ground truth: 4.21%\n",
      "   ❗ Error: +67.89%\n"
     ]
    },
    {
     "name": "stderr",
     "output_type": "stream",
     "text": [
      "[I 2025-08-16 00:39:41,557] Trial 79 finished with value: 73.21011352539062 and parameters: {'reactant': 'FC(F)(F)c1ccc(Cl)cc1', 'reagent': 'Fc1ccc(P(c2ccc(F)cc2)c2ccc(F)cc2)cc1.OB(O)B(O)O'}. Best is trial 18 with value: 78.02354431152344.\n",
      "[I 2025-08-16 00:39:41,709] Trial 80 finished with value: 73.84654998779297 and parameters: {'reactant': 'FC(F)(F)c1ccc(Br)cc1', 'reagent': 'Fc1ccc(P(c2ccc(F)cc2)c2ccc(F)cc2)cc1.OB(O)B(O)O'}. Best is trial 18 with value: 78.02354431152344.\n"
     ]
    },
    {
     "name": "stdout",
     "output_type": "stream",
     "text": [
      "🔎 FC(F)(F)c1ccc(Cl)cc1 + Fc1ccc(P(c2ccc(F)cc2)c2ccc(F)cc2)cc1.OB(O)B(O)O → OB(O)c1ccc(C(F)(F)F)cc1\n",
      "   📈 Predicted: 73.21%\n",
      "   🧪 Ground truth: 71.85%\n",
      "   ❗ Error: +1.36%\n",
      "🔎 FC(F)(F)c1ccc(Br)cc1 + Fc1ccc(P(c2ccc(F)cc2)c2ccc(F)cc2)cc1.OB(O)B(O)O → OB(O)c1ccc(C(F)(F)F)cc1\n",
      "   📈 Predicted: 73.85%\n",
      "   🧪 Ground truth: 89.81%\n",
      "   ❗ Error: -15.96%\n"
     ]
    },
    {
     "name": "stderr",
     "output_type": "stream",
     "text": [
      "[I 2025-08-16 00:39:41,847] Trial 81 finished with value: 77.95579528808594 and parameters: {'reactant': 'COc1cc(Cl)ccc1F', 'reagent': 'Fc1ccc(P(c2ccc(F)cc2)c2ccc(F)cc2)cc1.OB(O)B(O)O'}. Best is trial 18 with value: 78.02354431152344.\n",
      "[I 2025-08-16 00:39:41,952] Trial 82 finished with value: 74.65818786621094 and parameters: {'reactant': 'COc1cc(Cl)ccc1F', 'reagent': 'c1ccc(-c2cc3ccccc3n2P(C2CCCCC2)C2CCCCC2)cc1.OB(O)B(O)O'}. Best is trial 18 with value: 78.02354431152344.\n"
     ]
    },
    {
     "name": "stdout",
     "output_type": "stream",
     "text": [
      "🔎 COc1cc(Cl)ccc1F + Fc1ccc(P(c2ccc(F)cc2)c2ccc(F)cc2)cc1.OB(O)B(O)O → COc1cc(B(O)O)ccc1F\n",
      "   📈 Predicted: 77.96%\n",
      "   🧪 Ground truth: 56.21%\n",
      "   ❗ Error: +21.75%\n",
      "🔎 COc1cc(Cl)ccc1F + c1ccc(-c2cc3ccccc3n2P(C2CCCCC2)C2CCCCC2)cc1.OB(O)B(O)O → COc1cc(B(O)O)ccc1F\n",
      "   📈 Predicted: 74.66%\n",
      "   🧪 Ground truth: 35.26%\n",
      "   ❗ Error: +39.40%\n"
     ]
    },
    {
     "name": "stderr",
     "output_type": "stream",
     "text": [
      "[I 2025-08-16 00:39:42,057] Trial 83 finished with value: 77.52999877929688 and parameters: {'reactant': 'COc1ccc(Cl)cc1F', 'reagent': 'Fc1ccc(P(c2ccc(F)cc2)c2ccc(F)cc2)cc1.OB(O)B(O)O'}. Best is trial 18 with value: 78.02354431152344.\n",
      "[I 2025-08-16 00:39:42,166] Trial 84 finished with value: 72.3396987915039 and parameters: {'reactant': 'COc1cc(Cl)ccc1F', 'reagent': 'Cc1cc(C)cc(P(c2cc(C)cc(C)c2)c2cc(C)cc(C)c2)c1.OB(O)B(O)O'}. Best is trial 18 with value: 78.02354431152344.\n"
     ]
    },
    {
     "name": "stdout",
     "output_type": "stream",
     "text": [
      "🔎 COc1ccc(Cl)cc1F + Fc1ccc(P(c2ccc(F)cc2)c2ccc(F)cc2)cc1.OB(O)B(O)O → COc1ccc(B(O)O)cc1F\n",
      "   📈 Predicted: 77.53%\n",
      "   🧪 Ground truth: 38.34%\n",
      "   ❗ Error: +39.19%\n",
      "🔎 COc1cc(Cl)ccc1F + Cc1cc(C)cc(P(c2cc(C)cc(C)c2)c2cc(C)cc(C)c2)c1.OB(O)B(O)O → COc1cc(B(O)O)ccc1F\n",
      "   📈 Predicted: 72.34%\n",
      "   🧪 Ground truth: 8.89%\n",
      "   ❗ Error: +63.45%\n"
     ]
    },
    {
     "name": "stderr",
     "output_type": "stream",
     "text": [
      "[I 2025-08-16 00:39:42,292] Trial 85 finished with value: 63.727264404296875 and parameters: {'reactant': 'CCOC(=O)C(C)(C)Oc1ccc(Cl)cc1', 'reagent': 'c1ccc(-n2cccc2P(C2CCCCC2)C2CCCCC2)cc1.OB(O)B(O)O'}. Best is trial 18 with value: 78.02354431152344.\n",
      "[I 2025-08-16 00:39:42,385] Trial 86 finished with value: 71.70125579833984 and parameters: {'reactant': 'Brc1ccsc1', 'reagent': 'COc1cccc(OC)c1-c1ccccc1P(c1ccccc1)c1ccccc1.OB(O)B(O)O'}. Best is trial 18 with value: 78.02354431152344.\n",
      "[I 2025-08-16 00:39:42,484] Trial 87 finished with value: 65.55087280273438 and parameters: {'reactant': 'CN(C)S(=O)(=O)Oc1ccc2ncccc2c1', 'reagent': 'Fc1ccc(P(c2ccc(F)cc2)c2ccc(F)cc2)cc1.OB(O)B(O)O'}. Best is trial 18 with value: 78.02354431152344.\n"
     ]
    },
    {
     "name": "stdout",
     "output_type": "stream",
     "text": [
      "🔎 CCOC(=O)C(C)(C)Oc1ccc(Cl)cc1 + c1ccc(-n2cccc2P(C2CCCCC2)C2CCCCC2)cc1.OB(O)B(O)O → CCOC(=O)C(C)(C)Oc1ccc(B(O)O)cc1\n",
      "   📈 Predicted: 63.73%\n",
      "   🧪 Ground truth: 69.88%\n",
      "   ❗ Error: -6.15%\n",
      "🔎 Brc1ccsc1 + COc1cccc(OC)c1-c1ccccc1P(c1ccccc1)c1ccccc1.OB(O)B(O)O → OB(O)c1ccsc1\n",
      "   📈 Predicted: 71.70%\n",
      "   🧪 Ground truth: 42.58%\n",
      "   ❗ Error: +29.12%\n",
      "🔎 CN(C)S(=O)(=O)Oc1ccc2ncccc2c1 + Fc1ccc(P(c2ccc(F)cc2)c2ccc(F)cc2)cc1.OB(O)B(O)O → OB(O)c1ccc2ncccc2c1\n",
      "   📈 Predicted: 65.55%\n",
      "   🧪 Ground truth: 64.90%\n",
      "   ❗ Error: +0.65%\n"
     ]
    },
    {
     "name": "stderr",
     "output_type": "stream",
     "text": [
      "[I 2025-08-16 00:39:42,585] Trial 88 finished with value: 72.08805847167969 and parameters: {'reactant': 'Clc1ccc(-c2ccccc2)cc1', 'reagent': 'CN(C)c1ccc(P(c2ccccc2)c2ccccc2)cc1.OB(O)B(O)O'}. Best is trial 18 with value: 78.02354431152344.\n",
      "[I 2025-08-16 00:39:42,690] Trial 89 finished with value: 73.2723388671875 and parameters: {'reactant': 'Brc1ccc(-c2ccccc2)cc1', 'reagent': 'c1ccc(P(c2ccccc2)c2ccccc2)cc1.OB(O)B(O)O'}. Best is trial 18 with value: 78.02354431152344.\n"
     ]
    },
    {
     "name": "stdout",
     "output_type": "stream",
     "text": [
      "🔎 Clc1ccc(-c2ccccc2)cc1 + CN(C)c1ccc(P(c2ccccc2)c2ccccc2)cc1.OB(O)B(O)O → OB(O)c1ccc(-c2ccccc2)cc1\n",
      "   📈 Predicted: 72.09%\n",
      "   🧪 Ground truth: 93.22%\n",
      "   ❗ Error: -21.14%\n",
      "🔎 Brc1ccc(-c2ccccc2)cc1 + c1ccc(P(c2ccccc2)c2ccccc2)cc1.OB(O)B(O)O → OB(O)c1ccc(-c2ccccc2)cc1\n",
      "   📈 Predicted: 73.27%\n",
      "   🧪 Ground truth: 96.01%\n",
      "   ❗ Error: -22.74%\n"
     ]
    },
    {
     "name": "stderr",
     "output_type": "stream",
     "text": [
      "[I 2025-08-16 00:39:42,794] Trial 90 finished with value: 72.40350341796875 and parameters: {'reactant': 'Cc1nc2cc(OS(=O)(=O)N(C)C)ccc2s1', 'reagent': 'C[PH+](C)C.F[B-](F)(F)F.OB(O)B(O)O'}. Best is trial 18 with value: 78.02354431152344.\n",
      "[I 2025-08-16 00:39:42,901] Trial 91 finished with value: 77.95579528808594 and parameters: {'reactant': 'COc1cc(Cl)ccc1F', 'reagent': 'Fc1ccc(P(c2ccc(F)cc2)c2ccc(F)cc2)cc1.OB(O)B(O)O'}. Best is trial 18 with value: 78.02354431152344.\n"
     ]
    },
    {
     "name": "stdout",
     "output_type": "stream",
     "text": [
      "❗ No ground truth for: Cc1nc2cc(OS(=O)(=O)N(C)C)ccc2s1 + C[PH+](C)C.F[B-](F)(F)F.OB(O)B(O)O → None\n",
      "🔎 Cc1nc2cc(OS(=O)(=O)N(C)C)ccc2s1 + C[PH+](C)C.F[B-](F)(F)F.OB(O)B(O)O → None\n",
      "   📈 Predicted: 72.40%\n",
      "   🧪 Ground truth: 0.00%\n",
      "   ❗ Error: +72.40%\n",
      "🔎 COc1cc(Cl)ccc1F + Fc1ccc(P(c2ccc(F)cc2)c2ccc(F)cc2)cc1.OB(O)B(O)O → COc1cc(B(O)O)ccc1F\n",
      "   📈 Predicted: 77.96%\n",
      "   🧪 Ground truth: 56.21%\n",
      "   ❗ Error: +21.75%\n"
     ]
    },
    {
     "name": "stderr",
     "output_type": "stream",
     "text": [
      "[I 2025-08-16 00:39:43,017] Trial 92 finished with value: 77.95579528808594 and parameters: {'reactant': 'COc1cc(Cl)ccc1F', 'reagent': 'Fc1ccc(P(c2ccc(F)cc2)c2ccc(F)cc2)cc1.OB(O)B(O)O'}. Best is trial 18 with value: 78.02354431152344.\n",
      "[I 2025-08-16 00:39:43,123] Trial 93 finished with value: 74.63687133789062 and parameters: {'reactant': 'Clc1ccc2c(c1)OCO2', 'reagent': 'Fc1ccc(P(c2ccc(F)cc2)c2ccc(F)cc2)cc1.OB(O)B(O)O'}. Best is trial 18 with value: 78.02354431152344.\n"
     ]
    },
    {
     "name": "stdout",
     "output_type": "stream",
     "text": [
      "🔎 COc1cc(Cl)ccc1F + Fc1ccc(P(c2ccc(F)cc2)c2ccc(F)cc2)cc1.OB(O)B(O)O → COc1cc(B(O)O)ccc1F\n",
      "   📈 Predicted: 77.96%\n",
      "   🧪 Ground truth: 56.21%\n",
      "   ❗ Error: +21.75%\n",
      "🔎 Clc1ccc2c(c1)OCO2 + Fc1ccc(P(c2ccc(F)cc2)c2ccc(F)cc2)cc1.OB(O)B(O)O → OB(O)c1ccc2c(c1)OCO2\n",
      "   📈 Predicted: 74.64%\n",
      "   🧪 Ground truth: 48.63%\n",
      "   ❗ Error: +26.01%\n"
     ]
    },
    {
     "name": "stderr",
     "output_type": "stream",
     "text": [
      "[I 2025-08-16 00:39:43,220] Trial 94 finished with value: 66.87107849121094 and parameters: {'reactant': 'Clc1cnc2ccccc2c1', 'reagent': 'CN(C)c1ccccc1-c1ccccc1P(c1ccccc1)c1ccccc1.OB(O)B(O)O'}. Best is trial 18 with value: 78.02354431152344.\n",
      "[I 2025-08-16 00:39:43,328] Trial 95 finished with value: 76.27046966552734 and parameters: {'reactant': 'CN(C)S(=O)(=O)Oc1ccc(-c2ccccc2)cc1', 'reagent': 'COc1ccc(P(c2ccc(OC)cc2)c2ccc(OC)cc2)cc1.OB(O)B(O)O'}. Best is trial 18 with value: 78.02354431152344.\n"
     ]
    },
    {
     "name": "stdout",
     "output_type": "stream",
     "text": [
      "🔎 Clc1cnc2ccccc2c1 + CN(C)c1ccccc1-c1ccccc1P(c1ccccc1)c1ccccc1.OB(O)B(O)O → OB(O)c1cnc2ccccc2c1\n",
      "   📈 Predicted: 66.87%\n",
      "   🧪 Ground truth: 29.66%\n",
      "   ❗ Error: +37.21%\n",
      "🔎 CN(C)S(=O)(=O)Oc1ccc(-c2ccccc2)cc1 + COc1ccc(P(c2ccc(OC)cc2)c2ccc(OC)cc2)cc1.OB(O)B(O)O → OB(O)c1ccc(-c2ccccc2)cc1\n",
      "   📈 Predicted: 76.27%\n",
      "   🧪 Ground truth: 68.80%\n",
      "   ❗ Error: +7.47%\n"
     ]
    },
    {
     "name": "stderr",
     "output_type": "stream",
     "text": [
      "[I 2025-08-16 00:39:43,427] Trial 96 finished with value: 63.46672058105469 and parameters: {'reactant': 'COc1cc(Cl)ccc1F', 'reagent': 'Cc1ccccc1-c1ccccc1P(C1CCCCC1)C1CCCCC1.OB(O)B(O)O'}. Best is trial 18 with value: 78.02354431152344.\n",
      "[I 2025-08-16 00:39:43,599] Trial 97 finished with value: 71.07037353515625 and parameters: {'reactant': 'Cc1c(N)cccc1Cl', 'reagent': 'c1ccc(-c2nn(-c3ccccc3)c(-c3ccccc3)c2-n2nccc2P(C2CCCCC2)C2CCCCC2)cc1.OB(O)B(O)O'}. Best is trial 18 with value: 78.02354431152344.\n"
     ]
    },
    {
     "name": "stdout",
     "output_type": "stream",
     "text": [
      "🔎 COc1cc(Cl)ccc1F + Cc1ccccc1-c1ccccc1P(C1CCCCC1)C1CCCCC1.OB(O)B(O)O → COc1cc(B(O)O)ccc1F\n",
      "   📈 Predicted: 63.47%\n",
      "   🧪 Ground truth: 62.87%\n",
      "   ❗ Error: +0.60%\n",
      "❗ No ground truth for: Cc1c(N)cccc1Cl + c1ccc(-c2nn(-c3ccccc3)c(-c3ccccc3)c2-n2nccc2P(C2CCCCC2)C2CCCCC2)cc1.OB(O)B(O)O → None\n",
      "🔎 Cc1c(N)cccc1Cl + c1ccc(-c2nn(-c3ccccc3)c(-c3ccccc3)c2-n2nccc2P(C2CCCCC2)C2CCCCC2)cc1.OB(O)B(O)O → None\n",
      "   📈 Predicted: 71.07%\n",
      "   🧪 Ground truth: 0.00%\n",
      "   ❗ Error: +71.07%\n"
     ]
    },
    {
     "name": "stderr",
     "output_type": "stream",
     "text": [
      "[I 2025-08-16 00:39:43,722] Trial 98 finished with value: 74.84309387207031 and parameters: {'reactant': 'COc1cc(Cl)ccc1F', 'reagent': 'c1ccc(P(c2ccccc2)C2CCCCC2)cc1.OB(O)B(O)O'}. Best is trial 18 with value: 78.02354431152344.\n",
      "[I 2025-08-16 00:39:43,874] Trial 99 finished with value: 66.00274658203125 and parameters: {'reactant': 'CN(C)S(=O)(=O)Oc1ccc2[nH]ccc2c1', 'reagent': 'COc1cc(C(C)(C)C)cc(C(C)(C)C)c1-c1ccccc1P(C1CCCCC1)C1CCCCC1.OB(O)B(O)O'}. Best is trial 18 with value: 78.02354431152344.\n"
     ]
    },
    {
     "name": "stdout",
     "output_type": "stream",
     "text": [
      "🔎 COc1cc(Cl)ccc1F + c1ccc(P(c2ccccc2)C2CCCCC2)cc1.OB(O)B(O)O → COc1cc(B(O)O)ccc1F\n",
      "   📈 Predicted: 74.84%\n",
      "   🧪 Ground truth: 49.17%\n",
      "   ❗ Error: +25.67%\n",
      "🔎 CN(C)S(=O)(=O)Oc1ccc2[nH]ccc2c1 + COc1cc(C(C)(C)C)cc(C(C)(C)C)c1-c1ccccc1P(C1CCCCC1)C1CCCCC1.OB(O)B(O)O → OB(O)c1ccc2[nH]ccc2c1\n",
      "   📈 Predicted: 66.00%\n",
      "   🧪 Ground truth: 5.66%\n",
      "   ❗ Error: +60.34%\n"
     ]
    }
   ],
   "source": [
    "study = optuna.create_study(direction=\"maximize\")\n",
    "study.optimize(objective, n_trials=100)"
   ]
  },
  {
   "cell_type": "markdown",
   "id": "81945985",
   "metadata": {},
   "source": [
    "## Optunaによる探索・ファインチューニングのループ"
   ]
  },
  {
   "cell_type": "code",
   "execution_count": 19,
   "id": "491d5cc6",
   "metadata": {},
   "outputs": [],
   "source": [
    "import os\n",
    "import csv\n",
    "import math\n",
    "import time\n",
    "import random\n",
    "from dataclasses import dataclass\n",
    "\n",
    "import torch.nn.functional as F\n",
    "from transformers import Trainer,TrainingArguments,DataCollatorWithPadding\n",
    "from optuna.samplers import TPESampler"
   ]
  },
  {
   "cell_type": "code",
   "execution_count": 20,
   "id": "6361cf44",
   "metadata": {},
   "outputs": [],
   "source": [
    "class CollatorForYield:\n",
    "    def __init__(self, tokenizer):\n",
    "        self.pad = DataCollatorWithPadding(tokenizer)\n",
    "    def __call__(self, features):\n",
    "        has_labels = \"labels\" in features[0]\n",
    "        if has_labels:\n",
    "            labels = torch.tensor([float(f[\"labels\"]) for f in features], dtype=torch.float)\n",
    "        token_feats = [{k: v for k, v in f.items() if k in (\"input_ids\", \"attention_mask\")} for f in features]\n",
    "        batch = self.pad(token_feats)\n",
    "        if has_labels:\n",
    "            batch[\"labels\"] = labels\n",
    "        return batch"
   ]
  },
  {
   "cell_type": "code",
   "execution_count": 21,
   "id": "c6d58894",
   "metadata": {},
   "outputs": [],
   "source": [
    "class YieldTrainer(Trainer):\n",
    "    def compute_loss(self, model, inputs, return_outputs=False, **kwargs):\n",
    "        labels = inputs.pop(\"labels\", None)\n",
    "        preds = model(inputs).squeeze(-1)\n",
    "        if labels is None:\n",
    "            loss = preds.new_zeros(())\n",
    "        else:\n",
    "            loss = F.mse_loss(preds, labels)\n",
    "        return (loss, preds) if return_outputs else loss"
   ]
  },
  {
   "cell_type": "code",
   "execution_count": 22,
   "id": "660c107b",
   "metadata": {},
   "outputs": [],
   "source": [
    "class YieldDataset(torch.utils.data.Dataset):\n",
    "    def __init__(self, texts, y, tokenizer, max_length=512):\n",
    "        self.enc = tokenizer(texts, truncation=True, padding=False, max_length=max_length)\n",
    "        self.y = y\n",
    "    def __len__(self): return len(self.y)\n",
    "    def __getitem__(self, i):\n",
    "        return {\n",
    "            \"input_ids\": torch.tensor(self.enc[\"input_ids\"][i], dtype=torch.long),\n",
    "            \"attention_mask\": torch.tensor(self.enc[\"attention_mask\"][i], dtype=torch.long),\n",
    "            \"labels\": torch.tensor(self.y[i], dtype=torch.float),  # [%]\n",
    "        }\n"
   ]
  },
  {
   "cell_type": "code",
   "execution_count": 23,
   "id": "08817036",
   "metadata": {},
   "outputs": [],
   "source": [
    "@dataclass\n",
    "class LoopConfig:\n",
    "    n_rounds: int = 5\n",
    "    trials_per_round: int = 100\n",
    "    study_seed: int = 42\n",
    "    learning_rate: float = 5e-4\n",
    "    epochs_per_round: int = 5\n",
    "    weight_decay: float = 0.01\n",
    "    max_length: int = 512\n",
    "    batch_size_train: int = 16\n",
    "    batch_size_eval: int = 32\n",
    "    val_ratio: float = 0.2\n",
    "    output_dir: str = \"runs/iter_yield\"\n",
    "    log_csv_name: str = \"bo_log.csv\""
   ]
  },
  {
   "cell_type": "code",
   "execution_count": 31,
   "id": "1531491a",
   "metadata": {},
   "outputs": [],
   "source": [
    "def iterative_optuna_finetune(\n",
    "    *,\n",
    "    predict_yield_fn,\n",
    "    true_yield_dict,\n",
    "    tokenizer,\n",
    "    model,\n",
    "    cfg: LoopConfig = LoopConfig(),\n",
    "):\n",
    "    os.makedirs(cfg.output_dir, exist_ok=True)\n",
    "    log_csv_path = os.path.join(cfg.output_dir, cfg.log_csv_name)\n",
    "\n",
    "    # CSVヘッダ（存在しなければ作成）\n",
    "    if not os.path.exists(log_csv_path):\n",
    "        with open(log_csv_path, \"w\", newline=\"\", encoding=\"utf-8\") as f:\n",
    "            writer = csv.writer(f)\n",
    "            writer.writerow([\n",
    "                \"ts\", \"round\", \"trial_index\", \"reactant\", \"reagent\", \"product\",\n",
    "                \"pred_yield_pct\", \"true_yield_pct\", \"error_pct\",\n",
    "                \"was_used_for_ft\", \"study_best_pred\", \"study_best_true\"\n",
    "            ])\n",
    "\n",
    "    # 進捗\n",
    "    cumulative_true_texts = []\n",
    "    cumulative_true_labels = []\n",
    "\n",
    "    train_device = torch.device(\"cuda\" if torch.cuda.is_available() else \"cpu\")\n",
    "\n",
    "    for r in range(1, cfg.n_rounds + 1):\n",
    "        print(f\"\\n==== Round {r}/{cfg.n_rounds} ====\")\n",
    "\n",
    "        model.to(\"cpu\")\n",
    "        try:\n",
    "            torch.cuda.empty_cache()\n",
    "        except Exception:\n",
    "            pass\n",
    "\n",
    "        round_records = []\n",
    "\n",
    "        # ---- Optuna Study ----\n",
    "        storage_path = os.path.join(cfg.output_dir, f\"round_{r}.db\")\n",
    "        study = optuna.create_study(\n",
    "            direction=\"maximize\",\n",
    "            sampler=TPESampler(seed=cfg.study_seed + r),\n",
    "            storage=f\"sqlite:///{storage_path}\",\n",
    "            study_name=f\"yield_round_{r}\",\n",
    "            load_if_exists=True,\n",
    "        )\n",
    "\n",
    "        def objective(trial: optuna.Trial) -> float:\n",
    "            # カテゴリ探索\n",
    "            reactant = trial.suggest_categorical(\"reactant\", reactant_list)\n",
    "            reagent = trial.suggest_categorical(\"reagent\", reagent_list)\n",
    "            product = product_dict.get((reactant, reagent))\n",
    "\n",
    "            input_str = f\"REACTANT:{reactant}REAGENT:{reagent}PRODUCT:{product}\"\n",
    "\n",
    "            # 予測\n",
    "            try:\n",
    "                pred_y = float(predict_yield_fn(input_str))  # [%]\n",
    "            except Exception as e:\n",
    "                print(f\"❌ prediction error: {e}\")\n",
    "                pred_y = 0.0\n",
    "\n",
    "            # クリッピング（安全策）\n",
    "            if not math.isfinite(pred_y):\n",
    "                pred_y = 0.0\n",
    "            pred_y = max(0.0, min(100.0, pred_y))\n",
    "\n",
    "            # 真値の取得\n",
    "            key = (reactant, reagent, product)\n",
    "            if key not in true_yield_dict:\n",
    "                true = 0.0\n",
    "            else:\n",
    "                true = true_yield_dict.get(key)\n",
    "            \n",
    "            if true is None:\n",
    "                true_pct = 0.0\n",
    "                error_pct = pred_y - true_pct\n",
    "                trial.set_user_attr(\"imputed_true_zero\", True)\n",
    "            else:\n",
    "                true_pct = float(true) * 100.0\n",
    "                error_pct = pred_y - true_pct\n",
    "                trial.set_user_attr(\"imputed_true_zero\", False)\n",
    "\n",
    "            # エラー\n",
    "            error_pct = None if true_pct is None else (pred_y - true_pct)\n",
    "\n",
    "            # Optuna user attrs にも残す\n",
    "            trial.set_user_attr(\"reactant\", reactant)\n",
    "            trial.set_user_attr(\"reagent\", reagent)\n",
    "            trial.set_user_attr(\"product\", product)\n",
    "            trial.set_user_attr(\"pred_yield_pct\", pred_y)\n",
    "            trial.set_user_attr(\"true_yield_pct\", true_pct)\n",
    "            trial.set_user_attr(\"error_pct\", error_pct)\n",
    "\n",
    "            # 一旦メモリにも保存（後でCSV出力）\n",
    "            round_records.append({\n",
    "                \"reactant\": reactant,\n",
    "                \"reagent\": reagent,\n",
    "                \"product\": product,\n",
    "                \"pred_yield_pct\": pred_y,\n",
    "                \"true_yield_pct\": true_pct,\n",
    "                \"error_pct\": error_pct,\n",
    "            })\n",
    "\n",
    "            # 目的関数は「予測収率の最大化」\n",
    "            return pred_y\n",
    "\n",
    "        study.optimize(objective, n_trials=cfg.trials_per_round, n_jobs=1)\n",
    "\n",
    "        model.to(train_device)\n",
    "        \n",
    "        # ---- ラウンドの結果をCSVへ出力 ----\n",
    "        best_pred = float(study.best_value) if study.best_value is not None else None\n",
    "        # best の真値\n",
    "        best_trial = study.best_trial if study.best_trial else None\n",
    "        best_true = None\n",
    "        if best_trial:\n",
    "            bt_true = best_trial.user_attrs.get(\"true_yield_pct\", None)\n",
    "            best_true = None if bt_true is None else float(bt_true)\n",
    "\n",
    "        with open(log_csv_path, \"a\", newline=\"\", encoding=\"utf-8\") as f:\n",
    "            writer = csv.writer(f)\n",
    "            for idx, rec in enumerate(round_records, start=1):\n",
    "                writer.writerow([\n",
    "                    int(time.time()),\n",
    "                    r,\n",
    "                    idx,\n",
    "                    rec[\"reactant\"],\n",
    "                    rec[\"reagent\"],\n",
    "                    rec[\"product\"],\n",
    "                    f'{rec[\"pred_yield_pct\"]:.6f}',\n",
    "                    \"\" if rec[\"true_yield_pct\"] is None else f'{rec[\"true_yield_pct\"]:.6f}',\n",
    "                    \"\" if rec[\"error_pct\"] is None else f'{rec[\"error_pct\"]:+.6f}',\n",
    "                    \"\",  # was_used_for_ft はFT後に上書き\n",
    "                    \"\" if best_pred is None else f\"{best_pred:.6f}\",\n",
    "                    \"\" if best_true is None else f\"{best_true:.6f}\",\n",
    "                ])\n",
    "\n",
    "        # ---- ラウンドの真値付きデータで FT 用データセット作成 ----\n",
    "        texts_round = []\n",
    "        labels_round = []  # [%]\n",
    "        for rec in round_records:\n",
    "            if rec[\"true_yield_pct\"] is not None:\n",
    "                inp = f\"REACTANT:{rec['reactant']}REAGENT:{rec['reagent']}PRODUCT:{rec['product']}\"\n",
    "                texts_round.append(inp)\n",
    "                labels_round.append(float(rec[\"true_yield_pct\"]))\n",
    "\n",
    "        if len(texts_round) == 0:\n",
    "            print(f\"[Round {r}] 真値付きデータが0件のため、微調整はスキップします。\")\n",
    "            continue\n",
    "\n",
    "        # 累積データに追加\n",
    "        cumulative_true_texts.extend(texts_round)\n",
    "        cumulative_true_labels.extend(labels_round)\n",
    "\n",
    "        # ---- 学習/評価分割（十分な件数のときのみ評価）----\n",
    "        idxs = list(range(len(cumulative_true_texts)))\n",
    "        random.Random(cfg.study_seed + r).shuffle(idxs)\n",
    "\n",
    "        n_total = len(idxs)\n",
    "        n_val = int(n_total * cfg.val_ratio)\n",
    "        if n_val >= 5:  # 最低5件確保できたときだけ eval\n",
    "            val_idx = idxs[:n_val]\n",
    "            train_idx = idxs[n_val:]\n",
    "        else:\n",
    "            val_idx = []\n",
    "            train_idx = idxs\n",
    "\n",
    "        def subset(lst, sel): return [lst[i] for i in sel]\n",
    "\n",
    "        train_ds = YieldDataset(\n",
    "            subset(cumulative_true_texts, train_idx),\n",
    "            subset(cumulative_true_labels, train_idx),\n",
    "            tokenizer,\n",
    "            max_length=cfg.max_length,\n",
    "        )\n",
    "        eval_ds = None\n",
    "        if len(val_idx) > 0:\n",
    "            eval_ds = YieldDataset(\n",
    "                subset(cumulative_true_texts, val_idx),\n",
    "                subset(cumulative_true_labels, val_idx),\n",
    "                tokenizer,\n",
    "                max_length=cfg.max_length,\n",
    "            )\n",
    "\n",
    "        # ---- Trainer 準備・学習 ----\n",
    "        out_dir_round = os.path.join(cfg.output_dir, f\"round_{r}\")\n",
    "        args = TrainingArguments(\n",
    "            output_dir=out_dir_round,\n",
    "            learning_rate=cfg.learning_rate,\n",
    "            num_train_epochs=cfg.epochs_per_round,\n",
    "            per_device_train_batch_size=min(cfg.batch_size_train, max(1, len(train_ds))),\n",
    "            per_device_eval_batch_size=cfg.batch_size_eval,\n",
    "            weight_decay=cfg.weight_decay,\n",
    "            logging_steps=50,\n",
    "            save_strategy=\"no\",\n",
    "            report_to=\"none\",\n",
    "            fp16=torch.cuda.is_available(),\n",
    "            remove_unused_columns=False\n",
    "        )\n",
    "\n",
    "        def compute_metrics(eval_pred):\n",
    "            import numpy as np\n",
    "            preds = np.array(eval_pred.predictions).reshape(-1)\n",
    "            labels = np.array(eval_pred.label_ids).reshape(-1)\n",
    "            mae = float(np.mean(np.abs(preds - labels)))\n",
    "            rmse = float(np.sqrt(np.mean((preds - labels) ** 2)))\n",
    "            return {\"mae_pct\": mae, \"rmse_pct\": rmse}\n",
    "\n",
    "        trainer = YieldTrainer(\n",
    "            model=model,\n",
    "            args=args,\n",
    "            train_dataset=train_ds,\n",
    "            eval_dataset=eval_ds,\n",
    "            data_collator=CollatorForYield(tokenizer),\n",
    "            compute_metrics=compute_metrics if eval_ds else None,\n",
    "        )\n",
    "\n",
    "        print(f\"[Round {r}] Fine-tuning on {len(train_ds)} samples\"\n",
    "              + (f\", eval {len(eval_ds)} samples\" if eval_ds else \"\"))\n",
    "\n",
    "        trainer.train()\n",
    "        trainer.save_model(out_dir_round)  # fc層を含む全体を保存\n",
    "\n",
    "        # ---- このラウンドで FT に使った試行を CSV にマーク ----\n",
    "        # （簡易的に：直近ラウンドの真値付き行の was_used_for_ft を 1 に上書き）\n",
    "        # 既存CSVを読み書きする\n",
    "        with open(log_csv_path, \"r\", encoding=\"utf-8\") as f:\n",
    "            rows = list(csv.reader(f))\n",
    "        header = rows[0]\n",
    "        # カラム位置\n",
    "        was_used_idx = header.index(\"was_used_for_ft\")\n",
    "        round_idx = header.index(\"round\")\n",
    "        trial_idx = header.index(\"trial_index\")\n",
    "        react_idx = header.index(\"reactant\")\n",
    "        reag_idx = header.index(\"reagent\")\n",
    "        prod_idx = header.index(\"product\")\n",
    "\n",
    "        ft_pairs = {(rec[\"reactant\"], rec[\"reagent\"], rec[\"product\"]) for rec in round_records if rec[\"true_yield_pct\"] is not None}\n",
    "        for i in range(1, len(rows)):\n",
    "            row = rows[i]\n",
    "            if int(row[round_idx]) == r and (row[react_idx], row[reag_idx], row[prod_idx]) in ft_pairs:\n",
    "                row[was_used_idx] = \"1\"\n",
    "        with open(log_csv_path, \"w\", newline=\"\", encoding=\"utf-8\") as f:\n",
    "            csv.writer(f).writerows(rows)\n",
    "\n",
    "    print(\"\\nDone. Logs:\")\n",
    "    print(f\"- Trials CSV: {log_csv_path}\")\n",
    "    print(f\"- Optuna DBs: {cfg.output_dir}/round_*.db\")\n",
    "    print(f\"- Checkpoints per round: {cfg.output_dir}/round_*/\")"
   ]
  },
  {
   "cell_type": "code",
   "execution_count": 32,
   "id": "f20480bb",
   "metadata": {},
   "outputs": [],
   "source": [
    "cfg = LoopConfig(\n",
    "    n_rounds=5,\n",
    "    trials_per_round=100,\n",
    "    study_seed=42,\n",
    "    learning_rate=5e-4,\n",
    "    epochs_per_round=5,\n",
    "    weight_decay=0.01,\n",
    "    max_length=512,\n",
    "    batch_size_train=16,\n",
    "    batch_size_eval=32,\n",
    "    val_ratio=0.2,\n",
    "    output_dir=\"runs/5rounds_100_trials_yield\",\n",
    ")"
   ]
  },
  {
   "cell_type": "code",
   "execution_count": 33,
   "id": "eaebe031",
   "metadata": {},
   "outputs": [
    {
     "name": "stdout",
     "output_type": "stream",
     "text": [
      "\n",
      "==== Round 1/5 ====\n"
     ]
    },
    {
     "name": "stderr",
     "output_type": "stream",
     "text": [
      "[I 2025-08-16 00:48:07,386] A new study created in RDB with name: yield_round_1\n",
      "[I 2025-08-16 00:48:07,625] Trial 0 finished with value: 65.29907989501953 and parameters: {'reactant': 'Cc1cc(F)ccc1Cl', 'reagent': 'c1ccc(-c2cc3ccccc3n2P(C2CCCCC2)C2CCCCC2)cc1.OB(O)B(O)O'}. Best is trial 0 with value: 65.29907989501953.\n",
      "[I 2025-08-16 00:48:07,878] Trial 1 finished with value: 67.0235366821289 and parameters: {'reactant': 'Clc1ccc2[nH]ccc2c1', 'reagent': 'CC(C)c1cc(C(C)C)c(-c2ccccc2P(c2ccccc2)c2ccccc2)c(C(C)C)c1.OB(O)B(O)O'}. Best is trial 1 with value: 67.0235366821289.\n",
      "[I 2025-08-16 00:48:08,139] Trial 2 finished with value: 57.948814392089844 and parameters: {'reactant': 'COC(=O)c1ccc(Cl)cc1', 'reagent': 'C[PH+](C)C.F[B-](F)(F)F.OB(O)B(O)O'}. Best is trial 1 with value: 67.0235366821289.\n",
      "[I 2025-08-16 00:48:08,360] Trial 3 finished with value: 69.38873291015625 and parameters: {'reactant': 'Brc1cnc2ccccc2c1', 'reagent': 'COc1ccc(P(c2ccc(OC)cc2)c2ccc(OC)cc2)cc1.OB(O)B(O)O'}. Best is trial 3 with value: 69.38873291015625.\n",
      "[I 2025-08-16 00:48:08,577] Trial 4 finished with value: 68.92330932617188 and parameters: {'reactant': 'N#Cc1ccc(Br)cc1F', 'reagent': 'C1CCC([PH+](C2CCCCC2)C2CCCCC2)CC1.F[B-](F)(F)F.OB(O)B(O)O'}. Best is trial 3 with value: 69.38873291015625.\n",
      "[I 2025-08-16 00:48:08,787] Trial 5 finished with value: 62.81753921508789 and parameters: {'reactant': 'Clc1ccc2[nH]ccc2c1', 'reagent': 'CC(=C(c1ccccc1)c1ccccc1)P(C1CCCCC1)C1CCCCC1.OB(O)B(O)O'}. Best is trial 3 with value: 69.38873291015625.\n",
      "[I 2025-08-16 00:48:08,987] Trial 6 finished with value: 60.63340759277344 and parameters: {'reactant': 'Cc1ncccc1Br', 'reagent': 'CN(C)c1ccccc1-c1ccccc1P(c1ccccc1)c1ccccc1.OB(O)B(O)O'}. Best is trial 3 with value: 69.38873291015625.\n",
      "[I 2025-08-16 00:48:09,236] Trial 7 finished with value: 65.93859100341797 and parameters: {'reactant': 'CCOC(=O)c1cc(Br)cn1CC', 'reagent': 'CCCCC1([PH+](C2CCCCC2)C2CCCCC2)c2ccccc2-c2ccccc21.F[B-](F)(F)F.OB(O)B(O)O'}. Best is trial 3 with value: 69.38873291015625.\n",
      "[I 2025-08-16 00:48:09,448] Trial 8 finished with value: 67.68745422363281 and parameters: {'reactant': 'CCOC(=O)c1cc(Br)cn1CC', 'reagent': 'CN(C)c1ccc(P(c2ccccc2)c2ccccc2)cc1.OB(O)B(O)O'}. Best is trial 3 with value: 69.38873291015625.\n",
      "[I 2025-08-16 00:48:09,700] Trial 9 finished with value: 59.47439193725586 and parameters: {'reactant': 'CCOC(=O)C(C)(C)Oc1ccc(Cl)cc1', 'reagent': 'Cc1cc(C)cc(P(c2cc(C)cc(C)c2)c2cc(C)cc(C)c2)c1.OB(O)B(O)O'}. Best is trial 3 with value: 69.38873291015625.\n",
      "[I 2025-08-16 00:48:09,911] Trial 10 finished with value: 71.00776672363281 and parameters: {'reactant': 'Brc1cnc2ccccc2c1', 'reagent': 'COc1ccc(P(c2ccc(OC)cc2)c2ccc(OC)cc2)cc1.OB(O)B(O)O'}. Best is trial 10 with value: 71.00776672363281.\n",
      "[I 2025-08-16 00:48:10,128] Trial 11 finished with value: 69.79763793945312 and parameters: {'reactant': 'Brc1cnc2ccccc2c1', 'reagent': 'COc1ccc(P(c2ccc(OC)cc2)c2ccc(OC)cc2)cc1.OB(O)B(O)O'}. Best is trial 10 with value: 71.00776672363281.\n",
      "[I 2025-08-16 00:48:10,365] Trial 12 finished with value: 70.11537170410156 and parameters: {'reactant': 'Brc1cnc2ccccc2c1', 'reagent': 'COc1ccc(P(c2ccc(OC)cc2)c2ccc(OC)cc2)cc1.OB(O)B(O)O'}. Best is trial 10 with value: 71.00776672363281.\n",
      "[I 2025-08-16 00:48:10,581] Trial 13 finished with value: 69.54821014404297 and parameters: {'reactant': 'Brc1cnc2ccccc2c1', 'reagent': 'COc1ccc(P(c2ccc(OC)cc2)c2ccc(OC)cc2)cc1.OB(O)B(O)O'}. Best is trial 10 with value: 71.00776672363281.\n",
      "[I 2025-08-16 00:48:10,796] Trial 14 finished with value: 61.99488067626953 and parameters: {'reactant': 'CCOC(=O)c1ccc(Cl)c(F)c1', 'reagent': 'CC(C)(C)P(c1ccccc1)C(C)(C)C.OB(O)B(O)O'}. Best is trial 10 with value: 71.00776672363281.\n",
      "[I 2025-08-16 00:48:11,016] Trial 15 finished with value: 68.90042877197266 and parameters: {'reactant': 'Brc1ccc2c(c1)OCO2', 'reagent': 'c1ccc(P(c2ccccc2)c2ccccc2)cc1.OB(O)B(O)O'}. Best is trial 10 with value: 71.00776672363281.\n",
      "[I 2025-08-16 00:48:11,236] Trial 16 finished with value: 62.51145553588867 and parameters: {'reactant': 'COc1ccc(Br)cc1', 'reagent': 'COc1ccccc1C1=C(P(C2CCCCC2)C2CCCCC2)C2c3ccccc3C1c1ccccc12.OB(O)B(O)O'}. Best is trial 10 with value: 71.00776672363281.\n",
      "[I 2025-08-16 00:48:11,455] Trial 17 finished with value: 69.010986328125 and parameters: {'reactant': 'COc1ncc(Br)c(OC)n1', 'reagent': 'c1ccc(-c2ccccc2P(C2CCCCC2)C2CCCCC2)cc1.OB(O)B(O)O'}. Best is trial 10 with value: 71.00776672363281.\n",
      "[I 2025-08-16 00:48:11,706] Trial 18 finished with value: 59.58969497680664 and parameters: {'reactant': 'CN(C)S(=O)(=O)Oc1ccc2ncccc2c1', 'reagent': 'COc1cc(C(C)(C)C)cc(C(C)(C)C)c1-c1ccccc1P(C1CCCCC1)C1CCCCC1.OB(O)B(O)O'}. Best is trial 10 with value: 71.00776672363281.\n",
      "[I 2025-08-16 00:48:11,916] Trial 19 finished with value: 65.8829345703125 and parameters: {'reactant': 'N#Cc1ccc(Cl)cc1F', 'reagent': 'COc1ccccc1P(c1ccccc1OC)c1ccccc1OC.OB(O)B(O)O'}. Best is trial 10 with value: 71.00776672363281.\n",
      "[I 2025-08-16 00:48:12,117] Trial 20 finished with value: 51.86000061035156 and parameters: {'reactant': 'Brc1ccsc1', 'reagent': 'Cc1ccccc1-c1ccccc1P(C1CCCCC1)C1CCCCC1.OB(O)B(O)O'}. Best is trial 10 with value: 71.00776672363281.\n",
      "[I 2025-08-16 00:48:12,337] Trial 21 finished with value: 69.74034118652344 and parameters: {'reactant': 'Brc1cnc2ccccc2c1', 'reagent': 'COc1ccc(P(c2ccc(OC)cc2)c2ccc(OC)cc2)cc1.OB(O)B(O)O'}. Best is trial 10 with value: 71.00776672363281.\n",
      "[I 2025-08-16 00:48:12,550] Trial 22 finished with value: 69.6321029663086 and parameters: {'reactant': 'Brc1cnc2ccccc2c1', 'reagent': 'COc1ccc(P(c2ccc(OC)cc2)c2ccc(OC)cc2)cc1.OB(O)B(O)O'}. Best is trial 10 with value: 71.00776672363281.\n",
      "[I 2025-08-16 00:48:12,761] Trial 23 finished with value: 67.78621673583984 and parameters: {'reactant': 'Clc1ccc2c(c1)OCO2', 'reagent': 'c1ccc(P(c2ccccc2)C2CCCCC2)cc1.OB(O)B(O)O'}. Best is trial 10 with value: 71.00776672363281.\n",
      "[I 2025-08-16 00:48:13,010] Trial 24 finished with value: 65.51054382324219 and parameters: {'reactant': 'Brc1ccc(-c2ccccc2)cc1', 'reagent': 'c1ccc(-c2nn(-c3ccccc3)c(-c3ccccc3)c2-n2nccc2P(C2CCCCC2)C2CCCCC2)cc1.OB(O)B(O)O'}. Best is trial 10 with value: 71.00776672363281.\n",
      "[I 2025-08-16 00:48:13,228] Trial 25 finished with value: 67.71306610107422 and parameters: {'reactant': 'COc1ccc(Cl)cc1F', 'reagent': 'Fc1ccc(P(c2ccc(F)cc2)c2ccc(F)cc2)cc1.OB(O)B(O)O'}. Best is trial 10 with value: 71.00776672363281.\n",
      "[I 2025-08-16 00:48:13,457] Trial 26 finished with value: 68.4598388671875 and parameters: {'reactant': 'CN(C)C(=O)c1ccc(Cl)cc1', 'reagent': 'COc1ccc(P(c2ccc(OC)cc2)c2ccc(OC)cc2)cc1.OB(O)B(O)O'}. Best is trial 10 with value: 71.00776672363281.\n",
      "[I 2025-08-16 00:48:13,696] Trial 27 finished with value: 57.82327651977539 and parameters: {'reactant': 'COC(=O)c1ccc(Br)cc1', 'reagent': 'c1ccc(P(C2CCCCC2)C2CCCCC2)c(-n2c3ccccc3c3ccccc32)c1.OB(O)B(O)O'}. Best is trial 10 with value: 71.00776672363281.\n",
      "[I 2025-08-16 00:48:13,903] Trial 28 finished with value: 68.37532806396484 and parameters: {'reactant': 'COc1ccc(Br)cc1F', 'reagent': 'COc1cccc(OC)c1-c1ccccc1P(c1ccccc1)c1ccccc1.OB(O)B(O)O'}. Best is trial 10 with value: 71.00776672363281.\n",
      "[I 2025-08-16 00:48:14,159] Trial 29 finished with value: 60.20786666870117 and parameters: {'reactant': 'Cc1cccc(C)c1Cl', 'reagent': 'c1ccc(-n2cccc2P(C2CCCCC2)C2CCCCC2)cc1.OB(O)B(O)O'}. Best is trial 10 with value: 71.00776672363281.\n",
      "[I 2025-08-16 00:48:14,388] Trial 30 finished with value: 68.11418914794922 and parameters: {'reactant': 'FC(F)(F)c1ccc(Cl)cc1', 'reagent': 'COc1ccc(P(c2ccc(OC)cc2)c2ccc(OC)cc2)cc1.OB(O)B(O)O'}. Best is trial 10 with value: 71.00776672363281.\n",
      "[I 2025-08-16 00:48:14,601] Trial 31 finished with value: 70.6101303100586 and parameters: {'reactant': 'Brc1cnc2ccccc2c1', 'reagent': 'c1ccc(-c2cc3ccccc3n2P(C2CCCCC2)C2CCCCC2)cc1.OB(O)B(O)O'}. Best is trial 10 with value: 71.00776672363281.\n",
      "[I 2025-08-16 00:48:14,836] Trial 32 finished with value: 66.42389678955078 and parameters: {'reactant': 'Cc1nc2cc(OS(=O)(=O)N(C)C)ccc2s1', 'reagent': 'c1ccc(-c2cc3ccccc3n2P(C2CCCCC2)C2CCCCC2)cc1.OB(O)B(O)O'}. Best is trial 10 with value: 71.00776672363281.\n",
      "[I 2025-08-16 00:48:15,072] Trial 33 finished with value: 68.57876586914062 and parameters: {'reactant': 'FC(F)(F)c1ccc(Br)cc1', 'reagent': 'c1ccc(-c2cc3ccccc3n2P(C2CCCCC2)C2CCCCC2)cc1.OB(O)B(O)O'}. Best is trial 10 with value: 71.00776672363281.\n",
      "[I 2025-08-16 00:48:15,327] Trial 34 finished with value: 64.75003814697266 and parameters: {'reactant': 'Brc1ccccc1-c1ccccc1', 'reagent': 'CC(C)c1cc(C(C)C)c(-c2ccccc2P(c2ccccc2)c2ccccc2)c(C(C)C)c1.OB(O)B(O)O'}. Best is trial 10 with value: 71.00776672363281.\n",
      "[I 2025-08-16 00:48:15,548] Trial 35 finished with value: 68.63359832763672 and parameters: {'reactant': 'Brc1cnc2ccccc2c1', 'reagent': 'c1ccc(-c2cc3ccccc3n2P(C2CCCCC2)C2CCCCC2)cc1.OB(O)B(O)O'}. Best is trial 10 with value: 71.00776672363281.\n",
      "[I 2025-08-16 00:48:15,777] Trial 36 finished with value: 67.3687973022461 and parameters: {'reactant': 'Brc1ccc2occc2c1', 'reagent': 'COc1ccc(P(c2ccc(OC)cc2)c2ccc(OC)cc2)cc1.OB(O)B(O)O'}. Best is trial 10 with value: 71.00776672363281.\n",
      "[I 2025-08-16 00:48:16,023] Trial 37 finished with value: 58.77885818481445 and parameters: {'reactant': 'Clc1ccc(-c2ccccc2)cc1', 'reagent': 'C1CCC([PH+](C2CCCCC2)C2CCCCC2)CC1.F[B-](F)(F)F.OB(O)B(O)O'}. Best is trial 10 with value: 71.00776672363281.\n",
      "[I 2025-08-16 00:48:16,241] Trial 38 finished with value: 57.461883544921875 and parameters: {'reactant': 'Cc1c(N)cccc1Cl', 'reagent': 'CC(=C(c1ccccc1)c1ccccc1)P(C1CCCCC1)C1CCCCC1.OB(O)B(O)O'}. Best is trial 10 with value: 71.00776672363281.\n",
      "[I 2025-08-16 00:48:16,495] Trial 39 finished with value: 67.48119354248047 and parameters: {'reactant': 'CN(C)S(=O)(=O)Oc1ccc(-c2ccccc2)cc1', 'reagent': 'C[PH+](C)C.F[B-](F)(F)F.OB(O)B(O)O'}. Best is trial 10 with value: 71.00776672363281.\n",
      "[I 2025-08-16 00:48:16,707] Trial 40 finished with value: 67.1897201538086 and parameters: {'reactant': 'COc1cc(Cl)ccc1F', 'reagent': 'CN(C)c1ccccc1-c1ccccc1P(c1ccccc1)c1ccccc1.OB(O)B(O)O'}. Best is trial 10 with value: 71.00776672363281.\n",
      "[I 2025-08-16 00:48:16,953] Trial 41 finished with value: 71.57456970214844 and parameters: {'reactant': 'Brc1cnc2ccccc2c1', 'reagent': 'COc1ccc(P(c2ccc(OC)cc2)c2ccc(OC)cc2)cc1.OB(O)B(O)O'}. Best is trial 41 with value: 71.57456970214844.\n",
      "[I 2025-08-16 00:48:17,189] Trial 42 finished with value: 67.79805755615234 and parameters: {'reactant': 'Clc1cnc2ccccc2c1', 'reagent': 'COc1ccc(P(c2ccc(OC)cc2)c2ccc(OC)cc2)cc1.OB(O)B(O)O'}. Best is trial 41 with value: 71.57456970214844.\n",
      "[I 2025-08-16 00:48:17,437] Trial 43 finished with value: 63.3417854309082 and parameters: {'reactant': 'Brc1cnc2ccccc2c1', 'reagent': 'Cc1cc(C)cc(P(c2cc(C)cc(C)c2)c2cc(C)cc(C)c2)c1.OB(O)B(O)O'}. Best is trial 41 with value: 71.57456970214844.\n",
      "[I 2025-08-16 00:48:17,667] Trial 44 finished with value: 66.9678955078125 and parameters: {'reactant': 'Cc1cc(F)ccc1Cl', 'reagent': 'COc1ccc(P(c2ccc(OC)cc2)c2ccc(OC)cc2)cc1.OB(O)B(O)O'}. Best is trial 41 with value: 71.57456970214844.\n",
      "[I 2025-08-16 00:48:17,958] Trial 45 finished with value: 61.62024688720703 and parameters: {'reactant': 'CN(C)S(=O)(=O)Oc1ccc2[nH]ccc2c1', 'reagent': 'CCCCC1([PH+](C2CCCCC2)C2CCCCC2)c2ccccc2-c2ccccc21.F[B-](F)(F)F.OB(O)B(O)O'}. Best is trial 41 with value: 71.57456970214844.\n",
      "[I 2025-08-16 00:48:18,176] Trial 46 finished with value: 67.01683044433594 and parameters: {'reactant': 'Brc1cnc2ccccc2c1', 'reagent': 'CN(C)c1ccc(P(c2ccccc2)c2ccccc2)cc1.OB(O)B(O)O'}. Best is trial 41 with value: 71.57456970214844.\n",
      "[I 2025-08-16 00:48:18,415] Trial 47 finished with value: 68.396240234375 and parameters: {'reactant': 'N#Cc1ccc(Br)cc1F', 'reagent': 'COc1ccccc1C1=C(P(C2CCCCC2)C2CCCCC2)C2c3ccccc3C1c1ccccc12.OB(O)B(O)O'}. Best is trial 41 with value: 71.57456970214844.\n",
      "[I 2025-08-16 00:48:18,628] Trial 48 finished with value: 71.11831665039062 and parameters: {'reactant': 'COC(=O)c1ccc(Cl)cc1', 'reagent': 'c1ccc(P(c2ccccc2)c2ccccc2)cc1.OB(O)B(O)O'}. Best is trial 41 with value: 71.57456970214844.\n",
      "[I 2025-08-16 00:48:18,879] Trial 49 finished with value: 67.69824981689453 and parameters: {'reactant': 'COC(=O)c1ccc(Cl)cc1', 'reagent': 'c1ccc(P(c2ccccc2)c2ccccc2)cc1.OB(O)B(O)O'}. Best is trial 41 with value: 71.57456970214844.\n",
      "[I 2025-08-16 00:48:19,087] Trial 50 finished with value: 67.41154479980469 and parameters: {'reactant': 'COC(=O)c1ccc(Cl)cc1', 'reagent': 'c1ccc(P(c2ccccc2)c2ccccc2)cc1.OB(O)B(O)O'}. Best is trial 41 with value: 71.57456970214844.\n",
      "[I 2025-08-16 00:48:19,298] Trial 51 finished with value: 62.215579986572266 and parameters: {'reactant': 'Brc1cnc2ccccc2c1', 'reagent': 'CC(C)(C)P(c1ccccc1)C(C)(C)C.OB(O)B(O)O'}. Best is trial 41 with value: 71.57456970214844.\n",
      "[I 2025-08-16 00:48:19,538] Trial 52 finished with value: 67.99593353271484 and parameters: {'reactant': 'Clc1ccc2[nH]ccc2c1', 'reagent': 'COc1cc(C(C)(C)C)cc(C(C)(C)C)c1-c1ccccc1P(C1CCCCC1)C1CCCCC1.OB(O)B(O)O'}. Best is trial 41 with value: 71.57456970214844.\n",
      "[I 2025-08-16 00:48:19,746] Trial 53 finished with value: 68.64060974121094 and parameters: {'reactant': 'Brc1cnc2ccccc2c1', 'reagent': 'c1ccc(-c2ccccc2P(C2CCCCC2)C2CCCCC2)cc1.OB(O)B(O)O'}. Best is trial 41 with value: 71.57456970214844.\n",
      "[I 2025-08-16 00:48:19,970] Trial 54 finished with value: 69.8386001586914 and parameters: {'reactant': 'CCOC(=O)c1ccc(Cl)c(F)c1', 'reagent': 'COc1ccccc1P(c1ccccc1OC)c1ccccc1OC.OB(O)B(O)O'}. Best is trial 41 with value: 71.57456970214844.\n",
      "[I 2025-08-16 00:48:20,218] Trial 55 finished with value: 66.11869049072266 and parameters: {'reactant': 'CCOC(=O)c1ccc(Cl)c(F)c1', 'reagent': 'COc1ccccc1P(c1ccccc1OC)c1ccccc1OC.OB(O)B(O)O'}. Best is trial 41 with value: 71.57456970214844.\n",
      "[I 2025-08-16 00:48:20,439] Trial 56 finished with value: 57.97049331665039 and parameters: {'reactant': 'Cc1ncccc1Br', 'reagent': 'COc1ccccc1P(c1ccccc1OC)c1ccccc1OC.OB(O)B(O)O'}. Best is trial 41 with value: 71.57456970214844.\n",
      "[I 2025-08-16 00:48:20,678] Trial 57 finished with value: 65.27633666992188 and parameters: {'reactant': 'CCOC(=O)c1ccc(Cl)c(F)c1', 'reagent': 'Cc1ccccc1-c1ccccc1P(C1CCCCC1)C1CCCCC1.OB(O)B(O)O'}. Best is trial 41 with value: 71.57456970214844.\n",
      "[I 2025-08-16 00:48:20,887] Trial 58 finished with value: 58.348976135253906 and parameters: {'reactant': 'COc1ccc(Br)cc1', 'reagent': 'c1ccc(P(c2ccccc2)C2CCCCC2)cc1.OB(O)B(O)O'}. Best is trial 41 with value: 71.57456970214844.\n",
      "[I 2025-08-16 00:48:21,145] Trial 59 finished with value: 68.98979949951172 and parameters: {'reactant': 'CCOC(=O)c1cc(Br)cn1CC', 'reagent': 'c1ccc(-c2nn(-c3ccccc3)c(-c3ccccc3)c2-n2nccc2P(C2CCCCC2)C2CCCCC2)cc1.OB(O)B(O)O'}. Best is trial 41 with value: 71.57456970214844.\n",
      "[I 2025-08-16 00:48:21,381] Trial 60 finished with value: 66.129150390625 and parameters: {'reactant': 'CCOC(=O)C(C)(C)Oc1ccc(Cl)cc1', 'reagent': 'c1ccc(P(c2ccccc2)c2ccccc2)cc1.OB(O)B(O)O'}. Best is trial 41 with value: 71.57456970214844.\n",
      "[I 2025-08-16 00:48:21,619] Trial 61 finished with value: 71.75493621826172 and parameters: {'reactant': 'Brc1cnc2ccccc2c1', 'reagent': 'COc1ccc(P(c2ccc(OC)cc2)c2ccc(OC)cc2)cc1.OB(O)B(O)O'}. Best is trial 61 with value: 71.75493621826172.\n",
      "[I 2025-08-16 00:48:21,837] Trial 62 finished with value: 66.88774108886719 and parameters: {'reactant': 'Brc1ccc2c(c1)OCO2', 'reagent': 'Fc1ccc(P(c2ccc(F)cc2)c2ccc(F)cc2)cc1.OB(O)B(O)O'}. Best is trial 61 with value: 71.75493621826172.\n",
      "[I 2025-08-16 00:48:22,092] Trial 63 finished with value: 67.83743286132812 and parameters: {'reactant': 'Brc1cnc2ccccc2c1', 'reagent': 'COc1ccc(P(c2ccc(OC)cc2)c2ccc(OC)cc2)cc1.OB(O)B(O)O'}. Best is trial 61 with value: 71.75493621826172.\n",
      "[I 2025-08-16 00:48:22,349] Trial 64 finished with value: 62.74913024902344 and parameters: {'reactant': 'CN(C)S(=O)(=O)Oc1ccc2ncccc2c1', 'reagent': 'COc1cccc(OC)c1-c1ccccc1P(c1ccccc1)c1ccccc1.OB(O)B(O)O'}. Best is trial 61 with value: 71.75493621826172.\n",
      "[I 2025-08-16 00:48:22,575] Trial 65 finished with value: 66.1715087890625 and parameters: {'reactant': 'N#Cc1ccc(Cl)cc1F', 'reagent': 'c1ccc(-n2cccc2P(C2CCCCC2)C2CCCCC2)cc1.OB(O)B(O)O'}. Best is trial 61 with value: 71.75493621826172.\n",
      "[I 2025-08-16 00:48:22,817] Trial 66 finished with value: 44.22553634643555 and parameters: {'reactant': 'COC(=O)c1ccc(Cl)cc1', 'reagent': 'c1ccc(P(C2CCCCC2)C2CCCCC2)c(-n2c3ccccc3c3ccccc32)c1.OB(O)B(O)O'}. Best is trial 61 with value: 71.75493621826172.\n",
      "[I 2025-08-16 00:48:23,036] Trial 67 finished with value: 62.64048767089844 and parameters: {'reactant': 'Brc1ccc(-c2ccccc2)cc1', 'reagent': 'COc1ccccc1P(c1ccccc1OC)c1ccccc1OC.OB(O)B(O)O'}. Best is trial 61 with value: 71.75493621826172.\n",
      "[I 2025-08-16 00:48:23,244] Trial 68 finished with value: 61.65888214111328 and parameters: {'reactant': 'Brc1ccsc1', 'reagent': 'COc1ccc(P(c2ccc(OC)cc2)c2ccc(OC)cc2)cc1.OB(O)B(O)O'}. Best is trial 61 with value: 71.75493621826172.\n",
      "[I 2025-08-16 00:48:23,497] Trial 69 finished with value: 64.83719635009766 and parameters: {'reactant': 'COc1ncc(Br)c(OC)n1', 'reagent': 'CC(C)c1cc(C(C)C)c(-c2ccccc2P(c2ccccc2)c2ccccc2)c(C(C)C)c1.OB(O)B(O)O'}. Best is trial 61 with value: 71.75493621826172.\n",
      "[I 2025-08-16 00:48:23,718] Trial 70 finished with value: 70.82532501220703 and parameters: {'reactant': 'Brc1cnc2ccccc2c1', 'reagent': 'c1ccc(-c2cc3ccccc3n2P(C2CCCCC2)C2CCCCC2)cc1.OB(O)B(O)O'}. Best is trial 61 with value: 71.75493621826172.\n",
      "[I 2025-08-16 00:48:23,950] Trial 71 finished with value: 70.53565979003906 and parameters: {'reactant': 'Brc1cnc2ccccc2c1', 'reagent': 'c1ccc(-c2cc3ccccc3n2P(C2CCCCC2)C2CCCCC2)cc1.OB(O)B(O)O'}. Best is trial 61 with value: 71.75493621826172.\n",
      "[I 2025-08-16 00:48:24,176] Trial 72 finished with value: 67.27232360839844 and parameters: {'reactant': 'Brc1cnc2ccccc2c1', 'reagent': 'c1ccc(-c2cc3ccccc3n2P(C2CCCCC2)C2CCCCC2)cc1.OB(O)B(O)O'}. Best is trial 61 with value: 71.75493621826172.\n",
      "[I 2025-08-16 00:48:24,416] Trial 73 finished with value: 65.77705383300781 and parameters: {'reactant': 'Brc1cnc2ccccc2c1', 'reagent': 'c1ccc(-c2cc3ccccc3n2P(C2CCCCC2)C2CCCCC2)cc1.OB(O)B(O)O'}. Best is trial 61 with value: 71.75493621826172.\n",
      "[I 2025-08-16 00:48:24,639] Trial 74 finished with value: 67.23062896728516 and parameters: {'reactant': 'Brc1cnc2ccccc2c1', 'reagent': 'c1ccc(-c2cc3ccccc3n2P(C2CCCCC2)C2CCCCC2)cc1.OB(O)B(O)O'}. Best is trial 61 with value: 71.75493621826172.\n",
      "[I 2025-08-16 00:48:24,896] Trial 75 finished with value: 70.47026062011719 and parameters: {'reactant': 'Clc1ccc2c(c1)OCO2', 'reagent': 'c1ccc(-c2cc3ccccc3n2P(C2CCCCC2)C2CCCCC2)cc1.OB(O)B(O)O'}. Best is trial 61 with value: 71.75493621826172.\n",
      "[I 2025-08-16 00:48:25,146] Trial 76 finished with value: 70.03681945800781 and parameters: {'reactant': 'Clc1ccc2c(c1)OCO2', 'reagent': 'c1ccc(-c2cc3ccccc3n2P(C2CCCCC2)C2CCCCC2)cc1.OB(O)B(O)O'}. Best is trial 61 with value: 71.75493621826172.\n",
      "[I 2025-08-16 00:48:25,417] Trial 77 finished with value: 69.6182861328125 and parameters: {'reactant': 'Clc1ccc2c(c1)OCO2', 'reagent': 'c1ccc(-c2cc3ccccc3n2P(C2CCCCC2)C2CCCCC2)cc1.OB(O)B(O)O'}. Best is trial 61 with value: 71.75493621826172.\n",
      "[I 2025-08-16 00:48:25,658] Trial 78 finished with value: 68.64435577392578 and parameters: {'reactant': 'COc1ccc(Cl)cc1F', 'reagent': 'c1ccc(-c2cc3ccccc3n2P(C2CCCCC2)C2CCCCC2)cc1.OB(O)B(O)O'}. Best is trial 61 with value: 71.75493621826172.\n",
      "[I 2025-08-16 00:48:25,896] Trial 79 finished with value: 64.52938079833984 and parameters: {'reactant': 'COC(=O)c1ccc(Br)cc1', 'reagent': 'C1CCC([PH+](C2CCCCC2)C2CCCCC2)CC1.F[B-](F)(F)F.OB(O)B(O)O'}. Best is trial 61 with value: 71.75493621826172.\n",
      "[I 2025-08-16 00:48:26,120] Trial 80 finished with value: 61.85205078125 and parameters: {'reactant': 'COc1ccc(Br)cc1F', 'reagent': 'CN(C)c1ccccc1-c1ccccc1P(c1ccccc1)c1ccccc1.OB(O)B(O)O'}. Best is trial 61 with value: 71.75493621826172.\n",
      "[I 2025-08-16 00:48:26,346] Trial 81 finished with value: 59.8546142578125 and parameters: {'reactant': 'Brc1cnc2ccccc2c1', 'reagent': 'C[PH+](C)C.F[B-](F)(F)F.OB(O)B(O)O'}. Best is trial 61 with value: 71.75493621826172.\n",
      "[I 2025-08-16 00:48:26,599] Trial 82 finished with value: 69.18046569824219 and parameters: {'reactant': 'CN(C)C(=O)c1ccc(Cl)cc1', 'reagent': 'COc1ccc(P(c2ccc(OC)cc2)c2ccc(OC)cc2)cc1.OB(O)B(O)O'}. Best is trial 61 with value: 71.75493621826172.\n",
      "[I 2025-08-16 00:48:26,821] Trial 83 finished with value: 59.20859146118164 and parameters: {'reactant': 'FC(F)(F)c1ccc(Cl)cc1', 'reagent': 'CC(=C(c1ccccc1)c1ccccc1)P(C1CCCCC1)C1CCCCC1.OB(O)B(O)O'}. Best is trial 61 with value: 71.75493621826172.\n",
      "[I 2025-08-16 00:48:27,055] Trial 84 finished with value: 63.26002502441406 and parameters: {'reactant': 'Cc1cccc(C)c1Cl', 'reagent': 'Cc1cc(C)cc(P(c2cc(C)cc(C)c2)c2cc(C)cc(C)c2)c1.OB(O)B(O)O'}. Best is trial 61 with value: 71.75493621826172.\n",
      "[I 2025-08-16 00:48:27,272] Trial 85 finished with value: 61.54203414916992 and parameters: {'reactant': 'Cc1c(N)cccc1Cl', 'reagent': 'COc1ccc(P(c2ccc(OC)cc2)c2ccc(OC)cc2)cc1.OB(O)B(O)O'}. Best is trial 61 with value: 71.75493621826172.\n",
      "[I 2025-08-16 00:48:27,529] Trial 86 finished with value: 68.77957916259766 and parameters: {'reactant': 'Cc1nc2cc(OS(=O)(=O)N(C)C)ccc2s1', 'reagent': 'CCCCC1([PH+](C2CCCCC2)C2CCCCC2)c2ccccc2-c2ccccc21.F[B-](F)(F)F.OB(O)B(O)O'}. Best is trial 61 with value: 71.75493621826172.\n",
      "[I 2025-08-16 00:48:27,775] Trial 87 finished with value: 70.75869750976562 and parameters: {'reactant': 'CN(C)S(=O)(=O)Oc1ccc(-c2ccccc2)cc1', 'reagent': 'CN(C)c1ccc(P(c2ccccc2)c2ccccc2)cc1.OB(O)B(O)O'}. Best is trial 61 with value: 71.75493621826172.\n",
      "[I 2025-08-16 00:48:28,005] Trial 88 finished with value: 67.46527862548828 and parameters: {'reactant': 'Clc1ccc(-c2ccccc2)cc1', 'reagent': 'c1ccc(-c2cc3ccccc3n2P(C2CCCCC2)C2CCCCC2)cc1.OB(O)B(O)O'}. Best is trial 61 with value: 71.75493621826172.\n",
      "[I 2025-08-16 00:48:28,217] Trial 89 finished with value: 68.44281005859375 and parameters: {'reactant': 'Clc1cnc2ccccc2c1', 'reagent': 'CN(C)c1ccc(P(c2ccccc2)c2ccccc2)cc1.OB(O)B(O)O'}. Best is trial 61 with value: 71.75493621826172.\n",
      "[I 2025-08-16 00:48:28,449] Trial 90 finished with value: 72.3007583618164 and parameters: {'reactant': 'CN(C)S(=O)(=O)Oc1ccc(-c2ccccc2)cc1', 'reagent': 'CN(C)c1ccc(P(c2ccccc2)c2ccccc2)cc1.OB(O)B(O)O'}. Best is trial 90 with value: 72.3007583618164.\n",
      "[I 2025-08-16 00:48:28,681] Trial 91 finished with value: 70.91703796386719 and parameters: {'reactant': 'CN(C)S(=O)(=O)Oc1ccc(-c2ccccc2)cc1', 'reagent': 'CN(C)c1ccc(P(c2ccccc2)c2ccccc2)cc1.OB(O)B(O)O'}. Best is trial 90 with value: 72.3007583618164.\n",
      "[I 2025-08-16 00:48:28,914] Trial 92 finished with value: 71.41079711914062 and parameters: {'reactant': 'CN(C)S(=O)(=O)Oc1ccc(-c2ccccc2)cc1', 'reagent': 'CN(C)c1ccc(P(c2ccccc2)c2ccccc2)cc1.OB(O)B(O)O'}. Best is trial 90 with value: 72.3007583618164.\n",
      "[I 2025-08-16 00:48:29,155] Trial 93 finished with value: 69.77566528320312 and parameters: {'reactant': 'CN(C)S(=O)(=O)Oc1ccc(-c2ccccc2)cc1', 'reagent': 'CN(C)c1ccc(P(c2ccccc2)c2ccccc2)cc1.OB(O)B(O)O'}. Best is trial 90 with value: 72.3007583618164.\n",
      "[I 2025-08-16 00:48:29,384] Trial 94 finished with value: 69.03407287597656 and parameters: {'reactant': 'CN(C)S(=O)(=O)Oc1ccc(-c2ccccc2)cc1', 'reagent': 'CN(C)c1ccc(P(c2ccccc2)c2ccccc2)cc1.OB(O)B(O)O'}. Best is trial 90 with value: 72.3007583618164.\n",
      "[I 2025-08-16 00:48:29,634] Trial 95 finished with value: 69.88672637939453 and parameters: {'reactant': 'CN(C)S(=O)(=O)Oc1ccc(-c2ccccc2)cc1', 'reagent': 'CN(C)c1ccc(P(c2ccccc2)c2ccccc2)cc1.OB(O)B(O)O'}. Best is trial 90 with value: 72.3007583618164.\n",
      "[I 2025-08-16 00:48:29,879] Trial 96 finished with value: 71.6817855834961 and parameters: {'reactant': 'CN(C)S(=O)(=O)Oc1ccc(-c2ccccc2)cc1', 'reagent': 'CN(C)c1ccc(P(c2ccccc2)c2ccccc2)cc1.OB(O)B(O)O'}. Best is trial 90 with value: 72.3007583618164.\n",
      "[I 2025-08-16 00:48:30,114] Trial 97 finished with value: 70.26203918457031 and parameters: {'reactant': 'CN(C)S(=O)(=O)Oc1ccc(-c2ccccc2)cc1', 'reagent': 'CN(C)c1ccc(P(c2ccccc2)c2ccccc2)cc1.OB(O)B(O)O'}. Best is trial 90 with value: 72.3007583618164.\n",
      "[I 2025-08-16 00:48:30,340] Trial 98 finished with value: 69.90848541259766 and parameters: {'reactant': 'CN(C)S(=O)(=O)Oc1ccc(-c2ccccc2)cc1', 'reagent': 'CN(C)c1ccc(P(c2ccccc2)c2ccccc2)cc1.OB(O)B(O)O'}. Best is trial 90 with value: 72.3007583618164.\n",
      "[I 2025-08-16 00:48:30,570] Trial 99 finished with value: 67.70944213867188 and parameters: {'reactant': 'CN(C)S(=O)(=O)Oc1ccc(-c2ccccc2)cc1', 'reagent': 'CN(C)c1ccc(P(c2ccccc2)c2ccccc2)cc1.OB(O)B(O)O'}. Best is trial 90 with value: 72.3007583618164.\n"
     ]
    },
    {
     "name": "stdout",
     "output_type": "stream",
     "text": [
      "[Round 1] Fine-tuning on 80 samples, eval 20 samples\n",
      "{'train_runtime': 1.6195, 'train_samples_per_second': 246.985, 'train_steps_per_second': 15.437, 'train_loss': 733.7078125, 'epoch': 5.0}\n",
      "\n",
      "==== Round 2/5 ====\n"
     ]
    },
    {
     "name": "stderr",
     "output_type": "stream",
     "text": [
      "[I 2025-08-16 00:48:33,838] A new study created in RDB with name: yield_round_2\n",
      "[I 2025-08-16 00:48:34,072] Trial 0 finished with value: 40.48168182373047 and parameters: {'reactant': 'CN(C)S(=O)(=O)Oc1ccc(-c2ccccc2)cc1', 'reagent': 'CC(C)(C)P(c1ccccc1)C(C)(C)C.OB(O)B(O)O'}. Best is trial 0 with value: 40.48168182373047.\n",
      "[I 2025-08-16 00:48:34,289] Trial 1 finished with value: 46.02680969238281 and parameters: {'reactant': 'Cc1cccc(C)c1Cl', 'reagent': 'CCCCC1([PH+](C2CCCCC2)C2CCCCC2)c2ccccc2-c2ccccc21.F[B-](F)(F)F.OB(O)B(O)O'}. Best is trial 1 with value: 46.02680969238281.\n",
      "[I 2025-08-16 00:48:34,498] Trial 2 finished with value: 41.43854522705078 and parameters: {'reactant': 'COc1ccc(Cl)cc1F', 'reagent': 'CC(=C(c1ccccc1)c1ccccc1)P(C1CCCCC1)C1CCCCC1.OB(O)B(O)O'}. Best is trial 1 with value: 46.02680969238281.\n",
      "[I 2025-08-16 00:48:34,716] Trial 3 finished with value: 38.85538864135742 and parameters: {'reactant': 'CCOC(=O)c1ccc(Cl)c(F)c1', 'reagent': 'c1ccc(P(c2ccccc2)C2CCCCC2)cc1.OB(O)B(O)O'}. Best is trial 1 with value: 46.02680969238281.\n",
      "[I 2025-08-16 00:48:34,937] Trial 4 finished with value: 45.160953521728516 and parameters: {'reactant': 'CCOC(=O)c1cc(Br)cn1CC', 'reagent': 'c1ccc(-c2cc3ccccc3n2P(C2CCCCC2)C2CCCCC2)cc1.OB(O)B(O)O'}. Best is trial 1 with value: 46.02680969238281.\n",
      "[I 2025-08-16 00:48:35,182] Trial 5 finished with value: 38.820796966552734 and parameters: {'reactant': 'Cc1nc2cc(OS(=O)(=O)N(C)C)ccc2s1', 'reagent': 'COc1ccccc1C1=C(P(C2CCCCC2)C2CCCCC2)C2c3ccccc3C1c1ccccc12.OB(O)B(O)O'}. Best is trial 1 with value: 46.02680969238281.\n",
      "[I 2025-08-16 00:48:35,389] Trial 6 finished with value: 40.35536575317383 and parameters: {'reactant': 'Clc1cnc2ccccc2c1', 'reagent': 'c1ccc(P(c2ccccc2)C2CCCCC2)cc1.OB(O)B(O)O'}. Best is trial 1 with value: 46.02680969238281.\n",
      "[I 2025-08-16 00:48:35,600] Trial 7 finished with value: 37.00862503051758 and parameters: {'reactant': 'COc1ccc(Cl)cc1F', 'reagent': 'Cc1ccccc1-c1ccccc1P(C1CCCCC1)C1CCCCC1.OB(O)B(O)O'}. Best is trial 1 with value: 46.02680969238281.\n",
      "[I 2025-08-16 00:48:35,859] Trial 8 finished with value: 44.97385787963867 and parameters: {'reactant': 'CN(C)S(=O)(=O)Oc1ccc2[nH]ccc2c1', 'reagent': 'Cc1cc(C)cc(P(c2cc(C)cc(C)c2)c2cc(C)cc(C)c2)c1.OB(O)B(O)O'}. Best is trial 1 with value: 46.02680969238281.\n",
      "[I 2025-08-16 00:48:36,085] Trial 9 finished with value: 45.51396179199219 and parameters: {'reactant': 'Clc1ccc2c(c1)OCO2', 'reagent': 'c1ccc(P(C2CCCCC2)C2CCCCC2)c(-n2c3ccccc3c3ccccc32)c1.OB(O)B(O)O'}. Best is trial 1 with value: 46.02680969238281.\n",
      "[I 2025-08-16 00:48:36,316] Trial 10 finished with value: 51.23491287231445 and parameters: {'reactant': 'Cc1cccc(C)c1Cl', 'reagent': 'CCCCC1([PH+](C2CCCCC2)C2CCCCC2)c2ccccc2-c2ccccc21.F[B-](F)(F)F.OB(O)B(O)O'}. Best is trial 10 with value: 51.23491287231445.\n",
      "[I 2025-08-16 00:48:36,545] Trial 11 finished with value: 45.16095733642578 and parameters: {'reactant': 'Cc1cccc(C)c1Cl', 'reagent': 'CCCCC1([PH+](C2CCCCC2)C2CCCCC2)c2ccccc2-c2ccccc21.F[B-](F)(F)F.OB(O)B(O)O'}. Best is trial 10 with value: 51.23491287231445.\n",
      "[I 2025-08-16 00:48:36,775] Trial 12 finished with value: 45.70707702636719 and parameters: {'reactant': 'Cc1cccc(C)c1Cl', 'reagent': 'CCCCC1([PH+](C2CCCCC2)C2CCCCC2)c2ccccc2-c2ccccc21.F[B-](F)(F)F.OB(O)B(O)O'}. Best is trial 10 with value: 51.23491287231445.\n",
      "[I 2025-08-16 00:48:37,036] Trial 13 finished with value: 46.597164154052734 and parameters: {'reactant': 'CN(C)S(=O)(=O)Oc1ccc2ncccc2c1', 'reagent': 'CCCCC1([PH+](C2CCCCC2)C2CCCCC2)c2ccccc2-c2ccccc21.F[B-](F)(F)F.OB(O)B(O)O'}. Best is trial 10 with value: 51.23491287231445.\n",
      "[I 2025-08-16 00:48:37,265] Trial 14 finished with value: 44.24304962158203 and parameters: {'reactant': 'Brc1ccc2c(c1)OCO2', 'reagent': 'COc1ccccc1P(c1ccccc1OC)c1ccccc1OC.OB(O)B(O)O'}. Best is trial 10 with value: 51.23491287231445.\n",
      "[I 2025-08-16 00:48:37,475] Trial 15 finished with value: 42.352630615234375 and parameters: {'reactant': 'Cc1c(N)cccc1Cl', 'reagent': 'Fc1ccc(P(c2ccc(F)cc2)c2ccc(F)cc2)cc1.OB(O)B(O)O'}. Best is trial 10 with value: 51.23491287231445.\n",
      "[I 2025-08-16 00:48:37,698] Trial 16 finished with value: 44.52748107910156 and parameters: {'reactant': 'CN(C)S(=O)(=O)Oc1ccc2ncccc2c1', 'reagent': 'COc1ccc(P(c2ccc(OC)cc2)c2ccc(OC)cc2)cc1.OB(O)B(O)O'}. Best is trial 10 with value: 51.23491287231445.\n",
      "[I 2025-08-16 00:48:37,910] Trial 17 finished with value: 40.25847244262695 and parameters: {'reactant': 'COc1cc(Cl)ccc1F', 'reagent': 'CN(C)c1ccccc1-c1ccccc1P(c1ccccc1)c1ccccc1.OB(O)B(O)O'}. Best is trial 10 with value: 51.23491287231445.\n",
      "[I 2025-08-16 00:48:38,166] Trial 18 finished with value: 42.105072021484375 and parameters: {'reactant': 'CN(C)C(=O)c1ccc(Cl)cc1', 'reagent': 'CC(C)c1cc(C(C)C)c(-c2ccccc2P(c2ccccc2)c2ccccc2)c(C(C)C)c1.OB(O)B(O)O'}. Best is trial 10 with value: 51.23491287231445.\n",
      "[I 2025-08-16 00:48:38,416] Trial 19 finished with value: 40.0705451965332 and parameters: {'reactant': 'FC(F)(F)c1ccc(Br)cc1', 'reagent': 'COc1cc(C(C)(C)C)cc(C(C)(C)C)c1-c1ccccc1P(C1CCCCC1)C1CCCCC1.OB(O)B(O)O'}. Best is trial 10 with value: 51.23491287231445.\n",
      "[I 2025-08-16 00:48:38,642] Trial 20 finished with value: 43.24879455566406 and parameters: {'reactant': 'Brc1cnc2ccccc2c1', 'reagent': 'c1ccc(-n2cccc2P(C2CCCCC2)C2CCCCC2)cc1.OB(O)B(O)O'}. Best is trial 10 with value: 51.23491287231445.\n",
      "[I 2025-08-16 00:48:38,890] Trial 21 finished with value: 47.03063201904297 and parameters: {'reactant': 'Cc1cccc(C)c1Cl', 'reagent': 'CCCCC1([PH+](C2CCCCC2)C2CCCCC2)c2ccccc2-c2ccccc21.F[B-](F)(F)F.OB(O)B(O)O'}. Best is trial 10 with value: 51.23491287231445.\n",
      "[I 2025-08-16 00:48:39,118] Trial 22 finished with value: 49.07097625732422 and parameters: {'reactant': 'COc1ncc(Br)c(OC)n1', 'reagent': 'CCCCC1([PH+](C2CCCCC2)C2CCCCC2)c2ccccc2-c2ccccc21.F[B-](F)(F)F.OB(O)B(O)O'}. Best is trial 10 with value: 51.23491287231445.\n",
      "[I 2025-08-16 00:48:39,315] Trial 23 finished with value: 52.94179153442383 and parameters: {'reactant': 'Cc1ncccc1Br', 'reagent': 'C[PH+](C)C.F[B-](F)(F)F.OB(O)B(O)O'}. Best is trial 23 with value: 52.94179153442383.\n",
      "[I 2025-08-16 00:48:39,513] Trial 24 finished with value: 49.35035705566406 and parameters: {'reactant': 'Cc1ncccc1Br', 'reagent': 'C[PH+](C)C.F[B-](F)(F)F.OB(O)B(O)O'}. Best is trial 23 with value: 52.94179153442383.\n",
      "[I 2025-08-16 00:48:39,704] Trial 25 finished with value: 51.72222900390625 and parameters: {'reactant': 'Cc1ncccc1Br', 'reagent': 'C[PH+](C)C.F[B-](F)(F)F.OB(O)B(O)O'}. Best is trial 23 with value: 52.94179153442383.\n",
      "[I 2025-08-16 00:48:39,897] Trial 26 finished with value: 41.78710174560547 and parameters: {'reactant': 'Cc1ncccc1Br', 'reagent': 'COc1cccc(OC)c1-c1ccccc1P(c1ccccc1)c1ccccc1.OB(O)B(O)O'}. Best is trial 23 with value: 52.94179153442383.\n",
      "[I 2025-08-16 00:48:40,094] Trial 27 finished with value: 50.55129623413086 and parameters: {'reactant': 'Cc1ncccc1Br', 'reagent': 'C[PH+](C)C.F[B-](F)(F)F.OB(O)B(O)O'}. Best is trial 23 with value: 52.94179153442383.\n",
      "[I 2025-08-16 00:48:40,294] Trial 28 finished with value: 45.0305061340332 and parameters: {'reactant': 'N#Cc1ccc(Br)cc1F', 'reagent': 'C[PH+](C)C.F[B-](F)(F)F.OB(O)B(O)O'}. Best is trial 23 with value: 52.94179153442383.\n",
      "[I 2025-08-16 00:48:40,517] Trial 29 finished with value: 42.560298919677734 and parameters: {'reactant': 'Brc1ccc(-c2ccccc2)cc1', 'reagent': 'C1CCC([PH+](C2CCCCC2)C2CCCCC2)CC1.F[B-](F)(F)F.OB(O)B(O)O'}. Best is trial 23 with value: 52.94179153442383.\n",
      "[I 2025-08-16 00:48:40,736] Trial 30 finished with value: 44.52971267700195 and parameters: {'reactant': 'N#Cc1ccc(Cl)cc1F', 'reagent': 'c1ccc(-c2ccccc2P(C2CCCCC2)C2CCCCC2)cc1.OB(O)B(O)O'}. Best is trial 23 with value: 52.94179153442383.\n",
      "[I 2025-08-16 00:48:40,936] Trial 31 finished with value: 49.32598876953125 and parameters: {'reactant': 'Cc1ncccc1Br', 'reagent': 'C[PH+](C)C.F[B-](F)(F)F.OB(O)B(O)O'}. Best is trial 23 with value: 52.94179153442383.\n",
      "[I 2025-08-16 00:48:41,194] Trial 32 finished with value: 42.907711029052734 and parameters: {'reactant': 'Brc1ccc2occc2c1', 'reagent': 'c1ccc(-c2nn(-c3ccccc3)c(-c3ccccc3)c2-n2nccc2P(C2CCCCC2)C2CCCCC2)cc1.OB(O)B(O)O'}. Best is trial 23 with value: 52.94179153442383.\n",
      "[I 2025-08-16 00:48:41,425] Trial 33 finished with value: 40.34906005859375 and parameters: {'reactant': 'Brc1ccccc1-c1ccccc1', 'reagent': 'CN(C)c1ccc(P(c2ccccc2)c2ccccc2)cc1.OB(O)B(O)O'}. Best is trial 23 with value: 52.94179153442383.\n",
      "[I 2025-08-16 00:48:41,619] Trial 34 finished with value: 41.57099151611328 and parameters: {'reactant': 'Cc1cc(F)ccc1Cl', 'reagent': 'CC(C)(C)P(c1ccccc1)C(C)(C)C.OB(O)B(O)O'}. Best is trial 23 with value: 52.94179153442383.\n",
      "[I 2025-08-16 00:48:41,820] Trial 35 finished with value: 43.520362854003906 and parameters: {'reactant': 'COC(=O)c1ccc(Br)cc1', 'reagent': 'c1ccc(P(c2ccccc2)c2ccccc2)cc1.OB(O)B(O)O'}. Best is trial 23 with value: 52.94179153442383.\n",
      "[I 2025-08-16 00:48:42,025] Trial 36 finished with value: 48.03284454345703 and parameters: {'reactant': 'Clc1ccc2[nH]ccc2c1', 'reagent': 'C[PH+](C)C.F[B-](F)(F)F.OB(O)B(O)O'}. Best is trial 23 with value: 52.94179153442383.\n",
      "[I 2025-08-16 00:48:42,245] Trial 37 finished with value: 40.8145637512207 and parameters: {'reactant': 'COc1ccc(Br)cc1', 'reagent': 'CC(=C(c1ccccc1)c1ccccc1)P(C1CCCCC1)C1CCCCC1.OB(O)B(O)O'}. Best is trial 23 with value: 52.94179153442383.\n",
      "[I 2025-08-16 00:48:42,476] Trial 38 finished with value: 40.08414840698242 and parameters: {'reactant': 'CCOC(=O)C(C)(C)Oc1ccc(Cl)cc1', 'reagent': 'C[PH+](C)C.F[B-](F)(F)F.OB(O)B(O)O'}. Best is trial 23 with value: 52.94179153442383.\n",
      "[I 2025-08-16 00:48:42,690] Trial 39 finished with value: 39.80751037597656 and parameters: {'reactant': 'COC(=O)c1ccc(Cl)cc1', 'reagent': 'C[PH+](C)C.F[B-](F)(F)F.OB(O)B(O)O'}. Best is trial 23 with value: 52.94179153442383.\n",
      "[I 2025-08-16 00:48:42,906] Trial 40 finished with value: 46.59223556518555 and parameters: {'reactant': 'Cc1ncccc1Br', 'reagent': 'c1ccc(-c2cc3ccccc3n2P(C2CCCCC2)C2CCCCC2)cc1.OB(O)B(O)O'}. Best is trial 23 with value: 52.94179153442383.\n",
      "[I 2025-08-16 00:48:43,096] Trial 41 finished with value: 50.185829162597656 and parameters: {'reactant': 'Cc1ncccc1Br', 'reagent': 'C[PH+](C)C.F[B-](F)(F)F.OB(O)B(O)O'}. Best is trial 23 with value: 52.94179153442383.\n",
      "[I 2025-08-16 00:48:43,314] Trial 42 finished with value: 37.91845703125 and parameters: {'reactant': 'FC(F)(F)c1ccc(Cl)cc1', 'reagent': 'COc1ccccc1C1=C(P(C2CCCCC2)C2CCCCC2)C2c3ccccc3C1c1ccccc12.OB(O)B(O)O'}. Best is trial 23 with value: 52.94179153442383.\n",
      "[I 2025-08-16 00:48:43,689] Trial 43 finished with value: 43.57815933227539 and parameters: {'reactant': 'COc1ccc(Br)cc1F', 'reagent': 'C[PH+](C)C.F[B-](F)(F)F.OB(O)B(O)O'}. Best is trial 23 with value: 52.94179153442383.\n",
      "[I 2025-08-16 00:48:43,904] Trial 44 finished with value: 40.91764831542969 and parameters: {'reactant': 'Clc1ccc(-c2ccccc2)cc1', 'reagent': 'Cc1ccccc1-c1ccccc1P(C1CCCCC1)C1CCCCC1.OB(O)B(O)O'}. Best is trial 23 with value: 52.94179153442383.\n",
      "[I 2025-08-16 00:48:44,125] Trial 45 finished with value: 42.09101104736328 and parameters: {'reactant': 'Brc1ccsc1', 'reagent': 'Cc1cc(C)cc(P(c2cc(C)cc(C)c2)c2cc(C)cc(C)c2)c1.OB(O)B(O)O'}. Best is trial 23 with value: 52.94179153442383.\n",
      "[I 2025-08-16 00:48:44,333] Trial 46 finished with value: 47.48847579956055 and parameters: {'reactant': 'Cc1ncccc1Br', 'reagent': 'c1ccc(P(C2CCCCC2)C2CCCCC2)c(-n2c3ccccc3c3ccccc32)c1.OB(O)B(O)O'}. Best is trial 23 with value: 52.94179153442383.\n",
      "[I 2025-08-16 00:48:44,523] Trial 47 finished with value: 45.324607849121094 and parameters: {'reactant': 'Cc1ncccc1Br', 'reagent': 'c1ccc(P(c2ccccc2)C2CCCCC2)cc1.OB(O)B(O)O'}. Best is trial 23 with value: 52.94179153442383.\n",
      "[I 2025-08-16 00:48:44,730] Trial 48 finished with value: 42.354671478271484 and parameters: {'reactant': 'CN(C)S(=O)(=O)Oc1ccc(-c2ccccc2)cc1', 'reagent': 'COc1ccccc1P(c1ccccc1OC)c1ccccc1OC.OB(O)B(O)O'}. Best is trial 23 with value: 52.94179153442383.\n",
      "[I 2025-08-16 00:48:44,945] Trial 49 finished with value: 46.087703704833984 and parameters: {'reactant': 'CCOC(=O)c1cc(Br)cn1CC', 'reagent': 'Fc1ccc(P(c2ccc(F)cc2)c2ccc(F)cc2)cc1.OB(O)B(O)O'}. Best is trial 23 with value: 52.94179153442383.\n",
      "[I 2025-08-16 00:48:45,154] Trial 50 finished with value: 42.00099182128906 and parameters: {'reactant': 'Clc1cnc2ccccc2c1', 'reagent': 'C[PH+](C)C.F[B-](F)(F)F.OB(O)B(O)O'}. Best is trial 23 with value: 52.94179153442383.\n",
      "[I 2025-08-16 00:48:45,336] Trial 51 finished with value: 50.564361572265625 and parameters: {'reactant': 'Cc1ncccc1Br', 'reagent': 'C[PH+](C)C.F[B-](F)(F)F.OB(O)B(O)O'}. Best is trial 23 with value: 52.94179153442383.\n",
      "[I 2025-08-16 00:48:45,547] Trial 52 finished with value: 42.912506103515625 and parameters: {'reactant': 'CCOC(=O)c1ccc(Cl)c(F)c1', 'reagent': 'C[PH+](C)C.F[B-](F)(F)F.OB(O)B(O)O'}. Best is trial 23 with value: 52.94179153442383.\n",
      "[I 2025-08-16 00:48:45,757] Trial 53 finished with value: 48.216636657714844 and parameters: {'reactant': 'Cc1ncccc1Br', 'reagent': 'COc1ccc(P(c2ccc(OC)cc2)c2ccc(OC)cc2)cc1.OB(O)B(O)O'}. Best is trial 23 with value: 52.94179153442383.\n",
      "[I 2025-08-16 00:48:45,980] Trial 54 finished with value: 42.55990219116211 and parameters: {'reactant': 'CN(C)S(=O)(=O)Oc1ccc2[nH]ccc2c1', 'reagent': 'CN(C)c1ccccc1-c1ccccc1P(c1ccccc1)c1ccccc1.OB(O)B(O)O'}. Best is trial 23 with value: 52.94179153442383.\n",
      "[I 2025-08-16 00:48:46,225] Trial 55 finished with value: 41.48989486694336 and parameters: {'reactant': 'Cc1nc2cc(OS(=O)(=O)N(C)C)ccc2s1', 'reagent': 'CC(C)c1cc(C(C)C)c(-c2ccccc2P(c2ccccc2)c2ccccc2)c(C(C)C)c1.OB(O)B(O)O'}. Best is trial 23 with value: 52.94179153442383.\n",
      "[I 2025-08-16 00:48:46,452] Trial 56 finished with value: 38.72032928466797 and parameters: {'reactant': 'COc1ccc(Cl)cc1F', 'reagent': 'COc1cc(C(C)(C)C)cc(C(C)(C)C)c1-c1ccccc1P(C1CCCCC1)C1CCCCC1.OB(O)B(O)O'}. Best is trial 23 with value: 52.94179153442383.\n",
      "[I 2025-08-16 00:48:46,658] Trial 57 finished with value: 42.3624382019043 and parameters: {'reactant': 'Clc1ccc2c(c1)OCO2', 'reagent': 'C[PH+](C)C.F[B-](F)(F)F.OB(O)B(O)O'}. Best is trial 23 with value: 52.94179153442383.\n",
      "[I 2025-08-16 00:48:46,863] Trial 58 finished with value: 37.4864387512207 and parameters: {'reactant': 'Cc1ncccc1Br', 'reagent': 'COc1cccc(OC)c1-c1ccccc1P(c1ccccc1)c1ccccc1.OB(O)B(O)O'}. Best is trial 23 with value: 52.94179153442383.\n",
      "[I 2025-08-16 00:48:47,072] Trial 59 finished with value: 45.38923645019531 and parameters: {'reactant': 'Cc1cccc(C)c1Cl', 'reagent': 'c1ccc(-n2cccc2P(C2CCCCC2)C2CCCCC2)cc1.OB(O)B(O)O'}. Best is trial 23 with value: 52.94179153442383.\n",
      "[I 2025-08-16 00:48:47,294] Trial 60 finished with value: 44.894283294677734 and parameters: {'reactant': 'Brc1ccc2c(c1)OCO2', 'reagent': 'C1CCC([PH+](C2CCCCC2)C2CCCCC2)CC1.F[B-](F)(F)F.OB(O)B(O)O'}. Best is trial 23 with value: 52.94179153442383.\n",
      "[I 2025-08-16 00:48:47,482] Trial 61 finished with value: 47.92729568481445 and parameters: {'reactant': 'Cc1ncccc1Br', 'reagent': 'C[PH+](C)C.F[B-](F)(F)F.OB(O)B(O)O'}. Best is trial 23 with value: 52.94179153442383.\n",
      "[I 2025-08-16 00:48:47,677] Trial 62 finished with value: 48.815494537353516 and parameters: {'reactant': 'Cc1ncccc1Br', 'reagent': 'C[PH+](C)C.F[B-](F)(F)F.OB(O)B(O)O'}. Best is trial 23 with value: 52.94179153442383.\n",
      "[I 2025-08-16 00:48:47,922] Trial 63 finished with value: 42.15505599975586 and parameters: {'reactant': 'COc1cc(Cl)ccc1F', 'reagent': 'c1ccc(-c2nn(-c3ccccc3)c(-c3ccccc3)c2-n2nccc2P(C2CCCCC2)C2CCCCC2)cc1.OB(O)B(O)O'}. Best is trial 23 with value: 52.94179153442383.\n",
      "[I 2025-08-16 00:48:48,122] Trial 64 finished with value: 44.9454231262207 and parameters: {'reactant': 'Cc1c(N)cccc1Cl', 'reagent': 'c1ccc(-c2ccccc2P(C2CCCCC2)C2CCCCC2)cc1.OB(O)B(O)O'}. Best is trial 23 with value: 52.94179153442383.\n",
      "[I 2025-08-16 00:48:48,375] Trial 65 finished with value: 38.4906005859375 and parameters: {'reactant': 'CN(C)C(=O)c1ccc(Cl)cc1', 'reagent': 'CCCCC1([PH+](C2CCCCC2)C2CCCCC2)c2ccccc2-c2ccccc21.F[B-](F)(F)F.OB(O)B(O)O'}. Best is trial 23 with value: 52.94179153442383.\n",
      "[I 2025-08-16 00:48:48,584] Trial 66 finished with value: 38.44160079956055 and parameters: {'reactant': 'FC(F)(F)c1ccc(Br)cc1', 'reagent': 'CN(C)c1ccc(P(c2ccccc2)c2ccccc2)cc1.OB(O)B(O)O'}. Best is trial 23 with value: 52.94179153442383.\n",
      "[I 2025-08-16 00:48:48,777] Trial 67 finished with value: 47.2071418762207 and parameters: {'reactant': 'Cc1ncccc1Br', 'reagent': 'CC(C)(C)P(c1ccccc1)C(C)(C)C.OB(O)B(O)O'}. Best is trial 23 with value: 52.94179153442383.\n",
      "[I 2025-08-16 00:48:48,978] Trial 68 finished with value: 45.18531799316406 and parameters: {'reactant': 'Brc1cnc2ccccc2c1', 'reagent': 'C[PH+](C)C.F[B-](F)(F)F.OB(O)B(O)O'}. Best is trial 23 with value: 52.94179153442383.\n",
      "[I 2025-08-16 00:48:49,182] Trial 69 finished with value: 42.363304138183594 and parameters: {'reactant': 'Brc1ccc(-c2ccccc2)cc1', 'reagent': 'C[PH+](C)C.F[B-](F)(F)F.OB(O)B(O)O'}. Best is trial 23 with value: 52.94179153442383.\n",
      "[I 2025-08-16 00:48:49,386] Trial 70 finished with value: 43.47767639160156 and parameters: {'reactant': 'N#Cc1ccc(Cl)cc1F', 'reagent': 'c1ccc(P(c2ccccc2)c2ccccc2)cc1.OB(O)B(O)O'}. Best is trial 23 with value: 52.94179153442383.\n",
      "[I 2025-08-16 00:48:49,584] Trial 71 finished with value: 48.555809020996094 and parameters: {'reactant': 'Cc1ncccc1Br', 'reagent': 'C[PH+](C)C.F[B-](F)(F)F.OB(O)B(O)O'}. Best is trial 23 with value: 52.94179153442383.\n",
      "[I 2025-08-16 00:48:49,813] Trial 72 finished with value: 40.508941650390625 and parameters: {'reactant': 'COc1ncc(Br)c(OC)n1', 'reagent': 'CC(=C(c1ccccc1)c1ccccc1)P(C1CCCCC1)C1CCCCC1.OB(O)B(O)O'}. Best is trial 23 with value: 52.94179153442383.\n",
      "[I 2025-08-16 00:48:50,004] Trial 73 finished with value: 50.42744827270508 and parameters: {'reactant': 'Cc1ncccc1Br', 'reagent': 'C[PH+](C)C.F[B-](F)(F)F.OB(O)B(O)O'}. Best is trial 23 with value: 52.94179153442383.\n",
      "[I 2025-08-16 00:48:50,222] Trial 74 finished with value: 41.48482131958008 and parameters: {'reactant': 'CN(C)S(=O)(=O)Oc1ccc2ncccc2c1', 'reagent': 'c1ccc(-c2cc3ccccc3n2P(C2CCCCC2)C2CCCCC2)cc1.OB(O)B(O)O'}. Best is trial 23 with value: 52.94179153442383.\n",
      "[I 2025-08-16 00:48:50,413] Trial 75 finished with value: 50.467185974121094 and parameters: {'reactant': 'Cc1ncccc1Br', 'reagent': 'C[PH+](C)C.F[B-](F)(F)F.OB(O)B(O)O'}. Best is trial 23 with value: 52.94179153442383.\n",
      "[I 2025-08-16 00:48:50,644] Trial 76 finished with value: 43.13043212890625 and parameters: {'reactant': 'N#Cc1ccc(Br)cc1F', 'reagent': 'COc1ccccc1C1=C(P(C2CCCCC2)C2CCCCC2)C2c3ccccc3C1c1ccccc12.OB(O)B(O)O'}. Best is trial 23 with value: 52.94179153442383.\n",
      "[I 2025-08-16 00:48:50,841] Trial 77 finished with value: 45.770198822021484 and parameters: {'reactant': 'Cc1cccc(C)c1Cl', 'reagent': 'C[PH+](C)C.F[B-](F)(F)F.OB(O)B(O)O'}. Best is trial 23 with value: 52.94179153442383.\n",
      "[I 2025-08-16 00:48:51,072] Trial 78 finished with value: 47.06074523925781 and parameters: {'reactant': 'Brc1ccccc1-c1ccccc1', 'reagent': 'CCCCC1([PH+](C2CCCCC2)C2CCCCC2)c2ccccc2-c2ccccc21.F[B-](F)(F)F.OB(O)B(O)O'}. Best is trial 23 with value: 52.94179153442383.\n",
      "[I 2025-08-16 00:48:51,273] Trial 79 finished with value: 45.62890625 and parameters: {'reactant': 'Brc1ccc2occc2c1', 'reagent': 'Cc1ccccc1-c1ccccc1P(C1CCCCC1)C1CCCCC1.OB(O)B(O)O'}. Best is trial 23 with value: 52.94179153442383.\n",
      "[I 2025-08-16 00:48:51,500] Trial 80 finished with value: 41.958534240722656 and parameters: {'reactant': 'Cc1cc(F)ccc1Cl', 'reagent': 'Cc1cc(C)cc(P(c2cc(C)cc(C)c2)c2cc(C)cc(C)c2)c1.OB(O)B(O)O'}. Best is trial 23 with value: 52.94179153442383.\n",
      "[I 2025-08-16 00:48:51,685] Trial 81 finished with value: 49.87050247192383 and parameters: {'reactant': 'Cc1ncccc1Br', 'reagent': 'C[PH+](C)C.F[B-](F)(F)F.OB(O)B(O)O'}. Best is trial 23 with value: 52.94179153442383.\n",
      "[I 2025-08-16 00:48:51,886] Trial 82 finished with value: 49.802589416503906 and parameters: {'reactant': 'Cc1ncccc1Br', 'reagent': 'C[PH+](C)C.F[B-](F)(F)F.OB(O)B(O)O'}. Best is trial 23 with value: 52.94179153442383.\n",
      "[I 2025-08-16 00:48:52,076] Trial 83 finished with value: 53.424991607666016 and parameters: {'reactant': 'Cc1ncccc1Br', 'reagent': 'C[PH+](C)C.F[B-](F)(F)F.OB(O)B(O)O'}. Best is trial 83 with value: 53.424991607666016.\n",
      "[I 2025-08-16 00:48:52,282] Trial 84 finished with value: 36.2464599609375 and parameters: {'reactant': 'COc1ccc(Br)cc1', 'reagent': 'c1ccc(P(C2CCCCC2)C2CCCCC2)c(-n2c3ccccc3c3ccccc32)c1.OB(O)B(O)O'}. Best is trial 83 with value: 53.424991607666016.\n",
      "[I 2025-08-16 00:48:52,484] Trial 85 finished with value: 40.85371398925781 and parameters: {'reactant': 'COC(=O)c1ccc(Cl)cc1', 'reagent': 'c1ccc(P(c2ccccc2)C2CCCCC2)cc1.OB(O)B(O)O'}. Best is trial 83 with value: 53.424991607666016.\n",
      "[I 2025-08-16 00:48:52,695] Trial 86 finished with value: 45.21332550048828 and parameters: {'reactant': 'COC(=O)c1ccc(Br)cc1', 'reagent': 'C[PH+](C)C.F[B-](F)(F)F.OB(O)B(O)O'}. Best is trial 83 with value: 53.424991607666016.\n",
      "[I 2025-08-16 00:48:52,888] Trial 87 finished with value: 45.99243927001953 and parameters: {'reactant': 'Cc1ncccc1Br', 'reagent': 'COc1ccccc1P(c1ccccc1OC)c1ccccc1OC.OB(O)B(O)O'}. Best is trial 83 with value: 53.424991607666016.\n",
      "[I 2025-08-16 00:48:53,102] Trial 88 finished with value: 46.59504699707031 and parameters: {'reactant': 'Clc1ccc2[nH]ccc2c1', 'reagent': 'Fc1ccc(P(c2ccc(F)cc2)c2ccc(F)cc2)cc1.OB(O)B(O)O'}. Best is trial 83 with value: 53.424991607666016.\n",
      "[I 2025-08-16 00:48:53,341] Trial 89 finished with value: 42.89887619018555 and parameters: {'reactant': 'CCOC(=O)C(C)(C)Oc1ccc(Cl)cc1', 'reagent': 'COc1ccc(P(c2ccc(OC)cc2)c2ccc(OC)cc2)cc1.OB(O)B(O)O'}. Best is trial 83 with value: 53.424991607666016.\n",
      "[I 2025-08-16 00:48:53,563] Trial 90 finished with value: 39.853965759277344 and parameters: {'reactant': 'FC(F)(F)c1ccc(Cl)cc1', 'reagent': 'C[PH+](C)C.F[B-](F)(F)F.OB(O)B(O)O'}. Best is trial 83 with value: 53.424991607666016.\n",
      "[I 2025-08-16 00:48:53,749] Trial 91 finished with value: 50.47804260253906 and parameters: {'reactant': 'Cc1ncccc1Br', 'reagent': 'C[PH+](C)C.F[B-](F)(F)F.OB(O)B(O)O'}. Best is trial 83 with value: 53.424991607666016.\n",
      "[I 2025-08-16 00:48:53,942] Trial 92 finished with value: 51.060325622558594 and parameters: {'reactant': 'Cc1ncccc1Br', 'reagent': 'C[PH+](C)C.F[B-](F)(F)F.OB(O)B(O)O'}. Best is trial 83 with value: 53.424991607666016.\n",
      "[I 2025-08-16 00:48:54,145] Trial 93 finished with value: 43.88648986816406 and parameters: {'reactant': 'COc1ccc(Br)cc1F', 'reagent': 'C[PH+](C)C.F[B-](F)(F)F.OB(O)B(O)O'}. Best is trial 83 with value: 53.424991607666016.\n",
      "[I 2025-08-16 00:48:54,362] Trial 94 finished with value: 42.16204833984375 and parameters: {'reactant': 'Cc1ncccc1Br', 'reagent': 'CC(C)c1cc(C(C)C)c(-c2ccccc2P(c2ccccc2)c2ccccc2)c(C(C)C)c1.OB(O)B(O)O'}. Best is trial 83 with value: 53.424991607666016.\n",
      "[I 2025-08-16 00:48:54,551] Trial 95 finished with value: 44.377777099609375 and parameters: {'reactant': 'Cc1ncccc1Br', 'reagent': 'CN(C)c1ccccc1-c1ccccc1P(c1ccccc1)c1ccccc1.OB(O)B(O)O'}. Best is trial 83 with value: 53.424991607666016.\n",
      "[I 2025-08-16 00:48:54,795] Trial 96 finished with value: 41.3704948425293 and parameters: {'reactant': 'CN(C)S(=O)(=O)Oc1ccc(-c2ccccc2)cc1', 'reagent': 'COc1cc(C(C)(C)C)cc(C(C)(C)C)c1-c1ccccc1P(C1CCCCC1)C1CCCCC1.OB(O)B(O)O'}. Best is trial 83 with value: 53.424991607666016.\n",
      "[I 2025-08-16 00:48:54,997] Trial 97 finished with value: 43.91366195678711 and parameters: {'reactant': 'CCOC(=O)c1cc(Br)cn1CC', 'reagent': 'C[PH+](C)C.F[B-](F)(F)F.OB(O)B(O)O'}. Best is trial 83 with value: 53.424991607666016.\n",
      "[I 2025-08-16 00:48:55,208] Trial 98 finished with value: 40.873191833496094 and parameters: {'reactant': 'CCOC(=O)c1ccc(Cl)c(F)c1', 'reagent': 'C[PH+](C)C.F[B-](F)(F)F.OB(O)B(O)O'}. Best is trial 83 with value: 53.424991607666016.\n",
      "[I 2025-08-16 00:48:55,402] Trial 99 finished with value: 48.94797897338867 and parameters: {'reactant': 'Cc1ncccc1Br', 'reagent': 'c1ccc(-n2cccc2P(C2CCCCC2)C2CCCCC2)cc1.OB(O)B(O)O'}. Best is trial 83 with value: 53.424991607666016.\n"
     ]
    },
    {
     "name": "stdout",
     "output_type": "stream",
     "text": [
      "[Round 2] Fine-tuning on 160 samples, eval 40 samples\n",
      "{'loss': 611.8536, 'grad_norm': 3629.64990234375, 'learning_rate': 1e-05, 'epoch': 5.0}\n",
      "{'train_runtime': 3.1457, 'train_samples_per_second': 254.319, 'train_steps_per_second': 15.895, 'train_loss': 611.85359375, 'epoch': 5.0}\n",
      "\n",
      "==== Round 3/5 ====\n"
     ]
    },
    {
     "name": "stderr",
     "output_type": "stream",
     "text": [
      "[I 2025-08-16 00:48:59,944] A new study created in RDB with name: yield_round_3\n",
      "[I 2025-08-16 00:49:00,174] Trial 0 finished with value: 45.09058380126953 and parameters: {'reactant': 'CN(C)S(=O)(=O)Oc1ccc2ncccc2c1', 'reagent': 'c1ccc(-n2cccc2P(C2CCCCC2)C2CCCCC2)cc1.OB(O)B(O)O'}. Best is trial 0 with value: 45.09058380126953.\n",
      "[I 2025-08-16 00:49:00,391] Trial 1 finished with value: 40.07600784301758 and parameters: {'reactant': 'COc1cc(Cl)ccc1F', 'reagent': 'c1ccc(-c2ccccc2P(C2CCCCC2)C2CCCCC2)cc1.OB(O)B(O)O'}. Best is trial 0 with value: 45.09058380126953.\n",
      "[I 2025-08-16 00:49:00,612] Trial 2 finished with value: 50.50110626220703 and parameters: {'reactant': 'COc1ccc(Cl)cc1F', 'reagent': 'c1ccc(P(C2CCCCC2)C2CCCCC2)c(-n2c3ccccc3c3ccccc32)c1.OB(O)B(O)O'}. Best is trial 2 with value: 50.50110626220703.\n",
      "[I 2025-08-16 00:49:00,833] Trial 3 finished with value: 41.175575256347656 and parameters: {'reactant': 'FC(F)(F)c1ccc(Br)cc1', 'reagent': 'CC(C)(C)P(c1ccccc1)C(C)(C)C.OB(O)B(O)O'}. Best is trial 2 with value: 50.50110626220703.\n",
      "[I 2025-08-16 00:49:01,052] Trial 4 finished with value: 46.733543395996094 and parameters: {'reactant': 'Brc1ccc2c(c1)OCO2', 'reagent': 'COc1ccc(P(c2ccc(OC)cc2)c2ccc(OC)cc2)cc1.OB(O)B(O)O'}. Best is trial 2 with value: 50.50110626220703.\n",
      "[I 2025-08-16 00:49:01,313] Trial 5 finished with value: 42.07791519165039 and parameters: {'reactant': 'CN(C)S(=O)(=O)Oc1ccc(-c2ccccc2)cc1', 'reagent': 'Cc1cc(C)cc(P(c2cc(C)cc(C)c2)c2cc(C)cc(C)c2)c1.OB(O)B(O)O'}. Best is trial 2 with value: 50.50110626220703.\n",
      "[I 2025-08-16 00:49:01,534] Trial 6 finished with value: 34.864723205566406 and parameters: {'reactant': 'Clc1cnc2ccccc2c1', 'reagent': 'COc1ccccc1C1=C(P(C2CCCCC2)C2CCCCC2)C2c3ccccc3C1c1ccccc12.OB(O)B(O)O'}. Best is trial 2 with value: 50.50110626220703.\n",
      "[I 2025-08-16 00:49:01,756] Trial 7 finished with value: 43.02531051635742 and parameters: {'reactant': 'CCOC(=O)C(C)(C)Oc1ccc(Cl)cc1', 'reagent': 'c1ccc(P(c2ccccc2)C2CCCCC2)cc1.OB(O)B(O)O'}. Best is trial 2 with value: 50.50110626220703.\n",
      "[I 2025-08-16 00:49:01,967] Trial 8 finished with value: 39.049232482910156 and parameters: {'reactant': 'Clc1ccc(-c2ccccc2)cc1', 'reagent': 'c1ccc(-c2ccccc2P(C2CCCCC2)C2CCCCC2)cc1.OB(O)B(O)O'}. Best is trial 2 with value: 50.50110626220703.\n",
      "[I 2025-08-16 00:49:02,192] Trial 9 finished with value: 40.34454345703125 and parameters: {'reactant': 'COc1ccc(Cl)cc1F', 'reagent': 'C[PH+](C)C.F[B-](F)(F)F.OB(O)B(O)O'}. Best is trial 2 with value: 50.50110626220703.\n",
      "[I 2025-08-16 00:49:02,426] Trial 10 finished with value: 55.39683532714844 and parameters: {'reactant': 'CCOC(=O)c1ccc(Cl)c(F)c1', 'reagent': 'c1ccc(P(C2CCCCC2)C2CCCCC2)c(-n2c3ccccc3c3ccccc32)c1.OB(O)B(O)O'}. Best is trial 10 with value: 55.39683532714844.\n",
      "[I 2025-08-16 00:49:02,645] Trial 11 finished with value: 52.73044204711914 and parameters: {'reactant': 'Brc1ccc2occc2c1', 'reagent': 'c1ccc(P(C2CCCCC2)C2CCCCC2)c(-n2c3ccccc3c3ccccc32)c1.OB(O)B(O)O'}. Best is trial 10 with value: 55.39683532714844.\n",
      "[I 2025-08-16 00:49:02,874] Trial 12 finished with value: 55.48221969604492 and parameters: {'reactant': 'Brc1ccc2occc2c1', 'reagent': 'c1ccc(P(C2CCCCC2)C2CCCCC2)c(-n2c3ccccc3c3ccccc32)c1.OB(O)B(O)O'}. Best is trial 12 with value: 55.48221969604492.\n",
      "[I 2025-08-16 00:49:03,143] Trial 13 finished with value: 39.688053131103516 and parameters: {'reactant': 'CCOC(=O)c1ccc(Cl)c(F)c1', 'reagent': 'Fc1ccc(P(c2ccc(F)cc2)c2ccc(F)cc2)cc1.OB(O)B(O)O'}. Best is trial 12 with value: 55.48221969604492.\n",
      "[I 2025-08-16 00:49:03,352] Trial 14 finished with value: 49.96428680419922 and parameters: {'reactant': 'Brc1ccc2occc2c1', 'reagent': 'c1ccc(P(C2CCCCC2)C2CCCCC2)c(-n2c3ccccc3c3ccccc32)c1.OB(O)B(O)O'}. Best is trial 12 with value: 55.48221969604492.\n",
      "[I 2025-08-16 00:49:03,576] Trial 15 finished with value: 47.38453674316406 and parameters: {'reactant': 'Cc1cccc(C)c1Cl', 'reagent': 'CC(C)c1cc(C(C)C)c(-c2ccccc2P(c2ccccc2)c2ccccc2)c(C(C)C)c1.OB(O)B(O)O'}. Best is trial 12 with value: 55.48221969604492.\n",
      "[I 2025-08-16 00:49:03,772] Trial 16 finished with value: 48.30595779418945 and parameters: {'reactant': 'Brc1ccsc1', 'reagent': 'CN(C)c1ccc(P(c2ccccc2)c2ccccc2)cc1.OB(O)B(O)O'}. Best is trial 12 with value: 55.48221969604492.\n",
      "[I 2025-08-16 00:49:04,021] Trial 17 finished with value: 42.60411834716797 and parameters: {'reactant': 'CN(C)S(=O)(=O)Oc1ccc2[nH]ccc2c1', 'reagent': 'CCCCC1([PH+](C2CCCCC2)C2CCCCC2)c2ccccc2-c2ccccc21.F[B-](F)(F)F.OB(O)B(O)O'}. Best is trial 12 with value: 55.48221969604492.\n",
      "[I 2025-08-16 00:49:04,226] Trial 18 finished with value: 36.89141845703125 and parameters: {'reactant': 'Brc1ccccc1-c1ccccc1', 'reagent': 'COc1cccc(OC)c1-c1ccccc1P(c1ccccc1)c1ccccc1.OB(O)B(O)O'}. Best is trial 12 with value: 55.48221969604492.\n",
      "[I 2025-08-16 00:49:04,432] Trial 19 finished with value: 41.5832633972168 and parameters: {'reactant': 'COC(=O)c1ccc(Br)cc1', 'reagent': 'COc1ccccc1P(c1ccccc1OC)c1ccccc1OC.OB(O)B(O)O'}. Best is trial 12 with value: 55.48221969604492.\n",
      "[I 2025-08-16 00:49:04,673] Trial 20 finished with value: 42.067100524902344 and parameters: {'reactant': 'COc1ncc(Br)c(OC)n1', 'reagent': 'c1ccc(-c2nn(-c3ccccc3)c(-c3ccccc3)c2-n2nccc2P(C2CCCCC2)C2CCCCC2)cc1.OB(O)B(O)O'}. Best is trial 12 with value: 55.48221969604492.\n",
      "[I 2025-08-16 00:49:04,893] Trial 21 finished with value: 46.3376350402832 and parameters: {'reactant': 'CCOC(=O)c1cc(Br)cn1CC', 'reagent': 'c1ccc(P(C2CCCCC2)C2CCCCC2)c(-n2c3ccccc3c3ccccc32)c1.OB(O)B(O)O'}. Best is trial 12 with value: 55.48221969604492.\n",
      "[I 2025-08-16 00:49:05,107] Trial 22 finished with value: 51.251136779785156 and parameters: {'reactant': 'Brc1ccc2occc2c1', 'reagent': 'c1ccc(P(C2CCCCC2)C2CCCCC2)c(-n2c3ccccc3c3ccccc32)c1.OB(O)B(O)O'}. Best is trial 12 with value: 55.48221969604492.\n",
      "[I 2025-08-16 00:49:05,304] Trial 23 finished with value: 47.69898223876953 and parameters: {'reactant': 'Brc1ccc2occc2c1', 'reagent': 'CC(=C(c1ccccc1)c1ccccc1)P(C1CCCCC1)C1CCCCC1.OB(O)B(O)O'}. Best is trial 12 with value: 55.48221969604492.\n",
      "[I 2025-08-16 00:49:05,527] Trial 24 finished with value: 43.25810623168945 and parameters: {'reactant': 'Brc1ccc(-c2ccccc2)cc1', 'reagent': 'C1CCC([PH+](C2CCCCC2)C2CCCCC2)CC1.F[B-](F)(F)F.OB(O)B(O)O'}. Best is trial 12 with value: 55.48221969604492.\n",
      "[I 2025-08-16 00:49:05,730] Trial 25 finished with value: 40.485469818115234 and parameters: {'reactant': 'Cc1cc(F)ccc1Cl', 'reagent': 'c1ccc(-c2cc3ccccc3n2P(C2CCCCC2)C2CCCCC2)cc1.OB(O)B(O)O'}. Best is trial 12 with value: 55.48221969604492.\n",
      "[I 2025-08-16 00:49:05,963] Trial 26 finished with value: 41.184085845947266 and parameters: {'reactant': 'N#Cc1ccc(Cl)cc1F', 'reagent': 'COc1cc(C(C)(C)C)cc(C(C)(C)C)c1-c1ccccc1P(C1CCCCC1)C1CCCCC1.OB(O)B(O)O'}. Best is trial 12 with value: 55.48221969604492.\n",
      "[I 2025-08-16 00:49:06,174] Trial 27 finished with value: 44.915016174316406 and parameters: {'reactant': 'COc1ccc(Br)cc1', 'reagent': 'Cc1ccccc1-c1ccccc1P(C1CCCCC1)C1CCCCC1.OB(O)B(O)O'}. Best is trial 12 with value: 55.48221969604492.\n",
      "[I 2025-08-16 00:49:06,382] Trial 28 finished with value: 61.66082763671875 and parameters: {'reactant': 'Cc1ncccc1Br', 'reagent': 'c1ccc(P(C2CCCCC2)C2CCCCC2)c(-n2c3ccccc3c3ccccc32)c1.OB(O)B(O)O'}. Best is trial 28 with value: 61.66082763671875.\n",
      "[I 2025-08-16 00:49:06,589] Trial 29 finished with value: 43.9939079284668 and parameters: {'reactant': 'COC(=O)c1ccc(Cl)cc1', 'reagent': 'c1ccc(P(c2ccccc2)c2ccccc2)cc1.OB(O)B(O)O'}. Best is trial 28 with value: 61.66082763671875.\n",
      "[I 2025-08-16 00:49:06,802] Trial 30 finished with value: 54.13862609863281 and parameters: {'reactant': 'Cc1c(N)cccc1Cl', 'reagent': 'c1ccc(P(C2CCCCC2)C2CCCCC2)c(-n2c3ccccc3c3ccccc32)c1.OB(O)B(O)O'}. Best is trial 28 with value: 61.66082763671875.\n",
      "[I 2025-08-16 00:49:06,996] Trial 31 finished with value: 51.34315490722656 and parameters: {'reactant': 'Cc1ncccc1Br', 'reagent': 'CN(C)c1ccccc1-c1ccccc1P(c1ccccc1)c1ccccc1.OB(O)B(O)O'}. Best is trial 28 with value: 61.66082763671875.\n",
      "[I 2025-08-16 00:49:07,203] Trial 32 finished with value: 36.548648834228516 and parameters: {'reactant': 'CN(C)C(=O)c1ccc(Cl)cc1', 'reagent': 'c1ccc(-n2cccc2P(C2CCCCC2)C2CCCCC2)cc1.OB(O)B(O)O'}. Best is trial 28 with value: 61.66082763671875.\n",
      "[I 2025-08-16 00:49:07,419] Trial 33 finished with value: 55.17964172363281 and parameters: {'reactant': 'Cc1c(N)cccc1Cl', 'reagent': 'c1ccc(P(C2CCCCC2)C2CCCCC2)c(-n2c3ccccc3c3ccccc32)c1.OB(O)B(O)O'}. Best is trial 28 with value: 61.66082763671875.\n",
      "[I 2025-08-16 00:49:07,627] Trial 34 finished with value: 39.12303924560547 and parameters: {'reactant': 'Brc1cnc2ccccc2c1', 'reagent': 'c1ccc(P(C2CCCCC2)C2CCCCC2)c(-n2c3ccccc3c3ccccc32)c1.OB(O)B(O)O'}. Best is trial 28 with value: 61.66082763671875.\n",
      "[I 2025-08-16 00:49:07,843] Trial 35 finished with value: 45.01188278198242 and parameters: {'reactant': 'Clc1ccc2[nH]ccc2c1', 'reagent': 'c1ccc(P(C2CCCCC2)C2CCCCC2)c(-n2c3ccccc3c3ccccc32)c1.OB(O)B(O)O'}. Best is trial 28 with value: 61.66082763671875.\n",
      "[I 2025-08-16 00:49:08,056] Trial 36 finished with value: 40.1440315246582 and parameters: {'reactant': 'Cc1nc2cc(OS(=O)(=O)N(C)C)ccc2s1', 'reagent': 'CC(C)(C)P(c1ccccc1)C(C)(C)C.OB(O)B(O)O'}. Best is trial 28 with value: 61.66082763671875.\n",
      "[I 2025-08-16 00:49:08,263] Trial 37 finished with value: 40.2662467956543 and parameters: {'reactant': 'COc1ccc(Br)cc1F', 'reagent': 'COc1ccc(P(c2ccc(OC)cc2)c2ccc(OC)cc2)cc1.OB(O)B(O)O'}. Best is trial 28 with value: 61.66082763671875.\n",
      "[I 2025-08-16 00:49:08,485] Trial 38 finished with value: 43.15304183959961 and parameters: {'reactant': 'Clc1ccc2c(c1)OCO2', 'reagent': 'Cc1cc(C)cc(P(c2cc(C)cc(C)c2)c2cc(C)cc(C)c2)c1.OB(O)B(O)O'}. Best is trial 28 with value: 61.66082763671875.\n",
      "[I 2025-08-16 00:49:08,713] Trial 39 finished with value: 44.2490234375 and parameters: {'reactant': 'N#Cc1ccc(Br)cc1F', 'reagent': 'COc1ccccc1C1=C(P(C2CCCCC2)C2CCCCC2)C2c3ccccc3C1c1ccccc12.OB(O)B(O)O'}. Best is trial 28 with value: 61.66082763671875.\n",
      "[I 2025-08-16 00:49:08,927] Trial 40 finished with value: 36.854671478271484 and parameters: {'reactant': 'FC(F)(F)c1ccc(Cl)cc1', 'reagent': 'c1ccc(P(c2ccccc2)C2CCCCC2)cc1.OB(O)B(O)O'}. Best is trial 28 with value: 61.66082763671875.\n",
      "[I 2025-08-16 00:49:09,151] Trial 41 finished with value: 45.70316696166992 and parameters: {'reactant': 'CN(C)S(=O)(=O)Oc1ccc2ncccc2c1', 'reagent': 'c1ccc(P(C2CCCCC2)C2CCCCC2)c(-n2c3ccccc3c3ccccc32)c1.OB(O)B(O)O'}. Best is trial 28 with value: 61.66082763671875.\n",
      "[I 2025-08-16 00:49:09,360] Trial 42 finished with value: 49.48446273803711 and parameters: {'reactant': 'Cc1c(N)cccc1Cl', 'reagent': 'c1ccc(P(C2CCCCC2)C2CCCCC2)c(-n2c3ccccc3c3ccccc32)c1.OB(O)B(O)O'}. Best is trial 28 with value: 61.66082763671875.\n",
      "[I 2025-08-16 00:49:09,572] Trial 43 finished with value: 53.74972152709961 and parameters: {'reactant': 'Cc1c(N)cccc1Cl', 'reagent': 'c1ccc(P(C2CCCCC2)C2CCCCC2)c(-n2c3ccccc3c3ccccc32)c1.OB(O)B(O)O'}. Best is trial 28 with value: 61.66082763671875.\n",
      "[I 2025-08-16 00:49:09,783] Trial 44 finished with value: 37.833683013916016 and parameters: {'reactant': 'CCOC(=O)c1ccc(Cl)c(F)c1', 'reagent': 'C[PH+](C)C.F[B-](F)(F)F.OB(O)B(O)O'}. Best is trial 28 with value: 61.66082763671875.\n",
      "[I 2025-08-16 00:49:09,976] Trial 45 finished with value: 59.03561019897461 and parameters: {'reactant': 'Cc1ncccc1Br', 'reagent': 'Fc1ccc(P(c2ccc(F)cc2)c2ccc(F)cc2)cc1.OB(O)B(O)O'}. Best is trial 28 with value: 61.66082763671875.\n",
      "[I 2025-08-16 00:49:10,183] Trial 46 finished with value: 54.726654052734375 and parameters: {'reactant': 'Cc1ncccc1Br', 'reagent': 'Fc1ccc(P(c2ccc(F)cc2)c2ccc(F)cc2)cc1.OB(O)B(O)O'}. Best is trial 28 with value: 61.66082763671875.\n",
      "[I 2025-08-16 00:49:10,381] Trial 47 finished with value: 43.77541732788086 and parameters: {'reactant': 'COc1cc(Cl)ccc1F', 'reagent': 'Fc1ccc(P(c2ccc(F)cc2)c2ccc(F)cc2)cc1.OB(O)B(O)O'}. Best is trial 28 with value: 61.66082763671875.\n",
      "[I 2025-08-16 00:49:10,583] Trial 48 finished with value: 51.274837493896484 and parameters: {'reactant': 'Cc1ncccc1Br', 'reagent': 'c1ccc(-c2ccccc2P(C2CCCCC2)C2CCCCC2)cc1.OB(O)B(O)O'}. Best is trial 28 with value: 61.66082763671875.\n",
      "[I 2025-08-16 00:49:10,826] Trial 49 finished with value: 32.61703109741211 and parameters: {'reactant': 'CN(C)S(=O)(=O)Oc1ccc(-c2ccccc2)cc1', 'reagent': 'CC(C)c1cc(C(C)C)c(-c2ccccc2P(c2ccccc2)c2ccccc2)c(C(C)C)c1.OB(O)B(O)O'}. Best is trial 28 with value: 61.66082763671875.\n",
      "[I 2025-08-16 00:49:11,052] Trial 50 finished with value: 38.86402893066406 and parameters: {'reactant': 'Clc1cnc2ccccc2c1', 'reagent': 'CCCCC1([PH+](C2CCCCC2)C2CCCCC2)c2ccccc2-c2ccccc21.F[B-](F)(F)F.OB(O)B(O)O'}. Best is trial 28 with value: 61.66082763671875.\n",
      "[I 2025-08-16 00:49:11,252] Trial 51 finished with value: 53.79595947265625 and parameters: {'reactant': 'Cc1ncccc1Br', 'reagent': 'Fc1ccc(P(c2ccc(F)cc2)c2ccc(F)cc2)cc1.OB(O)B(O)O'}. Best is trial 28 with value: 61.66082763671875.\n",
      "[I 2025-08-16 00:49:11,447] Trial 52 finished with value: 56.551361083984375 and parameters: {'reactant': 'Cc1ncccc1Br', 'reagent': 'Fc1ccc(P(c2ccc(F)cc2)c2ccc(F)cc2)cc1.OB(O)B(O)O'}. Best is trial 28 with value: 61.66082763671875.\n",
      "[I 2025-08-16 00:49:11,662] Trial 53 finished with value: 38.89994812011719 and parameters: {'reactant': 'CCOC(=O)c1ccc(Cl)c(F)c1', 'reagent': 'Fc1ccc(P(c2ccc(F)cc2)c2ccc(F)cc2)cc1.OB(O)B(O)O'}. Best is trial 28 with value: 61.66082763671875.\n",
      "[I 2025-08-16 00:49:11,893] Trial 54 finished with value: 39.779052734375 and parameters: {'reactant': 'CCOC(=O)C(C)(C)Oc1ccc(Cl)cc1', 'reagent': 'COc1cccc(OC)c1-c1ccccc1P(c1ccccc1)c1ccccc1.OB(O)B(O)O'}. Best is trial 28 with value: 61.66082763671875.\n",
      "[I 2025-08-16 00:49:12,088] Trial 55 finished with value: 59.965633392333984 and parameters: {'reactant': 'Cc1ncccc1Br', 'reagent': 'CC(=C(c1ccccc1)c1ccccc1)P(C1CCCCC1)C1CCCCC1.OB(O)B(O)O'}. Best is trial 28 with value: 61.66082763671875.\n",
      "[I 2025-08-16 00:49:12,296] Trial 56 finished with value: 42.02577590942383 and parameters: {'reactant': 'FC(F)(F)c1ccc(Br)cc1', 'reagent': 'CC(=C(c1ccccc1)c1ccccc1)P(C1CCCCC1)C1CCCCC1.OB(O)B(O)O'}. Best is trial 28 with value: 61.66082763671875.\n",
      "[I 2025-08-16 00:49:12,512] Trial 57 finished with value: 46.37101364135742 and parameters: {'reactant': 'Brc1ccc2c(c1)OCO2', 'reagent': 'CC(=C(c1ccccc1)c1ccccc1)P(C1CCCCC1)C1CCCCC1.OB(O)B(O)O'}. Best is trial 28 with value: 61.66082763671875.\n",
      "[I 2025-08-16 00:49:12,703] Trial 58 finished with value: 62.31349182128906 and parameters: {'reactant': 'Cc1ncccc1Br', 'reagent': 'CN(C)c1ccc(P(c2ccccc2)c2ccccc2)cc1.OB(O)B(O)O'}. Best is trial 58 with value: 62.31349182128906.\n",
      "[I 2025-08-16 00:49:12,892] Trial 59 finished with value: 50.84498977661133 and parameters: {'reactant': 'Cc1ncccc1Br', 'reagent': 'CN(C)c1ccc(P(c2ccccc2)c2ccccc2)cc1.OB(O)B(O)O'}. Best is trial 58 with value: 62.31349182128906.\n",
      "[I 2025-08-16 00:49:13,082] Trial 60 finished with value: 49.9078483581543 and parameters: {'reactant': 'Cc1ncccc1Br', 'reagent': 'CN(C)c1ccc(P(c2ccccc2)c2ccccc2)cc1.OB(O)B(O)O'}. Best is trial 58 with value: 62.31349182128906.\n",
      "[I 2025-08-16 00:49:13,295] Trial 61 finished with value: 47.013099670410156 and parameters: {'reactant': 'Cc1ncccc1Br', 'reagent': 'COc1cc(C(C)(C)C)cc(C(C)(C)C)c1-c1ccccc1P(C1CCCCC1)C1CCCCC1.OB(O)B(O)O'}. Best is trial 58 with value: 62.31349182128906.\n",
      "[I 2025-08-16 00:49:13,503] Trial 62 finished with value: 38.1207275390625 and parameters: {'reactant': 'Clc1ccc(-c2ccccc2)cc1', 'reagent': 'COc1ccccc1P(c1ccccc1OC)c1ccccc1OC.OB(O)B(O)O'}. Best is trial 58 with value: 62.31349182128906.\n",
      "[I 2025-08-16 00:49:13,723] Trial 63 finished with value: 42.365055084228516 and parameters: {'reactant': 'Cc1cccc(C)c1Cl', 'reagent': 'c1ccc(-c2nn(-c3ccccc3)c(-c3ccccc3)c2-n2nccc2P(C2CCCCC2)C2CCCCC2)cc1.OB(O)B(O)O'}. Best is trial 58 with value: 62.31349182128906.\n",
      "[I 2025-08-16 00:49:13,956] Trial 64 finished with value: 42.28993225097656 and parameters: {'reactant': 'CN(C)S(=O)(=O)Oc1ccc2[nH]ccc2c1', 'reagent': 'c1ccc(-c2cc3ccccc3n2P(C2CCCCC2)C2CCCCC2)cc1.OB(O)B(O)O'}. Best is trial 58 with value: 62.31349182128906.\n",
      "[I 2025-08-16 00:49:14,156] Trial 65 finished with value: 50.14885711669922 and parameters: {'reactant': 'Brc1ccsc1', 'reagent': 'C1CCC([PH+](C2CCCCC2)C2CCCCC2)CC1.F[B-](F)(F)F.OB(O)B(O)O'}. Best is trial 58 with value: 62.31349182128906.\n",
      "[I 2025-08-16 00:49:14,356] Trial 66 finished with value: 37.96887969970703 and parameters: {'reactant': 'COc1ccc(Cl)cc1F', 'reagent': 'c1ccc(P(c2ccccc2)c2ccccc2)cc1.OB(O)B(O)O'}. Best is trial 58 with value: 62.31349182128906.\n",
      "[I 2025-08-16 00:49:14,552] Trial 67 finished with value: 58.35166549682617 and parameters: {'reactant': 'Cc1ncccc1Br', 'reagent': 'Cc1ccccc1-c1ccccc1P(C1CCCCC1)C1CCCCC1.OB(O)B(O)O'}. Best is trial 58 with value: 62.31349182128906.\n",
      "[I 2025-08-16 00:49:14,756] Trial 68 finished with value: 58.48728942871094 and parameters: {'reactant': 'Cc1ncccc1Br', 'reagent': 'Cc1ccccc1-c1ccccc1P(C1CCCCC1)C1CCCCC1.OB(O)B(O)O'}. Best is trial 58 with value: 62.31349182128906.\n",
      "[I 2025-08-16 00:49:14,942] Trial 69 finished with value: 55.90032196044922 and parameters: {'reactant': 'Cc1ncccc1Br', 'reagent': 'Cc1ccccc1-c1ccccc1P(C1CCCCC1)C1CCCCC1.OB(O)B(O)O'}. Best is trial 58 with value: 62.31349182128906.\n",
      "[I 2025-08-16 00:49:15,244] Trial 70 finished with value: 56.76112365722656 and parameters: {'reactant': 'Cc1ncccc1Br', 'reagent': 'Cc1ccccc1-c1ccccc1P(C1CCCCC1)C1CCCCC1.OB(O)B(O)O'}. Best is trial 58 with value: 62.31349182128906.\n",
      "[I 2025-08-16 00:49:15,448] Trial 71 finished with value: 58.91390609741211 and parameters: {'reactant': 'Cc1ncccc1Br', 'reagent': 'Cc1ccccc1-c1ccccc1P(C1CCCCC1)C1CCCCC1.OB(O)B(O)O'}. Best is trial 58 with value: 62.31349182128906.\n",
      "[I 2025-08-16 00:49:15,643] Trial 72 finished with value: 59.45383834838867 and parameters: {'reactant': 'Cc1ncccc1Br', 'reagent': 'Cc1ccccc1-c1ccccc1P(C1CCCCC1)C1CCCCC1.OB(O)B(O)O'}. Best is trial 58 with value: 62.31349182128906.\n",
      "[I 2025-08-16 00:49:15,832] Trial 73 finished with value: 55.29306411743164 and parameters: {'reactant': 'Cc1ncccc1Br', 'reagent': 'Cc1ccccc1-c1ccccc1P(C1CCCCC1)C1CCCCC1.OB(O)B(O)O'}. Best is trial 58 with value: 62.31349182128906.\n",
      "[I 2025-08-16 00:49:16,028] Trial 74 finished with value: 40.56880187988281 and parameters: {'reactant': 'Brc1ccccc1-c1ccccc1', 'reagent': 'Cc1ccccc1-c1ccccc1P(C1CCCCC1)C1CCCCC1.OB(O)B(O)O'}. Best is trial 58 with value: 62.31349182128906.\n",
      "[I 2025-08-16 00:49:16,244] Trial 75 finished with value: 50.81073760986328 and parameters: {'reactant': 'Cc1ncccc1Br', 'reagent': 'Cc1ccccc1-c1ccccc1P(C1CCCCC1)C1CCCCC1.OB(O)B(O)O'}. Best is trial 58 with value: 62.31349182128906.\n",
      "[I 2025-08-16 00:49:16,447] Trial 76 finished with value: 42.75419235229492 and parameters: {'reactant': 'COC(=O)c1ccc(Br)cc1', 'reagent': 'Cc1ccccc1-c1ccccc1P(C1CCCCC1)C1CCCCC1.OB(O)B(O)O'}. Best is trial 58 with value: 62.31349182128906.\n",
      "[I 2025-08-16 00:49:16,663] Trial 77 finished with value: 49.69841384887695 and parameters: {'reactant': 'COc1ncc(Br)c(OC)n1', 'reagent': 'CN(C)c1ccc(P(c2ccccc2)c2ccccc2)cc1.OB(O)B(O)O'}. Best is trial 58 with value: 62.31349182128906.\n",
      "[I 2025-08-16 00:49:16,861] Trial 78 finished with value: 45.147830963134766 and parameters: {'reactant': 'Cc1cc(F)ccc1Cl', 'reagent': 'Cc1ccccc1-c1ccccc1P(C1CCCCC1)C1CCCCC1.OB(O)B(O)O'}. Best is trial 58 with value: 62.31349182128906.\n",
      "[I 2025-08-16 00:49:17,079] Trial 79 finished with value: 42.71552658081055 and parameters: {'reactant': 'CCOC(=O)c1cc(Br)cn1CC', 'reagent': 'CC(C)(C)P(c1ccccc1)C(C)(C)C.OB(O)B(O)O'}. Best is trial 58 with value: 62.31349182128906.\n",
      "[I 2025-08-16 00:49:17,291] Trial 80 finished with value: 45.86180877685547 and parameters: {'reactant': 'COC(=O)c1ccc(Cl)cc1', 'reagent': 'CN(C)c1ccccc1-c1ccccc1P(c1ccccc1)c1ccccc1.OB(O)B(O)O'}. Best is trial 58 with value: 62.31349182128906.\n",
      "[I 2025-08-16 00:49:17,512] Trial 81 finished with value: 55.51102828979492 and parameters: {'reactant': 'Cc1ncccc1Br', 'reagent': 'Cc1ccccc1-c1ccccc1P(C1CCCCC1)C1CCCCC1.OB(O)B(O)O'}. Best is trial 58 with value: 62.31349182128906.\n",
      "[I 2025-08-16 00:49:17,725] Trial 82 finished with value: 43.47956848144531 and parameters: {'reactant': 'Brc1ccc(-c2ccccc2)cc1', 'reagent': 'c1ccc(-n2cccc2P(C2CCCCC2)C2CCCCC2)cc1.OB(O)B(O)O'}. Best is trial 58 with value: 62.31349182128906.\n",
      "[I 2025-08-16 00:49:17,920] Trial 83 finished with value: 55.52275085449219 and parameters: {'reactant': 'Cc1ncccc1Br', 'reagent': 'Cc1ccccc1-c1ccccc1P(C1CCCCC1)C1CCCCC1.OB(O)B(O)O'}. Best is trial 58 with value: 62.31349182128906.\n",
      "[I 2025-08-16 00:49:18,111] Trial 84 finished with value: 48.46037673950195 and parameters: {'reactant': 'Cc1ncccc1Br', 'reagent': 'COc1ccc(P(c2ccc(OC)cc2)c2ccc(OC)cc2)cc1.OB(O)B(O)O'}. Best is trial 58 with value: 62.31349182128906.\n",
      "[I 2025-08-16 00:49:18,321] Trial 85 finished with value: 40.84507369995117 and parameters: {'reactant': 'COc1ccc(Br)cc1', 'reagent': 'Cc1ccccc1-c1ccccc1P(C1CCCCC1)C1CCCCC1.OB(O)B(O)O'}. Best is trial 58 with value: 62.31349182128906.\n",
      "[I 2025-08-16 00:49:18,534] Trial 86 finished with value: 37.021976470947266 and parameters: {'reactant': 'CN(C)C(=O)c1ccc(Cl)cc1', 'reagent': 'CC(=C(c1ccccc1)c1ccccc1)P(C1CCCCC1)C1CCCCC1.OB(O)B(O)O'}. Best is trial 58 with value: 62.31349182128906.\n",
      "[I 2025-08-16 00:49:18,746] Trial 87 finished with value: 40.57273483276367 and parameters: {'reactant': 'N#Cc1ccc(Cl)cc1F', 'reagent': 'COc1ccccc1C1=C(P(C2CCCCC2)C2CCCCC2)C2c3ccccc3C1c1ccccc12.OB(O)B(O)O'}. Best is trial 58 with value: 62.31349182128906.\n",
      "[I 2025-08-16 00:49:18,960] Trial 88 finished with value: 45.398658752441406 and parameters: {'reactant': 'Brc1cnc2ccccc2c1', 'reagent': 'Cc1ccccc1-c1ccccc1P(C1CCCCC1)C1CCCCC1.OB(O)B(O)O'}. Best is trial 58 with value: 62.31349182128906.\n",
      "[I 2025-08-16 00:49:19,162] Trial 89 finished with value: 45.17431640625 and parameters: {'reactant': 'Clc1ccc2[nH]ccc2c1', 'reagent': 'c1ccc(P(c2ccccc2)C2CCCCC2)cc1.OB(O)B(O)O'}. Best is trial 58 with value: 62.31349182128906.\n",
      "[I 2025-08-16 00:49:19,412] Trial 90 finished with value: 42.34526062011719 and parameters: {'reactant': 'Cc1nc2cc(OS(=O)(=O)N(C)C)ccc2s1', 'reagent': 'Cc1cc(C)cc(P(c2cc(C)cc(C)c2)c2cc(C)cc(C)c2)c1.OB(O)B(O)O'}. Best is trial 58 with value: 62.31349182128906.\n",
      "[I 2025-08-16 00:49:19,613] Trial 91 finished with value: 58.270381927490234 and parameters: {'reactant': 'Cc1ncccc1Br', 'reagent': 'Fc1ccc(P(c2ccc(F)cc2)c2ccc(F)cc2)cc1.OB(O)B(O)O'}. Best is trial 58 with value: 62.31349182128906.\n",
      "[I 2025-08-16 00:49:19,813] Trial 92 finished with value: 55.20826721191406 and parameters: {'reactant': 'Cc1ncccc1Br', 'reagent': 'Fc1ccc(P(c2ccc(F)cc2)c2ccc(F)cc2)cc1.OB(O)B(O)O'}. Best is trial 58 with value: 62.31349182128906.\n",
      "[I 2025-08-16 00:49:20,019] Trial 93 finished with value: 40.68582534790039 and parameters: {'reactant': 'COc1ccc(Br)cc1F', 'reagent': 'c1ccc(-c2ccccc2P(C2CCCCC2)C2CCCCC2)cc1.OB(O)B(O)O'}. Best is trial 58 with value: 62.31349182128906.\n",
      "[I 2025-08-16 00:49:20,245] Trial 94 finished with value: 40.323753356933594 and parameters: {'reactant': 'Clc1ccc2c(c1)OCO2', 'reagent': 'CC(C)c1cc(C(C)C)c(-c2ccccc2P(c2ccccc2)c2ccccc2)c(C(C)C)c1.OB(O)B(O)O'}. Best is trial 58 with value: 62.31349182128906.\n",
      "[I 2025-08-16 00:49:20,441] Trial 95 finished with value: 45.02970886230469 and parameters: {'reactant': 'Cc1ncccc1Br', 'reagent': 'COc1cccc(OC)c1-c1ccccc1P(c1ccccc1)c1ccccc1.OB(O)B(O)O'}. Best is trial 58 with value: 62.31349182128906.\n",
      "[I 2025-08-16 00:49:20,654] Trial 96 finished with value: 46.622188568115234 and parameters: {'reactant': 'CN(C)S(=O)(=O)Oc1ccc2ncccc2c1', 'reagent': 'C[PH+](C)C.F[B-](F)(F)F.OB(O)B(O)O'}. Best is trial 58 with value: 62.31349182128906.\n",
      "[I 2025-08-16 00:49:20,860] Trial 97 finished with value: 49.57388687133789 and parameters: {'reactant': 'N#Cc1ccc(Br)cc1F', 'reagent': 'Cc1ccccc1-c1ccccc1P(C1CCCCC1)C1CCCCC1.OB(O)B(O)O'}. Best is trial 58 with value: 62.31349182128906.\n",
      "[I 2025-08-16 00:49:21,081] Trial 98 finished with value: 42.1536750793457 and parameters: {'reactant': 'FC(F)(F)c1ccc(Cl)cc1', 'reagent': 'CN(C)c1ccc(P(c2ccccc2)c2ccccc2)cc1.OB(O)B(O)O'}. Best is trial 58 with value: 62.31349182128906.\n",
      "[I 2025-08-16 00:49:21,274] Trial 99 finished with value: 54.76171875 and parameters: {'reactant': 'Cc1ncccc1Br', 'reagent': 'COc1ccccc1P(c1ccccc1OC)c1ccccc1OC.OB(O)B(O)O'}. Best is trial 58 with value: 62.31349182128906.\n"
     ]
    },
    {
     "name": "stdout",
     "output_type": "stream",
     "text": [
      "[Round 3] Fine-tuning on 240 samples, eval 60 samples\n",
      "{'loss': 596.3827, 'grad_norm': 5831.42236328125, 'learning_rate': 0.00017333333333333334, 'epoch': 3.3333333333333335}\n",
      "{'train_runtime': 4.6399, 'train_samples_per_second': 258.626, 'train_steps_per_second': 16.164, 'train_loss': 595.0136197916667, 'epoch': 5.0}\n",
      "\n",
      "==== Round 4/5 ====\n"
     ]
    },
    {
     "name": "stderr",
     "output_type": "stream",
     "text": [
      "[I 2025-08-16 00:49:27,354] A new study created in RDB with name: yield_round_4\n",
      "[I 2025-08-16 00:49:27,587] Trial 0 finished with value: 40.0369987487793 and parameters: {'reactant': 'Clc1ccc(-c2ccccc2)cc1', 'reagent': 'CN(C)c1ccccc1-c1ccccc1P(c1ccccc1)c1ccccc1.OB(O)B(O)O'}. Best is trial 0 with value: 40.0369987487793.\n",
      "[I 2025-08-16 00:49:27,807] Trial 1 finished with value: 34.324913024902344 and parameters: {'reactant': 'CN(C)S(=O)(=O)Oc1ccc(-c2ccccc2)cc1', 'reagent': 'c1ccc(P(c2ccccc2)c2ccccc2)cc1.OB(O)B(O)O'}. Best is trial 0 with value: 40.0369987487793.\n",
      "[I 2025-08-16 00:49:28,053] Trial 2 finished with value: 49.020790100097656 and parameters: {'reactant': 'FC(F)(F)c1ccc(Cl)cc1', 'reagent': 'Cc1cc(C)cc(P(c2cc(C)cc(C)c2)c2cc(C)cc(C)c2)c1.OB(O)B(O)O'}. Best is trial 2 with value: 49.020790100097656.\n",
      "[I 2025-08-16 00:49:28,276] Trial 3 finished with value: 34.784812927246094 and parameters: {'reactant': 'CCOC(=O)C(C)(C)Oc1ccc(Cl)cc1', 'reagent': 'CC(C)(C)P(c1ccccc1)C(C)(C)C.OB(O)B(O)O'}. Best is trial 2 with value: 49.020790100097656.\n",
      "[I 2025-08-16 00:49:28,470] Trial 4 finished with value: 39.49706268310547 and parameters: {'reactant': 'COc1ncc(Br)c(OC)n1', 'reagent': 'c1ccc(-n2cccc2P(C2CCCCC2)C2CCCCC2)cc1.OB(O)B(O)O'}. Best is trial 2 with value: 49.020790100097656.\n",
      "[I 2025-08-16 00:49:28,678] Trial 5 finished with value: 44.347110748291016 and parameters: {'reactant': 'CN(C)S(=O)(=O)Oc1ccc2ncccc2c1', 'reagent': 'Cc1ccccc1-c1ccccc1P(C1CCCCC1)C1CCCCC1.OB(O)B(O)O'}. Best is trial 2 with value: 49.020790100097656.\n",
      "[I 2025-08-16 00:49:28,880] Trial 6 finished with value: 49.85159683227539 and parameters: {'reactant': 'COc1ccc(Cl)cc1F', 'reagent': 'Cc1ccccc1-c1ccccc1P(C1CCCCC1)C1CCCCC1.OB(O)B(O)O'}. Best is trial 6 with value: 49.85159683227539.\n",
      "[I 2025-08-16 00:49:29,080] Trial 7 finished with value: 42.681793212890625 and parameters: {'reactant': 'FC(F)(F)c1ccc(Br)cc1', 'reagent': 'c1ccc(P(c2ccccc2)C2CCCCC2)cc1.OB(O)B(O)O'}. Best is trial 6 with value: 49.85159683227539.\n",
      "[I 2025-08-16 00:49:29,328] Trial 8 finished with value: 37.614078521728516 and parameters: {'reactant': 'Clc1ccc(-c2ccccc2)cc1', 'reagent': 'COc1cc(C(C)(C)C)cc(C(C)(C)C)c1-c1ccccc1P(C1CCCCC1)C1CCCCC1.OB(O)B(O)O'}. Best is trial 6 with value: 49.85159683227539.\n",
      "[I 2025-08-16 00:49:29,535] Trial 9 finished with value: 37.18651580810547 and parameters: {'reactant': 'Brc1ccsc1', 'reagent': 'CC(C)c1cc(C(C)C)c(-c2ccccc2P(c2ccccc2)c2ccccc2)c(C(C)C)c1.OB(O)B(O)O'}. Best is trial 6 with value: 49.85159683227539.\n",
      "[I 2025-08-16 00:49:29,742] Trial 10 finished with value: 27.370786666870117 and parameters: {'reactant': 'CCOC(=O)c1ccc(Cl)c(F)c1', 'reagent': 'CN(C)c1ccc(P(c2ccccc2)c2ccccc2)cc1.OB(O)B(O)O'}. Best is trial 6 with value: 49.85159683227539.\n",
      "[I 2025-08-16 00:49:29,989] Trial 11 finished with value: 48.01462173461914 and parameters: {'reactant': 'FC(F)(F)c1ccc(Cl)cc1', 'reagent': 'Cc1cc(C)cc(P(c2cc(C)cc(C)c2)c2cc(C)cc(C)c2)c1.OB(O)B(O)O'}. Best is trial 6 with value: 49.85159683227539.\n",
      "[I 2025-08-16 00:49:30,184] Trial 12 finished with value: 33.51959991455078 and parameters: {'reactant': 'COc1ccc(Cl)cc1F', 'reagent': 'COc1ccccc1P(c1ccccc1OC)c1ccccc1OC.OB(O)B(O)O'}. Best is trial 6 with value: 49.85159683227539.\n",
      "[I 2025-08-16 00:49:30,395] Trial 13 finished with value: 38.94316864013672 and parameters: {'reactant': 'Cc1c(N)cccc1Cl', 'reagent': 'Cc1cc(C)cc(P(c2cc(C)cc(C)c2)c2cc(C)cc(C)c2)c1.OB(O)B(O)O'}. Best is trial 6 with value: 49.85159683227539.\n",
      "[I 2025-08-16 00:49:30,601] Trial 14 finished with value: 25.965744018554688 and parameters: {'reactant': 'COC(=O)c1ccc(Cl)cc1', 'reagent': 'Cc1ccccc1-c1ccccc1P(C1CCCCC1)C1CCCCC1.OB(O)B(O)O'}. Best is trial 6 with value: 49.85159683227539.\n",
      "[I 2025-08-16 00:49:30,813] Trial 15 finished with value: 43.540496826171875 and parameters: {'reactant': 'Brc1ccc(-c2ccccc2)cc1', 'reagent': 'CC(=C(c1ccccc1)c1ccccc1)P(C1CCCCC1)C1CCCCC1.OB(O)B(O)O'}. Best is trial 6 with value: 49.85159683227539.\n",
      "[I 2025-08-16 00:49:31,014] Trial 16 finished with value: 37.560482025146484 and parameters: {'reactant': 'Cc1cccc(C)c1Cl', 'reagent': 'C[PH+](C)C.F[B-](F)(F)F.OB(O)B(O)O'}. Best is trial 6 with value: 49.85159683227539.\n",
      "[I 2025-08-16 00:49:31,248] Trial 17 finished with value: 39.427650451660156 and parameters: {'reactant': 'N#Cc1ccc(Br)cc1F', 'reagent': 'c1ccc(-c2nn(-c3ccccc3)c(-c3ccccc3)c2-n2nccc2P(C2CCCCC2)C2CCCCC2)cc1.OB(O)B(O)O'}. Best is trial 6 with value: 49.85159683227539.\n",
      "[I 2025-08-16 00:49:31,481] Trial 18 finished with value: 38.829524993896484 and parameters: {'reactant': 'COc1ccc(Br)cc1F', 'reagent': 'CCCCC1([PH+](C2CCCCC2)C2CCCCC2)c2ccccc2-c2ccccc21.F[B-](F)(F)F.OB(O)B(O)O'}. Best is trial 6 with value: 49.85159683227539.\n",
      "[I 2025-08-16 00:49:31,691] Trial 19 finished with value: 38.37602615356445 and parameters: {'reactant': 'CCOC(=O)c1cc(Br)cn1CC', 'reagent': 'c1ccc(-c2ccccc2P(C2CCCCC2)C2CCCCC2)cc1.OB(O)B(O)O'}. Best is trial 6 with value: 49.85159683227539.\n",
      "[I 2025-08-16 00:49:31,891] Trial 20 finished with value: 34.91756057739258 and parameters: {'reactant': 'Brc1ccccc1-c1ccccc1', 'reagent': 'COc1cccc(OC)c1-c1ccccc1P(c1ccccc1)c1ccccc1.OB(O)B(O)O'}. Best is trial 6 with value: 49.85159683227539.\n",
      "[I 2025-08-16 00:49:32,132] Trial 21 finished with value: 40.154380798339844 and parameters: {'reactant': 'FC(F)(F)c1ccc(Cl)cc1', 'reagent': 'Cc1cc(C)cc(P(c2cc(C)cc(C)c2)c2cc(C)cc(C)c2)c1.OB(O)B(O)O'}. Best is trial 6 with value: 49.85159683227539.\n",
      "[I 2025-08-16 00:49:32,361] Trial 22 finished with value: 43.70459747314453 and parameters: {'reactant': 'FC(F)(F)c1ccc(Cl)cc1', 'reagent': 'COc1ccc(P(c2ccc(OC)cc2)c2ccc(OC)cc2)cc1.OB(O)B(O)O'}. Best is trial 6 with value: 49.85159683227539.\n",
      "[I 2025-08-16 00:49:32,589] Trial 23 finished with value: 38.134300231933594 and parameters: {'reactant': 'Clc1ccc2[nH]ccc2c1', 'reagent': 'Cc1cc(C)cc(P(c2cc(C)cc(C)c2)c2cc(C)cc(C)c2)c1.OB(O)B(O)O'}. Best is trial 6 with value: 49.85159683227539.\n",
      "[I 2025-08-16 00:49:32,800] Trial 24 finished with value: 36.48832702636719 and parameters: {'reactant': 'Clc1cnc2ccccc2c1', 'reagent': 'c1ccc(-c2cc3ccccc3n2P(C2CCCCC2)C2CCCCC2)cc1.OB(O)B(O)O'}. Best is trial 6 with value: 49.85159683227539.\n",
      "[I 2025-08-16 00:49:33,004] Trial 25 finished with value: 35.945438385009766 and parameters: {'reactant': 'Cc1cc(F)ccc1Cl', 'reagent': 'Fc1ccc(P(c2ccc(F)cc2)c2ccc(F)cc2)cc1.OB(O)B(O)O'}. Best is trial 6 with value: 49.85159683227539.\n",
      "[I 2025-08-16 00:49:33,219] Trial 26 finished with value: 39.026241302490234 and parameters: {'reactant': 'COC(=O)c1ccc(Br)cc1', 'reagent': 'COc1ccccc1C1=C(P(C2CCCCC2)C2CCCCC2)C2c3ccccc3C1c1ccccc12.OB(O)B(O)O'}. Best is trial 6 with value: 49.85159683227539.\n",
      "[I 2025-08-16 00:49:33,444] Trial 27 finished with value: 42.40617752075195 and parameters: {'reactant': 'FC(F)(F)c1ccc(Cl)cc1', 'reagent': 'c1ccc(P(C2CCCCC2)C2CCCCC2)c(-n2c3ccccc3c3ccccc32)c1.OB(O)B(O)O'}. Best is trial 6 with value: 49.85159683227539.\n",
      "[I 2025-08-16 00:49:33,653] Trial 28 finished with value: 30.16568946838379 and parameters: {'reactant': 'Brc1cnc2ccccc2c1', 'reagent': 'C1CCC([PH+](C2CCCCC2)C2CCCCC2)CC1.F[B-](F)(F)F.OB(O)B(O)O'}. Best is trial 6 with value: 49.85159683227539.\n",
      "[I 2025-08-16 00:49:33,892] Trial 29 finished with value: 37.676639556884766 and parameters: {'reactant': 'COc1cc(Cl)ccc1F', 'reagent': 'Cc1cc(C)cc(P(c2cc(C)cc(C)c2)c2cc(C)cc(C)c2)c1.OB(O)B(O)O'}. Best is trial 6 with value: 49.85159683227539.\n",
      "[I 2025-08-16 00:49:34,085] Trial 30 finished with value: 54.29979705810547 and parameters: {'reactant': 'Brc1ccc2occc2c1', 'reagent': 'Cc1ccccc1-c1ccccc1P(C1CCCCC1)C1CCCCC1.OB(O)B(O)O'}. Best is trial 30 with value: 54.29979705810547.\n",
      "[I 2025-08-16 00:49:34,292] Trial 31 finished with value: 51.51715087890625 and parameters: {'reactant': 'Brc1ccc2occc2c1', 'reagent': 'Cc1ccccc1-c1ccccc1P(C1CCCCC1)C1CCCCC1.OB(O)B(O)O'}. Best is trial 30 with value: 54.29979705810547.\n",
      "[I 2025-08-16 00:49:34,511] Trial 32 finished with value: 51.27213668823242 and parameters: {'reactant': 'Brc1ccc2occc2c1', 'reagent': 'Cc1ccccc1-c1ccccc1P(C1CCCCC1)C1CCCCC1.OB(O)B(O)O'}. Best is trial 30 with value: 54.29979705810547.\n",
      "[I 2025-08-16 00:49:34,714] Trial 33 finished with value: 59.0883903503418 and parameters: {'reactant': 'Brc1ccc2occc2c1', 'reagent': 'Cc1ccccc1-c1ccccc1P(C1CCCCC1)C1CCCCC1.OB(O)B(O)O'}. Best is trial 33 with value: 59.0883903503418.\n",
      "[I 2025-08-16 00:49:34,971] Trial 34 finished with value: 59.575931549072266 and parameters: {'reactant': 'Brc1ccc2occc2c1', 'reagent': 'Cc1ccccc1-c1ccccc1P(C1CCCCC1)C1CCCCC1.OB(O)B(O)O'}. Best is trial 34 with value: 59.575931549072266.\n",
      "[I 2025-08-16 00:49:35,192] Trial 35 finished with value: 58.50674057006836 and parameters: {'reactant': 'Brc1ccc2occc2c1', 'reagent': 'Cc1ccccc1-c1ccccc1P(C1CCCCC1)C1CCCCC1.OB(O)B(O)O'}. Best is trial 34 with value: 59.575931549072266.\n",
      "[I 2025-08-16 00:49:35,401] Trial 36 finished with value: 51.131134033203125 and parameters: {'reactant': 'Brc1ccc2occc2c1', 'reagent': 'Cc1ccccc1-c1ccccc1P(C1CCCCC1)C1CCCCC1.OB(O)B(O)O'}. Best is trial 34 with value: 59.575931549072266.\n",
      "[I 2025-08-16 00:49:35,621] Trial 37 finished with value: 49.589664459228516 and parameters: {'reactant': 'Brc1ccc2occc2c1', 'reagent': 'CN(C)c1ccccc1-c1ccccc1P(c1ccccc1)c1ccccc1.OB(O)B(O)O'}. Best is trial 34 with value: 59.575931549072266.\n",
      "[I 2025-08-16 00:49:35,821] Trial 38 finished with value: 34.30181121826172 and parameters: {'reactant': 'Clc1ccc2c(c1)OCO2', 'reagent': 'c1ccc(P(c2ccccc2)c2ccccc2)cc1.OB(O)B(O)O'}. Best is trial 34 with value: 59.575931549072266.\n",
      "[I 2025-08-16 00:49:36,031] Trial 39 finished with value: 39.75778579711914 and parameters: {'reactant': 'CN(C)C(=O)c1ccc(Cl)cc1', 'reagent': 'Cc1ccccc1-c1ccccc1P(C1CCCCC1)C1CCCCC1.OB(O)B(O)O'}. Best is trial 34 with value: 59.575931549072266.\n",
      "[I 2025-08-16 00:49:36,240] Trial 40 finished with value: 43.50621795654297 and parameters: {'reactant': 'N#Cc1ccc(Cl)cc1F', 'reagent': 'CC(C)(C)P(c1ccccc1)C(C)(C)C.OB(O)B(O)O'}. Best is trial 34 with value: 59.575931549072266.\n",
      "[I 2025-08-16 00:49:36,435] Trial 41 finished with value: 62.9567756652832 and parameters: {'reactant': 'Brc1ccc2occc2c1', 'reagent': 'Cc1ccccc1-c1ccccc1P(C1CCCCC1)C1CCCCC1.OB(O)B(O)O'}. Best is trial 41 with value: 62.9567756652832.\n",
      "[I 2025-08-16 00:49:36,643] Trial 42 finished with value: 55.32946014404297 and parameters: {'reactant': 'Brc1ccc2occc2c1', 'reagent': 'Cc1ccccc1-c1ccccc1P(C1CCCCC1)C1CCCCC1.OB(O)B(O)O'}. Best is trial 41 with value: 62.9567756652832.\n",
      "[I 2025-08-16 00:49:36,859] Trial 43 finished with value: 30.852821350097656 and parameters: {'reactant': 'Cc1nc2cc(OS(=O)(=O)N(C)C)ccc2s1', 'reagent': 'c1ccc(-n2cccc2P(C2CCCCC2)C2CCCCC2)cc1.OB(O)B(O)O'}. Best is trial 41 with value: 62.9567756652832.\n",
      "[I 2025-08-16 00:49:37,063] Trial 44 finished with value: 58.70947265625 and parameters: {'reactant': 'Cc1ncccc1Br', 'reagent': 'Cc1ccccc1-c1ccccc1P(C1CCCCC1)C1CCCCC1.OB(O)B(O)O'}. Best is trial 41 with value: 62.9567756652832.\n",
      "[I 2025-08-16 00:49:37,257] Trial 45 finished with value: 59.33167266845703 and parameters: {'reactant': 'Cc1ncccc1Br', 'reagent': 'Cc1ccccc1-c1ccccc1P(C1CCCCC1)C1CCCCC1.OB(O)B(O)O'}. Best is trial 41 with value: 62.9567756652832.\n",
      "[I 2025-08-16 00:49:37,446] Trial 46 finished with value: 56.24272155761719 and parameters: {'reactant': 'Cc1ncccc1Br', 'reagent': 'Cc1ccccc1-c1ccccc1P(C1CCCCC1)C1CCCCC1.OB(O)B(O)O'}. Best is trial 41 with value: 62.9567756652832.\n",
      "[I 2025-08-16 00:49:37,650] Trial 47 finished with value: 66.51332092285156 and parameters: {'reactant': 'Cc1ncccc1Br', 'reagent': 'c1ccc(P(c2ccccc2)C2CCCCC2)cc1.OB(O)B(O)O'}. Best is trial 47 with value: 66.51332092285156.\n",
      "[I 2025-08-16 00:49:37,865] Trial 48 finished with value: 38.27100372314453 and parameters: {'reactant': 'Brc1ccc2c(c1)OCO2', 'reagent': 'c1ccc(P(c2ccccc2)C2CCCCC2)cc1.OB(O)B(O)O'}. Best is trial 47 with value: 66.51332092285156.\n",
      "[I 2025-08-16 00:49:38,084] Trial 49 finished with value: 37.575660705566406 and parameters: {'reactant': 'CN(C)S(=O)(=O)Oc1ccc2[nH]ccc2c1', 'reagent': 'c1ccc(P(c2ccccc2)C2CCCCC2)cc1.OB(O)B(O)O'}. Best is trial 47 with value: 66.51332092285156.\n",
      "[I 2025-08-16 00:49:38,290] Trial 50 finished with value: 50.37858581542969 and parameters: {'reactant': 'COc1ccc(Br)cc1', 'reagent': 'CC(=C(c1ccccc1)c1ccccc1)P(C1CCCCC1)C1CCCCC1.OB(O)B(O)O'}. Best is trial 47 with value: 66.51332092285156.\n",
      "[I 2025-08-16 00:49:38,511] Trial 51 finished with value: 58.36265182495117 and parameters: {'reactant': 'Cc1ncccc1Br', 'reagent': 'COc1cc(C(C)(C)C)cc(C(C)(C)C)c1-c1ccccc1P(C1CCCCC1)C1CCCCC1.OB(O)B(O)O'}. Best is trial 47 with value: 66.51332092285156.\n",
      "[I 2025-08-16 00:49:38,722] Trial 52 finished with value: 56.707454681396484 and parameters: {'reactant': 'Cc1ncccc1Br', 'reagent': 'COc1ccccc1P(c1ccccc1OC)c1ccccc1OC.OB(O)B(O)O'}. Best is trial 47 with value: 66.51332092285156.\n",
      "[I 2025-08-16 00:49:38,947] Trial 53 finished with value: 38.293479919433594 and parameters: {'reactant': 'CN(C)S(=O)(=O)Oc1ccc(-c2ccccc2)cc1', 'reagent': 'CN(C)c1ccc(P(c2ccccc2)c2ccccc2)cc1.OB(O)B(O)O'}. Best is trial 47 with value: 66.51332092285156.\n",
      "[I 2025-08-16 00:49:39,182] Trial 54 finished with value: 52.92605209350586 and parameters: {'reactant': 'Cc1ncccc1Br', 'reagent': 'CC(C)c1cc(C(C)C)c(-c2ccccc2P(c2ccccc2)c2ccccc2)c(C(C)C)c1.OB(O)B(O)O'}. Best is trial 47 with value: 66.51332092285156.\n",
      "[I 2025-08-16 00:49:39,416] Trial 55 finished with value: 32.66949462890625 and parameters: {'reactant': 'CCOC(=O)C(C)(C)Oc1ccc(Cl)cc1', 'reagent': 'C[PH+](C)C.F[B-](F)(F)F.OB(O)B(O)O'}. Best is trial 47 with value: 66.51332092285156.\n",
      "[I 2025-08-16 00:49:39,673] Trial 56 finished with value: 34.762718200683594 and parameters: {'reactant': 'CN(C)S(=O)(=O)Oc1ccc2ncccc2c1', 'reagent': 'c1ccc(-c2nn(-c3ccccc3)c(-c3ccccc3)c2-n2nccc2P(C2CCCCC2)C2CCCCC2)cc1.OB(O)B(O)O'}. Best is trial 47 with value: 66.51332092285156.\n",
      "[I 2025-08-16 00:49:39,923] Trial 57 finished with value: 49.25550079345703 and parameters: {'reactant': 'FC(F)(F)c1ccc(Br)cc1', 'reagent': 'CCCCC1([PH+](C2CCCCC2)C2CCCCC2)c2ccccc2-c2ccccc21.F[B-](F)(F)F.OB(O)B(O)O'}. Best is trial 47 with value: 66.51332092285156.\n",
      "[I 2025-08-16 00:49:40,123] Trial 58 finished with value: 59.33100509643555 and parameters: {'reactant': 'Brc1ccsc1', 'reagent': 'c1ccc(-c2ccccc2P(C2CCCCC2)C2CCCCC2)cc1.OB(O)B(O)O'}. Best is trial 47 with value: 66.51332092285156.\n",
      "[I 2025-08-16 00:49:40,324] Trial 59 finished with value: 49.277259826660156 and parameters: {'reactant': 'Brc1ccsc1', 'reagent': 'c1ccc(-c2ccccc2P(C2CCCCC2)C2CCCCC2)cc1.OB(O)B(O)O'}. Best is trial 47 with value: 66.51332092285156.\n",
      "[I 2025-08-16 00:49:40,552] Trial 60 finished with value: 43.19713592529297 and parameters: {'reactant': 'COc1ncc(Br)c(OC)n1', 'reagent': 'c1ccc(-c2ccccc2P(C2CCCCC2)C2CCCCC2)cc1.OB(O)B(O)O'}. Best is trial 47 with value: 66.51332092285156.\n",
      "[I 2025-08-16 00:49:40,765] Trial 61 finished with value: 43.95939254760742 and parameters: {'reactant': 'Brc1ccsc1', 'reagent': 'COc1ccc(P(c2ccc(OC)cc2)c2ccc(OC)cc2)cc1.OB(O)B(O)O'}. Best is trial 47 with value: 66.51332092285156.\n",
      "[I 2025-08-16 00:49:40,966] Trial 62 finished with value: 67.81666564941406 and parameters: {'reactant': 'Cc1ncccc1Br', 'reagent': 'Fc1ccc(P(c2ccc(F)cc2)c2ccc(F)cc2)cc1.OB(O)B(O)O'}. Best is trial 62 with value: 67.81666564941406.\n",
      "[I 2025-08-16 00:49:41,185] Trial 63 finished with value: 37.938499450683594 and parameters: {'reactant': 'CCOC(=O)c1ccc(Cl)c(F)c1', 'reagent': 'Fc1ccc(P(c2ccc(F)cc2)c2ccc(F)cc2)cc1.OB(O)B(O)O'}. Best is trial 62 with value: 67.81666564941406.\n",
      "[I 2025-08-16 00:49:41,404] Trial 64 finished with value: 38.52403259277344 and parameters: {'reactant': 'Cc1c(N)cccc1Cl', 'reagent': 'Fc1ccc(P(c2ccc(F)cc2)c2ccc(F)cc2)cc1.OB(O)B(O)O'}. Best is trial 62 with value: 67.81666564941406.\n",
      "[I 2025-08-16 00:49:41,605] Trial 65 finished with value: 30.08822250366211 and parameters: {'reactant': 'Cc1cccc(C)c1Cl', 'reagent': 'COc1cccc(OC)c1-c1ccccc1P(c1ccccc1)c1ccccc1.OB(O)B(O)O'}. Best is trial 62 with value: 67.81666564941406.\n",
      "[I 2025-08-16 00:49:41,833] Trial 66 finished with value: 38.71073913574219 and parameters: {'reactant': 'Clc1ccc(-c2ccccc2)cc1', 'reagent': 'c1ccc(-c2cc3ccccc3n2P(C2CCCCC2)C2CCCCC2)cc1.OB(O)B(O)O'}. Best is trial 62 with value: 67.81666564941406.\n",
      "[I 2025-08-16 00:49:42,043] Trial 67 finished with value: 38.61915588378906 and parameters: {'reactant': 'Brc1ccc(-c2ccccc2)cc1', 'reagent': 'c1ccc(P(c2ccccc2)C2CCCCC2)cc1.OB(O)B(O)O'}. Best is trial 62 with value: 67.81666564941406.\n",
      "[I 2025-08-16 00:49:42,263] Trial 68 finished with value: 47.88531494140625 and parameters: {'reactant': 'COC(=O)c1ccc(Cl)cc1', 'reagent': 'COc1ccccc1C1=C(P(C2CCCCC2)C2CCCCC2)C2c3ccccc3C1c1ccccc12.OB(O)B(O)O'}. Best is trial 62 with value: 67.81666564941406.\n",
      "[I 2025-08-16 00:49:42,495] Trial 69 finished with value: 41.412315368652344 and parameters: {'reactant': 'Brc1ccccc1-c1ccccc1', 'reagent': 'c1ccc(P(C2CCCCC2)C2CCCCC2)c(-n2c3ccccc3c3ccccc32)c1.OB(O)B(O)O'}. Best is trial 62 with value: 67.81666564941406.\n",
      "[I 2025-08-16 00:49:42,772] Trial 70 finished with value: 34.96701431274414 and parameters: {'reactant': 'COc1ccc(Br)cc1F', 'reagent': 'C1CCC([PH+](C2CCCCC2)C2CCCCC2)CC1.F[B-](F)(F)F.OB(O)B(O)O'}. Best is trial 62 with value: 67.81666564941406.\n",
      "[I 2025-08-16 00:49:42,989] Trial 71 finished with value: 70.72382354736328 and parameters: {'reactant': 'Cc1ncccc1Br', 'reagent': 'Cc1ccccc1-c1ccccc1P(C1CCCCC1)C1CCCCC1.OB(O)B(O)O'}. Best is trial 71 with value: 70.72382354736328.\n",
      "[I 2025-08-16 00:49:43,204] Trial 72 finished with value: 63.4938850402832 and parameters: {'reactant': 'Cc1ncccc1Br', 'reagent': 'c1ccc(-c2ccccc2P(C2CCCCC2)C2CCCCC2)cc1.OB(O)B(O)O'}. Best is trial 71 with value: 70.72382354736328.\n",
      "[I 2025-08-16 00:49:43,405] Trial 73 finished with value: 58.98880386352539 and parameters: {'reactant': 'Cc1ncccc1Br', 'reagent': 'c1ccc(-c2ccccc2P(C2CCCCC2)C2CCCCC2)cc1.OB(O)B(O)O'}. Best is trial 71 with value: 70.72382354736328.\n",
      "[I 2025-08-16 00:49:43,605] Trial 74 finished with value: 59.58690643310547 and parameters: {'reactant': 'Cc1ncccc1Br', 'reagent': 'c1ccc(-c2ccccc2P(C2CCCCC2)C2CCCCC2)cc1.OB(O)B(O)O'}. Best is trial 71 with value: 70.72382354736328.\n",
      "[I 2025-08-16 00:49:43,823] Trial 75 finished with value: 49.5693244934082 and parameters: {'reactant': 'Cc1ncccc1Br', 'reagent': 'CN(C)c1ccccc1-c1ccccc1P(c1ccccc1)c1ccccc1.OB(O)B(O)O'}. Best is trial 71 with value: 70.72382354736328.\n",
      "[I 2025-08-16 00:49:44,027] Trial 76 finished with value: 66.28846740722656 and parameters: {'reactant': 'Cc1ncccc1Br', 'reagent': 'Fc1ccc(P(c2ccc(F)cc2)c2ccc(F)cc2)cc1.OB(O)B(O)O'}. Best is trial 71 with value: 70.72382354736328.\n",
      "[I 2025-08-16 00:49:44,222] Trial 77 finished with value: 34.886192321777344 and parameters: {'reactant': 'Clc1ccc2[nH]ccc2c1', 'reagent': 'c1ccc(P(c2ccccc2)c2ccccc2)cc1.OB(O)B(O)O'}. Best is trial 71 with value: 70.72382354736328.\n",
      "[I 2025-08-16 00:49:44,422] Trial 78 finished with value: 63.237327575683594 and parameters: {'reactant': 'Cc1ncccc1Br', 'reagent': 'Fc1ccc(P(c2ccc(F)cc2)c2ccc(F)cc2)cc1.OB(O)B(O)O'}. Best is trial 71 with value: 70.72382354736328.\n",
      "[I 2025-08-16 00:49:44,639] Trial 79 finished with value: 40.87651443481445 and parameters: {'reactant': 'N#Cc1ccc(Br)cc1F', 'reagent': 'Fc1ccc(P(c2ccc(F)cc2)c2ccc(F)cc2)cc1.OB(O)B(O)O'}. Best is trial 71 with value: 70.72382354736328.\n",
      "[I 2025-08-16 00:49:44,835] Trial 80 finished with value: 69.40007019042969 and parameters: {'reactant': 'Cc1ncccc1Br', 'reagent': 'Fc1ccc(P(c2ccc(F)cc2)c2ccc(F)cc2)cc1.OB(O)B(O)O'}. Best is trial 71 with value: 70.72382354736328.\n",
      "[I 2025-08-16 00:49:45,026] Trial 81 finished with value: 57.38117218017578 and parameters: {'reactant': 'Cc1ncccc1Br', 'reagent': 'Fc1ccc(P(c2ccc(F)cc2)c2ccc(F)cc2)cc1.OB(O)B(O)O'}. Best is trial 71 with value: 70.72382354736328.\n",
      "[I 2025-08-16 00:49:45,241] Trial 82 finished with value: 69.85763549804688 and parameters: {'reactant': 'Cc1ncccc1Br', 'reagent': 'Fc1ccc(P(c2ccc(F)cc2)c2ccc(F)cc2)cc1.OB(O)B(O)O'}. Best is trial 71 with value: 70.72382354736328.\n",
      "[I 2025-08-16 00:49:45,455] Trial 83 finished with value: 36.415531158447266 and parameters: {'reactant': 'COc1ccc(Cl)cc1F', 'reagent': 'Fc1ccc(P(c2ccc(F)cc2)c2ccc(F)cc2)cc1.OB(O)B(O)O'}. Best is trial 71 with value: 70.72382354736328.\n",
      "[I 2025-08-16 00:49:45,650] Trial 84 finished with value: 68.38829040527344 and parameters: {'reactant': 'Cc1ncccc1Br', 'reagent': 'Fc1ccc(P(c2ccc(F)cc2)c2ccc(F)cc2)cc1.OB(O)B(O)O'}. Best is trial 71 with value: 70.72382354736328.\n",
      "[I 2025-08-16 00:49:45,860] Trial 85 finished with value: 70.27946472167969 and parameters: {'reactant': 'Cc1ncccc1Br', 'reagent': 'Fc1ccc(P(c2ccc(F)cc2)c2ccc(F)cc2)cc1.OB(O)B(O)O'}. Best is trial 71 with value: 70.72382354736328.\n",
      "[I 2025-08-16 00:49:46,064] Trial 86 finished with value: 66.38176727294922 and parameters: {'reactant': 'Cc1ncccc1Br', 'reagent': 'Fc1ccc(P(c2ccc(F)cc2)c2ccc(F)cc2)cc1.OB(O)B(O)O'}. Best is trial 71 with value: 70.72382354736328.\n",
      "[I 2025-08-16 00:49:46,270] Trial 87 finished with value: 37.03251647949219 and parameters: {'reactant': 'Clc1cnc2ccccc2c1', 'reagent': 'Fc1ccc(P(c2ccc(F)cc2)c2ccc(F)cc2)cc1.OB(O)B(O)O'}. Best is trial 71 with value: 70.72382354736328.\n",
      "[I 2025-08-16 00:49:46,478] Trial 88 finished with value: 64.46996307373047 and parameters: {'reactant': 'Cc1ncccc1Br', 'reagent': 'Fc1ccc(P(c2ccc(F)cc2)c2ccc(F)cc2)cc1.OB(O)B(O)O'}. Best is trial 71 with value: 70.72382354736328.\n",
      "[I 2025-08-16 00:49:46,691] Trial 89 finished with value: 57.62732696533203 and parameters: {'reactant': 'Cc1ncccc1Br', 'reagent': 'Fc1ccc(P(c2ccc(F)cc2)c2ccc(F)cc2)cc1.OB(O)B(O)O'}. Best is trial 71 with value: 70.72382354736328.\n",
      "[I 2025-08-16 00:49:46,916] Trial 90 finished with value: 40.4118537902832 and parameters: {'reactant': 'CCOC(=O)c1cc(Br)cn1CC', 'reagent': 'Fc1ccc(P(c2ccc(F)cc2)c2ccc(F)cc2)cc1.OB(O)B(O)O'}. Best is trial 71 with value: 70.72382354736328.\n",
      "[I 2025-08-16 00:49:47,123] Trial 91 finished with value: 45.08089065551758 and parameters: {'reactant': 'Cc1cc(F)ccc1Cl', 'reagent': 'Fc1ccc(P(c2ccc(F)cc2)c2ccc(F)cc2)cc1.OB(O)B(O)O'}. Best is trial 71 with value: 70.72382354736328.\n",
      "[I 2025-08-16 00:49:47,341] Trial 92 finished with value: 48.9896240234375 and parameters: {'reactant': 'COC(=O)c1ccc(Br)cc1', 'reagent': 'Fc1ccc(P(c2ccc(F)cc2)c2ccc(F)cc2)cc1.OB(O)B(O)O'}. Best is trial 71 with value: 70.72382354736328.\n",
      "[I 2025-08-16 00:49:47,539] Trial 93 finished with value: 66.68522644042969 and parameters: {'reactant': 'Cc1ncccc1Br', 'reagent': 'Fc1ccc(P(c2ccc(F)cc2)c2ccc(F)cc2)cc1.OB(O)B(O)O'}. Best is trial 71 with value: 70.72382354736328.\n",
      "[I 2025-08-16 00:49:47,737] Trial 94 finished with value: 69.96011352539062 and parameters: {'reactant': 'Cc1ncccc1Br', 'reagent': 'CC(C)(C)P(c1ccccc1)C(C)(C)C.OB(O)B(O)O'}. Best is trial 71 with value: 70.72382354736328.\n",
      "[I 2025-08-16 00:49:47,937] Trial 95 finished with value: 34.595237731933594 and parameters: {'reactant': 'COc1cc(Cl)ccc1F', 'reagent': 'c1ccc(-n2cccc2P(C2CCCCC2)C2CCCCC2)cc1.OB(O)B(O)O'}. Best is trial 71 with value: 70.72382354736328.\n",
      "[I 2025-08-16 00:49:48,148] Trial 96 finished with value: 39.001773834228516 and parameters: {'reactant': 'Brc1cnc2ccccc2c1', 'reagent': 'CC(C)(C)P(c1ccccc1)C(C)(C)C.OB(O)B(O)O'}. Best is trial 71 with value: 70.72382354736328.\n",
      "[I 2025-08-16 00:49:48,354] Trial 97 finished with value: 39.51042938232422 and parameters: {'reactant': 'Clc1ccc2c(c1)OCO2', 'reagent': 'CC(C)(C)P(c1ccccc1)C(C)(C)C.OB(O)B(O)O'}. Best is trial 71 with value: 70.72382354736328.\n",
      "[I 2025-08-16 00:49:48,570] Trial 98 finished with value: 42.40232849121094 and parameters: {'reactant': 'CN(C)C(=O)c1ccc(Cl)cc1', 'reagent': 'CN(C)c1ccc(P(c2ccccc2)c2ccccc2)cc1.OB(O)B(O)O'}. Best is trial 71 with value: 70.72382354736328.\n",
      "[I 2025-08-16 00:49:48,783] Trial 99 finished with value: 45.89719009399414 and parameters: {'reactant': 'Cc1ncccc1Br', 'reagent': 'CC(C)c1cc(C(C)C)c(-c2ccccc2P(c2ccccc2)c2ccccc2)c(C(C)C)c1.OB(O)B(O)O'}. Best is trial 71 with value: 70.72382354736328.\n"
     ]
    },
    {
     "name": "stdout",
     "output_type": "stream",
     "text": [
      "[Round 4] Fine-tuning on 320 samples, eval 80 samples\n",
      "{'loss': 564.9393, 'grad_norm': 3325.07470703125, 'learning_rate': 0.000255, 'epoch': 2.5}\n",
      "{'loss': 460.4153, 'grad_norm': 1931.085693359375, 'learning_rate': 5e-06, 'epoch': 5.0}\n",
      "{'train_runtime': 6.3997, 'train_samples_per_second': 250.013, 'train_steps_per_second': 15.626, 'train_loss': 512.6773046875, 'epoch': 5.0}\n",
      "\n",
      "==== Round 5/5 ====\n"
     ]
    },
    {
     "name": "stderr",
     "output_type": "stream",
     "text": [
      "[I 2025-08-16 00:49:56,619] A new study created in RDB with name: yield_round_5\n",
      "[I 2025-08-16 00:49:56,861] Trial 0 finished with value: 49.26402282714844 and parameters: {'reactant': 'Brc1ccc2c(c1)OCO2', 'reagent': 'Cc1ccccc1-c1ccccc1P(C1CCCCC1)C1CCCCC1.OB(O)B(O)O'}. Best is trial 0 with value: 49.26402282714844.\n",
      "[I 2025-08-16 00:49:57,068] Trial 1 finished with value: 73.13086700439453 and parameters: {'reactant': 'Cc1ncccc1Br', 'reagent': 'c1ccc(P(C2CCCCC2)C2CCCCC2)c(-n2c3ccccc3c3ccccc32)c1.OB(O)B(O)O'}. Best is trial 1 with value: 73.13086700439453.\n",
      "[I 2025-08-16 00:49:57,258] Trial 2 finished with value: 63.59330368041992 and parameters: {'reactant': 'Brc1ccsc1', 'reagent': 'CC(C)(C)P(c1ccccc1)C(C)(C)C.OB(O)B(O)O'}. Best is trial 1 with value: 73.13086700439453.\n",
      "[I 2025-08-16 00:49:57,488] Trial 3 finished with value: 48.75801086425781 and parameters: {'reactant': 'CN(C)S(=O)(=O)Oc1ccc2ncccc2c1', 'reagent': 'Fc1ccc(P(c2ccc(F)cc2)c2ccc(F)cc2)cc1.OB(O)B(O)O'}. Best is trial 1 with value: 73.13086700439453.\n",
      "[I 2025-08-16 00:49:57,717] Trial 4 finished with value: 37.686458587646484 and parameters: {'reactant': 'Cc1cccc(C)c1Cl', 'reagent': 'CCCCC1([PH+](C2CCCCC2)C2CCCCC2)c2ccccc2-c2ccccc21.F[B-](F)(F)F.OB(O)B(O)O'}. Best is trial 1 with value: 73.13086700439453.\n",
      "[I 2025-08-16 00:49:57,926] Trial 5 finished with value: 46.583003997802734 and parameters: {'reactant': 'COc1cc(Cl)ccc1F', 'reagent': 'COc1cccc(OC)c1-c1ccccc1P(c1ccccc1)c1ccccc1.OB(O)B(O)O'}. Best is trial 1 with value: 73.13086700439453.\n",
      "[I 2025-08-16 00:49:58,149] Trial 6 finished with value: 41.24461364746094 and parameters: {'reactant': 'CCOC(=O)C(C)(C)Oc1ccc(Cl)cc1', 'reagent': 'CN(C)c1ccccc1-c1ccccc1P(c1ccccc1)c1ccccc1.OB(O)B(O)O'}. Best is trial 1 with value: 73.13086700439453.\n",
      "[I 2025-08-16 00:49:58,382] Trial 7 finished with value: 50.54161071777344 and parameters: {'reactant': 'Brc1ccc(-c2ccccc2)cc1', 'reagent': 'c1ccc(P(C2CCCCC2)C2CCCCC2)c(-n2c3ccccc3c3ccccc32)c1.OB(O)B(O)O'}. Best is trial 1 with value: 73.13086700439453.\n",
      "[I 2025-08-16 00:49:58,581] Trial 8 finished with value: 60.59943389892578 and parameters: {'reactant': 'Brc1ccc2occc2c1', 'reagent': 'CC(C)(C)P(c1ccccc1)C(C)(C)C.OB(O)B(O)O'}. Best is trial 1 with value: 73.13086700439453.\n",
      "[I 2025-08-16 00:49:58,779] Trial 9 finished with value: 39.49554443359375 and parameters: {'reactant': 'Brc1ccc2c(c1)OCO2', 'reagent': 'c1ccc(P(c2ccccc2)C2CCCCC2)cc1.OB(O)B(O)O'}. Best is trial 1 with value: 73.13086700439453.\n",
      "[I 2025-08-16 00:49:58,973] Trial 10 finished with value: 60.93892288208008 and parameters: {'reactant': 'Cc1ncccc1Br', 'reagent': 'c1ccc(-n2cccc2P(C2CCCCC2)C2CCCCC2)cc1.OB(O)B(O)O'}. Best is trial 1 with value: 73.13086700439453.\n",
      "[I 2025-08-16 00:49:59,173] Trial 11 finished with value: 55.19095230102539 and parameters: {'reactant': 'Brc1ccsc1', 'reagent': 'CC(=C(c1ccccc1)c1ccccc1)P(C1CCCCC1)C1CCCCC1.OB(O)B(O)O'}. Best is trial 1 with value: 73.13086700439453.\n",
      "[I 2025-08-16 00:49:59,405] Trial 12 finished with value: 38.7917366027832 and parameters: {'reactant': 'N#Cc1ccc(Cl)cc1F', 'reagent': 'COc1cc(C(C)(C)C)cc(C(C)(C)C)c1-c1ccccc1P(C1CCCCC1)C1CCCCC1.OB(O)B(O)O'}. Best is trial 1 with value: 73.13086700439453.\n",
      "[I 2025-08-16 00:49:59,611] Trial 13 finished with value: 33.00202560424805 and parameters: {'reactant': 'CCOC(=O)c1ccc(Cl)c(F)c1', 'reagent': 'CC(C)(C)P(c1ccccc1)C(C)(C)C.OB(O)B(O)O'}. Best is trial 1 with value: 73.13086700439453.\n",
      "[I 2025-08-16 00:49:59,838] Trial 14 finished with value: 77.28157043457031 and parameters: {'reactant': 'Cc1ncccc1Br', 'reagent': 'Cc1cc(C)cc(P(c2cc(C)cc(C)c2)c2cc(C)cc(C)c2)c1.OB(O)B(O)O'}. Best is trial 14 with value: 77.28157043457031.\n",
      "[I 2025-08-16 00:50:00,052] Trial 15 finished with value: 70.85425567626953 and parameters: {'reactant': 'Cc1ncccc1Br', 'reagent': 'Cc1cc(C)cc(P(c2cc(C)cc(C)c2)c2cc(C)cc(C)c2)c1.OB(O)B(O)O'}. Best is trial 14 with value: 77.28157043457031.\n",
      "[I 2025-08-16 00:50:00,268] Trial 16 finished with value: 39.05637741088867 and parameters: {'reactant': 'CN(C)S(=O)(=O)Oc1ccc(-c2ccccc2)cc1', 'reagent': 'COc1ccccc1C1=C(P(C2CCCCC2)C2CCCCC2)C2c3ccccc3C1c1ccccc12.OB(O)B(O)O'}. Best is trial 14 with value: 77.28157043457031.\n",
      "[I 2025-08-16 00:50:00,497] Trial 17 finished with value: 41.59930419921875 and parameters: {'reactant': 'Clc1ccc2c(c1)OCO2', 'reagent': 'Cc1cc(C)cc(P(c2cc(C)cc(C)c2)c2cc(C)cc(C)c2)c1.OB(O)B(O)O'}. Best is trial 14 with value: 77.28157043457031.\n",
      "[I 2025-08-16 00:50:00,712] Trial 18 finished with value: 53.16437911987305 and parameters: {'reactant': 'Cc1ncccc1Br', 'reagent': 'c1ccc(-c2nn(-c3ccccc3)c(-c3ccccc3)c2-n2nccc2P(C2CCCCC2)C2CCCCC2)cc1.OB(O)B(O)O'}. Best is trial 14 with value: 77.28157043457031.\n",
      "[I 2025-08-16 00:50:00,938] Trial 19 finished with value: 43.15424728393555 and parameters: {'reactant': 'COC(=O)c1ccc(Cl)cc1', 'reagent': 'c1ccc(P(C2CCCCC2)C2CCCCC2)c(-n2c3ccccc3c3ccccc32)c1.OB(O)B(O)O'}. Best is trial 14 with value: 77.28157043457031.\n",
      "[I 2025-08-16 00:50:01,157] Trial 20 finished with value: 47.6325569152832 and parameters: {'reactant': 'Clc1ccc(-c2ccccc2)cc1', 'reagent': 'C[PH+](C)C.F[B-](F)(F)F.OB(O)B(O)O'}. Best is trial 14 with value: 77.28157043457031.\n",
      "[I 2025-08-16 00:50:01,381] Trial 21 finished with value: 59.14695358276367 and parameters: {'reactant': 'Cc1ncccc1Br', 'reagent': 'Cc1cc(C)cc(P(c2cc(C)cc(C)c2)c2cc(C)cc(C)c2)c1.OB(O)B(O)O'}. Best is trial 14 with value: 77.28157043457031.\n",
      "[I 2025-08-16 00:50:01,589] Trial 22 finished with value: 56.388431549072266 and parameters: {'reactant': 'FC(F)(F)c1ccc(Br)cc1', 'reagent': 'c1ccc(-c2ccccc2P(C2CCCCC2)C2CCCCC2)cc1.OB(O)B(O)O'}. Best is trial 14 with value: 77.28157043457031.\n",
      "[I 2025-08-16 00:50:01,810] Trial 23 finished with value: 49.309356689453125 and parameters: {'reactant': 'N#Cc1ccc(Br)cc1F', 'reagent': 'COc1ccc(P(c2ccc(OC)cc2)c2ccc(OC)cc2)cc1.OB(O)B(O)O'}. Best is trial 14 with value: 77.28157043457031.\n",
      "[I 2025-08-16 00:50:02,015] Trial 24 finished with value: 64.81456756591797 and parameters: {'reactant': 'COc1ccc(Br)cc1', 'reagent': 'c1ccc(P(c2ccccc2)c2ccccc2)cc1.OB(O)B(O)O'}. Best is trial 14 with value: 77.28157043457031.\n",
      "[I 2025-08-16 00:50:02,231] Trial 25 finished with value: 66.50640106201172 and parameters: {'reactant': 'Clc1ccc2[nH]ccc2c1', 'reagent': 'CN(C)c1ccc(P(c2ccccc2)c2ccccc2)cc1.OB(O)B(O)O'}. Best is trial 14 with value: 77.28157043457031.\n",
      "[I 2025-08-16 00:50:02,478] Trial 26 finished with value: 31.44184684753418 and parameters: {'reactant': 'CCOC(=O)c1cc(Br)cn1CC', 'reagent': 'Cc1cc(C)cc(P(c2cc(C)cc(C)c2)c2cc(C)cc(C)c2)c1.OB(O)B(O)O'}. Best is trial 14 with value: 77.28157043457031.\n",
      "[I 2025-08-16 00:50:02,669] Trial 27 finished with value: 76.05675506591797 and parameters: {'reactant': 'Cc1ncccc1Br', 'reagent': 'COc1ccccc1P(c1ccccc1OC)c1ccccc1OC.OB(O)B(O)O'}. Best is trial 14 with value: 77.28157043457031.\n",
      "[I 2025-08-16 00:50:02,868] Trial 28 finished with value: 48.6583366394043 and parameters: {'reactant': 'Cc1c(N)cccc1Cl', 'reagent': 'COc1ccccc1P(c1ccccc1OC)c1ccccc1OC.OB(O)B(O)O'}. Best is trial 14 with value: 77.28157043457031.\n",
      "[I 2025-08-16 00:50:03,079] Trial 29 finished with value: 36.91223907470703 and parameters: {'reactant': 'Clc1cnc2ccccc2c1', 'reagent': 'c1ccc(-c2cc3ccccc3n2P(C2CCCCC2)C2CCCCC2)cc1.OB(O)B(O)O'}. Best is trial 14 with value: 77.28157043457031.\n",
      "[I 2025-08-16 00:50:03,319] Trial 30 finished with value: 58.51710891723633 and parameters: {'reactant': 'Brc1ccccc1-c1ccccc1', 'reagent': 'CC(C)c1cc(C(C)C)c(-c2ccccc2P(c2ccccc2)c2ccccc2)c(C(C)C)c1.OB(O)B(O)O'}. Best is trial 14 with value: 77.28157043457031.\n",
      "[I 2025-08-16 00:50:03,509] Trial 31 finished with value: 62.98046112060547 and parameters: {'reactant': 'Cc1ncccc1Br', 'reagent': 'COc1ccccc1P(c1ccccc1OC)c1ccccc1OC.OB(O)B(O)O'}. Best is trial 14 with value: 77.28157043457031.\n",
      "[I 2025-08-16 00:50:03,739] Trial 32 finished with value: 25.335973739624023 and parameters: {'reactant': 'CN(C)C(=O)c1ccc(Cl)cc1', 'reagent': 'C1CCC([PH+](C2CCCCC2)C2CCCCC2)CC1.F[B-](F)(F)F.OB(O)B(O)O'}. Best is trial 14 with value: 77.28157043457031.\n",
      "[I 2025-08-16 00:50:03,956] Trial 33 finished with value: 25.267011642456055 and parameters: {'reactant': 'CN(C)S(=O)(=O)Oc1ccc2[nH]ccc2c1', 'reagent': 'Cc1ccccc1-c1ccccc1P(C1CCCCC1)C1CCCCC1.OB(O)B(O)O'}. Best is trial 14 with value: 77.28157043457031.\n",
      "[I 2025-08-16 00:50:04,196] Trial 34 finished with value: 46.2049674987793 and parameters: {'reactant': 'COc1ncc(Br)c(OC)n1', 'reagent': 'Cc1cc(C)cc(P(c2cc(C)cc(C)c2)c2cc(C)cc(C)c2)c1.OB(O)B(O)O'}. Best is trial 14 with value: 77.28157043457031.\n",
      "[I 2025-08-16 00:50:04,404] Trial 35 finished with value: 37.634910583496094 and parameters: {'reactant': 'COC(=O)c1ccc(Br)cc1', 'reagent': 'Fc1ccc(P(c2ccc(F)cc2)c2ccc(F)cc2)cc1.OB(O)B(O)O'}. Best is trial 14 with value: 77.28157043457031.\n",
      "[I 2025-08-16 00:50:04,648] Trial 36 finished with value: 24.9329891204834 and parameters: {'reactant': 'FC(F)(F)c1ccc(Cl)cc1', 'reagent': 'CCCCC1([PH+](C2CCCCC2)C2CCCCC2)c2ccccc2-c2ccccc21.F[B-](F)(F)F.OB(O)B(O)O'}. Best is trial 14 with value: 77.28157043457031.\n",
      "[I 2025-08-16 00:50:04,853] Trial 37 finished with value: 34.554500579833984 and parameters: {'reactant': 'Cc1cc(F)ccc1Cl', 'reagent': 'COc1ccccc1P(c1ccccc1OC)c1ccccc1OC.OB(O)B(O)O'}. Best is trial 14 with value: 77.28157043457031.\n",
      "[I 2025-08-16 00:50:05,061] Trial 38 finished with value: 67.39784240722656 and parameters: {'reactant': 'COc1ccc(Cl)cc1F', 'reagent': 'c1ccc(P(C2CCCCC2)C2CCCCC2)c(-n2c3ccccc3c3ccccc32)c1.OB(O)B(O)O'}. Best is trial 14 with value: 77.28157043457031.\n",
      "[I 2025-08-16 00:50:05,298] Trial 39 finished with value: 43.69950485229492 and parameters: {'reactant': 'Cc1nc2cc(OS(=O)(=O)N(C)C)ccc2s1', 'reagent': 'CN(C)c1ccccc1-c1ccccc1P(c1ccccc1)c1ccccc1.OB(O)B(O)O'}. Best is trial 14 with value: 77.28157043457031.\n",
      "[I 2025-08-16 00:50:05,509] Trial 40 finished with value: 47.259708404541016 and parameters: {'reactant': 'COc1ccc(Br)cc1F', 'reagent': 'COc1cccc(OC)c1-c1ccccc1P(c1ccccc1)c1ccccc1.OB(O)B(O)O'}. Best is trial 14 with value: 77.28157043457031.\n",
      "[I 2025-08-16 00:50:05,730] Trial 41 finished with value: 48.541099548339844 and parameters: {'reactant': 'COc1ccc(Cl)cc1F', 'reagent': 'c1ccc(P(C2CCCCC2)C2CCCCC2)c(-n2c3ccccc3c3ccccc32)c1.OB(O)B(O)O'}. Best is trial 14 with value: 77.28157043457031.\n",
      "[I 2025-08-16 00:50:05,949] Trial 42 finished with value: 22.165477752685547 and parameters: {'reactant': 'Brc1cnc2ccccc2c1', 'reagent': 'c1ccc(P(C2CCCCC2)C2CCCCC2)c(-n2c3ccccc3c3ccccc32)c1.OB(O)B(O)O'}. Best is trial 14 with value: 77.28157043457031.\n",
      "[I 2025-08-16 00:50:06,153] Trial 43 finished with value: 61.89744567871094 and parameters: {'reactant': 'Cc1ncccc1Br', 'reagent': 'c1ccc(P(C2CCCCC2)C2CCCCC2)c(-n2c3ccccc3c3ccccc32)c1.OB(O)B(O)O'}. Best is trial 14 with value: 77.28157043457031.\n",
      "[I 2025-08-16 00:50:06,371] Trial 44 finished with value: 46.055538177490234 and parameters: {'reactant': 'COc1ccc(Cl)cc1F', 'reagent': 'c1ccc(P(c2ccccc2)C2CCCCC2)cc1.OB(O)B(O)O'}. Best is trial 14 with value: 77.28157043457031.\n",
      "[I 2025-08-16 00:50:06,572] Trial 45 finished with value: 44.5018310546875 and parameters: {'reactant': 'CN(C)S(=O)(=O)Oc1ccc2ncccc2c1', 'reagent': 'c1ccc(-n2cccc2P(C2CCCCC2)C2CCCCC2)cc1.OB(O)B(O)O'}. Best is trial 14 with value: 77.28157043457031.\n",
      "[I 2025-08-16 00:50:06,797] Trial 46 finished with value: 49.48066711425781 and parameters: {'reactant': 'Cc1cccc(C)c1Cl', 'reagent': 'COc1cc(C(C)(C)C)cc(C(C)(C)C)c1-c1ccccc1P(C1CCCCC1)C1CCCCC1.OB(O)B(O)O'}. Best is trial 14 with value: 77.28157043457031.\n",
      "[I 2025-08-16 00:50:07,013] Trial 47 finished with value: 71.66302490234375 and parameters: {'reactant': 'Cc1ncccc1Br', 'reagent': 'CC(=C(c1ccccc1)c1ccccc1)P(C1CCCCC1)C1CCCCC1.OB(O)B(O)O'}. Best is trial 14 with value: 77.28157043457031.\n",
      "[I 2025-08-16 00:50:07,209] Trial 48 finished with value: 63.367950439453125 and parameters: {'reactant': 'Cc1ncccc1Br', 'reagent': 'CC(=C(c1ccccc1)c1ccccc1)P(C1CCCCC1)C1CCCCC1.OB(O)B(O)O'}. Best is trial 14 with value: 77.28157043457031.\n",
      "[I 2025-08-16 00:50:07,409] Trial 49 finished with value: 63.781280517578125 and parameters: {'reactant': 'Cc1ncccc1Br', 'reagent': 'CC(=C(c1ccccc1)c1ccccc1)P(C1CCCCC1)C1CCCCC1.OB(O)B(O)O'}. Best is trial 14 with value: 77.28157043457031.\n",
      "[I 2025-08-16 00:50:07,627] Trial 50 finished with value: 33.0035285949707 and parameters: {'reactant': 'COc1cc(Cl)ccc1F', 'reagent': 'COc1ccccc1C1=C(P(C2CCCCC2)C2CCCCC2)C2c3ccccc3C1c1ccccc12.OB(O)B(O)O'}. Best is trial 14 with value: 77.28157043457031.\n",
      "[I 2025-08-16 00:50:07,878] Trial 51 finished with value: 54.1567268371582 and parameters: {'reactant': 'CCOC(=O)C(C)(C)Oc1ccc(Cl)cc1', 'reagent': 'Cc1cc(C)cc(P(c2cc(C)cc(C)c2)c2cc(C)cc(C)c2)c1.OB(O)B(O)O'}. Best is trial 14 with value: 77.28157043457031.\n",
      "[I 2025-08-16 00:50:08,090] Trial 52 finished with value: 45.40576171875 and parameters: {'reactant': 'Cc1ncccc1Br', 'reagent': 'c1ccc(-c2nn(-c3ccccc3)c(-c3ccccc3)c2-n2nccc2P(C2CCCCC2)C2CCCCC2)cc1.OB(O)B(O)O'}. Best is trial 14 with value: 77.28157043457031.\n",
      "[I 2025-08-16 00:50:08,308] Trial 53 finished with value: 45.047550201416016 and parameters: {'reactant': 'Brc1ccc(-c2ccccc2)cc1', 'reagent': 'c1ccc(P(C2CCCCC2)C2CCCCC2)c(-n2c3ccccc3c3ccccc32)c1.OB(O)B(O)O'}. Best is trial 14 with value: 77.28157043457031.\n",
      "[I 2025-08-16 00:50:08,521] Trial 54 finished with value: 54.9363899230957 and parameters: {'reactant': 'N#Cc1ccc(Cl)cc1F', 'reagent': 'C[PH+](C)C.F[B-](F)(F)F.OB(O)B(O)O'}. Best is trial 14 with value: 77.28157043457031.\n",
      "[I 2025-08-16 00:50:08,729] Trial 55 finished with value: 61.0557975769043 and parameters: {'reactant': 'Brc1ccsc1', 'reagent': 'CC(=C(c1ccccc1)c1ccccc1)P(C1CCCCC1)C1CCCCC1.OB(O)B(O)O'}. Best is trial 14 with value: 77.28157043457031.\n",
      "[I 2025-08-16 00:50:08,932] Trial 56 finished with value: 53.45252227783203 and parameters: {'reactant': 'Brc1ccc2occc2c1', 'reagent': 'CC(C)(C)P(c1ccccc1)C(C)(C)C.OB(O)B(O)O'}. Best is trial 14 with value: 77.28157043457031.\n",
      "[I 2025-08-16 00:50:09,132] Trial 57 finished with value: 67.65986633300781 and parameters: {'reactant': 'Cc1ncccc1Br', 'reagent': 'c1ccc(-c2ccccc2P(C2CCCCC2)C2CCCCC2)cc1.OB(O)B(O)O'}. Best is trial 14 with value: 77.28157043457031.\n",
      "[I 2025-08-16 00:50:09,320] Trial 58 finished with value: 69.55010986328125 and parameters: {'reactant': 'Cc1ncccc1Br', 'reagent': 'c1ccc(-c2ccccc2P(C2CCCCC2)C2CCCCC2)cc1.OB(O)B(O)O'}. Best is trial 14 with value: 77.28157043457031.\n",
      "[I 2025-08-16 00:50:09,548] Trial 59 finished with value: 46.74542999267578 and parameters: {'reactant': 'Brc1ccc2c(c1)OCO2', 'reagent': 'c1ccc(-c2ccccc2P(C2CCCCC2)C2CCCCC2)cc1.OB(O)B(O)O'}. Best is trial 14 with value: 77.28157043457031.\n",
      "[I 2025-08-16 00:50:09,738] Trial 60 finished with value: 78.85433197021484 and parameters: {'reactant': 'Cc1ncccc1Br', 'reagent': 'c1ccc(P(c2ccccc2)c2ccccc2)cc1.OB(O)B(O)O'}. Best is trial 60 with value: 78.85433197021484.\n",
      "[I 2025-08-16 00:50:09,929] Trial 61 finished with value: 79.96399688720703 and parameters: {'reactant': 'Cc1ncccc1Br', 'reagent': 'c1ccc(P(c2ccccc2)c2ccccc2)cc1.OB(O)B(O)O'}. Best is trial 61 with value: 79.96399688720703.\n",
      "[I 2025-08-16 00:50:10,118] Trial 62 finished with value: 57.664878845214844 and parameters: {'reactant': 'Cc1ncccc1Br', 'reagent': 'c1ccc(P(c2ccccc2)c2ccccc2)cc1.OB(O)B(O)O'}. Best is trial 61 with value: 79.96399688720703.\n",
      "[I 2025-08-16 00:50:10,327] Trial 63 finished with value: 33.19293975830078 and parameters: {'reactant': 'CCOC(=O)c1ccc(Cl)c(F)c1', 'reagent': 'c1ccc(P(c2ccccc2)c2ccccc2)cc1.OB(O)B(O)O'}. Best is trial 61 with value: 79.96399688720703.\n",
      "[I 2025-08-16 00:50:10,533] Trial 64 finished with value: 39.26114273071289 and parameters: {'reactant': 'Clc1ccc2c(c1)OCO2', 'reagent': 'c1ccc(P(c2ccccc2)c2ccccc2)cc1.OB(O)B(O)O'}. Best is trial 61 with value: 79.96399688720703.\n",
      "[I 2025-08-16 00:50:10,760] Trial 65 finished with value: 33.32900619506836 and parameters: {'reactant': 'CN(C)S(=O)(=O)Oc1ccc(-c2ccccc2)cc1', 'reagent': 'c1ccc(P(c2ccccc2)c2ccccc2)cc1.OB(O)B(O)O'}. Best is trial 61 with value: 79.96399688720703.\n",
      "[I 2025-08-16 00:50:10,967] Trial 66 finished with value: 75.90811920166016 and parameters: {'reactant': 'Cc1ncccc1Br', 'reagent': 'COc1ccc(P(c2ccc(OC)cc2)c2ccc(OC)cc2)cc1.OB(O)B(O)O'}. Best is trial 61 with value: 79.96399688720703.\n",
      "[I 2025-08-16 00:50:11,174] Trial 67 finished with value: 69.9081039428711 and parameters: {'reactant': 'Clc1ccc(-c2ccccc2)cc1', 'reagent': 'CN(C)c1ccc(P(c2ccccc2)c2ccccc2)cc1.OB(O)B(O)O'}. Best is trial 61 with value: 79.96399688720703.\n",
      "[I 2025-08-16 00:50:11,774] Trial 68 finished with value: 70.54663848876953 and parameters: {'reactant': 'Cc1ncccc1Br', 'reagent': 'COc1ccc(P(c2ccc(OC)cc2)c2ccc(OC)cc2)cc1.OB(O)B(O)O'}. Best is trial 61 with value: 79.96399688720703.\n",
      "[I 2025-08-16 00:50:12,063] Trial 69 finished with value: 50.547706604003906 and parameters: {'reactant': 'CCOC(=O)c1cc(Br)cn1CC', 'reagent': 'COc1ccc(P(c2ccc(OC)cc2)c2ccc(OC)cc2)cc1.OB(O)B(O)O'}. Best is trial 61 with value: 79.96399688720703.\n",
      "[I 2025-08-16 00:50:12,368] Trial 70 finished with value: 46.918617248535156 and parameters: {'reactant': 'FC(F)(F)c1ccc(Br)cc1', 'reagent': 'CC(C)c1cc(C(C)C)c(-c2ccccc2P(c2ccccc2)c2ccccc2)c(C(C)C)c1.OB(O)B(O)O'}. Best is trial 61 with value: 79.96399688720703.\n",
      "[I 2025-08-16 00:50:12,644] Trial 71 finished with value: 71.44198608398438 and parameters: {'reactant': 'Cc1ncccc1Br', 'reagent': 'Cc1cc(C)cc(P(c2cc(C)cc(C)c2)c2cc(C)cc(C)c2)c1.OB(O)B(O)O'}. Best is trial 61 with value: 79.96399688720703.\n",
      "[I 2025-08-16 00:50:12,943] Trial 72 finished with value: 40.94878005981445 and parameters: {'reactant': 'COC(=O)c1ccc(Cl)cc1', 'reagent': 'Cc1cc(C)cc(P(c2cc(C)cc(C)c2)c2cc(C)cc(C)c2)c1.OB(O)B(O)O'}. Best is trial 61 with value: 79.96399688720703.\n",
      "[I 2025-08-16 00:50:13,216] Trial 73 finished with value: 51.77360916137695 and parameters: {'reactant': 'Cc1ncccc1Br', 'reagent': 'c1ccc(-c2cc3ccccc3n2P(C2CCCCC2)C2CCCCC2)cc1.OB(O)B(O)O'}. Best is trial 61 with value: 79.96399688720703.\n",
      "[I 2025-08-16 00:50:13,482] Trial 74 finished with value: 57.9167366027832 and parameters: {'reactant': 'Cc1ncccc1Br', 'reagent': 'C1CCC([PH+](C2CCCCC2)C2CCCCC2)CC1.F[B-](F)(F)F.OB(O)B(O)O'}. Best is trial 61 with value: 79.96399688720703.\n",
      "[I 2025-08-16 00:50:13,735] Trial 75 finished with value: 50.95841979980469 and parameters: {'reactant': 'COc1ccc(Br)cc1', 'reagent': 'Cc1ccccc1-c1ccccc1P(C1CCCCC1)C1CCCCC1.OB(O)B(O)O'}. Best is trial 61 with value: 79.96399688720703.\n",
      "[I 2025-08-16 00:50:14,012] Trial 76 finished with value: 33.25687789916992 and parameters: {'reactant': 'Clc1ccc2[nH]ccc2c1', 'reagent': 'Fc1ccc(P(c2ccc(F)cc2)c2ccc(F)cc2)cc1.OB(O)B(O)O'}. Best is trial 61 with value: 79.96399688720703.\n",
      "[I 2025-08-16 00:50:14,283] Trial 77 finished with value: 36.92545700073242 and parameters: {'reactant': 'N#Cc1ccc(Br)cc1F', 'reagent': 'COc1ccccc1P(c1ccccc1OC)c1ccccc1OC.OB(O)B(O)O'}. Best is trial 61 with value: 79.96399688720703.\n",
      "[I 2025-08-16 00:50:14,572] Trial 78 finished with value: 31.60710906982422 and parameters: {'reactant': 'COc1ncc(Br)c(OC)n1', 'reagent': 'CCCCC1([PH+](C2CCCCC2)C2CCCCC2)c2ccccc2-c2ccccc21.F[B-](F)(F)F.OB(O)B(O)O'}. Best is trial 61 with value: 79.96399688720703.\n",
      "[I 2025-08-16 00:50:14,863] Trial 79 finished with value: 63.5939826965332 and parameters: {'reactant': 'Cc1ncccc1Br', 'reagent': 'Cc1cc(C)cc(P(c2cc(C)cc(C)c2)c2cc(C)cc(C)c2)c1.OB(O)B(O)O'}. Best is trial 61 with value: 79.96399688720703.\n",
      "[I 2025-08-16 00:50:15,144] Trial 80 finished with value: 28.316753387451172 and parameters: {'reactant': 'Clc1cnc2ccccc2c1', 'reagent': 'COc1ccc(P(c2ccc(OC)cc2)c2ccc(OC)cc2)cc1.OB(O)B(O)O'}. Best is trial 61 with value: 79.96399688720703.\n",
      "[I 2025-08-16 00:50:15,434] Trial 81 finished with value: 53.62297439575195 and parameters: {'reactant': 'Brc1ccccc1-c1ccccc1', 'reagent': 'Cc1cc(C)cc(P(c2cc(C)cc(C)c2)c2cc(C)cc(C)c2)c1.OB(O)B(O)O'}. Best is trial 61 with value: 79.96399688720703.\n",
      "[I 2025-08-16 00:50:15,703] Trial 82 finished with value: 50.74189758300781 and parameters: {'reactant': 'Cc1c(N)cccc1Cl', 'reagent': 'CN(C)c1ccccc1-c1ccccc1P(c1ccccc1)c1ccccc1.OB(O)B(O)O'}. Best is trial 61 with value: 79.96399688720703.\n",
      "[I 2025-08-16 00:50:16,003] Trial 83 finished with value: 36.19626235961914 and parameters: {'reactant': 'CN(C)C(=O)c1ccc(Cl)cc1', 'reagent': 'COc1cccc(OC)c1-c1ccccc1P(c1ccccc1)c1ccccc1.OB(O)B(O)O'}. Best is trial 61 with value: 79.96399688720703.\n",
      "[I 2025-08-16 00:50:16,282] Trial 84 finished with value: 72.72378540039062 and parameters: {'reactant': 'Cc1ncccc1Br', 'reagent': 'Cc1cc(C)cc(P(c2cc(C)cc(C)c2)c2cc(C)cc(C)c2)c1.OB(O)B(O)O'}. Best is trial 61 with value: 79.96399688720703.\n",
      "[I 2025-08-16 00:50:16,575] Trial 85 finished with value: 61.6768913269043 and parameters: {'reactant': 'Cc1ncccc1Br', 'reagent': 'Cc1cc(C)cc(P(c2cc(C)cc(C)c2)c2cc(C)cc(C)c2)c1.OB(O)B(O)O'}. Best is trial 61 with value: 79.96399688720703.\n",
      "[I 2025-08-16 00:50:16,862] Trial 86 finished with value: 56.32643127441406 and parameters: {'reactant': 'FC(F)(F)c1ccc(Cl)cc1', 'reagent': 'c1ccc(P(c2ccccc2)C2CCCCC2)cc1.OB(O)B(O)O'}. Best is trial 61 with value: 79.96399688720703.\n",
      "[I 2025-08-16 00:50:17,157] Trial 87 finished with value: 39.61069107055664 and parameters: {'reactant': 'COC(=O)c1ccc(Br)cc1', 'reagent': 'COc1ccccc1P(c1ccccc1OC)c1ccccc1OC.OB(O)B(O)O'}. Best is trial 61 with value: 79.96399688720703.\n",
      "[I 2025-08-16 00:50:17,415] Trial 88 finished with value: 84.6810302734375 and parameters: {'reactant': 'Cc1ncccc1Br', 'reagent': 'c1ccc(P(c2ccccc2)c2ccccc2)cc1.OB(O)B(O)O'}. Best is trial 88 with value: 84.6810302734375.\n",
      "[I 2025-08-16 00:50:17,692] Trial 89 finished with value: 43.7041130065918 and parameters: {'reactant': 'Brc1cnc2ccccc2c1', 'reagent': 'c1ccc(P(c2ccccc2)c2ccccc2)cc1.OB(O)B(O)O'}. Best is trial 88 with value: 84.6810302734375.\n",
      "[I 2025-08-16 00:50:17,979] Trial 90 finished with value: 43.1827507019043 and parameters: {'reactant': 'Cc1cc(F)ccc1Cl', 'reagent': 'c1ccc(P(c2ccccc2)c2ccccc2)cc1.OB(O)B(O)O'}. Best is trial 88 with value: 84.6810302734375.\n",
      "[I 2025-08-16 00:50:18,353] Trial 91 finished with value: 33.09257888793945 and parameters: {'reactant': 'CN(C)S(=O)(=O)Oc1ccc2[nH]ccc2c1', 'reagent': 'COc1cc(C(C)(C)C)cc(C(C)(C)C)c1-c1ccccc1P(C1CCCCC1)C1CCCCC1.OB(O)B(O)O'}. Best is trial 88 with value: 84.6810302734375.\n",
      "[I 2025-08-16 00:50:18,642] Trial 92 finished with value: 85.62419128417969 and parameters: {'reactant': 'Cc1ncccc1Br', 'reagent': 'c1ccc(-n2cccc2P(C2CCCCC2)C2CCCCC2)cc1.OB(O)B(O)O'}. Best is trial 92 with value: 85.62419128417969.\n",
      "[I 2025-08-16 00:50:18,896] Trial 93 finished with value: 59.27742004394531 and parameters: {'reactant': 'Cc1ncccc1Br', 'reagent': 'c1ccc(-n2cccc2P(C2CCCCC2)C2CCCCC2)cc1.OB(O)B(O)O'}. Best is trial 92 with value: 85.62419128417969.\n",
      "[I 2025-08-16 00:50:19,201] Trial 94 finished with value: 25.788354873657227 and parameters: {'reactant': 'Cc1nc2cc(OS(=O)(=O)N(C)C)ccc2s1', 'reagent': 'CC(=C(c1ccccc1)c1ccccc1)P(C1CCCCC1)C1CCCCC1.OB(O)B(O)O'}. Best is trial 92 with value: 85.62419128417969.\n",
      "[I 2025-08-16 00:50:19,471] Trial 95 finished with value: 65.88719177246094 and parameters: {'reactant': 'Cc1ncccc1Br', 'reagent': 'c1ccc(-n2cccc2P(C2CCCCC2)C2CCCCC2)cc1.OB(O)B(O)O'}. Best is trial 92 with value: 85.62419128417969.\n",
      "[I 2025-08-16 00:50:19,751] Trial 96 finished with value: 55.97859191894531 and parameters: {'reactant': 'COc1ccc(Br)cc1F', 'reagent': 'COc1ccccc1C1=C(P(C2CCCCC2)C2CCCCC2)C2c3ccccc3C1c1ccccc12.OB(O)B(O)O'}. Best is trial 92 with value: 85.62419128417969.\n",
      "[I 2025-08-16 00:50:20,020] Trial 97 finished with value: 44.827457427978516 and parameters: {'reactant': 'CN(C)S(=O)(=O)Oc1ccc2ncccc2c1', 'reagent': 'c1ccc(P(c2ccccc2)c2ccccc2)cc1.OB(O)B(O)O'}. Best is trial 92 with value: 85.62419128417969.\n",
      "[I 2025-08-16 00:50:20,322] Trial 98 finished with value: 34.71986770629883 and parameters: {'reactant': 'Cc1cccc(C)c1Cl', 'reagent': 'c1ccc(-c2nn(-c3ccccc3)c(-c3ccccc3)c2-n2nccc2P(C2CCCCC2)C2CCCCC2)cc1.OB(O)B(O)O'}. Best is trial 92 with value: 85.62419128417969.\n",
      "[I 2025-08-16 00:50:20,585] Trial 99 finished with value: 71.3973159790039 and parameters: {'reactant': 'Cc1ncccc1Br', 'reagent': 'c1ccc(-n2cccc2P(C2CCCCC2)C2CCCCC2)cc1.OB(O)B(O)O'}. Best is trial 92 with value: 85.62419128417969.\n"
     ]
    },
    {
     "name": "stdout",
     "output_type": "stream",
     "text": [
      "[Round 5] Fine-tuning on 400 samples, eval 100 samples\n",
      "{'loss': 524.7891, 'grad_norm': 4247.259765625, 'learning_rate': 0.000304, 'epoch': 2.0}\n",
      "{'loss': 479.7996, 'grad_norm': 1224.4112548828125, 'learning_rate': 0.000104, 'epoch': 4.0}\n",
      "{'train_runtime': 7.8918, 'train_samples_per_second': 253.428, 'train_steps_per_second': 15.839, 'train_loss': 486.732484375, 'epoch': 5.0}\n",
      "\n",
      "Done. Logs:\n",
      "- Trials CSV: runs/5rounds_100_trials_yield/bo_log.csv\n",
      "- Optuna DBs: runs/5rounds_100_trials_yield/round_*.db\n",
      "- Checkpoints per round: runs/5rounds_100_trials_yield/round_*/\n"
     ]
    }
   ],
   "source": [
    "iterative_optuna_finetune(\n",
    "    predict_yield_fn=predict_yield,\n",
    "    true_yield_dict=true_yield_dict,\n",
    "    tokenizer=yield_tokenizer,\n",
    "    model=yield_model,\n",
    "    cfg=cfg,\n",
    ")"
   ]
  },
  {
   "cell_type": "code",
   "execution_count": 34,
   "id": "67538921",
   "metadata": {},
   "outputs": [],
   "source": [
    "import pandas as pd\n",
    "import matplotlib.pyplot as plt"
   ]
  },
  {
   "cell_type": "code",
   "execution_count": 35,
   "id": "4b76d36d",
   "metadata": {},
   "outputs": [],
   "source": [
    "def visualize_bo_logs(csv_path: str, out_dir: str | None = None, show: bool = False, dpi: int = 180):\n",
    "    # 出力ディレクトリ（集約）\n",
    "    root = out_dir or (os.path.dirname(csv_path) or \".\")\n",
    "    save_dir = os.path.join(root, \"bo_viz\")\n",
    "    os.makedirs(save_dir, exist_ok=True)\n",
    "\n",
    "    # ロード & 型整形\n",
    "    df = pd.read_csv(csv_path)\n",
    "    to_num_cols = [\n",
    "        \"round\", \"trial_index\", \"pred_yield_pct\", \"true_yield_pct\",\n",
    "        \"error_pct\", \"study_best_pred\", \"study_best_true\"\n",
    "    ]\n",
    "    for c in to_num_cols:\n",
    "        if c in df.columns:\n",
    "            df[c] = pd.to_numeric(df[c], errors=\"coerce\")\n",
    "\n",
    "    # 真値ありデータ\n",
    "    df_obs = df.dropna(subset=[\"true_yield_pct\"]) if \"true_yield_pct\" in df.columns else pd.DataFrame()\n",
    "    # error_pct が無い/NaN の場合は再計算\n",
    "    if not df_obs.empty:\n",
    "        df_obs[\"error_pct\"] = df_obs[\"pred_yield_pct\"] - df_obs[\"true_yield_pct\"]\n",
    "\n",
    "    # ===== 全体指標 =====\n",
    "    overall = {}\n",
    "    if not df_obs.empty:\n",
    "        y = df_obs[\"true_yield_pct\"].to_numpy()\n",
    "        yhat = df_obs[\"pred_yield_pct\"].to_numpy()\n",
    "        err = yhat - y\n",
    "        overall = {\n",
    "            \"n\": int(len(df_obs)),\n",
    "            \"mae_pct\": float(np.mean(np.abs(err))),\n",
    "            \"rmse_pct\": float(np.sqrt(np.mean(err**2))),\n",
    "            \"bias_pct\": float(np.mean(err)),\n",
    "            \"r2\": float(1 - np.sum(err**2) / np.sum((y - y.mean())**2)) if len(df_obs) > 1 else np.nan,\n",
    "        }\n",
    "    pd.DataFrame([overall]).to_csv(os.path.join(save_dir, \"metrics_overall.csv\"), index=False)\n",
    "\n",
    "    # ===== ラウンド別指標（MAE/RMSE/Bias/R2）=====\n",
    "    metrics_by_round = []\n",
    "    if not df_obs.empty and \"round\" in df_obs.columns:\n",
    "        for r, d in df_obs.groupby(\"round\", dropna=True):\n",
    "            y = d[\"true_yield_pct\"].to_numpy()\n",
    "            yhat = d[\"pred_yield_pct\"].to_numpy()\n",
    "            err = yhat - y\n",
    "            metrics_by_round.append({\n",
    "                \"round\": int(r),\n",
    "                \"n\": int(len(d)),\n",
    "                \"mae_pct\": float(np.mean(np.abs(err))),\n",
    "                \"rmse_pct\": float(np.sqrt(np.mean(err**2))),\n",
    "                \"bias_pct\": float(np.mean(err)),\n",
    "                \"r2\": float(1 - np.sum(err**2) / np.sum((y - y.mean())**2)) if len(d) > 1 else np.nan,\n",
    "            })\n",
    "    mdf = (pd.DataFrame(metrics_by_round)\n",
    "             .sort_values(\"round\")\n",
    "             if metrics_by_round else pd.DataFrame(columns=[\"round\",\"n\",\"mae_pct\",\"rmse_pct\",\"bias_pct\",\"r2\"]))\n",
    "    mdf.to_csv(os.path.join(save_dir, \"metrics_by_round.csv\"), index=False)\n",
    "\n",
    "    # ===== 図: パリティ =====\n",
    "    if not df_obs.empty:\n",
    "        fig = plt.figure(figsize=(5, 5))\n",
    "        plt.scatter(df_obs[\"true_yield_pct\"], df_obs[\"pred_yield_pct\"], s=18, alpha=0.65)\n",
    "        lims = [0, 100]\n",
    "        plt.plot(lims, lims, linestyle=\"--\")\n",
    "        plt.xlim(lims); plt.ylim(lims)\n",
    "        plt.xlabel(\"True Yield [%]\"); plt.ylabel(\"Predicted Yield [%]\")\n",
    "        plt.title(\"Parity: Prediction vs Truth\")\n",
    "        fig.savefig(os.path.join(save_dir, \"parity.png\"), dpi=dpi, bbox_inches=\"tight\")\n",
    "        if show: plt.show()\n",
    "        plt.close(fig)\n",
    "\n",
    "    # ===== 図: 誤差ヒスト =====\n",
    "    if not df_obs.empty and not df_obs[\"error_pct\"].dropna().empty:\n",
    "        fig = plt.figure(figsize=(6, 4))\n",
    "        plt.hist(df_obs[\"error_pct\"].dropna().to_numpy(), bins=30)\n",
    "        plt.xlabel(\"Prediction Error [%]  (pred - true)\")\n",
    "        plt.ylabel(\"Count\")\n",
    "        plt.title(\"Error Histogram\")\n",
    "        fig.savefig(os.path.join(save_dir, \"error_hist.png\"), dpi=dpi, bbox_inches=\"tight\")\n",
    "        if show: plt.show()\n",
    "        plt.close(fig)\n",
    "\n",
    "    # ===== 図: ラウンド別ベスト真値 =====\n",
    "    if not df_obs.empty and \"round\" in df_obs.columns:\n",
    "        best_by_round = df_obs.groupby(\"round\")[\"true_yield_pct\"].max()\n",
    "        fig = plt.figure(figsize=(6, 4))\n",
    "        plt.plot(best_by_round.index, best_by_round.values, marker=\"o\")\n",
    "        plt.xlabel(\"Round\"); plt.ylabel(\"Best Observed True Yield [%]\")\n",
    "        plt.title(\"Best True Yield per Round\"); plt.grid(True, alpha=0.3)\n",
    "        fig.savefig(os.path.join(save_dir, \"best_true_per_round.png\"), dpi=dpi, bbox_inches=\"tight\")\n",
    "        if show: plt.show()\n",
    "        plt.close(fig)\n",
    "\n",
    "    # ===== 図: キャリブレーション =====\n",
    "    if not df_obs.empty:\n",
    "        bins = np.linspace(0, 100, 11)  # 10ビン\n",
    "        cut = pd.cut(df_obs[\"pred_yield_pct\"], bins, include_lowest=True)\n",
    "        calib = df_obs.groupby(cut).agg(\n",
    "            pred_mean=(\"pred_yield_pct\", \"mean\"),\n",
    "            true_mean=(\"true_yield_pct\", \"mean\"),\n",
    "            n=(\"true_yield_pct\", \"size\")\n",
    "        ).dropna()\n",
    "        if not calib.empty:\n",
    "            fig = plt.figure(figsize=(6, 4))\n",
    "            lims = [0, 100]\n",
    "            plt.plot(calib[\"pred_mean\"], calib[\"true_mean\"], marker=\"o\")\n",
    "            plt.plot(lims, lims, linestyle=\"--\")\n",
    "            plt.xlim(lims); plt.ylim(lims)\n",
    "            plt.xlabel(\"Predicted Mean (per bin) [%]\")\n",
    "            plt.ylabel(\"Observed Mean (per bin) [%]\")\n",
    "            plt.title(\"Calibration Curve\")\n",
    "            fig.savefig(os.path.join(save_dir, \"calibration.png\"), dpi=dpi, bbox_inches=\"tight\")\n",
    "            if show: plt.show()\n",
    "            plt.close(fig)\n",
    "            calib.to_csv(os.path.join(save_dir, \"calibration_table.csv\"))\n",
    "\n",
    "    # ===== 図: ラウンド別（真値/予測）の箱ひげ =====\n",
    "    if not df_obs.empty and \"round\" in df_obs.columns:\n",
    "        rounds = sorted(df_obs[\"round\"].dropna().unique())\n",
    "        if len(rounds) > 0:\n",
    "            fig = plt.figure(figsize=(7, 4))\n",
    "            pos = np.array(rounds, dtype=float)\n",
    "            data_true = [df_obs[df_obs[\"round\"] == r][\"true_yield_pct\"].to_numpy() for r in rounds]\n",
    "            data_pred = [df_obs[df_obs[\"round\"] == r][\"pred_yield_pct\"].to_numpy() for r in rounds]\n",
    "            plt.boxplot(data_true, positions=pos - 0.15, widths=0.25, patch_artist=True)\n",
    "            plt.boxplot(data_pred, positions=pos + 0.15, widths=0.25, patch_artist=True)\n",
    "            plt.xticks(rounds)\n",
    "            plt.xlabel(\"Round\"); plt.ylabel(\"Yield [%]\")\n",
    "            plt.title(\"Distributions per Round (True vs Pred)\")\n",
    "            fig.savefig(os.path.join(save_dir, \"round_box.png\"), dpi=dpi, bbox_inches=\"tight\")\n",
    "            if show: plt.show()\n",
    "            plt.close(fig)\n",
    "\n",
    "    # ===== NEW: ラウンド別の誤差分布（箱ひげ）=====\n",
    "    if not df_obs.empty and \"round\" in df_obs.columns:\n",
    "        rounds = sorted(df_obs[\"round\"].dropna().unique())\n",
    "        if len(rounds) > 0:\n",
    "            fig = plt.figure(figsize=(7, 4))\n",
    "            data_err = [df_obs[df_obs[\"round\"] == r][\"error_pct\"].dropna().to_numpy() for r in rounds]\n",
    "            plt.boxplot(data_err, positions=np.array(rounds, dtype=float), widths=0.5, patch_artist=True)\n",
    "            plt.axhline(0.0, linestyle=\"--\")\n",
    "            plt.xticks(rounds)\n",
    "            plt.xlabel(\"Round\"); plt.ylabel(\"Prediction Error (pred - true) [%]\")\n",
    "            plt.title(\"Prediction Error by Round (Boxplot)\")\n",
    "            fig.savefig(os.path.join(save_dir, \"error_box_by_round.png\"), dpi=dpi, bbox_inches=\"tight\")\n",
    "            if show: plt.show()\n",
    "            plt.close(fig)\n",
    "\n",
    "    # ===== NEW: ラウンド別の MAE/RMSE/Bias 推移 =====\n",
    "    if not mdf.empty:\n",
    "        fig = plt.figure(figsize=(7, 4))\n",
    "        plt.plot(mdf[\"round\"], mdf[\"mae_pct\"], marker=\"o\", label=\"MAE [%]\")\n",
    "        plt.plot(mdf[\"round\"], mdf[\"rmse_pct\"], marker=\"o\", label=\"RMSE [%]\")\n",
    "        plt.plot(mdf[\"round\"], mdf[\"bias_pct\"], marker=\"o\", label=\"Bias (pred-true) [%]\")\n",
    "        plt.xlabel(\"Round\"); plt.ylabel(\"Error [%]\")\n",
    "        plt.title(\"Prediction Error by Round\")\n",
    "        plt.grid(True, alpha=0.3); plt.legend()\n",
    "        fig.savefig(os.path.join(save_dir, \"error_by_round.png\"), dpi=dpi, bbox_inches=\"tight\")\n",
    "        if show: plt.show()\n",
    "        plt.close(fig)\n",
    "\n",
    "    # ===== Optuna study best =====\n",
    "    if \"study_best_pred\" in df.columns:\n",
    "        best_df = df.dropna(subset=[\"round\", \"study_best_pred\"]).groupby(\"round\").agg(\n",
    "            best_pred=(\"study_best_pred\", \"max\"),\n",
    "            best_true=(\"study_best_true\", \"max\")\n",
    "        ).reset_index()\n",
    "        if not best_df.empty:\n",
    "            fig = plt.figure(figsize=(6, 4))\n",
    "            plt.plot(best_df[\"round\"], best_df[\"best_pred\"], marker=\"o\", label=\"Study Best Pred [%]\")\n",
    "            if \"study_best_true\" in best_df.columns and best_df[\"best_true\"].notna().any():\n",
    "                plt.plot(best_df[\"round\"], best_df[\"best_true\"], marker=\"o\", label=\"Study Best True [%]\")\n",
    "            plt.xlabel(\"Round\"); plt.ylabel(\"Yield [%]\")\n",
    "            plt.title(\"Optuna Study Best per Round\"); plt.grid(True, alpha=0.3); plt.legend()\n",
    "            fig.savefig(os.path.join(save_dir, \"study_best.png\"), dpi=dpi, bbox_inches=\"tight\")\n",
    "            if show: plt.show()\n",
    "            plt.close(fig)\n",
    "\n",
    "    return {\"overall\": overall, \"by_round\": mdf, \"save_dir\": save_dir}\n"
   ]
  },
  {
   "cell_type": "code",
   "execution_count": 36,
   "id": "3b965eb2",
   "metadata": {},
   "outputs": [
    {
     "name": "stderr",
     "output_type": "stream",
     "text": [
      "/tmp/ipykernel_649/306732793.py:97: FutureWarning: The default of observed=False is deprecated and will be changed to True in a future version of pandas. Pass observed=False to retain current behavior or observed=True to adopt the future default and silence this warning.\n",
      "  calib = df_obs.groupby(cut).agg(\n"
     ]
    },
    {
     "name": "stdout",
     "output_type": "stream",
     "text": [
      "{'n': 500, 'mae_pct': 22.139253172, 'rmse_pct': 26.399788129727998, 'bias_pct': 1.2975091120000002, 'r2': 0.0008060007443156936}\n"
     ]
    }
   ],
   "source": [
    "results = visualize_bo_logs(\"runs/5rounds_100_trials_yield/bo_log.csv\", show=False)\n",
    "print(results[\"overall\"])"
   ]
  },
  {
   "cell_type": "markdown",
   "id": "d5fcbce4",
   "metadata": {},
   "source": [
    "## ランダムな実験"
   ]
  },
  {
   "cell_type": "code",
   "execution_count": 70,
   "id": "5d326124",
   "metadata": {},
   "outputs": [],
   "source": [
    "n_rounds=10\n",
    "trials_per_round=10"
   ]
  },
  {
   "cell_type": "code",
   "execution_count": 71,
   "id": "494ffc1f",
   "metadata": {},
   "outputs": [],
   "source": [
    "best_yields_per_round = []\n",
    "\n",
    "for _ in range(n_rounds):\n",
    "    best_yield = 0\n",
    "    for _ in range(trials_per_round):\n",
    "        combo = random.choice(valid_combinations)\n",
    "        yield_value = true_yield_dict[combo]\n",
    "        if yield_value > best_yield:\n",
    "            best_yield = yield_value\n",
    "    best_yields_per_round.append(best_yield)"
   ]
  },
  {
   "cell_type": "code",
   "execution_count": 72,
   "id": "64c779cc",
   "metadata": {},
   "outputs": [
    {
     "data": {
      "text/plain": [
       "[0.7656999999999999,\n",
       " 0.8825775420842658,\n",
       " 0.5731,\n",
       " 0.9525,\n",
       " 0.8428999999999999,\n",
       " 0.8630382805936712,\n",
       " 0.6930607532903948,\n",
       " 0.9216241949033883,\n",
       " 0.9278128928,\n",
       " 0.7373904989000001]"
      ]
     },
     "execution_count": 72,
     "metadata": {},
     "output_type": "execute_result"
    }
   ],
   "source": [
    "best_yields_per_round"
   ]
  }
 ],
 "metadata": {
  "kernelspec": {
   "display_name": ".venv",
   "language": "python",
   "name": "python3"
  },
  "language_info": {
   "codemirror_mode": {
    "name": "ipython",
    "version": 3
   },
   "file_extension": ".py",
   "mimetype": "text/x-python",
   "name": "python",
   "nbconvert_exporter": "python",
   "pygments_lexer": "ipython3",
   "version": "3.11.12"
  }
 },
 "nbformat": 4,
 "nbformat_minor": 5
}
